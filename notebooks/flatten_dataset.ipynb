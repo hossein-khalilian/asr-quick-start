{
 "cells": [
  {
   "cell_type": "code",
   "execution_count": 4,
   "id": "271c5963-d9de-46af-82c7-1a80d267e9ea",
   "metadata": {
    "execution": {
     "iopub.execute_input": "2025-06-30T08:25:11.787625Z",
     "iopub.status.busy": "2025-06-30T08:25:11.787146Z",
     "iopub.status.idle": "2025-06-30T08:26:01.280805Z",
     "shell.execute_reply": "2025-06-30T08:26:01.279906Z",
     "shell.execute_reply.started": "2025-06-30T08:25:11.787572Z"
    }
   },
   "outputs": [
    {
     "name": "stderr",
     "output_type": "stream",
     "text": [
      "Processing audio: 100%|██████████| 5688/5688 [00:38<00:00, 146.63it/s]\n"
     ]
    }
   ],
   "source": [
    "import os\n",
    "import csv\n",
    "from tqdm import tqdm\n",
    "import numpy as np\n",
    "import soundfile as sf\n",
    "from datasets import load_dataset, config as hf_config\n",
    "\n",
    "# Use Hugging Face's default cache directory\n",
    "hf_cache_root = hf_config.HF_DATASETS_CACHE or os.path.join(os.path.expanduser(\"~\"), \".cache\", \"huggingface\", \"datasets\")\n",
    "\n",
    "# We'll store outputs in a clean subdirectory here\n",
    "output_dir = os.path.join(hf_cache_root, \"fleurs-belebele-output\")\n",
    "audio_dir = os.path.join(output_dir, \"saved_audios\")\n",
    "os.makedirs(audio_dir, exist_ok=True)\n",
    "\n",
    "# CSV metadata path\n",
    "csv_path = os.path.join(output_dir, \"audio_metadata.csv\")\n",
    "\n",
    "# Load dataset (dataset itself will go into the HF-managed cache)\n",
    "dataset = load_dataset(\"wuenlp/fleurs-belebele\", \"pes_Arab\", trust_remote_code=True)\n",
    "\n",
    "# CSV headers\n",
    "csv_headers = [\n",
    "    \"audio_path\", \"sentence\", \"gender\", \"raw_transcription\",\n",
    "    \"seamlessm4t_asr\", \"seamlessm4t_asr_translation\",\n",
    "    \"transcription\", \"whisper_asr\", \"whisper_asr_translation\"\n",
    "]\n",
    "\n",
    "# Write CSV metadata\n",
    "with open(csv_path, mode=\"w\", newline='', encoding=\"utf-8\") as f:\n",
    "    writer = csv.DictWriter(f, fieldnames=csv_headers)\n",
    "    writer.writeheader()\n",
    "\n",
    "    # Count total items for progress bar\n",
    "    total_items = sum(len(item[\"audio\"]) for sample in dataset[\"test\"] for item in sample[\"sentence_data\"])\n",
    "    pbar = tqdm(total=total_items, desc=\"Processing audio\")\n",
    "\n",
    "    for sample in dataset[\"test\"]:\n",
    "        for item in sample[\"sentence_data\"]:\n",
    "            for i, audio in enumerate(item[\"audio\"]):\n",
    "                # Use original filename\n",
    "                audio_filename = audio[\"path\"]\n",
    "                audio_abs_path = os.path.join(audio_dir, audio_filename)\n",
    "\n",
    "                # Save audio\n",
    "                sf.write(audio_abs_path, audio[\"array\"], audio[\"sampling_rate\"])\n",
    "\n",
    "                # Write metadata\n",
    "                writer.writerow({\n",
    "                    \"audio_path\": audio_abs_path,\n",
    "                    \"sentence\": item.get(\"sentence\", \"\"),\n",
    "                    \"gender\": item.get(\"gender\", [\"\"])[i] if \"gender\" in item else \"\",\n",
    "                    \"raw_transcription\": item.get(\"raw_transcription\", \"\"),\n",
    "                    \"seamlessm4t_asr\": item.get(\"seamlessm4t_asr\", [\"\"])[i] if \"seamlessm4t_asr\" in item else \"\",\n",
    "                    \"seamlessm4t_asr_translation\": item.get(\"seamlessm4t_asr_translation\", [\"\"])[i] if \"seamlessm4t_asr_translation\" in item else \"\",\n",
    "                    \"transcription\": item.get(\"transcription\", \"\"),\n",
    "                    \"whisper_asr\": item.get(\"whisper_asr\", [\"\"])[i] if \"whisper_asr\" in item else \"\",\n",
    "                    \"whisper_asr_translation\": item.get(\"whisper_asr_translation\", [\"\"])[i] if \"whisper_asr_translation\" in item else \"\",\n",
    "                })\n",
    "\n",
    "                pbar.update(1)\n",
    "\n",
    "    pbar.close()\n"
   ]
  },
  {
   "cell_type": "code",
   "execution_count": 17,
   "id": "84948d02-1250-472a-b351-a0775258f952",
   "metadata": {
    "execution": {
     "iopub.execute_input": "2025-06-30T09:00:34.674156Z",
     "iopub.status.busy": "2025-06-30T09:00:34.673702Z",
     "iopub.status.idle": "2025-06-30T09:00:34.869144Z",
     "shell.execute_reply": "2025-06-30T09:00:34.868686Z",
     "shell.execute_reply.started": "2025-06-30T09:00:34.674112Z"
    }
   },
   "outputs": [
    {
     "data": {
      "application/vnd.jupyter.widget-view+json": {
       "model_id": "381483f3c15e4530913d471617979d49",
       "version_major": 2,
       "version_minor": 0
      },
      "text/plain": [
       "Casting the dataset:   0%|          | 0/5688 [00:00<?, ? examples/s]"
      ]
     },
     "metadata": {},
     "output_type": "display_data"
    }
   ],
   "source": [
    "from datasets import Dataset, Audio, Value, Features, load_dataset, DatasetDict\n",
    "import os\n",
    "import pandas as pd\n",
    "\n",
    "# Define paths\n",
    "hf_cache_root = os.path.join(os.path.expanduser(\"~\"), \".cache\", \"huggingface\", \"datasets\")\n",
    "output_dir = os.path.join(hf_cache_root, \"fleurs-belebele-output\")\n",
    "csv_path = os.path.join(output_dir, \"audio_metadata.csv\")\n",
    "\n",
    "# Load CSV into pandas\n",
    "df = pd.read_csv(csv_path)\n",
    "\n",
    "# Convert to Hugging Face Dataset\n",
    "dataset = Dataset.from_pandas(df)\n",
    "\n",
    "# Cast audio column\n",
    "dataset = dataset.cast_column(\"audio_path\", Audio())\n",
    "\n",
    "# (Optional) Set features explicitly for clarity\n",
    "features = Features({\n",
    "    \"audio_path\": Audio(),\n",
    "    \"sentence\": Value(\"string\"),\n",
    "    \"gender\": Value(\"string\"),\n",
    "    \"raw_transcription\": Value(\"string\"),\n",
    "    \"seamlessm4t_asr\": Value(\"string\"),\n",
    "    \"seamlessm4t_asr_translation\": Value(\"string\"),\n",
    "    \"transcription\": Value(\"string\"),\n",
    "    \"whisper_asr\": Value(\"string\"),\n",
    "    \"whisper_asr_translation\": Value(\"string\")\n",
    "})\n",
    "dataset = dataset.cast(features)\n",
    "dataset = dataset.rename_column(\"audio_path\", \"audio\")\n",
    "dataset = DatasetDict({\"test\": dataset})"
   ]
  },
  {
   "cell_type": "code",
   "execution_count": 19,
   "id": "aa651885-d9db-4b97-a8bc-8e50636605d5",
   "metadata": {
    "execution": {
     "iopub.execute_input": "2025-06-30T09:00:46.685018Z",
     "iopub.status.busy": "2025-06-30T09:00:46.684748Z",
     "iopub.status.idle": "2025-06-30T09:00:46.693251Z",
     "shell.execute_reply": "2025-06-30T09:00:46.692395Z",
     "shell.execute_reply.started": "2025-06-30T09:00:46.684999Z"
    }
   },
   "outputs": [
    {
     "data": {
      "text/plain": [
       "{'audio': {'path': '/home/jovyan/.cache/huggingface/datasets/fleurs-belebele-output/saved_audios/1441824098773732742.wav',\n",
       "  'array': array([ 0.00000000e+00,  0.00000000e+00,  0.00000000e+00, ...,\n",
       "          0.00000000e+00, -3.05175781e-05, -6.10351562e-05]),\n",
       "  'sampling_rate': 16000},\n",
       " 'sentence': 'بسیاری، ریتم\\u200cهای فیزیولوژی و رفتار را غالباً به صورت جدی به وجود چرخه درون\\u200cزا و تولید آن\\u200cها را به ساعت\\u200cهای بیولوژیکی مرتبط می\\u200cدانند.',\n",
       " 'gender': 'FEMALE',\n",
       " 'raw_transcription': 'بسیاری، ریتم\\u200cهای فیزیولوژی و رفتار را غالباً به صورت جدی به وجود چرخه درون\\u200cزا و تولید آن\\u200cها را به ساعت\\u200cهای بیولوژیکی مرتبط می\\u200cدانند.',\n",
       " 'seamlessm4t_asr': 'بسیاری از ریتم های فیزیولوژیکی و رفتار را غالبا به صورت جدی به صورت چرخه درونزا و تولید آنها را به ساعت های بیولوژیکی مرتبط می دانند.',\n",
       " 'seamlessm4t_asr_translation': 'Many physiological and behavioral rhythms are often seriously associated with the internal cycle and their production in biological clocks.',\n",
       " 'transcription': 'بسیاری ریتم\\u200cهای فیزیولوژی و رفتار را غالباً به صورت جدی به وجود چرخه درون\\u200cزا و تولید آن\\u200cها را به ساعت\\u200cهای بیولوژیکی مرتبط می\\u200cدانند',\n",
       " 'whisper_asr': 'بسیاری از ریزم های فیزیولوژی و رفتار را غالبا به صورت جدی به صورت چرخه درونزا و تولید آنها را به ساعت های بیولوژیکی مرتبط می دانند.',\n",
       " 'whisper_asr_translation': 'Many of the physiological and behavioral rhythms are probably seriously related to the circulation of the kidneys and the production of them in biological hours.'}"
      ]
     },
     "execution_count": 19,
     "metadata": {},
     "output_type": "execute_result"
    }
   ],
   "source": [
    "dataset[\"test\"][0]"
   ]
  },
  {
   "cell_type": "code",
   "execution_count": 20,
   "id": "05ab772b-aa59-4f97-9718-d4c8b7894847",
   "metadata": {
    "execution": {
     "iopub.execute_input": "2025-06-30T09:03:39.698170Z",
     "iopub.status.busy": "2025-06-30T09:03:39.697725Z",
     "iopub.status.idle": "2025-06-30T09:03:48.074643Z",
     "shell.execute_reply": "2025-06-30T09:03:48.074069Z",
     "shell.execute_reply.started": "2025-06-30T09:03:39.698136Z"
    }
   },
   "outputs": [
    {
     "data": {
      "application/vnd.jupyter.widget-view+json": {
       "model_id": "dd40fc09186c49dab80d983e86182a91",
       "version_major": 2,
       "version_minor": 0
      },
      "text/plain": [
       "Saving the dataset (0/6 shards):   0%|          | 0/5688 [00:00<?, ? examples/s]"
      ]
     },
     "metadata": {},
     "output_type": "display_data"
    }
   ],
   "source": [
    "dataset.save_to_disk(\"/home/jovyan/.cache/huggingface/datasets/fleurs-belebele\")"
   ]
  },
  {
   "cell_type": "code",
   "execution_count": null,
   "id": "e7648ea4-7f9d-405f-b212-410cde7eb1b6",
   "metadata": {},
   "outputs": [],
   "source": []
  }
 ],
 "metadata": {
  "kernelspec": {
   "display_name": "Python 3 (ipykernel)",
   "language": "python",
   "name": "python3"
  },
  "language_info": {
   "codemirror_mode": {
    "name": "ipython",
    "version": 3
   },
   "file_extension": ".py",
   "mimetype": "text/x-python",
   "name": "python",
   "nbconvert_exporter": "python",
   "pygments_lexer": "ipython3",
   "version": "3.12.9"
  }
 },
 "nbformat": 4,
 "nbformat_minor": 5
}
