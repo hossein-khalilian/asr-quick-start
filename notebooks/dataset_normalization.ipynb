{
 "cells": [
  {
   "cell_type": "code",
   "execution_count": 2,
   "id": "f90ec543-06bf-452b-aee8-81e22a616315",
   "metadata": {
    "execution": {
     "iopub.execute_input": "2025-06-30T14:11:32.863758Z",
     "iopub.status.busy": "2025-06-30T14:11:32.863459Z",
     "iopub.status.idle": "2025-06-30T14:11:32.867029Z",
     "shell.execute_reply": "2025-06-30T14:11:32.866489Z",
     "shell.execute_reply.started": "2025-06-30T14:11:32.863740Z"
    }
   },
   "outputs": [],
   "source": [
    "import os\n",
    "from utils import persian_normalizer\n",
    "from datasets import load_dataset, DatasetDict, load_from_disk, DatasetDict, Dataset, Features, Audio, Value"
   ]
  },
  {
   "cell_type": "markdown",
   "id": "5fba0a24-56ef-4b43-8380-9dba47c579e5",
   "metadata": {
    "jp-MarkdownHeadingCollapsed": true
   },
   "source": [
    "# fleurs"
   ]
  },
  {
   "cell_type": "code",
   "execution_count": 2,
   "id": "654f2d9f-4005-47bb-92a0-d20e34df9153",
   "metadata": {
    "execution": {
     "iopub.execute_input": "2025-06-30T06:19:03.479669Z",
     "iopub.status.busy": "2025-06-30T06:19:03.479414Z",
     "iopub.status.idle": "2025-06-30T06:20:24.638831Z",
     "shell.execute_reply": "2025-06-30T06:20:24.637868Z",
     "shell.execute_reply.started": "2025-06-30T06:19:03.479647Z"
    }
   },
   "outputs": [
    {
     "data": {
      "application/vnd.jupyter.widget-view+json": {
       "model_id": "eab42be2616b42678a7f857768300e47",
       "version_major": 2,
       "version_minor": 0
      },
      "text/plain": [
       "README.md: 0.00B [00:00, ?B/s]"
      ]
     },
     "metadata": {},
     "output_type": "display_data"
    },
    {
     "data": {
      "application/vnd.jupyter.widget-view+json": {
       "model_id": "8d39a69e95144060934877b81eac430b",
       "version_major": 2,
       "version_minor": 0
      },
      "text/plain": [
       "fleurs.py: 0.00B [00:00, ?B/s]"
      ]
     },
     "metadata": {},
     "output_type": "display_data"
    },
    {
     "data": {
      "application/vnd.jupyter.widget-view+json": {
       "model_id": "cfe3b816d808481da4ef76e9e622a3e9",
       "version_major": 2,
       "version_minor": 0
      },
      "text/plain": [
       "train.tar.gz:   0%|          | 0.00/2.14G [00:00<?, ?B/s]"
      ]
     },
     "metadata": {},
     "output_type": "display_data"
    },
    {
     "data": {
      "application/vnd.jupyter.widget-view+json": {
       "model_id": "49906158ed734765bff89f376cd30d62",
       "version_major": 2,
       "version_minor": 0
      },
      "text/plain": [
       "dev.tar.gz:   0%|          | 0.00/272M [00:00<?, ?B/s]"
      ]
     },
     "metadata": {},
     "output_type": "display_data"
    },
    {
     "data": {
      "application/vnd.jupyter.widget-view+json": {
       "model_id": "66f3951b75314748ba9a37247b3b2d9c",
       "version_major": 2,
       "version_minor": 0
      },
      "text/plain": [
       "test.tar.gz:   0%|          | 0.00/657M [00:00<?, ?B/s]"
      ]
     },
     "metadata": {},
     "output_type": "display_data"
    },
    {
     "data": {
      "application/vnd.jupyter.widget-view+json": {
       "model_id": "62c360c3a8e64e04aeff82285005ea16",
       "version_major": 2,
       "version_minor": 0
      },
      "text/plain": [
       "train.tsv: 0.00B [00:00, ?B/s]"
      ]
     },
     "metadata": {},
     "output_type": "display_data"
    },
    {
     "data": {
      "application/vnd.jupyter.widget-view+json": {
       "model_id": "b15cafe16b2d44bd8620786a3110b141",
       "version_major": 2,
       "version_minor": 0
      },
      "text/plain": [
       "dev.tsv: 0.00B [00:00, ?B/s]"
      ]
     },
     "metadata": {},
     "output_type": "display_data"
    },
    {
     "data": {
      "application/vnd.jupyter.widget-view+json": {
       "model_id": "10a44afa0e3849a1aadd02a13e506ff8",
       "version_major": 2,
       "version_minor": 0
      },
      "text/plain": [
       "test.tsv: 0.00B [00:00, ?B/s]"
      ]
     },
     "metadata": {},
     "output_type": "display_data"
    },
    {
     "data": {
      "application/vnd.jupyter.widget-view+json": {
       "model_id": "97c41425152c4c239789fccc9e479439",
       "version_major": 2,
       "version_minor": 0
      },
      "text/plain": [
       "Generating train split: 0 examples [00:00, ? examples/s]"
      ]
     },
     "metadata": {},
     "output_type": "display_data"
    },
    {
     "data": {
      "application/vnd.jupyter.widget-view+json": {
       "model_id": "62dfe00194d3480eabdd54ce5512e3f7",
       "version_major": 2,
       "version_minor": 0
      },
      "text/plain": [
       "Generating validation split: 0 examples [00:00, ? examples/s]"
      ]
     },
     "metadata": {},
     "output_type": "display_data"
    },
    {
     "data": {
      "application/vnd.jupyter.widget-view+json": {
       "model_id": "968bc7af798c4498ad22141eaacc17c2",
       "version_major": 2,
       "version_minor": 0
      },
      "text/plain": [
       "Generating test split: 0 examples [00:00, ? examples/s]"
      ]
     },
     "metadata": {},
     "output_type": "display_data"
    }
   ],
   "source": [
    "lang_code = \"fa_ir\"\n",
    "dataset = load_dataset(\"google/fleurs\", lang_code, trust_remote_code=True)"
   ]
  },
  {
   "cell_type": "code",
   "execution_count": 3,
   "id": "21db46f7-3593-4f8a-a7ed-0f9008540f7d",
   "metadata": {
    "execution": {
     "iopub.execute_input": "2025-06-30T06:20:24.640120Z",
     "iopub.status.busy": "2025-06-30T06:20:24.639955Z",
     "iopub.status.idle": "2025-06-30T06:20:24.646071Z",
     "shell.execute_reply": "2025-06-30T06:20:24.645249Z",
     "shell.execute_reply.started": "2025-06-30T06:20:24.640105Z"
    }
   },
   "outputs": [
    {
     "data": {
      "text/plain": [
       "DatasetDict({\n",
       "    train: Dataset({\n",
       "        features: ['id', 'num_samples', 'path', 'audio', 'transcription', 'raw_transcription', 'gender', 'lang_id', 'language', 'lang_group_id'],\n",
       "        num_rows: 3101\n",
       "    })\n",
       "    validation: Dataset({\n",
       "        features: ['id', 'num_samples', 'path', 'audio', 'transcription', 'raw_transcription', 'gender', 'lang_id', 'language', 'lang_group_id'],\n",
       "        num_rows: 369\n",
       "    })\n",
       "    test: Dataset({\n",
       "        features: ['id', 'num_samples', 'path', 'audio', 'transcription', 'raw_transcription', 'gender', 'lang_id', 'language', 'lang_group_id'],\n",
       "        num_rows: 871\n",
       "    })\n",
       "})"
      ]
     },
     "execution_count": 3,
     "metadata": {},
     "output_type": "execute_result"
    }
   ],
   "source": [
    "dataset"
   ]
  },
  {
   "cell_type": "code",
   "execution_count": 4,
   "id": "002c1c04-ab53-4432-9e87-a198731d53d6",
   "metadata": {
    "execution": {
     "iopub.execute_input": "2025-06-30T06:20:24.646810Z",
     "iopub.status.busy": "2025-06-30T06:20:24.646639Z",
     "iopub.status.idle": "2025-06-30T06:20:37.564618Z",
     "shell.execute_reply": "2025-06-30T06:20:37.563804Z",
     "shell.execute_reply.started": "2025-06-30T06:20:24.646774Z"
    }
   },
   "outputs": [
    {
     "data": {
      "application/vnd.jupyter.widget-view+json": {
       "model_id": "7bf8213c70614eaba74ede3a780e6694",
       "version_major": 2,
       "version_minor": 0
      },
      "text/plain": [
       "Map:   0%|          | 0/3101 [00:00<?, ? examples/s]"
      ]
     },
     "metadata": {},
     "output_type": "display_data"
    },
    {
     "data": {
      "application/vnd.jupyter.widget-view+json": {
       "model_id": "cee4279882e44f8493a01b442e5b86fe",
       "version_major": 2,
       "version_minor": 0
      },
      "text/plain": [
       "Map:   0%|          | 0/369 [00:00<?, ? examples/s]"
      ]
     },
     "metadata": {},
     "output_type": "display_data"
    },
    {
     "data": {
      "application/vnd.jupyter.widget-view+json": {
       "model_id": "271a439c7d1d4376802ffc7ea64744a8",
       "version_major": 2,
       "version_minor": 0
      },
      "text/plain": [
       "Map:   0%|          | 0/871 [00:00<?, ? examples/s]"
      ]
     },
     "metadata": {},
     "output_type": "display_data"
    }
   ],
   "source": [
    "def normalize_transcription(example):\n",
    "    example['normalized_transcription'] = persian_normalizer(example['transcription'])\n",
    "    return example\n",
    "\n",
    "normalized_dataset = dataset.map(normalize_transcription)"
   ]
  },
  {
   "cell_type": "code",
   "execution_count": 5,
   "id": "de5fbcc7-e9fa-42d1-841d-bcf1d5e39aa8",
   "metadata": {
    "execution": {
     "iopub.execute_input": "2025-06-30T06:20:37.565431Z",
     "iopub.status.busy": "2025-06-30T06:20:37.565274Z",
     "iopub.status.idle": "2025-06-30T06:20:54.373742Z",
     "shell.execute_reply": "2025-06-30T06:20:54.372920Z",
     "shell.execute_reply.started": "2025-06-30T06:20:37.565417Z"
    }
   },
   "outputs": [
    {
     "data": {
      "text/plain": [
       "{'id': 135,\n",
       " 'num_samples': 215040,\n",
       " 'path': '/home/jovyan/.cache/huggingface/datasets/downloads/extracted/303f86bae959497d27ad4cc8607f95f558096eaac4c94c600a4c0f6881eb4317/10005925264288051221.wav',\n",
       " 'audio': {'path': 'train/10005925264288051221.wav',\n",
       "  'array': array([0.        , 0.        , 0.        , ..., 0.00459224, 0.00350004,\n",
       "         0.00263834]),\n",
       "  'sampling_rate': 16000},\n",
       " 'transcription': 'پدیده کشند سرخ وقتی رخ می\\u200cدهد که تراکم کارنیا برویس نوعی جاندار دریایی تک\\u200cسلولی که به\\u200cصورت طبیعی پدید می\\u200cآید بالاتر از حد عادی باشد',\n",
       " 'raw_transcription': 'پدیده کشند سرخ وقتی رخ می\\u200cدهد که تراکم کارنیا برویس، نوعی جاندار دریایی تک\\u200cسلولی که به\\u200cصورت طبیعی پدید می\\u200cآید، بالاتر از حد عادی باشد.',\n",
       " 'gender': 0,\n",
       " 'lang_id': 22,\n",
       " 'language': 'Persian',\n",
       " 'lang_group_id': 2,\n",
       " 'normalized_transcription': 'پدیده کشند سرخ وقتی رخ می\\u200cدهد که تراکم کارنیا برویس نوعی جاندار دریایی تک\\u200cسلولی که به\\u200cصورت طبیعی پدید می\\u200cآید بالاتر از حد عادی باشد'}"
      ]
     },
     "execution_count": 5,
     "metadata": {},
     "output_type": "execute_result"
    }
   ],
   "source": [
    "normalized_dataset[\"train\"][0]"
   ]
  },
  {
   "cell_type": "code",
   "execution_count": 7,
   "id": "b15b0042-df45-42d8-a84b-95a023b37d0d",
   "metadata": {
    "execution": {
     "iopub.execute_input": "2025-06-30T06:23:26.477143Z",
     "iopub.status.busy": "2025-06-30T06:23:26.476704Z",
     "iopub.status.idle": "2025-06-30T06:23:27.220954Z",
     "shell.execute_reply": "2025-06-30T06:23:27.220261Z",
     "shell.execute_reply.started": "2025-06-30T06:23:26.477104Z"
    }
   },
   "outputs": [
    {
     "name": "stdout",
     "output_type": "stream",
     "text": [
      "hsekhalilian\n"
     ]
    }
   ],
   "source": [
    "!huggingface-cli whoami"
   ]
  },
  {
   "cell_type": "code",
   "execution_count": 8,
   "id": "c503066b-a81c-4279-9093-fbe2363a7590",
   "metadata": {
    "execution": {
     "iopub.execute_input": "2025-06-30T06:23:31.794303Z",
     "iopub.status.busy": "2025-06-30T06:23:31.793547Z",
     "iopub.status.idle": "2025-06-30T06:25:21.584340Z",
     "shell.execute_reply": "2025-06-30T06:25:21.583132Z",
     "shell.execute_reply.started": "2025-06-30T06:23:31.794262Z"
    }
   },
   "outputs": [
    {
     "data": {
      "application/vnd.jupyter.widget-view+json": {
       "model_id": "e1f46dbf1b184292b3c2cf6dfbf7f738",
       "version_major": 2,
       "version_minor": 0
      },
      "text/plain": [
       "Uploading the dataset shards:   0%|          | 0/6 [00:00<?, ?it/s]"
      ]
     },
     "metadata": {},
     "output_type": "display_data"
    },
    {
     "data": {
      "application/vnd.jupyter.widget-view+json": {
       "model_id": "c7cbb6cf559845ada11077dbc51ef9a2",
       "version_major": 2,
       "version_minor": 0
      },
      "text/plain": [
       "Map:   0%|          | 0/517 [00:00<?, ? examples/s]"
      ]
     },
     "metadata": {},
     "output_type": "display_data"
    },
    {
     "data": {
      "application/vnd.jupyter.widget-view+json": {
       "model_id": "343ad9cb535246e7a66ad0fc945fb8ad",
       "version_major": 2,
       "version_minor": 0
      },
      "text/plain": [
       "Creating parquet from Arrow format:   0%|          | 0/6 [00:00<?, ?ba/s]"
      ]
     },
     "metadata": {},
     "output_type": "display_data"
    },
    {
     "data": {
      "application/vnd.jupyter.widget-view+json": {
       "model_id": "6978447f3e4e4dd0b6a87044ec7dd555",
       "version_major": 2,
       "version_minor": 0
      },
      "text/plain": [
       "Map:   0%|          | 0/517 [00:00<?, ? examples/s]"
      ]
     },
     "metadata": {},
     "output_type": "display_data"
    },
    {
     "data": {
      "application/vnd.jupyter.widget-view+json": {
       "model_id": "b26e53fe353547f8b25815801b5e3cea",
       "version_major": 2,
       "version_minor": 0
      },
      "text/plain": [
       "Creating parquet from Arrow format:   0%|          | 0/6 [00:00<?, ?ba/s]"
      ]
     },
     "metadata": {},
     "output_type": "display_data"
    },
    {
     "data": {
      "application/vnd.jupyter.widget-view+json": {
       "model_id": "069b8f2e664d4d71a09738fe7d7bb20f",
       "version_major": 2,
       "version_minor": 0
      },
      "text/plain": [
       "Map:   0%|          | 0/517 [00:00<?, ? examples/s]"
      ]
     },
     "metadata": {},
     "output_type": "display_data"
    },
    {
     "data": {
      "application/vnd.jupyter.widget-view+json": {
       "model_id": "3454b3d27223409698c055b07a760b5a",
       "version_major": 2,
       "version_minor": 0
      },
      "text/plain": [
       "Creating parquet from Arrow format:   0%|          | 0/6 [00:00<?, ?ba/s]"
      ]
     },
     "metadata": {},
     "output_type": "display_data"
    },
    {
     "data": {
      "application/vnd.jupyter.widget-view+json": {
       "model_id": "81638e9a2c424657a58e70e7bc7e743c",
       "version_major": 2,
       "version_minor": 0
      },
      "text/plain": [
       "Map:   0%|          | 0/517 [00:00<?, ? examples/s]"
      ]
     },
     "metadata": {},
     "output_type": "display_data"
    },
    {
     "data": {
      "application/vnd.jupyter.widget-view+json": {
       "model_id": "2b51f9eed61f42858697f66b1089be97",
       "version_major": 2,
       "version_minor": 0
      },
      "text/plain": [
       "Creating parquet from Arrow format:   0%|          | 0/6 [00:00<?, ?ba/s]"
      ]
     },
     "metadata": {},
     "output_type": "display_data"
    },
    {
     "data": {
      "application/vnd.jupyter.widget-view+json": {
       "model_id": "d1fcf94e038346268ec81390e79b7fea",
       "version_major": 2,
       "version_minor": 0
      },
      "text/plain": [
       "Map:   0%|          | 0/517 [00:00<?, ? examples/s]"
      ]
     },
     "metadata": {},
     "output_type": "display_data"
    },
    {
     "data": {
      "application/vnd.jupyter.widget-view+json": {
       "model_id": "05d79690fe1647fdb107c30ab1aaa3f4",
       "version_major": 2,
       "version_minor": 0
      },
      "text/plain": [
       "Creating parquet from Arrow format:   0%|          | 0/6 [00:00<?, ?ba/s]"
      ]
     },
     "metadata": {},
     "output_type": "display_data"
    },
    {
     "data": {
      "application/vnd.jupyter.widget-view+json": {
       "model_id": "6a9083472531424b9d82989716c79b96",
       "version_major": 2,
       "version_minor": 0
      },
      "text/plain": [
       "Map:   0%|          | 0/516 [00:00<?, ? examples/s]"
      ]
     },
     "metadata": {},
     "output_type": "display_data"
    },
    {
     "data": {
      "application/vnd.jupyter.widget-view+json": {
       "model_id": "9db42a2224124d26a212a3ac09cfd1c5",
       "version_major": 2,
       "version_minor": 0
      },
      "text/plain": [
       "Creating parquet from Arrow format:   0%|          | 0/6 [00:00<?, ?ba/s]"
      ]
     },
     "metadata": {},
     "output_type": "display_data"
    },
    {
     "data": {
      "application/vnd.jupyter.widget-view+json": {
       "model_id": "f01d36d4a7c9422eb563caf68385ad03",
       "version_major": 2,
       "version_minor": 0
      },
      "text/plain": [
       "Uploading the dataset shards:   0%|          | 0/1 [00:00<?, ?it/s]"
      ]
     },
     "metadata": {},
     "output_type": "display_data"
    },
    {
     "data": {
      "application/vnd.jupyter.widget-view+json": {
       "model_id": "007b70f90dc34c19a343fb78d26ac335",
       "version_major": 2,
       "version_minor": 0
      },
      "text/plain": [
       "Map:   0%|          | 0/369 [00:00<?, ? examples/s]"
      ]
     },
     "metadata": {},
     "output_type": "display_data"
    },
    {
     "data": {
      "application/vnd.jupyter.widget-view+json": {
       "model_id": "5d577ae8e1df46faa889f8e589b03516",
       "version_major": 2,
       "version_minor": 0
      },
      "text/plain": [
       "Creating parquet from Arrow format:   0%|          | 0/4 [00:00<?, ?ba/s]"
      ]
     },
     "metadata": {},
     "output_type": "display_data"
    },
    {
     "data": {
      "application/vnd.jupyter.widget-view+json": {
       "model_id": "65690845be45495d9736d43e8e47163b",
       "version_major": 2,
       "version_minor": 0
      },
      "text/plain": [
       "Uploading the dataset shards:   0%|          | 0/2 [00:00<?, ?it/s]"
      ]
     },
     "metadata": {},
     "output_type": "display_data"
    },
    {
     "data": {
      "application/vnd.jupyter.widget-view+json": {
       "model_id": "e0987eec6be545d08190336b34309cca",
       "version_major": 2,
       "version_minor": 0
      },
      "text/plain": [
       "Map:   0%|          | 0/436 [00:00<?, ? examples/s]"
      ]
     },
     "metadata": {},
     "output_type": "display_data"
    },
    {
     "data": {
      "application/vnd.jupyter.widget-view+json": {
       "model_id": "547662462cf242db92fe141c5df73e50",
       "version_major": 2,
       "version_minor": 0
      },
      "text/plain": [
       "Creating parquet from Arrow format:   0%|          | 0/5 [00:00<?, ?ba/s]"
      ]
     },
     "metadata": {},
     "output_type": "display_data"
    },
    {
     "data": {
      "application/vnd.jupyter.widget-view+json": {
       "model_id": "482f42771fb6417f9a2f99bb1ad74ee2",
       "version_major": 2,
       "version_minor": 0
      },
      "text/plain": [
       "Map:   0%|          | 0/435 [00:00<?, ? examples/s]"
      ]
     },
     "metadata": {},
     "output_type": "display_data"
    },
    {
     "data": {
      "application/vnd.jupyter.widget-view+json": {
       "model_id": "1a554679786241f9bcac082f16e84e88",
       "version_major": 2,
       "version_minor": 0
      },
      "text/plain": [
       "Creating parquet from Arrow format:   0%|          | 0/5 [00:00<?, ?ba/s]"
      ]
     },
     "metadata": {},
     "output_type": "display_data"
    },
    {
     "data": {
      "text/plain": [
       "CommitInfo(commit_url='https://huggingface.co/datasets/hsekhalilian/fleurs/commit/48494a4d5c942797e47af7f1c5859b7fab0627c0', commit_message='Upload dataset', commit_description='', oid='48494a4d5c942797e47af7f1c5859b7fab0627c0', pr_url=None, repo_url=RepoUrl('https://huggingface.co/datasets/hsekhalilian/fleurs', endpoint='https://huggingface.co', repo_type='dataset', repo_id='hsekhalilian/fleurs'), pr_revision=None, pr_num=None)"
      ]
     },
     "execution_count": 8,
     "metadata": {},
     "output_type": "execute_result"
    }
   ],
   "source": [
    "normalized_dataset.push_to_hub(\"hsekhalilian/fleurs\", private=True)\n",
    "# normalized_dataset.save_to_disk(\"/home/jovyan/.cache/huggingface/datasets/hsekhalilian/fleurs\")"
   ]
  },
  {
   "cell_type": "code",
   "execution_count": 19,
   "id": "2d11bec1-62da-48a8-a1af-02772d47322b",
   "metadata": {
    "execution": {
     "iopub.execute_input": "2025-06-29T05:35:51.844736Z",
     "iopub.status.busy": "2025-06-29T05:35:51.844116Z",
     "iopub.status.idle": "2025-06-29T05:35:51.943458Z",
     "shell.execute_reply": "2025-06-29T05:35:51.942762Z",
     "shell.execute_reply.started": "2025-06-29T05:35:51.844689Z"
    }
   },
   "outputs": [],
   "source": [
    "dataset = load_from_disk(\"/home/jovyan/.cache/huggingface/datasets/hsekhalilian/fleurs\")"
   ]
  },
  {
   "cell_type": "code",
   "execution_count": 20,
   "id": "48fd994b-160a-4f83-aa3c-7a1c4ab14e28",
   "metadata": {
    "execution": {
     "iopub.execute_input": "2025-06-29T05:35:56.996081Z",
     "iopub.status.busy": "2025-06-29T05:35:56.994997Z",
     "iopub.status.idle": "2025-06-29T05:35:57.003936Z",
     "shell.execute_reply": "2025-06-29T05:35:57.003191Z",
     "shell.execute_reply.started": "2025-06-29T05:35:56.996053Z"
    }
   },
   "outputs": [
    {
     "data": {
      "text/plain": [
       "DatasetDict({\n",
       "    train: Dataset({\n",
       "        features: ['id', 'num_samples', 'path', 'audio', 'transcription', 'raw_transcription', 'gender', 'lang_id', 'language', 'lang_group_id', 'normalized_transcription'],\n",
       "        num_rows: 3101\n",
       "    })\n",
       "    validation: Dataset({\n",
       "        features: ['id', 'num_samples', 'path', 'audio', 'transcription', 'raw_transcription', 'gender', 'lang_id', 'language', 'lang_group_id', 'normalized_transcription'],\n",
       "        num_rows: 369\n",
       "    })\n",
       "    test: Dataset({\n",
       "        features: ['id', 'num_samples', 'path', 'audio', 'transcription', 'raw_transcription', 'gender', 'lang_id', 'language', 'lang_group_id', 'normalized_transcription'],\n",
       "        num_rows: 871\n",
       "    })\n",
       "})"
      ]
     },
     "execution_count": 20,
     "metadata": {},
     "output_type": "execute_result"
    }
   ],
   "source": [
    "dataset"
   ]
  },
  {
   "cell_type": "markdown",
   "id": "9947eb84-ede9-453e-8d8a-45aad652308f",
   "metadata": {
    "jp-MarkdownHeadingCollapsed": true
   },
   "source": [
    "# Common Voice"
   ]
  },
  {
   "cell_type": "code",
   "execution_count": 9,
   "id": "f36185e2-f066-4249-918e-426f694870b4",
   "metadata": {
    "execution": {
     "iopub.execute_input": "2025-06-30T06:37:54.785819Z",
     "iopub.status.busy": "2025-06-30T06:37:54.785563Z",
     "iopub.status.idle": "2025-06-30T06:37:54.790724Z",
     "shell.execute_reply": "2025-06-30T06:37:54.789819Z",
     "shell.execute_reply.started": "2025-06-30T06:37:54.785802Z"
    }
   },
   "outputs": [],
   "source": [
    "from glob import glob"
   ]
  },
  {
   "cell_type": "code",
   "execution_count": 10,
   "id": "6acf0f0a-d3b3-4dac-8d94-459ee5e6d896",
   "metadata": {
    "execution": {
     "iopub.execute_input": "2025-06-30T06:37:55.159741Z",
     "iopub.status.busy": "2025-06-30T06:37:55.159338Z",
     "iopub.status.idle": "2025-06-30T06:37:55.233853Z",
     "shell.execute_reply": "2025-06-30T06:37:55.233012Z",
     "shell.execute_reply.started": "2025-06-30T06:37:55.159709Z"
    }
   },
   "outputs": [
    {
     "name": "stdout",
     "output_type": "stream",
     "text": [
      "Loading from: /home/jovyan/.cache/huggingface/datasets/common_voice/commonvoice-fa-dev\n",
      "Loading from: /home/jovyan/.cache/huggingface/datasets/common_voice/commonvoice-fa-train\n",
      "Loading from: /home/jovyan/.cache/huggingface/datasets/common_voice/commonvoice-fa-test\n"
     ]
    }
   ],
   "source": [
    "dataset_splits = {}\n",
    "\n",
    "for split_path in glob(\"/home/jovyan/.cache/huggingface/datasets/common_voice/*\"):\n",
    "    print(f\"Loading from: {split_path}\")\n",
    "    split_name = os.path.basename(split_path).split('-')[-1]\n",
    "    dataset_splits[split_name] = load_from_disk(split_path)\n",
    "\n",
    "dataset = DatasetDict(dataset_splits)"
   ]
  },
  {
   "cell_type": "code",
   "execution_count": 11,
   "id": "687bc17f-1aea-4eb9-9ae6-00b1db981f78",
   "metadata": {
    "execution": {
     "iopub.execute_input": "2025-06-30T06:37:56.021565Z",
     "iopub.status.busy": "2025-06-30T06:37:56.021191Z",
     "iopub.status.idle": "2025-06-30T06:37:56.026054Z",
     "shell.execute_reply": "2025-06-30T06:37:56.025458Z",
     "shell.execute_reply.started": "2025-06-30T06:37:56.021542Z"
    }
   },
   "outputs": [
    {
     "data": {
      "text/plain": [
       "DatasetDict({\n",
       "    dev: Dataset({\n",
       "        features: ['client_id', 'path', 'sentence_id', 'sentence', 'sentence_domain', 'up_votes', 'down_votes', 'age', 'gender', 'accents', 'variant', 'locale', 'segment', 'audio'],\n",
       "        num_rows: 10676\n",
       "    })\n",
       "    train: Dataset({\n",
       "        features: ['client_id', 'path', 'sentence_id', 'sentence', 'sentence_domain', 'up_votes', 'down_votes', 'age', 'gender', 'accents', 'variant', 'locale', 'segment', 'audio'],\n",
       "        num_rows: 29789\n",
       "    })\n",
       "    test: Dataset({\n",
       "        features: ['client_id', 'path', 'sentence_id', 'sentence', 'sentence_domain', 'up_votes', 'down_votes', 'age', 'gender', 'accents', 'variant', 'locale', 'segment', 'audio'],\n",
       "        num_rows: 10676\n",
       "    })\n",
       "})"
      ]
     },
     "execution_count": 11,
     "metadata": {},
     "output_type": "execute_result"
    }
   ],
   "source": [
    "dataset"
   ]
  },
  {
   "cell_type": "code",
   "execution_count": null,
   "id": "2aac59ea-a4cc-4302-8a9e-60b35316f83a",
   "metadata": {
    "execution": {
     "iopub.execute_input": "2025-06-30T06:37:57.847198Z",
     "iopub.status.busy": "2025-06-30T06:37:57.846932Z",
     "iopub.status.idle": "2025-06-30T06:38:06.540557Z",
     "shell.execute_reply": "2025-06-30T06:38:06.539900Z",
     "shell.execute_reply.started": "2025-06-30T06:37:57.847181Z"
    }
   },
   "outputs": [],
   "source": [
    "def normalize_transcription(example):\n",
    "    example['normalized_transcription'] = persian_normalizer(example['sentence'])\n",
    "    return example\n",
    "\n",
    "normalized_dataset = dataset.map(normalize_transcription)"
   ]
  },
  {
   "cell_type": "code",
   "execution_count": null,
   "id": "fa33a8cd-53a0-4583-a002-55dca008ca06",
   "metadata": {
    "execution": {
     "iopub.execute_input": "2025-06-30T06:37:57.847198Z",
     "iopub.status.busy": "2025-06-30T06:37:57.846932Z",
     "iopub.status.idle": "2025-06-30T06:38:06.540557Z",
     "shell.execute_reply": "2025-06-30T06:38:06.539900Z",
     "shell.execute_reply.started": "2025-06-30T06:37:57.847181Z"
    }
   },
   "outputs": [
    {
     "data": {
      "application/vnd.jupyter.widget-view+json": {
       "model_id": "6c909dc729a341efa757c39ae8444393",
       "version_major": 2,
       "version_minor": 0
      },
      "text/plain": [
       "Map:   0%|          | 0/10676 [00:00<?, ? examples/s]"
      ]
     },
     "metadata": {},
     "output_type": "display_data"
    },
    {
     "data": {
      "application/vnd.jupyter.widget-view+json": {
       "model_id": "e6e0371e4aca47cf90c8ff498203690a",
       "version_major": 2,
       "version_minor": 0
      },
      "text/plain": [
       "Map:   0%|          | 0/29789 [00:00<?, ? examples/s]"
      ]
     },
     "metadata": {},
     "output_type": "display_data"
    },
    {
     "data": {
      "application/vnd.jupyter.widget-view+json": {
       "model_id": "9d9c611a2c554ee3a79c7a754c70d37c",
       "version_major": 2,
       "version_minor": 0
      },
      "text/plain": [
       "Map:   0%|          | 0/10676 [00:00<?, ? examples/s]"
      ]
     },
     "metadata": {},
     "output_type": "display_data"
    }
   ],
   "source": [
    "from datasets import Value\n",
    "\n",
    "# Convert 'sentence_domain' to string in all splits\n",
    "normalized_dataset['train'] = normalized_dataset['train'].cast_column('sentence_domain', Value('string'))\n",
    "normalized_dataset['dev'] = normalized_dataset['dev'].cast_column('sentence_domain', Value('string'))\n",
    "normalized_dataset['test'] = normalized_dataset['test'].cast_column('sentence_domain', Value('string'))"
   ]
  },
  {
   "cell_type": "code",
   "execution_count": 14,
   "id": "6566cb68-b091-4179-8d97-28b7b34bf9e2",
   "metadata": {
    "execution": {
     "iopub.execute_input": "2025-06-30T06:38:13.406260Z",
     "iopub.status.busy": "2025-06-30T06:38:13.405938Z",
     "iopub.status.idle": "2025-06-30T06:38:13.571199Z",
     "shell.execute_reply": "2025-06-30T06:38:13.570321Z",
     "shell.execute_reply.started": "2025-06-30T06:38:13.406203Z"
    }
   },
   "outputs": [
    {
     "name": "stdout",
     "output_type": "stream",
     "text": [
      "Unique characters: [' ', '!', '\"', '(', ')', ',', '-', '.', ':', ';', '=', 'A', 'C', 'G', 'I', 'L', 'P', 'S', 'T', 'a', 'b', 'c', 'd', 'e', 'h', 'i', 'l', 'n', 'o', 'r', 't', 'u', 'w', 'x', '«', '»', '،', '؛', '؟', 'ء', 'آ', 'أ', 'ؤ', 'ئ', 'ا', 'ب', 'ة', 'ت', 'ث', 'ج', 'ح', 'خ', 'د', 'ذ', 'ر', 'ز', 'س', 'ش', 'ص', 'ض', 'ط', 'ظ', 'ع', 'غ', 'ـ', 'ف', 'ق', 'ك', 'ل', 'م', 'ن', 'ه', 'و', 'ى', 'ي', 'ً', 'ٌ', 'َ', 'ُ', 'ِ', 'ّ', 'ٔ', 'پ', 'چ', 'ژ', 'ک', 'گ', 'ۀ', 'ی', 'ے', '–', '“', '”', '…', 'ﮩ']\n",
      "Number of unique characters: 95\n",
      "Unique characters: [' ', '!', '\"', '(', ')', ',', '-', '.', ':', '=', 'A', 'C', 'G', 'I', 'L', 'P', 'S', 'T', 'a', 'b', 'c', 'd', 'e', 'h', 'i', 'l', 'n', 'o', 'r', 't', 'u', 'w', 'x', '«', '»', '،', '؛', '؟', 'آ', 'ئ', 'ا', 'ب', 'ت', 'ث', 'ج', 'ح', 'خ', 'د', 'ذ', 'ر', 'ز', 'س', 'ش', 'ص', 'ض', 'ط', 'ظ', 'ع', 'غ', 'ف', 'ق', 'ل', 'م', 'ن', 'ه', 'و', 'پ', 'چ', 'ژ', 'ک', 'گ', 'ی', '–']\n",
      "Number of unique characters: 73\n"
     ]
    }
   ],
   "source": [
    "all_text = \" \".join(normalized_dataset['train']['sentence'])\n",
    "unique_chars = sorted(set(all_text))\n",
    "\n",
    "print(\"Unique characters:\", unique_chars)\n",
    "print(\"Number of unique characters:\", len(unique_chars))\n",
    "\n",
    "\n",
    "all_text = \" \".join(normalized_dataset['train']['normalized_transcription'])\n",
    "unique_chars = sorted(set(all_text))\n",
    "\n",
    "print(\"Unique characters:\", unique_chars)\n",
    "print(\"Number of unique characters:\", len(unique_chars))"
   ]
  },
  {
   "cell_type": "code",
   "execution_count": 32,
   "id": "1a2ff183-41c7-45fe-81fe-a42b95edfd56",
   "metadata": {
    "execution": {
     "iopub.execute_input": "2025-06-30T06:43:33.229166Z",
     "iopub.status.busy": "2025-06-30T06:43:33.228765Z",
     "iopub.status.idle": "2025-06-30T06:44:06.972496Z",
     "shell.execute_reply": "2025-06-30T06:44:06.971877Z",
     "shell.execute_reply.started": "2025-06-30T06:43:33.229135Z"
    }
   },
   "outputs": [
    {
     "data": {
      "application/vnd.jupyter.widget-view+json": {
       "model_id": "04a07fdde05a4895b455b137c21636e8",
       "version_major": 2,
       "version_minor": 0
      },
      "text/plain": [
       "Uploading the dataset shards:   0%|          | 0/1 [00:00<?, ?it/s]"
      ]
     },
     "metadata": {},
     "output_type": "display_data"
    },
    {
     "data": {
      "application/vnd.jupyter.widget-view+json": {
       "model_id": "6995ea34d2864c748a6df5cbef66bdf2",
       "version_major": 2,
       "version_minor": 0
      },
      "text/plain": [
       "Map:   0%|          | 0/10676 [00:00<?, ? examples/s]"
      ]
     },
     "metadata": {},
     "output_type": "display_data"
    },
    {
     "data": {
      "application/vnd.jupyter.widget-view+json": {
       "model_id": "ad9fe50088264483a97ce889f49dc8bc",
       "version_major": 2,
       "version_minor": 0
      },
      "text/plain": [
       "Creating parquet from Arrow format:   0%|          | 0/107 [00:00<?, ?ba/s]"
      ]
     },
     "metadata": {},
     "output_type": "display_data"
    },
    {
     "data": {
      "application/vnd.jupyter.widget-view+json": {
       "model_id": "a46e7605d7b446109bd13793b424594d",
       "version_major": 2,
       "version_minor": 0
      },
      "text/plain": [
       "Uploading the dataset shards:   0%|          | 0/2 [00:00<?, ?it/s]"
      ]
     },
     "metadata": {},
     "output_type": "display_data"
    },
    {
     "data": {
      "application/vnd.jupyter.widget-view+json": {
       "model_id": "b82a1805c5014d1f8ba3f24e1859f8d1",
       "version_major": 2,
       "version_minor": 0
      },
      "text/plain": [
       "Map:   0%|          | 0/14895 [00:00<?, ? examples/s]"
      ]
     },
     "metadata": {},
     "output_type": "display_data"
    },
    {
     "data": {
      "application/vnd.jupyter.widget-view+json": {
       "model_id": "888f92c83ae145a092b9670eb074513c",
       "version_major": 2,
       "version_minor": 0
      },
      "text/plain": [
       "Creating parquet from Arrow format:   0%|          | 0/149 [00:00<?, ?ba/s]"
      ]
     },
     "metadata": {},
     "output_type": "display_data"
    },
    {
     "data": {
      "application/vnd.jupyter.widget-view+json": {
       "model_id": "c4e8bee227ce4fe7a3ce9867bf074cb9",
       "version_major": 2,
       "version_minor": 0
      },
      "text/plain": [
       "Map:   0%|          | 0/14894 [00:00<?, ? examples/s]"
      ]
     },
     "metadata": {},
     "output_type": "display_data"
    },
    {
     "data": {
      "application/vnd.jupyter.widget-view+json": {
       "model_id": "d3a63044fd7340ec89fa4e694e31255e",
       "version_major": 2,
       "version_minor": 0
      },
      "text/plain": [
       "Creating parquet from Arrow format:   0%|          | 0/149 [00:00<?, ?ba/s]"
      ]
     },
     "metadata": {},
     "output_type": "display_data"
    },
    {
     "data": {
      "application/vnd.jupyter.widget-view+json": {
       "model_id": "886a854b2b0b49e4ad4101c3ef7f066a",
       "version_major": 2,
       "version_minor": 0
      },
      "text/plain": [
       "Uploading the dataset shards:   0%|          | 0/1 [00:00<?, ?it/s]"
      ]
     },
     "metadata": {},
     "output_type": "display_data"
    },
    {
     "data": {
      "application/vnd.jupyter.widget-view+json": {
       "model_id": "088ded79b91b46beb182094a5b40f9ce",
       "version_major": 2,
       "version_minor": 0
      },
      "text/plain": [
       "Map:   0%|          | 0/10676 [00:00<?, ? examples/s]"
      ]
     },
     "metadata": {},
     "output_type": "display_data"
    },
    {
     "data": {
      "application/vnd.jupyter.widget-view+json": {
       "model_id": "4a827a93e4054579a44cd423aeedb1ea",
       "version_major": 2,
       "version_minor": 0
      },
      "text/plain": [
       "Creating parquet from Arrow format:   0%|          | 0/107 [00:00<?, ?ba/s]"
      ]
     },
     "metadata": {},
     "output_type": "display_data"
    },
    {
     "data": {
      "text/plain": [
       "CommitInfo(commit_url='https://huggingface.co/datasets/hsekhalilian/commonvoice/commit/6a96945a884f2d201ed5e73f65f0a9ce0ec63bf3', commit_message='Upload dataset', commit_description='', oid='6a96945a884f2d201ed5e73f65f0a9ce0ec63bf3', pr_url=None, repo_url=RepoUrl('https://huggingface.co/datasets/hsekhalilian/commonvoice', endpoint='https://huggingface.co', repo_type='dataset', repo_id='hsekhalilian/commonvoice'), pr_revision=None, pr_num=None)"
      ]
     },
     "execution_count": 32,
     "metadata": {},
     "output_type": "execute_result"
    }
   ],
   "source": [
    "normalized_dataset.push_to_hub(\"hsekhalilian/commonvoice\", private=True)"
   ]
  },
  {
   "cell_type": "code",
   "execution_count": 18,
   "id": "ff8b958b-e489-4d9b-b1b4-4a6439fe5438",
   "metadata": {
    "execution": {
     "iopub.execute_input": "2025-06-30T06:39:15.328997Z",
     "iopub.status.busy": "2025-06-30T06:39:15.328581Z",
     "iopub.status.idle": "2025-06-30T06:39:18.256125Z",
     "shell.execute_reply": "2025-06-30T06:39:18.254962Z",
     "shell.execute_reply.started": "2025-06-30T06:39:15.328965Z"
    }
   },
   "outputs": [
    {
     "data": {
      "application/vnd.jupyter.widget-view+json": {
       "model_id": "37a931d643744e77a61f8d04d08b7ed7",
       "version_major": 2,
       "version_minor": 0
      },
      "text/plain": [
       "Saving the dataset (0/1 shards):   0%|          | 0/10676 [00:00<?, ? examples/s]"
      ]
     },
     "metadata": {},
     "output_type": "display_data"
    },
    {
     "data": {
      "application/vnd.jupyter.widget-view+json": {
       "model_id": "f26374f313294da6a1cf5686206d41b4",
       "version_major": 2,
       "version_minor": 0
      },
      "text/plain": [
       "Saving the dataset (0/2 shards):   0%|          | 0/29789 [00:00<?, ? examples/s]"
      ]
     },
     "metadata": {},
     "output_type": "display_data"
    },
    {
     "data": {
      "application/vnd.jupyter.widget-view+json": {
       "model_id": "f04ba74483fc4808bc024535b9afb980",
       "version_major": 2,
       "version_minor": 0
      },
      "text/plain": [
       "Saving the dataset (0/1 shards):   0%|          | 0/10676 [00:00<?, ? examples/s]"
      ]
     },
     "metadata": {},
     "output_type": "display_data"
    }
   ],
   "source": [
    "normalized_dataset.save_to_disk(\"/home/jovyan/.cache/huggingface/datasets/hsekhalilian/commonvoice\")"
   ]
  },
  {
   "cell_type": "markdown",
   "id": "8a9af830-1e84-4bed-ae38-0fa7c51e676c",
   "metadata": {
    "jp-MarkdownHeadingCollapsed": true
   },
   "source": [
    "# psrb"
   ]
  },
  {
   "cell_type": "code",
   "execution_count": 35,
   "id": "a4b6c23f-3e3b-4e86-ac98-d6879db81d9b",
   "metadata": {
    "execution": {
     "iopub.execute_input": "2025-06-30T06:45:40.956337Z",
     "iopub.status.busy": "2025-06-30T06:45:40.955889Z",
     "iopub.status.idle": "2025-06-30T06:45:40.966934Z",
     "shell.execute_reply": "2025-06-30T06:45:40.966122Z",
     "shell.execute_reply.started": "2025-06-30T06:45:40.956305Z"
    }
   },
   "outputs": [],
   "source": [
    "dataset = load_from_disk(\"/home/jovyan/.cache/huggingface/datasets/psrb\")"
   ]
  },
  {
   "cell_type": "code",
   "execution_count": 36,
   "id": "132d0215-b8be-4edf-a5ae-f8e446ef91cc",
   "metadata": {
    "execution": {
     "iopub.execute_input": "2025-06-30T06:45:43.480746Z",
     "iopub.status.busy": "2025-06-30T06:45:43.480473Z",
     "iopub.status.idle": "2025-06-30T06:45:43.484742Z",
     "shell.execute_reply": "2025-06-30T06:45:43.484165Z",
     "shell.execute_reply.started": "2025-06-30T06:45:43.480729Z"
    }
   },
   "outputs": [],
   "source": [
    "dataset = DatasetDict({\"train\": dataset})"
   ]
  },
  {
   "cell_type": "code",
   "execution_count": 37,
   "id": "b6d3975e-6637-4c72-ab82-41882ce32af3",
   "metadata": {
    "execution": {
     "iopub.execute_input": "2025-06-30T06:45:44.241666Z",
     "iopub.status.busy": "2025-06-30T06:45:44.241444Z",
     "iopub.status.idle": "2025-06-30T06:45:44.263153Z",
     "shell.execute_reply": "2025-06-30T06:45:44.262536Z",
     "shell.execute_reply.started": "2025-06-30T06:45:44.241649Z"
    }
   },
   "outputs": [
    {
     "data": {
      "text/plain": [
       "{'audio': {'path': 'audio_1.wav',\n",
       "  'array': array([0.00799561, 0.01330566, 0.01773071, ..., 0.00030518, 0.00140381,\n",
       "         0.00228882]),\n",
       "  'sampling_rate': 44100},\n",
       " 'path': 'audio_1.wav',\n",
       " 'text': 'می\\u200cگم نمی\\u200cخواین طبق نقشه جلو بریم؟ نقشه رو بی\\u200cخیال غمت نباشه ما مستر رد پا رو داریم. حس بویایی و شم\\u200cام اشتباه نمی\\u200cکنه. همین الان اشتباه کرده.',\n",
       " 'audio_duration': 11.88,\n",
       " 'number_of_speakers': 3,\n",
       " 'gender': 'male',\n",
       " 'age': 'mix',\n",
       " 'accents': 'Standard',\n",
       " 'formality': 'informal',\n",
       " 'semantic_content': 'artistic&literary',\n",
       " 'data_source': 'animation',\n",
       " 'acoustic_environment': 'noisy',\n",
       " 'spontaneous': 1}"
      ]
     },
     "execution_count": 37,
     "metadata": {},
     "output_type": "execute_result"
    }
   ],
   "source": [
    "dataset[\"train\"][0]"
   ]
  },
  {
   "cell_type": "code",
   "execution_count": 39,
   "id": "3bd71c7d-795d-4d28-a332-e60c2ba099c6",
   "metadata": {
    "execution": {
     "iopub.execute_input": "2025-06-30T06:45:50.237982Z",
     "iopub.status.busy": "2025-06-30T06:45:50.237575Z",
     "iopub.status.idle": "2025-06-30T06:45:51.331334Z",
     "shell.execute_reply": "2025-06-30T06:45:51.330702Z",
     "shell.execute_reply.started": "2025-06-30T06:45:50.237949Z"
    }
   },
   "outputs": [
    {
     "data": {
      "application/vnd.jupyter.widget-view+json": {
       "model_id": "1066339e75eb467a9a7518e64add925b",
       "version_major": 2,
       "version_minor": 0
      },
      "text/plain": [
       "Map:   0%|          | 0/344 [00:00<?, ? examples/s]"
      ]
     },
     "metadata": {},
     "output_type": "display_data"
    }
   ],
   "source": [
    "def normalize_transcription(example):\n",
    "    example['normalized_transcription'] = persian_normalizer(example['text'])\n",
    "    return example\n",
    "\n",
    "normalized_dataset = dataset.map(normalize_transcription)"
   ]
  },
  {
   "cell_type": "code",
   "execution_count": 40,
   "id": "60b6993f-bb99-4542-9ee6-00024c573f07",
   "metadata": {
    "execution": {
     "iopub.execute_input": "2025-06-30T06:45:52.532864Z",
     "iopub.status.busy": "2025-06-30T06:45:52.532430Z",
     "iopub.status.idle": "2025-06-30T06:45:52.547945Z",
     "shell.execute_reply": "2025-06-30T06:45:52.547114Z",
     "shell.execute_reply.started": "2025-06-30T06:45:52.532832Z"
    }
   },
   "outputs": [
    {
     "name": "stdout",
     "output_type": "stream",
     "text": [
      "Unique characters: [' ', '!', '.', ':', '{', '}', '،', '؟', 'ء', 'آ', 'أ', 'ؤ', 'ئ', 'ا', 'ب', 'ت', 'ث', 'ج', 'ح', 'خ', 'د', 'ذ', 'ر', 'ز', 'س', 'ش', 'ص', 'ض', 'ط', 'ظ', 'ع', 'غ', 'ف', 'ق', 'ك', 'ل', 'م', 'ن', 'ه', 'و', 'ي', 'َ', 'ُ', 'ِ', 'پ', 'چ', 'ژ', 'ک', 'گ', 'ی', '\\u200c']\n",
      "Number of unique characters: 51\n",
      "Unique characters: [' ', '!', '.', ':', '{', '}', '،', '؟', 'آ', 'ئ', 'ا', 'ب', 'ت', 'ث', 'ج', 'ح', 'خ', 'د', 'ذ', 'ر', 'ز', 'س', 'ش', 'ص', 'ض', 'ط', 'ظ', 'ع', 'غ', 'ف', 'ق', 'ل', 'م', 'ن', 'ه', 'و', 'پ', 'چ', 'ژ', 'ک', 'گ', 'ی', '\\u200c']\n",
      "Number of unique characters: 43\n"
     ]
    }
   ],
   "source": [
    "all_text = \" \".join(dataset['train']['text'])\n",
    "unique_chars = sorted(set(all_text))\n",
    "\n",
    "print(\"Unique characters:\", unique_chars)\n",
    "print(\"Number of unique characters:\", len(unique_chars))\n",
    "\n",
    "all_text = \" \".join(normalized_dataset['train']['normalized_transcription'])\n",
    "unique_chars = sorted(set(all_text))\n",
    "\n",
    "print(\"Unique characters:\", unique_chars)\n",
    "print(\"Number of unique characters:\", len(unique_chars))"
   ]
  },
  {
   "cell_type": "code",
   "execution_count": 11,
   "id": "c9e13ef7-d881-4bb7-954a-d4d43ac8f626",
   "metadata": {
    "execution": {
     "iopub.execute_input": "2025-06-29T06:00:23.817159Z",
     "iopub.status.busy": "2025-06-29T06:00:23.816878Z",
     "iopub.status.idle": "2025-06-29T06:00:25.741860Z",
     "shell.execute_reply": "2025-06-29T06:00:25.741084Z",
     "shell.execute_reply.started": "2025-06-29T06:00:23.817136Z"
    }
   },
   "outputs": [
    {
     "data": {
      "application/vnd.jupyter.widget-view+json": {
       "model_id": "d7b548effb94473dac676309a4fd9e1a",
       "version_major": 2,
       "version_minor": 0
      },
      "text/plain": [
       "Saving the dataset (0/1 shards):   0%|          | 0/344 [00:00<?, ? examples/s]"
      ]
     },
     "metadata": {},
     "output_type": "display_data"
    }
   ],
   "source": [
    "normalized_dataset.save_to_disk(\"/home/jovyan/.cache/huggingface/datasets/hsekhalilian/psrb\")"
   ]
  },
  {
   "cell_type": "code",
   "execution_count": 41,
   "id": "a31ed760-0011-4aed-ab2e-3f4fea47ad4f",
   "metadata": {
    "execution": {
     "iopub.execute_input": "2025-06-30T06:46:15.702888Z",
     "iopub.status.busy": "2025-06-30T06:46:15.702624Z",
     "iopub.status.idle": "2025-06-30T06:46:27.257436Z",
     "shell.execute_reply": "2025-06-30T06:46:27.256511Z",
     "shell.execute_reply.started": "2025-06-30T06:46:15.702869Z"
    }
   },
   "outputs": [
    {
     "data": {
      "application/vnd.jupyter.widget-view+json": {
       "model_id": "817f67edfb6d44ae9fbc343aeaccaf8c",
       "version_major": 2,
       "version_minor": 0
      },
      "text/plain": [
       "Uploading the dataset shards:   0%|          | 0/1 [00:00<?, ?it/s]"
      ]
     },
     "metadata": {},
     "output_type": "display_data"
    },
    {
     "data": {
      "application/vnd.jupyter.widget-view+json": {
       "model_id": "12e5907062c5459f991ab2522e2dfa45",
       "version_major": 2,
       "version_minor": 0
      },
      "text/plain": [
       "Map:   0%|          | 0/344 [00:00<?, ? examples/s]"
      ]
     },
     "metadata": {},
     "output_type": "display_data"
    },
    {
     "data": {
      "application/vnd.jupyter.widget-view+json": {
       "model_id": "d193eaa8342042d79997a243a6edebf3",
       "version_major": 2,
       "version_minor": 0
      },
      "text/plain": [
       "Creating parquet from Arrow format:   0%|          | 0/4 [00:00<?, ?ba/s]"
      ]
     },
     "metadata": {},
     "output_type": "display_data"
    },
    {
     "data": {
      "text/plain": [
       "CommitInfo(commit_url='https://huggingface.co/datasets/hsekhalilian/psrb/commit/098ea7f4bdd08e1847f6e34812f3e7fb49836f46', commit_message='Upload dataset', commit_description='', oid='098ea7f4bdd08e1847f6e34812f3e7fb49836f46', pr_url=None, repo_url=RepoUrl('https://huggingface.co/datasets/hsekhalilian/psrb', endpoint='https://huggingface.co', repo_type='dataset', repo_id='hsekhalilian/psrb'), pr_revision=None, pr_num=None)"
      ]
     },
     "execution_count": 41,
     "metadata": {},
     "output_type": "execute_result"
    }
   ],
   "source": [
    "normalized_dataset.push_to_hub(\"hsekhalilian/psrb\", private=True)"
   ]
  },
  {
   "cell_type": "markdown",
   "id": "f847914f-ba7e-4b94-89b6-90ffc1429514",
   "metadata": {
    "jp-MarkdownHeadingCollapsed": true
   },
   "source": [
    "# SedAli"
   ]
  },
  {
   "cell_type": "code",
   "execution_count": 42,
   "id": "5c6cb46d-f83d-4407-9b65-207b5be02901",
   "metadata": {
    "execution": {
     "iopub.execute_input": "2025-06-30T06:46:43.161563Z",
     "iopub.status.busy": "2025-06-30T06:46:43.160562Z",
     "iopub.status.idle": "2025-06-30T06:46:55.635776Z",
     "shell.execute_reply": "2025-06-30T06:46:55.634892Z",
     "shell.execute_reply.started": "2025-06-30T06:46:43.161514Z"
    }
   },
   "outputs": [
    {
     "data": {
      "application/vnd.jupyter.widget-view+json": {
       "model_id": "dbd38935f2eb4d02bfc806ec3139cea1",
       "version_major": 2,
       "version_minor": 0
      },
      "text/plain": [
       "README.md:   0%|          | 0.00/669 [00:00<?, ?B/s]"
      ]
     },
     "metadata": {},
     "output_type": "display_data"
    },
    {
     "data": {
      "application/vnd.jupyter.widget-view+json": {
       "model_id": "1b89d3ef04854784829384618c5d6ab7",
       "version_major": 2,
       "version_minor": 0
      },
      "text/plain": [
       "(…)-00000-of-00002-f4f130b01ef384ff.parquet:   0%|          | 0.00/411M [00:00<?, ?B/s]"
      ]
     },
     "metadata": {},
     "output_type": "display_data"
    },
    {
     "data": {
      "application/vnd.jupyter.widget-view+json": {
       "model_id": "b1c2e676a3d546eeb43cb95caf63ca4b",
       "version_major": 2,
       "version_minor": 0
      },
      "text/plain": [
       "(…)-00001-of-00002-2e0d4272d823093f.parquet:   0%|          | 0.00/399M [00:00<?, ?B/s]"
      ]
     },
     "metadata": {},
     "output_type": "display_data"
    },
    {
     "data": {
      "application/vnd.jupyter.widget-view+json": {
       "model_id": "b3d5db3c5d71491cbf4ca92b86aa8332",
       "version_major": 2,
       "version_minor": 0
      },
      "text/plain": [
       "(…)-00000-of-00001-95afddde252b337e.parquet:   0%|          | 0.00/193M [00:00<?, ?B/s]"
      ]
     },
     "metadata": {},
     "output_type": "display_data"
    },
    {
     "data": {
      "application/vnd.jupyter.widget-view+json": {
       "model_id": "4cdf61f411e14a26a6e92176b5865ef6",
       "version_major": 2,
       "version_minor": 0
      },
      "text/plain": [
       "Generating train split:   0%|          | 0/2270 [00:00<?, ? examples/s]"
      ]
     },
     "metadata": {},
     "output_type": "display_data"
    },
    {
     "data": {
      "application/vnd.jupyter.widget-view+json": {
       "model_id": "629d0764e837457e8ba02d9e823d073a",
       "version_major": 2,
       "version_minor": 0
      },
      "text/plain": [
       "Generating test split:   0%|          | 0/568 [00:00<?, ? examples/s]"
      ]
     },
     "metadata": {},
     "output_type": "display_data"
    }
   ],
   "source": [
    "dataset = load_dataset(\"SeyedAli/Persian-Speech-Dataset\")"
   ]
  },
  {
   "cell_type": "code",
   "execution_count": 43,
   "id": "f0c238f3-28d5-4c4c-b457-7956f9c91a4e",
   "metadata": {
    "execution": {
     "iopub.execute_input": "2025-06-30T06:46:58.779486Z",
     "iopub.status.busy": "2025-06-30T06:46:58.779006Z",
     "iopub.status.idle": "2025-06-30T06:46:58.786931Z",
     "shell.execute_reply": "2025-06-30T06:46:58.786068Z",
     "shell.execute_reply.started": "2025-06-30T06:46:58.779455Z"
    }
   },
   "outputs": [
    {
     "data": {
      "text/plain": [
       "DatasetDict({\n",
       "    train: Dataset({\n",
       "        features: ['audio_id', 'audio', 'speaker_id', 'gender', 'emotion', 'transcript', 'ipa'],\n",
       "        num_rows: 2270\n",
       "    })\n",
       "    test: Dataset({\n",
       "        features: ['audio_id', 'audio', 'speaker_id', 'gender', 'emotion', 'transcript', 'ipa'],\n",
       "        num_rows: 568\n",
       "    })\n",
       "})"
      ]
     },
     "execution_count": 43,
     "metadata": {},
     "output_type": "execute_result"
    }
   ],
   "source": [
    "dataset"
   ]
  },
  {
   "cell_type": "code",
   "execution_count": 44,
   "id": "d6bf7672-08f2-4f5f-8c01-471fceda5494",
   "metadata": {
    "execution": {
     "iopub.execute_input": "2025-06-30T06:46:59.735190Z",
     "iopub.status.busy": "2025-06-30T06:46:59.734774Z",
     "iopub.status.idle": "2025-06-30T06:47:01.847496Z",
     "shell.execute_reply": "2025-06-30T06:47:01.846906Z",
     "shell.execute_reply.started": "2025-06-30T06:46:59.735158Z"
    }
   },
   "outputs": [
    {
     "data": {
      "application/vnd.jupyter.widget-view+json": {
       "model_id": "dc6b42cdbc2b47879961e81a7c9d9bc2",
       "version_major": 2,
       "version_minor": 0
      },
      "text/plain": [
       "Map:   0%|          | 0/2270 [00:00<?, ? examples/s]"
      ]
     },
     "metadata": {},
     "output_type": "display_data"
    },
    {
     "data": {
      "application/vnd.jupyter.widget-view+json": {
       "model_id": "edcfdb23f9db4ec6929428441ae15d7f",
       "version_major": 2,
       "version_minor": 0
      },
      "text/plain": [
       "Map:   0%|          | 0/568 [00:00<?, ? examples/s]"
      ]
     },
     "metadata": {},
     "output_type": "display_data"
    }
   ],
   "source": [
    "def normalize_transcription(example):\n",
    "    example['normalized_transcription'] = persian_normalizer(example['transcript'])\n",
    "    return example\n",
    "\n",
    "normalized_dataset = dataset.map(normalize_transcription)"
   ]
  },
  {
   "cell_type": "code",
   "execution_count": 45,
   "id": "1f70c11c-ecba-4eea-96c7-6f4875e9bca8",
   "metadata": {
    "execution": {
     "iopub.execute_input": "2025-06-30T06:47:03.328038Z",
     "iopub.status.busy": "2025-06-30T06:47:03.327702Z",
     "iopub.status.idle": "2025-06-30T06:47:03.352776Z",
     "shell.execute_reply": "2025-06-30T06:47:03.351839Z",
     "shell.execute_reply.started": "2025-06-30T06:47:03.328013Z"
    }
   },
   "outputs": [
    {
     "name": "stdout",
     "output_type": "stream",
     "text": [
      "Unique characters: [' ', '!', '.', '0', '1', '2', '3', '4', '5', '6', '7', '8', '9', '،', '؟', 'ء', 'آ', 'أ', 'ؤ', 'ئ', 'ا', 'ب', 'ت', 'ث', 'ج', 'ح', 'خ', 'د', 'ذ', 'ر', 'ز', 'س', 'ش', 'ص', 'ض', 'ط', 'ظ', 'ع', 'غ', 'ف', 'ق', 'ل', 'م', 'ن', 'ه', 'و', 'ً', 'َ', 'ُ', 'ِ', 'ّ', 'پ', 'چ', 'ژ', 'ک', 'گ', 'ۀ', 'ی', '\\u200c', '\\u200d', '\\u200e', '\\u200f', '\\ufeff']\n",
      "Number of unique characters: 63\n",
      "Unique characters: [' ', '!', '.', '0', '1', '2', '3', '4', '5', '6', '7', '8', '9', '،', '؟', 'آ', 'ئ', 'ا', 'ب', 'ت', 'ث', 'ج', 'ح', 'خ', 'د', 'ذ', 'ر', 'ز', 'س', 'ش', 'ص', 'ض', 'ط', 'ظ', 'ع', 'غ', 'ف', 'ق', 'ل', 'م', 'ن', 'ه', 'و', 'پ', 'چ', 'ژ', 'ک', 'گ', 'ی', '\\u200c']\n",
      "Number of unique characters: 50\n"
     ]
    }
   ],
   "source": [
    "all_text = \" \".join(dataset['train']['transcript'])\n",
    "unique_chars = sorted(set(all_text))\n",
    "\n",
    "print(\"Unique characters:\", unique_chars)\n",
    "print(\"Number of unique characters:\", len(unique_chars))\n",
    "\n",
    "all_text = \" \".join(normalized_dataset['train']['normalized_transcription'])\n",
    "unique_chars = sorted(set(all_text))\n",
    "\n",
    "print(\"Unique characters:\", unique_chars)\n",
    "print(\"Number of unique characters:\", len(unique_chars))"
   ]
  },
  {
   "cell_type": "code",
   "execution_count": 10,
   "id": "a4efeff7-0a5d-4ee2-b20f-0b0822b83265",
   "metadata": {
    "execution": {
     "iopub.execute_input": "2025-06-29T07:26:35.935190Z",
     "iopub.status.busy": "2025-06-29T07:26:35.934314Z",
     "iopub.status.idle": "2025-06-29T07:26:40.304873Z",
     "shell.execute_reply": "2025-06-29T07:26:40.304086Z",
     "shell.execute_reply.started": "2025-06-29T07:26:35.935122Z"
    }
   },
   "outputs": [
    {
     "data": {
      "application/vnd.jupyter.widget-view+json": {
       "model_id": "b222c4c1c6774a9f85a5b679f170f70c",
       "version_major": 2,
       "version_minor": 0
      },
      "text/plain": [
       "Saving the dataset (0/2 shards):   0%|          | 0/2270 [00:00<?, ? examples/s]"
      ]
     },
     "metadata": {},
     "output_type": "display_data"
    },
    {
     "data": {
      "application/vnd.jupyter.widget-view+json": {
       "model_id": "5f9969df4f53424f8b59747ea66a78ef",
       "version_major": 2,
       "version_minor": 0
      },
      "text/plain": [
       "Saving the dataset (0/1 shards):   0%|          | 0/568 [00:00<?, ? examples/s]"
      ]
     },
     "metadata": {},
     "output_type": "display_data"
    }
   ],
   "source": [
    "normalized_dataset.save_to_disk(\"/home/jovyan/.cache/huggingface/datasets/hsekhalilian/sedali\")"
   ]
  },
  {
   "cell_type": "code",
   "execution_count": 46,
   "id": "20b26c95-b3b5-43b9-a811-acc6852e360c",
   "metadata": {
    "execution": {
     "iopub.execute_input": "2025-06-30T06:47:35.676915Z",
     "iopub.status.busy": "2025-06-30T06:47:35.675913Z",
     "iopub.status.idle": "2025-06-30T06:48:01.892694Z",
     "shell.execute_reply": "2025-06-30T06:48:01.891405Z",
     "shell.execute_reply.started": "2025-06-30T06:47:35.676877Z"
    }
   },
   "outputs": [
    {
     "data": {
      "application/vnd.jupyter.widget-view+json": {
       "model_id": "68ff82fab6a04bc6b933ca4693cb6791",
       "version_major": 2,
       "version_minor": 0
      },
      "text/plain": [
       "Uploading the dataset shards:   0%|          | 0/2 [00:00<?, ?it/s]"
      ]
     },
     "metadata": {},
     "output_type": "display_data"
    },
    {
     "data": {
      "application/vnd.jupyter.widget-view+json": {
       "model_id": "b7d8b115d63f4af4bab5a39dd0fcfd74",
       "version_major": 2,
       "version_minor": 0
      },
      "text/plain": [
       "Map:   0%|          | 0/1135 [00:00<?, ? examples/s]"
      ]
     },
     "metadata": {},
     "output_type": "display_data"
    },
    {
     "data": {
      "application/vnd.jupyter.widget-view+json": {
       "model_id": "c2dd6d4ddb4a4f809bd291850b9ba004",
       "version_major": 2,
       "version_minor": 0
      },
      "text/plain": [
       "Creating parquet from Arrow format:   0%|          | 0/12 [00:00<?, ?ba/s]"
      ]
     },
     "metadata": {},
     "output_type": "display_data"
    },
    {
     "data": {
      "application/vnd.jupyter.widget-view+json": {
       "model_id": "80f5767cfab4412da66c3557a68cf2e1",
       "version_major": 2,
       "version_minor": 0
      },
      "text/plain": [
       "Map:   0%|          | 0/1135 [00:00<?, ? examples/s]"
      ]
     },
     "metadata": {},
     "output_type": "display_data"
    },
    {
     "data": {
      "application/vnd.jupyter.widget-view+json": {
       "model_id": "92480d1122884788a50e9faf1d06115e",
       "version_major": 2,
       "version_minor": 0
      },
      "text/plain": [
       "Creating parquet from Arrow format:   0%|          | 0/12 [00:00<?, ?ba/s]"
      ]
     },
     "metadata": {},
     "output_type": "display_data"
    },
    {
     "data": {
      "application/vnd.jupyter.widget-view+json": {
       "model_id": "2bf7296371184138ab078ddb7d2a1c75",
       "version_major": 2,
       "version_minor": 0
      },
      "text/plain": [
       "Uploading the dataset shards:   0%|          | 0/1 [00:00<?, ?it/s]"
      ]
     },
     "metadata": {},
     "output_type": "display_data"
    },
    {
     "data": {
      "application/vnd.jupyter.widget-view+json": {
       "model_id": "1e6ebca62da34778b68afd5926df938b",
       "version_major": 2,
       "version_minor": 0
      },
      "text/plain": [
       "Map:   0%|          | 0/568 [00:00<?, ? examples/s]"
      ]
     },
     "metadata": {},
     "output_type": "display_data"
    },
    {
     "data": {
      "application/vnd.jupyter.widget-view+json": {
       "model_id": "89a5162330d9428a8193a27460f54e97",
       "version_major": 2,
       "version_minor": 0
      },
      "text/plain": [
       "Creating parquet from Arrow format:   0%|          | 0/6 [00:00<?, ?ba/s]"
      ]
     },
     "metadata": {},
     "output_type": "display_data"
    },
    {
     "data": {
      "text/plain": [
       "CommitInfo(commit_url='https://huggingface.co/datasets/hsekhalilian/Persian-Speech-Dataset/commit/f442184f64d0a3e5cf682a16e5469e83d7ffa8ea', commit_message='Upload dataset', commit_description='', oid='f442184f64d0a3e5cf682a16e5469e83d7ffa8ea', pr_url=None, repo_url=RepoUrl('https://huggingface.co/datasets/hsekhalilian/Persian-Speech-Dataset', endpoint='https://huggingface.co', repo_type='dataset', repo_id='hsekhalilian/Persian-Speech-Dataset'), pr_revision=None, pr_num=None)"
      ]
     },
     "execution_count": 46,
     "metadata": {},
     "output_type": "execute_result"
    }
   ],
   "source": [
    "normalized_dataset.push_to_hub(\"hsekhalilian/Persian-Speech-Dataset\", private=True)"
   ]
  },
  {
   "cell_type": "markdown",
   "id": "16eff6ac-fe73-428e-8240-bfb4080beadf",
   "metadata": {
    "jp-MarkdownHeadingCollapsed": true
   },
   "source": [
    "# Customer Service"
   ]
  },
  {
   "cell_type": "code",
   "execution_count": 47,
   "id": "77bf7eb1-22c5-4df2-a9e8-ace56c08d40e",
   "metadata": {
    "execution": {
     "iopub.execute_input": "2025-06-30T06:48:10.966503Z",
     "iopub.status.busy": "2025-06-30T06:48:10.966050Z",
     "iopub.status.idle": "2025-06-30T06:48:13.633158Z",
     "shell.execute_reply": "2025-06-30T06:48:13.632233Z",
     "shell.execute_reply.started": "2025-06-30T06:48:10.966470Z"
    }
   },
   "outputs": [
    {
     "data": {
      "application/vnd.jupyter.widget-view+json": {
       "model_id": "9415b851482945dd8bb149129dc10487",
       "version_major": 2,
       "version_minor": 0
      },
      "text/plain": [
       "README.md:   0%|          | 0.00/493 [00:00<?, ?B/s]"
      ]
     },
     "metadata": {},
     "output_type": "display_data"
    },
    {
     "data": {
      "application/vnd.jupyter.widget-view+json": {
       "model_id": "14ab8812961548faadaf6c5b0b9b2270",
       "version_major": 2,
       "version_minor": 0
      },
      "text/plain": [
       "data/train-00000-of-00001.parquet:   0%|          | 0.00/15.2M [00:00<?, ?B/s]"
      ]
     },
     "metadata": {},
     "output_type": "display_data"
    },
    {
     "data": {
      "application/vnd.jupyter.widget-view+json": {
       "model_id": "5c5397a90ddc42e095b62732d4097d2a",
       "version_major": 2,
       "version_minor": 0
      },
      "text/plain": [
       "data/test-00000-of-00001.parquet:   0%|          | 0.00/3.99M [00:00<?, ?B/s]"
      ]
     },
     "metadata": {},
     "output_type": "display_data"
    },
    {
     "data": {
      "application/vnd.jupyter.widget-view+json": {
       "model_id": "0995d00fdcdf4aa6995ed82a5b9fd71e",
       "version_major": 2,
       "version_minor": 0
      },
      "text/plain": [
       "Generating train split:   0%|          | 0/688 [00:00<?, ? examples/s]"
      ]
     },
     "metadata": {},
     "output_type": "display_data"
    },
    {
     "data": {
      "application/vnd.jupyter.widget-view+json": {
       "model_id": "74b96a070cef40888139589a46a5e3b0",
       "version_major": 2,
       "version_minor": 0
      },
      "text/plain": [
       "Generating test split:   0%|          | 0/173 [00:00<?, ? examples/s]"
      ]
     },
     "metadata": {},
     "output_type": "display_data"
    }
   ],
   "source": [
    "dataset = load_dataset(\"MohammadGholizadeh/costumer-service-persian-1\")"
   ]
  },
  {
   "cell_type": "code",
   "execution_count": 48,
   "id": "bbe0ec34-19bd-4a6b-b4dd-0ee765adb35b",
   "metadata": {
    "execution": {
     "iopub.execute_input": "2025-06-30T06:48:13.634770Z",
     "iopub.status.busy": "2025-06-30T06:48:13.634451Z",
     "iopub.status.idle": "2025-06-30T06:48:13.639496Z",
     "shell.execute_reply": "2025-06-30T06:48:13.638867Z",
     "shell.execute_reply.started": "2025-06-30T06:48:13.634727Z"
    }
   },
   "outputs": [
    {
     "data": {
      "text/plain": [
       "DatasetDict({\n",
       "    train: Dataset({\n",
       "        features: ['audio', 'sentence'],\n",
       "        num_rows: 688\n",
       "    })\n",
       "    test: Dataset({\n",
       "        features: ['audio', 'sentence'],\n",
       "        num_rows: 173\n",
       "    })\n",
       "})"
      ]
     },
     "execution_count": 48,
     "metadata": {},
     "output_type": "execute_result"
    }
   ],
   "source": [
    "dataset"
   ]
  },
  {
   "cell_type": "code",
   "execution_count": 49,
   "id": "a9843943-7133-4ac2-8c88-d55532a54b99",
   "metadata": {
    "execution": {
     "iopub.execute_input": "2025-06-30T06:48:13.640165Z",
     "iopub.status.busy": "2025-06-30T06:48:13.640007Z",
     "iopub.status.idle": "2025-06-30T06:48:13.805387Z",
     "shell.execute_reply": "2025-06-30T06:48:13.804829Z",
     "shell.execute_reply.started": "2025-06-30T06:48:13.640151Z"
    }
   },
   "outputs": [
    {
     "data": {
      "application/vnd.jupyter.widget-view+json": {
       "model_id": "a8ca5cc819a745c4b9c6e9abd73832cb",
       "version_major": 2,
       "version_minor": 0
      },
      "text/plain": [
       "Map:   0%|          | 0/688 [00:00<?, ? examples/s]"
      ]
     },
     "metadata": {},
     "output_type": "display_data"
    },
    {
     "data": {
      "application/vnd.jupyter.widget-view+json": {
       "model_id": "8cf4a954c75146d08b7634c53ad03f8f",
       "version_major": 2,
       "version_minor": 0
      },
      "text/plain": [
       "Map:   0%|          | 0/173 [00:00<?, ? examples/s]"
      ]
     },
     "metadata": {},
     "output_type": "display_data"
    }
   ],
   "source": [
    "def normalize_transcription(example):\n",
    "    example['normalized_transcription'] = persian_normalizer(example['sentence'])\n",
    "    return example\n",
    "\n",
    "normalized_dataset = dataset.map(normalize_transcription)"
   ]
  },
  {
   "cell_type": "code",
   "execution_count": 50,
   "id": "cf93f955-13eb-43e6-9134-1b46579549a2",
   "metadata": {
    "execution": {
     "iopub.execute_input": "2025-06-30T06:48:15.770501Z",
     "iopub.status.busy": "2025-06-30T06:48:15.770200Z",
     "iopub.status.idle": "2025-06-30T06:48:15.781867Z",
     "shell.execute_reply": "2025-06-30T06:48:15.781303Z",
     "shell.execute_reply.started": "2025-06-30T06:48:15.770482Z"
    }
   },
   "outputs": [
    {
     "name": "stdout",
     "output_type": "stream",
     "text": [
      "Unique characters: [' ', '-', '.', '_', 'آ', 'أ', 'ؤ', 'ئ', 'ا', 'ب', 'ت', 'ث', 'ج', 'ح', 'خ', 'د', 'ذ', 'ر', 'ز', 'س', 'ش', 'ص', 'ض', 'ط', 'ظ', 'ع', 'غ', 'ف', 'ق', 'ل', 'م', 'ن', 'ه', 'و', 'ً', 'َ', 'ُ', 'ِ', 'ّ', 'ٔ', 'پ', 'چ', 'ک', 'گ', 'ۀ', 'ی', '\\u200c', '\\u200d', '\\u200f', '\\u202c', '\\u202e', '\\u2068', '\\u2069']\n",
      "Number of unique characters: 53\n",
      "Unique characters: [' ', '-', '.', 'آ', 'ئ', 'ا', 'ب', 'ت', 'ث', 'ج', 'ح', 'خ', 'د', 'ذ', 'ر', 'ز', 'س', 'ش', 'ص', 'ض', 'ط', 'ظ', 'ع', 'غ', 'ف', 'ق', 'ل', 'م', 'ن', 'ه', 'و', 'پ', 'چ', 'ک', 'گ', 'ی', '\\u200c']\n",
      "Number of unique characters: 37\n"
     ]
    }
   ],
   "source": [
    "all_text = \" \".join(dataset['train']['sentence'])\n",
    "unique_chars = sorted(set(all_text))\n",
    "\n",
    "print(\"Unique characters:\", unique_chars)\n",
    "print(\"Number of unique characters:\", len(unique_chars))\n",
    "\n",
    "all_text = \" \".join(normalized_dataset['train']['normalized_transcription'])\n",
    "unique_chars = sorted(set(all_text))\n",
    "\n",
    "print(\"Unique characters:\", unique_chars)\n",
    "print(\"Number of unique characters:\", len(unique_chars))"
   ]
  },
  {
   "cell_type": "code",
   "execution_count": 23,
   "id": "d2274414-91a8-4861-bb74-c95b94c7dbf5",
   "metadata": {
    "execution": {
     "iopub.execute_input": "2025-06-29T07:32:30.316385Z",
     "iopub.status.busy": "2025-06-29T07:32:30.315561Z",
     "iopub.status.idle": "2025-06-29T07:32:30.458516Z",
     "shell.execute_reply": "2025-06-29T07:32:30.457468Z",
     "shell.execute_reply.started": "2025-06-29T07:32:30.316317Z"
    }
   },
   "outputs": [
    {
     "data": {
      "application/vnd.jupyter.widget-view+json": {
       "model_id": "0e2ef716c7644ae2b81163c5dea7115e",
       "version_major": 2,
       "version_minor": 0
      },
      "text/plain": [
       "Saving the dataset (0/1 shards):   0%|          | 0/688 [00:00<?, ? examples/s]"
      ]
     },
     "metadata": {},
     "output_type": "display_data"
    },
    {
     "data": {
      "application/vnd.jupyter.widget-view+json": {
       "model_id": "afa82df1825645259d4d75eb2690e075",
       "version_major": 2,
       "version_minor": 0
      },
      "text/plain": [
       "Saving the dataset (0/1 shards):   0%|          | 0/173 [00:00<?, ? examples/s]"
      ]
     },
     "metadata": {},
     "output_type": "display_data"
    }
   ],
   "source": [
    "normalized_dataset.save_to_disk(\"/home/jovyan/.cache/huggingface/datasets/hsekhalilian/customerservice\")"
   ]
  },
  {
   "cell_type": "code",
   "execution_count": 51,
   "id": "a82d8ecf-8e85-4501-b194-116e9071d2b9",
   "metadata": {
    "execution": {
     "iopub.execute_input": "2025-06-30T06:48:33.951580Z",
     "iopub.status.busy": "2025-06-30T06:48:33.951295Z",
     "iopub.status.idle": "2025-06-30T06:48:36.999870Z",
     "shell.execute_reply": "2025-06-30T06:48:36.999278Z",
     "shell.execute_reply.started": "2025-06-30T06:48:33.951561Z"
    }
   },
   "outputs": [
    {
     "data": {
      "application/vnd.jupyter.widget-view+json": {
       "model_id": "14689790ee614e60b177b7abdcb08bf5",
       "version_major": 2,
       "version_minor": 0
      },
      "text/plain": [
       "Uploading the dataset shards:   0%|          | 0/1 [00:00<?, ?it/s]"
      ]
     },
     "metadata": {},
     "output_type": "display_data"
    },
    {
     "data": {
      "application/vnd.jupyter.widget-view+json": {
       "model_id": "2bc863dc42a44de9b8f2f623dacaa88d",
       "version_major": 2,
       "version_minor": 0
      },
      "text/plain": [
       "Map:   0%|          | 0/688 [00:00<?, ? examples/s]"
      ]
     },
     "metadata": {},
     "output_type": "display_data"
    },
    {
     "data": {
      "application/vnd.jupyter.widget-view+json": {
       "model_id": "72b9e641629142649df939dc49f4f1f2",
       "version_major": 2,
       "version_minor": 0
      },
      "text/plain": [
       "Creating parquet from Arrow format:   0%|          | 0/7 [00:00<?, ?ba/s]"
      ]
     },
     "metadata": {},
     "output_type": "display_data"
    },
    {
     "data": {
      "application/vnd.jupyter.widget-view+json": {
       "model_id": "32b86e51e1ab454f814cde75562eafd0",
       "version_major": 2,
       "version_minor": 0
      },
      "text/plain": [
       "Uploading the dataset shards:   0%|          | 0/1 [00:00<?, ?it/s]"
      ]
     },
     "metadata": {},
     "output_type": "display_data"
    },
    {
     "data": {
      "application/vnd.jupyter.widget-view+json": {
       "model_id": "d0b39f69369a4dca9b60c18fd9ea04f2",
       "version_major": 2,
       "version_minor": 0
      },
      "text/plain": [
       "Map:   0%|          | 0/173 [00:00<?, ? examples/s]"
      ]
     },
     "metadata": {},
     "output_type": "display_data"
    },
    {
     "data": {
      "application/vnd.jupyter.widget-view+json": {
       "model_id": "de5617b5016b45008bed5614a21b62fa",
       "version_major": 2,
       "version_minor": 0
      },
      "text/plain": [
       "Creating parquet from Arrow format:   0%|          | 0/2 [00:00<?, ?ba/s]"
      ]
     },
     "metadata": {},
     "output_type": "display_data"
    },
    {
     "data": {
      "text/plain": [
       "CommitInfo(commit_url='https://huggingface.co/datasets/hsekhalilian/customerservice/commit/dd68b7dcf8436a5e5225595fe7b31f9a523a6ba1', commit_message='Upload dataset', commit_description='', oid='dd68b7dcf8436a5e5225595fe7b31f9a523a6ba1', pr_url=None, repo_url=RepoUrl('https://huggingface.co/datasets/hsekhalilian/customerservice', endpoint='https://huggingface.co', repo_type='dataset', repo_id='hsekhalilian/customerservice'), pr_revision=None, pr_num=None)"
      ]
     },
     "execution_count": 51,
     "metadata": {},
     "output_type": "execute_result"
    }
   ],
   "source": [
    "normalized_dataset.push_to_hub(\"hsekhalilian/customerservice\", private=True)"
   ]
  },
  {
   "cell_type": "markdown",
   "id": "427aadcd-2304-46de-b9ea-6b70f49d8d2d",
   "metadata": {
    "jp-MarkdownHeadingCollapsed": true
   },
   "source": [
    "# Belebele fleurs"
   ]
  },
  {
   "cell_type": "code",
   "execution_count": 2,
   "id": "32afce45-80c9-441c-b3a2-648c83002f4a",
   "metadata": {
    "execution": {
     "iopub.execute_input": "2025-06-30T09:07:35.395640Z",
     "iopub.status.busy": "2025-06-30T09:07:35.395500Z",
     "iopub.status.idle": "2025-06-30T09:07:35.409003Z",
     "shell.execute_reply": "2025-06-30T09:07:35.408465Z",
     "shell.execute_reply.started": "2025-06-30T09:07:35.395625Z"
    }
   },
   "outputs": [],
   "source": [
    "dataset = load_from_disk(\"/home/jovyan/.cache/huggingface/datasets/fleurs-belebele/\")"
   ]
  },
  {
   "cell_type": "code",
   "execution_count": 3,
   "id": "0cfd622d-95de-4180-a18e-6516fa225359",
   "metadata": {
    "execution": {
     "iopub.execute_input": "2025-06-30T09:07:37.525976Z",
     "iopub.status.busy": "2025-06-30T09:07:37.524981Z",
     "iopub.status.idle": "2025-06-30T09:07:37.534455Z",
     "shell.execute_reply": "2025-06-30T09:07:37.533677Z",
     "shell.execute_reply.started": "2025-06-30T09:07:37.525940Z"
    }
   },
   "outputs": [
    {
     "data": {
      "text/plain": [
       "DatasetDict({\n",
       "    test: Dataset({\n",
       "        features: ['audio', 'sentence', 'gender', 'raw_transcription', 'seamlessm4t_asr', 'seamlessm4t_asr_translation', 'transcription', 'whisper_asr', 'whisper_asr_translation'],\n",
       "        num_rows: 5688\n",
       "    })\n",
       "})"
      ]
     },
     "execution_count": 3,
     "metadata": {},
     "output_type": "execute_result"
    }
   ],
   "source": [
    "dataset"
   ]
  },
  {
   "cell_type": "code",
   "execution_count": 13,
   "id": "9cebce2b-f56b-4edf-9014-22fb72f78ec3",
   "metadata": {
    "execution": {
     "iopub.execute_input": "2025-06-30T09:09:00.607118Z",
     "iopub.status.busy": "2025-06-30T09:09:00.606679Z",
     "iopub.status.idle": "2025-06-30T09:09:05.950555Z",
     "shell.execute_reply": "2025-06-30T09:09:05.949711Z",
     "shell.execute_reply.started": "2025-06-30T09:09:00.607086Z"
    }
   },
   "outputs": [
    {
     "data": {
      "application/vnd.jupyter.widget-view+json": {
       "model_id": "ecc4a846b2cd49138e2ea409b95c2b18",
       "version_major": 2,
       "version_minor": 0
      },
      "text/plain": [
       "Map:   0%|          | 0/5688 [00:00<?, ? examples/s]"
      ]
     },
     "metadata": {},
     "output_type": "display_data"
    }
   ],
   "source": [
    "def normalize_transcription(example):\n",
    "    example['normalized_transcription'] = persian_normalizer(example['sentence'])\n",
    "    return example\n",
    "\n",
    "normalized_dataset = dataset.map(normalize_transcription)"
   ]
  },
  {
   "cell_type": "code",
   "execution_count": 14,
   "id": "87e7a44e-9376-4081-a38b-286bf311cb65",
   "metadata": {
    "execution": {
     "iopub.execute_input": "2025-06-30T09:09:07.120594Z",
     "iopub.status.busy": "2025-06-30T09:09:07.120133Z",
     "iopub.status.idle": "2025-06-30T09:09:07.210353Z",
     "shell.execute_reply": "2025-06-30T09:09:07.209570Z",
     "shell.execute_reply.started": "2025-06-30T09:09:07.120554Z"
    }
   },
   "outputs": [
    {
     "name": "stdout",
     "output_type": "stream",
     "text": [
      "Unique characters: [' ', '!', '%', '&', \"'\", '(', ')', ',', '-', '.', '/', '0', '1', '2', '3', '4', '5', '6', '7', '8', '9', ':', 'A', 'B', 'C', 'D', 'E', 'F', 'G', 'H', 'I', 'J', 'K', 'L', 'M', 'N', 'O', 'P', 'Q', 'R', 'S', 'T', 'U', 'V', 'W', '[', ']', 'a', 'b', 'c', 'd', 'e', 'g', 'h', 'i', 'k', 'l', 'm', 'n', 'o', 'p', 'r', 's', 't', 'u', 'v', 'w', 'x', 'y', '«', '»', '½', '¾', 'Õ', 'ó', 'õ', '،', '؛', '؟', 'ء', 'آ', 'أ', 'ؤ', 'ئ', 'ا', 'ب', 'ت', 'ث', 'ج', 'ح', 'خ', 'د', 'ذ', 'ر', 'ز', 'س', 'ش', 'ص', 'ض', 'ط', 'ظ', 'ع', 'غ', 'ف', 'ق', 'ك', 'ل', 'م', 'ن', 'ه', 'و', 'ي', 'ً', 'َ', 'ُ', 'ِ', 'ّ', 'پ', 'چ', 'ژ', 'ک', 'گ', 'ۀ', 'ی', '\\u200c', '–', '—']\n",
      "Number of unique characters: 127\n",
      "Unique characters: [' ', '!', '%', '&', \"'\", '(', ')', ',', '-', '.', '/', '0', '1', '2', '3', '4', '5', '6', '7', '8', '9', ':', 'A', 'B', 'C', 'D', 'E', 'F', 'G', 'H', 'I', 'J', 'K', 'L', 'M', 'N', 'O', 'P', 'Q', 'R', 'S', 'T', 'U', 'V', 'W', '[', ']', 'a', 'b', 'c', 'd', 'e', 'g', 'h', 'i', 'k', 'l', 'm', 'n', 'o', 'p', 'r', 's', 't', 'u', 'v', 'w', 'x', 'y', '«', '»', '،', '؛', '؟', 'آ', 'ئ', 'ا', 'ب', 'ت', 'ث', 'ج', 'ح', 'خ', 'د', 'ذ', 'ر', 'ز', 'س', 'ش', 'ص', 'ض', 'ط', 'ظ', 'ع', 'غ', 'ف', 'ق', 'ل', 'م', 'ن', 'ه', 'و', 'پ', 'چ', 'ژ', 'ک', 'گ', 'ی', '\\u200c', '–', '—']\n",
      "Number of unique characters: 111\n"
     ]
    }
   ],
   "source": [
    "all_text = \" \".join(dataset['test']['sentence'])\n",
    "unique_chars = sorted(set(all_text))\n",
    "\n",
    "print(\"Unique characters:\", unique_chars)\n",
    "print(\"Number of unique characters:\", len(unique_chars))\n",
    "\n",
    "all_text = \" \".join(normalized_dataset['test']['normalized_transcription'])\n",
    "unique_chars = sorted(set(all_text))\n",
    "\n",
    "print(\"Unique characters:\", unique_chars)\n",
    "print(\"Number of unique characters:\", len(unique_chars))"
   ]
  },
  {
   "cell_type": "code",
   "execution_count": 15,
   "id": "3d171fee-1802-4bb7-b708-030b638b4fa7",
   "metadata": {
    "execution": {
     "iopub.execute_input": "2025-06-30T09:09:50.066928Z",
     "iopub.status.busy": "2025-06-30T09:09:50.066503Z",
     "iopub.status.idle": "2025-06-30T09:10:37.255030Z",
     "shell.execute_reply": "2025-06-30T09:10:37.254054Z",
     "shell.execute_reply.started": "2025-06-30T09:09:50.066897Z"
    }
   },
   "outputs": [
    {
     "data": {
      "application/vnd.jupyter.widget-view+json": {
       "model_id": "9c182126ca984c92be2f1e1a449b2b15",
       "version_major": 2,
       "version_minor": 0
      },
      "text/plain": [
       "Uploading the dataset shards:   0%|          | 0/6 [00:00<?, ?it/s]"
      ]
     },
     "metadata": {},
     "output_type": "display_data"
    },
    {
     "data": {
      "application/vnd.jupyter.widget-view+json": {
       "model_id": "2245ef09975c4e37b3dafc5e8d1993e4",
       "version_major": 2,
       "version_minor": 0
      },
      "text/plain": [
       "Map:   0%|          | 0/948 [00:00<?, ? examples/s]"
      ]
     },
     "metadata": {},
     "output_type": "display_data"
    },
    {
     "data": {
      "application/vnd.jupyter.widget-view+json": {
       "model_id": "4834ed19ca8a408a8d548fc57724cac9",
       "version_major": 2,
       "version_minor": 0
      },
      "text/plain": [
       "Creating parquet from Arrow format:   0%|          | 0/10 [00:00<?, ?ba/s]"
      ]
     },
     "metadata": {},
     "output_type": "display_data"
    },
    {
     "data": {
      "application/vnd.jupyter.widget-view+json": {
       "model_id": "66bb95f85fdd412887f7870ecef94627",
       "version_major": 2,
       "version_minor": 0
      },
      "text/plain": [
       "Map:   0%|          | 0/948 [00:00<?, ? examples/s]"
      ]
     },
     "metadata": {},
     "output_type": "display_data"
    },
    {
     "data": {
      "application/vnd.jupyter.widget-view+json": {
       "model_id": "3bf52417f03c4d2d809156869bd10389",
       "version_major": 2,
       "version_minor": 0
      },
      "text/plain": [
       "Creating parquet from Arrow format:   0%|          | 0/10 [00:00<?, ?ba/s]"
      ]
     },
     "metadata": {},
     "output_type": "display_data"
    },
    {
     "data": {
      "application/vnd.jupyter.widget-view+json": {
       "model_id": "aa0f1b602bb8429b860300ee385eeb0a",
       "version_major": 2,
       "version_minor": 0
      },
      "text/plain": [
       "Map:   0%|          | 0/948 [00:00<?, ? examples/s]"
      ]
     },
     "metadata": {},
     "output_type": "display_data"
    },
    {
     "data": {
      "application/vnd.jupyter.widget-view+json": {
       "model_id": "3413a30b86e742149bb01c8025a4af51",
       "version_major": 2,
       "version_minor": 0
      },
      "text/plain": [
       "Creating parquet from Arrow format:   0%|          | 0/10 [00:00<?, ?ba/s]"
      ]
     },
     "metadata": {},
     "output_type": "display_data"
    },
    {
     "data": {
      "application/vnd.jupyter.widget-view+json": {
       "model_id": "6889fde21d1545d0b1fc9e69484ad1c8",
       "version_major": 2,
       "version_minor": 0
      },
      "text/plain": [
       "Map:   0%|          | 0/948 [00:00<?, ? examples/s]"
      ]
     },
     "metadata": {},
     "output_type": "display_data"
    },
    {
     "data": {
      "application/vnd.jupyter.widget-view+json": {
       "model_id": "d527f27303964e27a1e1a521b9c20e64",
       "version_major": 2,
       "version_minor": 0
      },
      "text/plain": [
       "Creating parquet from Arrow format:   0%|          | 0/10 [00:00<?, ?ba/s]"
      ]
     },
     "metadata": {},
     "output_type": "display_data"
    },
    {
     "data": {
      "application/vnd.jupyter.widget-view+json": {
       "model_id": "b3e83136c9574b1f86e01c1e2e15a38c",
       "version_major": 2,
       "version_minor": 0
      },
      "text/plain": [
       "Map:   0%|          | 0/948 [00:00<?, ? examples/s]"
      ]
     },
     "metadata": {},
     "output_type": "display_data"
    },
    {
     "data": {
      "application/vnd.jupyter.widget-view+json": {
       "model_id": "bdc40903c8b143419c26aa8d81c38f5d",
       "version_major": 2,
       "version_minor": 0
      },
      "text/plain": [
       "Creating parquet from Arrow format:   0%|          | 0/10 [00:00<?, ?ba/s]"
      ]
     },
     "metadata": {},
     "output_type": "display_data"
    },
    {
     "data": {
      "application/vnd.jupyter.widget-view+json": {
       "model_id": "3e11dc8aebcf4356bd75196cc95189d1",
       "version_major": 2,
       "version_minor": 0
      },
      "text/plain": [
       "Map:   0%|          | 0/948 [00:00<?, ? examples/s]"
      ]
     },
     "metadata": {},
     "output_type": "display_data"
    },
    {
     "data": {
      "application/vnd.jupyter.widget-view+json": {
       "model_id": "997dd891e95243bd84aeae3447b3aaf1",
       "version_major": 2,
       "version_minor": 0
      },
      "text/plain": [
       "Creating parquet from Arrow format:   0%|          | 0/10 [00:00<?, ?ba/s]"
      ]
     },
     "metadata": {},
     "output_type": "display_data"
    },
    {
     "data": {
      "text/plain": [
       "CommitInfo(commit_url='https://huggingface.co/datasets/hsekhalilian/fleurs-belebele/commit/1242ae70b025e17e9939e8b9552c4d6dfd8b534c', commit_message='Upload dataset', commit_description='', oid='1242ae70b025e17e9939e8b9552c4d6dfd8b534c', pr_url=None, repo_url=RepoUrl('https://huggingface.co/datasets/hsekhalilian/fleurs-belebele', endpoint='https://huggingface.co', repo_type='dataset', repo_id='hsekhalilian/fleurs-belebele'), pr_revision=None, pr_num=None)"
      ]
     },
     "execution_count": 15,
     "metadata": {},
     "output_type": "execute_result"
    }
   ],
   "source": [
    "normalized_dataset.push_to_hub(\"hsekhalilian/fleurs-belebele\", private=True)"
   ]
  },
  {
   "cell_type": "markdown",
   "id": "985adb64-76df-43a5-9a44-bfbaf3bac654",
   "metadata": {
    "jp-MarkdownHeadingCollapsed": true
   },
   "source": [
    "# espnet"
   ]
  },
  {
   "cell_type": "code",
   "execution_count": 21,
   "id": "f9080d04-0d23-4931-b49a-6fde2575a15d",
   "metadata": {
    "execution": {
     "iopub.execute_input": "2025-06-30T10:09:50.847437Z",
     "iopub.status.busy": "2025-06-30T10:09:50.847138Z",
     "iopub.status.idle": "2025-06-30T10:09:52.057774Z",
     "shell.execute_reply": "2025-06-30T10:09:52.056874Z",
     "shell.execute_reply.started": "2025-06-30T10:09:50.847419Z"
    }
   },
   "outputs": [
    {
     "data": {
      "application/vnd.jupyter.widget-view+json": {
       "model_id": "7688181c3dd64ff49426d88ce04027e4",
       "version_major": 2,
       "version_minor": 0
      },
      "text/plain": [
       "Resolving data files:   0%|          | 0/900 [00:00<?, ?it/s]"
      ]
     },
     "metadata": {},
     "output_type": "display_data"
    },
    {
     "data": {
      "application/vnd.jupyter.widget-view+json": {
       "model_id": "bfd2f6d43d6645f2af791ac2f65f0c58",
       "version_major": 2,
       "version_minor": 0
      },
      "text/plain": [
       "Resolving data files:   0%|          | 0/100 [00:00<?, ?it/s]"
      ]
     },
     "metadata": {},
     "output_type": "display_data"
    },
    {
     "data": {
      "application/vnd.jupyter.widget-view+json": {
       "model_id": "422fc897c70f47d189345f9254fb4cdd",
       "version_major": 2,
       "version_minor": 0
      },
      "text/plain": [
       "Resolving data files:   0%|          | 0/114 [00:00<?, ?it/s]"
      ]
     },
     "metadata": {},
     "output_type": "display_data"
    },
    {
     "data": {
      "application/vnd.jupyter.widget-view+json": {
       "model_id": "f211d439244044c19a27db7c8ecd447d",
       "version_major": 2,
       "version_minor": 0
      },
      "text/plain": [
       "Loading dataset shards:   0%|          | 0/59 [00:00<?, ?it/s]"
      ]
     },
     "metadata": {},
     "output_type": "display_data"
    },
    {
     "data": {
      "application/vnd.jupyter.widget-view+json": {
       "model_id": "c97a5164b5444f03945364ca8ff65c81",
       "version_major": 2,
       "version_minor": 0
      },
      "text/plain": [
       "Loading dataset shards:   0%|          | 0/69 [00:00<?, ?it/s]"
      ]
     },
     "metadata": {},
     "output_type": "display_data"
    }
   ],
   "source": [
    "dataset = load_dataset(\"espnet/floras\", \"multilingual\")"
   ]
  },
  {
   "cell_type": "code",
   "execution_count": 22,
   "id": "443600a1-27ef-4b38-9e9c-21d7c57166aa",
   "metadata": {
    "execution": {
     "iopub.execute_input": "2025-06-30T10:09:53.487184Z",
     "iopub.status.busy": "2025-06-30T10:09:53.486916Z",
     "iopub.status.idle": "2025-06-30T10:09:53.493436Z",
     "shell.execute_reply": "2025-06-30T10:09:53.492498Z",
     "shell.execute_reply.started": "2025-06-30T10:09:53.487166Z"
    }
   },
   "outputs": [
    {
     "data": {
      "text/plain": [
       "DatasetDict({\n",
       "    dev: Dataset({\n",
       "        features: ['id', 'language', 'score', 'audio', 'text', 'summary', 'translation'],\n",
       "        num_rows: 1154\n",
       "    })\n",
       "    test: Dataset({\n",
       "        features: ['id', 'language', 'score', 'audio', 'text', 'summary', 'translation'],\n",
       "        num_rows: 1188\n",
       "    })\n",
       "})"
      ]
     },
     "execution_count": 22,
     "metadata": {},
     "output_type": "execute_result"
    }
   ],
   "source": [
    "dataset"
   ]
  },
  {
   "cell_type": "code",
   "execution_count": 30,
   "id": "f7b6f5a6-ec33-48cb-9761-1b987e5d938b",
   "metadata": {
    "execution": {
     "iopub.execute_input": "2025-06-30T10:13:41.651298Z",
     "iopub.status.busy": "2025-06-30T10:13:41.650802Z",
     "iopub.status.idle": "2025-06-30T10:13:41.679432Z",
     "shell.execute_reply": "2025-06-30T10:13:41.678512Z",
     "shell.execute_reply.started": "2025-06-30T10:13:41.651261Z"
    }
   },
   "outputs": [],
   "source": [
    "ds_dict = {}\n",
    "for key in dataset:\n",
    "    ds = dataset[key]\n",
    "    mask = np.array(ds[\"language\"]) == \"fa\"\n",
    "    ds_dict[key] = ds.select(np.where(mask)[0])\n",
    "\n",
    "dataset = DatasetDict(ds_dict)"
   ]
  },
  {
   "cell_type": "code",
   "execution_count": 31,
   "id": "e855c293-eb52-4684-8758-60199271fd2f",
   "metadata": {
    "execution": {
     "iopub.execute_input": "2025-06-30T10:13:49.528251Z",
     "iopub.status.busy": "2025-06-30T10:13:49.527797Z",
     "iopub.status.idle": "2025-06-30T10:13:49.535718Z",
     "shell.execute_reply": "2025-06-30T10:13:49.534742Z",
     "shell.execute_reply.started": "2025-06-30T10:13:49.528185Z"
    }
   },
   "outputs": [
    {
     "data": {
      "text/plain": [
       "DatasetDict({\n",
       "    dev: Dataset({\n",
       "        features: ['id', 'language', 'score', 'audio', 'text', 'summary', 'translation'],\n",
       "        num_rows: 6\n",
       "    })\n",
       "    test: Dataset({\n",
       "        features: ['id', 'language', 'score', 'audio', 'text', 'summary', 'translation'],\n",
       "        num_rows: 3\n",
       "    })\n",
       "})"
      ]
     },
     "execution_count": 31,
     "metadata": {},
     "output_type": "execute_result"
    }
   ],
   "source": [
    "dataset"
   ]
  },
  {
   "cell_type": "code",
   "execution_count": 32,
   "id": "de196450-bdf8-4edd-a749-aca4b31deedc",
   "metadata": {
    "execution": {
     "iopub.execute_input": "2025-06-30T10:13:52.031955Z",
     "iopub.status.busy": "2025-06-30T10:13:52.031486Z",
     "iopub.status.idle": "2025-06-30T10:13:53.250253Z",
     "shell.execute_reply": "2025-06-30T10:13:53.249754Z",
     "shell.execute_reply.started": "2025-06-30T10:13:52.031923Z"
    }
   },
   "outputs": [
    {
     "data": {
      "application/vnd.jupyter.widget-view+json": {
       "model_id": "160b8840037344eba804c78277b8f39c",
       "version_major": 2,
       "version_minor": 0
      },
      "text/plain": [
       "Map:   0%|          | 0/6 [00:00<?, ? examples/s]"
      ]
     },
     "metadata": {},
     "output_type": "display_data"
    },
    {
     "data": {
      "application/vnd.jupyter.widget-view+json": {
       "model_id": "4b82f0052ddd41adb2cc627eeb0fbbd9",
       "version_major": 2,
       "version_minor": 0
      },
      "text/plain": [
       "Map:   0%|          | 0/3 [00:00<?, ? examples/s]"
      ]
     },
     "metadata": {},
     "output_type": "display_data"
    }
   ],
   "source": [
    "def normalize_transcription(example):\n",
    "    example['normalized_transcription'] = persian_normalizer(example['text'])\n",
    "    return example\n",
    "\n",
    "normalized_dataset = dataset.map(normalize_transcription)"
   ]
  },
  {
   "cell_type": "code",
   "execution_count": 35,
   "id": "b5098fcc-183b-4c44-9924-8e7b4eec4152",
   "metadata": {
    "execution": {
     "iopub.execute_input": "2025-06-30T10:14:43.810410Z",
     "iopub.status.busy": "2025-06-30T10:14:43.810126Z",
     "iopub.status.idle": "2025-06-30T10:14:43.818073Z",
     "shell.execute_reply": "2025-06-30T10:14:43.817585Z",
     "shell.execute_reply.started": "2025-06-30T10:14:43.810393Z"
    }
   },
   "outputs": [
    {
     "name": "stdout",
     "output_type": "stream",
     "text": [
      "Unique characters: ['\\n', ' ', '!', '&', '-', '.', '0', '1', '2', '3', '4', '5', '6', '7', '8', '9', ';', 'B', '[', ']', 'a', 'b', 'c', 'd', 'f', 'h', 'i', 'l', 'm', 'n', 'o', 'r', 's', 't', 'u', '،', '؛', '؟', 'آ', 'أ', 'ؤ', 'ئ', 'ا', 'ب', 'ت', 'ث', 'ج', 'ح', 'خ', 'د', 'ذ', 'ر', 'ز', 'س', 'ش', 'ص', 'ض', 'ط', 'ظ', 'ع', 'غ', 'ف', 'ق', 'ل', 'م', 'ن', 'ه', 'و', 'ً', 'ِ', 'پ', 'چ', 'ژ', 'ک', 'گ', 'ی', '۰', '۱', '۲', '۳', '۴', '۵', '۶', '۷', '۸', '۹', '\\u200c']\n",
      "Number of unique characters: 87\n",
      "Unique characters: ['\\n', ' ', '!', '&', '-', '.', '0', '1', '2', '3', '4', '5', '6', '7', '8', '9', 'B', '[', ']', 'a', 'b', 'c', 'd', 'f', 'h', 'i', 'l', 'm', 'n', 'o', 'r', 's', 't', 'u', '،', '؛', '؟', 'آ', 'ئ', 'ا', 'ب', 'ت', 'ث', 'ج', 'ح', 'خ', 'د', 'ذ', 'ر', 'ز', 'س', 'ش', 'ص', 'ض', 'ط', 'ظ', 'ع', 'غ', 'ف', 'ق', 'ل', 'م', 'ن', 'ه', 'و', 'پ', 'چ', 'ژ', 'ک', 'گ', 'ی', '\\u200c']\n",
      "Number of unique characters: 72\n"
     ]
    }
   ],
   "source": [
    "all_text = \" \".join(dataset['test']['text'])\n",
    "unique_chars = sorted(set(all_text))\n",
    "\n",
    "print(\"Unique characters:\", unique_chars)\n",
    "print(\"Number of unique characters:\", len(unique_chars))\n",
    "\n",
    "all_text = \" \".join(normalized_dataset['test']['normalized_transcription'])\n",
    "unique_chars = sorted(set(all_text))\n",
    "\n",
    "print(\"Unique characters:\", unique_chars)\n",
    "print(\"Number of unique characters:\", len(unique_chars))"
   ]
  },
  {
   "cell_type": "code",
   "execution_count": 36,
   "id": "5b73c362-2386-4927-9130-19c54e84ec3c",
   "metadata": {
    "execution": {
     "iopub.execute_input": "2025-06-30T10:16:31.803499Z",
     "iopub.status.busy": "2025-06-30T10:16:31.803235Z",
     "iopub.status.idle": "2025-06-30T10:16:44.599269Z",
     "shell.execute_reply": "2025-06-30T10:16:44.598088Z",
     "shell.execute_reply.started": "2025-06-30T10:16:31.803481Z"
    }
   },
   "outputs": [
    {
     "data": {
      "application/vnd.jupyter.widget-view+json": {
       "model_id": "b3e8484608e3441b8806ebf5c0e430bc",
       "version_major": 2,
       "version_minor": 0
      },
      "text/plain": [
       "Uploading the dataset shards:   0%|          | 0/1 [00:00<?, ?it/s]"
      ]
     },
     "metadata": {},
     "output_type": "display_data"
    },
    {
     "data": {
      "application/vnd.jupyter.widget-view+json": {
       "model_id": "ebf8427190c2485db3fc9cc73484ef97",
       "version_major": 2,
       "version_minor": 0
      },
      "text/plain": [
       "Map:   0%|          | 0/6 [00:00<?, ? examples/s]"
      ]
     },
     "metadata": {},
     "output_type": "display_data"
    },
    {
     "data": {
      "application/vnd.jupyter.widget-view+json": {
       "model_id": "5028b7bad4cd4999b3b07790f00e7785",
       "version_major": 2,
       "version_minor": 0
      },
      "text/plain": [
       "Creating parquet from Arrow format:   0%|          | 0/1 [00:00<?, ?ba/s]"
      ]
     },
     "metadata": {},
     "output_type": "display_data"
    },
    {
     "data": {
      "application/vnd.jupyter.widget-view+json": {
       "model_id": "a7db320988d84470898ccdafd6d67739",
       "version_major": 2,
       "version_minor": 0
      },
      "text/plain": [
       "Uploading the dataset shards:   0%|          | 0/1 [00:00<?, ?it/s]"
      ]
     },
     "metadata": {},
     "output_type": "display_data"
    },
    {
     "data": {
      "application/vnd.jupyter.widget-view+json": {
       "model_id": "7d88ae8b5176430da65a28f898d604f0",
       "version_major": 2,
       "version_minor": 0
      },
      "text/plain": [
       "Map:   0%|          | 0/3 [00:00<?, ? examples/s]"
      ]
     },
     "metadata": {},
     "output_type": "display_data"
    },
    {
     "data": {
      "application/vnd.jupyter.widget-view+json": {
       "model_id": "e1ffb1f13ad24894b6725963557e164a",
       "version_major": 2,
       "version_minor": 0
      },
      "text/plain": [
       "Creating parquet from Arrow format:   0%|          | 0/1 [00:00<?, ?ba/s]"
      ]
     },
     "metadata": {},
     "output_type": "display_data"
    },
    {
     "data": {
      "text/plain": [
       "CommitInfo(commit_url='https://huggingface.co/datasets/hsekhalilian/espnet-floras/commit/529a72393a6e5b63a47eacd025e5f6ae4283b1ee', commit_message='Upload dataset', commit_description='', oid='529a72393a6e5b63a47eacd025e5f6ae4283b1ee', pr_url=None, repo_url=RepoUrl('https://huggingface.co/datasets/hsekhalilian/espnet-floras', endpoint='https://huggingface.co', repo_type='dataset', repo_id='hsekhalilian/espnet-floras'), pr_revision=None, pr_num=None)"
      ]
     },
     "execution_count": 36,
     "metadata": {},
     "output_type": "execute_result"
    }
   ],
   "source": [
    "normalized_dataset.push_to_hub(\"hsekhalilian/espnet-floras\", private=True)"
   ]
  },
  {
   "cell_type": "markdown",
   "id": "8d48a68f-0e40-4621-bdd9-9b4b645cb691",
   "metadata": {
    "jp-MarkdownHeadingCollapsed": true
   },
   "source": [
    "# Youtube"
   ]
  },
  {
   "cell_type": "code",
   "execution_count": 4,
   "id": "8319e91c-efa1-41ec-b1ef-306f0dab2390",
   "metadata": {
    "execution": {
     "iopub.execute_input": "2025-06-30T14:11:44.601273Z",
     "iopub.status.busy": "2025-06-30T14:11:44.600952Z",
     "iopub.status.idle": "2025-06-30T14:11:44.746747Z",
     "shell.execute_reply": "2025-06-30T14:11:44.746033Z",
     "shell.execute_reply.started": "2025-06-30T14:11:44.601246Z"
    }
   },
   "outputs": [
    {
     "data": {
      "application/vnd.jupyter.widget-view+json": {
       "model_id": "3e53b50a091d4c64bdbcdb457897bfba",
       "version_major": 2,
       "version_minor": 0
      },
      "text/plain": [
       "Loading dataset from disk:   0%|          | 0/29 [00:00<?, ?it/s]"
      ]
     },
     "metadata": {},
     "output_type": "display_data"
    }
   ],
   "source": [
    "dataset = load_from_disk(\"/home/jovyan/.cache/huggingface/datasets/persian_youtube/\")"
   ]
  },
  {
   "cell_type": "code",
   "execution_count": 5,
   "id": "23eb447c-3fa0-473c-8f5b-e55bfe2f94d0",
   "metadata": {
    "execution": {
     "iopub.execute_input": "2025-06-30T14:11:46.546708Z",
     "iopub.status.busy": "2025-06-30T14:11:46.546367Z",
     "iopub.status.idle": "2025-06-30T14:11:46.551805Z",
     "shell.execute_reply": "2025-06-30T14:11:46.551082Z",
     "shell.execute_reply.started": "2025-06-30T14:11:46.546685Z"
    }
   },
   "outputs": [
    {
     "data": {
      "text/plain": [
       "Dataset({\n",
       "    features: ['file_name', 'sentence', 'audio'],\n",
       "    num_rows: 418116\n",
       "})"
      ]
     },
     "execution_count": 5,
     "metadata": {},
     "output_type": "execute_result"
    }
   ],
   "source": [
    "dataset"
   ]
  },
  {
   "cell_type": "code",
   "execution_count": 7,
   "id": "ed5334fc-e85a-4f34-abe2-781c07cf8e1f",
   "metadata": {
    "execution": {
     "iopub.execute_input": "2025-06-30T14:12:16.040477Z",
     "iopub.status.busy": "2025-06-30T14:12:16.039328Z",
     "iopub.status.idle": "2025-06-30T14:13:45.558722Z",
     "shell.execute_reply": "2025-06-30T14:13:45.558064Z",
     "shell.execute_reply.started": "2025-06-30T14:12:16.040447Z"
    }
   },
   "outputs": [
    {
     "data": {
      "application/vnd.jupyter.widget-view+json": {
       "model_id": "ab66b55b49764eaabc2d4c2549caf2dd",
       "version_major": 2,
       "version_minor": 0
      },
      "text/plain": [
       "Map:   0%|          | 0/418116 [00:00<?, ? examples/s]"
      ]
     },
     "metadata": {},
     "output_type": "display_data"
    }
   ],
   "source": [
    "def normalize_transcription(example):\n",
    "    example['normalized_transcription'] = persian_normalizer(example['sentence'])\n",
    "    return example\n",
    "\n",
    "normalized_dataset = dataset.map(normalize_transcription)"
   ]
  },
  {
   "cell_type": "code",
   "execution_count": 10,
   "id": "afa248cd-377a-4e48-990d-7247d6e3dee6",
   "metadata": {
    "execution": {
     "iopub.execute_input": "2025-06-30T14:14:59.010022Z",
     "iopub.status.busy": "2025-06-30T14:14:59.009665Z",
     "iopub.status.idle": "2025-06-30T14:15:01.363975Z",
     "shell.execute_reply": "2025-06-30T14:15:01.363127Z",
     "shell.execute_reply.started": "2025-06-30T14:14:59.009991Z"
    }
   },
   "outputs": [
    {
     "name": "stdout",
     "output_type": "stream",
     "text": [
      "Unique characters: [' ', '!', '\"', '#', '$', '%', \"'\", '(', ')', '*', '+', ',', '-', '.', '/', '0', '1', '2', '3', '4', '5', '6', '7', '8', '9', ':', ';', '=', '[', ']', '_', '|', '«', '°', '»', '×', '÷', 'ʖ', '͜', '͡', '،', '؛', '؟', 'ء', 'آ', 'أ', 'ؤ', 'إ', 'ئ', 'ا', 'ب', 'ة', 'ت', 'ث', 'ج', 'ح', 'خ', 'د', 'ذ', 'ر', 'ز', 'س', 'ش', 'ص', 'ض', 'ط', 'ظ', 'ع', 'غ', 'ـ', 'ف', 'ق', 'ك', 'ل', 'م', 'ن', 'ه', 'و', 'ى', 'ي', 'ً', 'ٌ', 'ٍ', 'َ', 'ُ', 'ِ', 'ّ', 'ْ', 'ٓ', 'ٔ', '٠', '١', '٢', '٣', '٤', '٥', '٦', '٧', '٨', '٩', '٪', '٫', '٬', 'ٰ', 'ٱ', 'پ', 'چ', 'ژ', 'ک', 'گ', 'ۀ', 'ی', '۰', '۱', '۲', '۳', '۴', '۵', '۶', '۷', '۸', '۹', '\\u200c', '\\u200d', '–', '“', '”', '…', '\\u202a', '\\u202b', '\\u202c', '\\u202d', '♪', '♫', '\\ufeff', '😅', '😱']\n",
      "Number of unique characters: 137\n",
      "Unique characters: [' ', '!', '\"', '%', \"'\", '(', ')', '+', ',', '-', '.', '/', '0', '1', '2', '3', '4', '5', '6', '7', '8', '9', ':', '=', '[', ']', '«', '»', '،', '؛', '؟', 'آ', 'ئ', 'ا', 'ب', 'ت', 'ث', 'ج', 'ح', 'خ', 'د', 'ذ', 'ر', 'ز', 'س', 'ش', 'ص', 'ض', 'ط', 'ظ', 'ع', 'غ', 'ف', 'ق', 'ل', 'م', 'ن', 'ه', 'و', '٪', 'پ', 'چ', 'ژ', 'ک', 'گ', 'ی', '\\u200c', '–']\n",
      "Number of unique characters: 68\n"
     ]
    }
   ],
   "source": [
    "all_text = \" \".join(dataset['sentence'])\n",
    "unique_chars = sorted(set(all_text))\n",
    "\n",
    "print(\"Unique characters:\", unique_chars)\n",
    "print(\"Number of unique characters:\", len(unique_chars))\n",
    "\n",
    "all_text = \" \".join(normalized_dataset['normalized_transcription'])\n",
    "unique_chars = sorted(set(all_text))\n",
    "\n",
    "print(\"Unique characters:\", unique_chars)\n",
    "print(\"Number of unique characters:\", len(unique_chars))"
   ]
  },
  {
   "cell_type": "code",
   "execution_count": 14,
   "id": "9fb6c5a0-60ab-469e-ad92-4632e2c12544",
   "metadata": {
    "execution": {
     "iopub.execute_input": "2025-06-30T11:08:59.453616Z",
     "iopub.status.busy": "2025-06-30T11:08:59.453314Z",
     "iopub.status.idle": "2025-06-30T11:08:59.509032Z",
     "shell.execute_reply": "2025-06-30T11:08:59.508553Z",
     "shell.execute_reply.started": "2025-06-30T11:08:59.453589Z"
    }
   },
   "outputs": [
    {
     "data": {
      "application/vnd.jupyter.widget-view+json": {
       "model_id": "ae3db1815a4c435b9aab70f3689aacea",
       "version_major": 2,
       "version_minor": 0
      },
      "text/plain": [
       "Saving the dataset (0/1 shards):   0%|          | 0/101 [00:00<?, ? examples/s]"
      ]
     },
     "metadata": {},
     "output_type": "display_data"
    }
   ],
   "source": [
    "dataset.save_to_disk(\"/home/jovyan/.cache/huggingface/datasets/persian-youtube\")"
   ]
  },
  {
   "cell_type": "code",
   "execution_count": 12,
   "id": "186c6bfa-f10e-4ec5-b308-9a6acc00fa38",
   "metadata": {
    "execution": {
     "iopub.execute_input": "2025-06-30T14:15:46.054392Z",
     "iopub.status.busy": "2025-06-30T14:15:46.054157Z",
     "iopub.status.idle": "2025-06-30T14:15:46.084899Z",
     "shell.execute_reply": "2025-06-30T14:15:46.084290Z",
     "shell.execute_reply.started": "2025-06-30T14:15:46.054375Z"
    }
   },
   "outputs": [
    {
     "name": "stdout",
     "output_type": "stream",
     "text": [
      "--- Sample 1 ---\n",
      "audio: {'path': '0053700001.mp3', 'array': array([-0.01711661, -0.02069014, -0.01701352, ...,  0.06120613,\n",
      "        0.08319854,  0.06572199]), 'sampling_rate': 44100}\n",
      "sentence: تا حالا عربی رقصیدی؟\n"
     ]
    },
    {
     "data": {
      "text/html": [
       "\n",
       "                <audio  controls=\"controls\" >\n",
       "                    <source src=\"data:audio/wav;base64,UklGRtywAgBXQVZFZm10IBAAAAABAAEARKwAAIhYAQACABAAZGF0YbiwAgBa+2L6Yvv0+nf69fqr+mX6Svsn/BD8f/td+6/72vuZ+yn7BfvX+mH6bfqJ+ib6Ifpy+sD6fPsp/DP8KPxU/CX8lPt2+5T7b/ug+9r7fPs3+0j7O/v2+o/6afqp+vL6Bfv2+gr7Kfsx+1D7Y/uD+8377/s3/Jr8pPy+/Jf81vtU+x776vrB+or6y/pS+3X7xvsN/NL70/vv++b7O/yf/Lb8vvzE/Mb8xfy//I/8HPzc++n7/Ps4/Gj8Xfxk/Gr8WPxp/JT8xPzv/AD9Bf3y/LL8U/wL/An8F/wS/Dn8bvxv/If85/xH/WT9Rf0m/RX93vyg/Kf8p/xe/Cr8HfwW/EL8Yvxa/I780vz3/CT9Kf0b/S/9F/0F/Tj9Zv3A/Tn+I/6h/Ur9E/2p/CX80fuY+3r7pvvT+wj8ovwl/UT9iv3z/QX+rf1E/R79If0O/e781Py3/H78NPzv+4/7S/tx+5T7j/vQ+0r8yPw8/ZH9B/62/if/OP9I/3H/jv+n/73/s/+0/+P/5/+1/6j/rP+I/3v/lv+E/17/ef+W/3v/bv+M/7L/yf+//8X/AgBUAL0ANwGUAfYBagKaAosChQJrAgUCmwFqATIB9wDxAO0A7AA5AagB9QEkAlICowICAzMDPANIA1MDRAMcA/UC3ALRArICTgLkAcgBywHDAdoBFwJgAqgC4gIbA2kDmAOHA20DWQMZA7QCUALyAZkBPwH+ABoBZAF6AYUBxQHuAc4BvQHmAfEBxAGmAbUB1QHcAccB0AEIAjACLQIoAkMCZQJaAigCDQIUAgwC7QHQAZMBJQG+AFAAjf+f/vH9iP0t/cj8ffyL/Nz8Cv0a/Xn9F/54/of+g/53/lr+K/7d/XP9DP2z/Ff8//vS++v7G/wv/FT8rfzl/Nn84fz8/N/8uPzE/MT8ivxS/D/8RvxZ/F/8Tvw9/C38GfwT/CH8L/we/NT7eftc+137J/vs+ub6y/qB+lv6XPpQ+k/6d/qu+u36S/vO+1b8qfzF/OD81/xm/NL7b/sW+7/6nfqL+mD6Tfpb+or6DfuO+3r7Jvse+wz7r/py+m36UPob+uP5gvkL+a74V/jY9zz3xvau9tH24vbp9hf3fPcZ+Kz44/gH+XT5uPl8+T35Kfnr+Lf4yfi9+Ib4l/jM+Kj4a/iG+Mn43/jr+Dr5uvkI+gv6APoB+hL6VPqf+rD6s/rC+pL6Qvo5+k36Rvpj+p/6rfqr+sP6z/rD+qH6VPoQ+u35kfkh+Tb5jfmJ+Xb5svnc+dn5CvpC+i76OPq6+jj7M/vr+rf6ZPq1+Qf5ufiU+Fr4M/gx+Cz4Kvg3+DL4LPhK+GL4VPhM+Db4x/c09/X2Bvf69rf2lfbi9mX3rvfE9/n3Rvh3+Jr41fgm+Xf5rvm8+Z/5SfnJ+Gv4QfgF+Ln3jfdk9033nPck+IP44fg++UL5Ifk++U35JPkf+Rr5u/hS+Cn4/vfN99L39vcQ+Cj4O/hV+Jf47fg++Z35+vkh+vn5mvlV+VH5Jfl7+M33kPeB92z3ovcz+K344/gj+Yr50vkG+mn6x/ra+gD7XPtr+yz7JPsq++/60/rw+tT6kfp0+lv6Q/pp+rL66/og+2j73/uF/BP9cP3D/eb9uv2i/cv9+P0f/jb+Dv7b/eb9Af4i/oP+9/47/2X/bf84/wX/8f7R/rT+tv6r/oP+aP53/qb+zv7i/hf/av+U/7L/9P8AAMr/4f8rACEABwAtACUA2P/M/wEAKQBQAGsATgAzAFUAgACNAIUATwD8/+b/DwAvAD0ARwAwABAACADX/2T/JP9G/2v/gf/A//D/1f+f/1X/yP5U/m7+xP7j/gn/g/8HAEAASABQAEwAIADg/5j/NP+5/lX+KP4z/nD+t/7S/sn+uv6Y/mf+VP5T/i3++v33/Qz+CP4R/jP+IP7b/dP9Bv4U/gr+Fv4S/gP+G/4o/g7+Ef4S/rr9av1r/Sr9jPw6/Dj8DvwC/GP8vvzN/Mr8pfxg/Hv8Bv1j/W39kf3f/R3+Qf4//g/+5P3D/Xb9Iv0J/ff8wPyV/Hf8Wfx0/KP8afwC/Ab8VPyJ/Lr8Bf1l/dv9M/5V/p3+A//1/o/+c/6C/kv+B/4C/gj++v0F/jT+X/51/oL+jf6B/lz+Rf5j/rj+H/94/9j/SABnAAsAuv+p/0n/g/7//dX9jv03/T79rP0t/oL+z/5g/wgAeADdAF0BsgHmAUgCgQIqAqkBZAEVAYMA6/+I/1b/J//j/q3+sf7r/jf/aP9v/3v/uP8QAGkAyAAlAXMBtAHHAaMBjwGzAccBkgFKATkBQgEtATcBlAHgAfQBVgIBA0sDRwNxA4MDNwP2AtECcgL2AZMBPAEdAUEBNgH/AAsBIwHuANwAOgGFAXkBjwEOAp4C6QL0As8CdgIcAuwBowEqAfMAJwF5AekBgwL6AnQDUwQcBUcFWAWoBacFIwWQBCcE5wPTA8EDqQOyA9AD+AM8BE0E8gOaA44DkQOxAxEEVQRYBGsEhQSIBK8E2gSYBDAEHgQVBLIDOQPjAoICHALiAb8BmQGFAX4BbgGJAdsBCAL+Af8B3gFkARMBPgF6AZgBsQFpAcYAigC/ALQAiQCsAMYAmgB5AFYA8P+I/2P/UP84/0v/qP8eAGUAggC1APUACQHjAIEAAQC8/6X/Xf/y/qv+X/70/aX9bv0m/d78l/xK/C/8XvzC/EP9qP3r/Vf+w/61/lD+2f0o/YX8VPwt/M37nPuG+1T7b/vf+yb8XPyR/F/8Fvw5/Fv8SPyF/PL8Hv1H/Yz9of2V/Wn97fx4/FL8KPz2+wT8CvzY++f7QvxU/Pv7nvts+0b7J/sr+zH7Bfvg+vP6AfsA+y/7afuV++37B/xk+7b6mvqR+nn6lPpo+sL5SPn++Gn4sfcW96/2t/bN9m/2W/YL94j3afdY90j3DPc297T34PcA+GX4iPhE+CL4KvgP+ND3lvd091b3CveT9ij2CvZh9uL2GPdK9+33lPjG+Nb48/j/+ED5vPn2+f/5RvqL+k76qfkb+ef4wPhJ+NT31/cN+Cf4WPi2+Cr5sPkW+kr6k/rC+nH6Cvrm+aj5efnE+fn5tvmb+bf5kfmL+QD6R/oc+gX6Dfrk+bf5v/nR+c752vkM+k/6k/rg+hX7BPvf+ur68vrN+r360vrf+vP6DPvx+sj62frz+un65fr/+hn7Hfv3+rv6ovqi+pT6lPqj+pT6gPqZ+qv6hvpc+kT6Cfqs+Xn5f/mK+Yb5fflj+T75Q/lq+W/5T/lA+Ub5Vvlz+YP5gvms+fv5M/pu+t76V/ug+6n7avsL+8z6lvo6+vz5I/qC+tr6Pvu/+zf8jfzQ/AH9//zR/Kv8hfxP/ED8Uvwq/Of79vsy/FX8q/xU/db9Cv4n/iz+J/5W/pz+vv7k/hb//v6l/mX+OP72/ez9Tf6z/sf+xP76/kv/hP+4//D/AQD3/yYAqgA0AYQBqgG9AbMBlgGGAYMBggGVAb0B6AEZAlkCmwIAA5MD5wO+A5ADnwOSA1EDFwPeAsQC/wIzA/4C0wIVA2QDdwNSA+4CkwKhAtgCAQNsA/AD/wPfAxoEWgQzBOkDyQOtA1UDxgJOAiYCDwLXAcoBAgIqAiECEAL/AegB5QH+ARwCLAIZAtcBawH4AL8A0gAHATIBPQEnASoBTgEmAc0ACwG+AQ0CHAJYAicCTQHGAN4AygBnAEoAbQB4AHcAhgCeAMQA6ADoAOIACwFJAVABGwHtANYAvQDaAFcBvAGkAWEBRwEJAXsABADk/9v/z//1/0YAXgAsAA8AJgBGAHEAnwCgAKQA2AC5AA8ApP+9/6r/R/8L/9n+hP5r/n3+QP4C/kz+tv7K/uD+Iv8s/w3/JP8+/yH/Tf/9/4QAiACBAKAAhAAXAJr/Hf+q/lr+Lv4j/k7+l/7F/rv+lP6R/uH+Tv9z/zr/6v7W/gz/MP8V/zr/4f9gAFUAQgBXAC8A7v8CAD0AQgBMAJYA3QD6ABwBTwFnAWwBhQG8AQ4CXAJnAk8CjQIIA0cDgAMRBIUEbgQ8BD4ERgR2BNgE0QRJBAQEEQTNA1wDTgNrA2oDlwPdA88DsgPvAyIEIQSBBDgFlAWWBbcFBgZ2Bv8GQgcxBzQHLwfLBnEGfwaaBpAGmgaxBsEG5gYhB4EHBwhWCFcIbghlCNEHNgcEB8kGcAZVBi0G3QX5BW8GygZLB+cHBQj2B1gIpgiaCOkIZAkmCYQIRggjCN8HCQivCCQJOAk/CVIJagmZCdIJ/wlECq8K5gq5CnoKaQpfCkkKRQo4CvEJqAnFCT8KlwqeCrcK/QrhClEKBAonCj8KNQo1ChgK6AnbCdMJsgmICT0J5Ai8CJUIWgiSCDEJigmkCeQJMgqlCmUL5wvoC+QLvAsDC0UKDgoVCjAKZgpHCr8JWQlKCVYJaQmICbsJBgpLCnwKmApxCgcKrwlVCa8I+AdoB+IGjwaEBkwG1AWbBaUFpAWqBcEFxwXPBcsFkAVyBcMFHwYhBvMFxwWPBTIFoQT+A4wDPAPkArIC0wIbA2EDoAO8A6UDhANkAy4D9gLVAqoCeAJ9AqQCsQLuApMDEAQMBPMD5QOeA2QDigOzA6EDmAOaA3IDMAPqAqQCZAL/AV8B2wCNABsAo/+L/6f/mf9x/1j/TP9G/zH/FP8L/8z+EP5u/Y/9F/5i/oz+8v5x/6D/fP97/8b/7P+8/4z/c/9N/0L/VP82/wD/BP8k/z3/d/+s/6P/nP/C/9z/6v8DAP3/0P+Y/xf/Tv7A/ZD9VP34/MX83fw+/b/9FP5E/p/+HP+D/83//v8UADwAjQDYAAsBRgFfAfYAJABw//f+Xf5+/aT8EfzS+9f7CPxv/BX9uP0k/mr+fP5c/oP+9f4Z/x//qP8rAPD/ef9F/wX/1/4M/yr/4P6S/lr+Kf5j/gD/Yf+K/+r/QgArAOD/nv9D/9L+lP6T/pn+q/4D/4X/tv9+/0z/Pf/1/nn+Ov4q/ur9nv1p/QT9ifyD/MD8ufyu/Ob8+/zK/Jj8XPw5/I386vzB/Hj8Tfzl+4P7lvum+1/7HfvT+lf6Lfp2+qj6zPo0+5z7x/vl+wX8Dfzt+5r7R/sv+xX7vfpk+iX64fms+Yj5ZPmV+TD6nvrL+i37fPtS+0b7rfvZ+737DPyG/Gz8DPz4+/77+/st/G38gPyn/P38Lv0o/R79Df35/Cf9lP3S/cD9tv3W/dH9jP1G/R79DP0X/Sv9Jf1A/bf9T/7h/or//v/q/8H/5P/g/27/Av/Y/qj+Vf4a/hv+LP4j/iD+P/5c/nH+mv69/tT+E/9M/z7/RP+D/3L/Pf+R/+v/c//B/of+Lf6C/Wf99v1l/rD+Nf+c/63/3f9EAIMAtAAVAUgBBQGnAGcAAQB9/0L/Wv9v/47/EwDhAGsBiwF7AVABJAExAU4BHgHLAKcAigBgAHcAxADnAO8AJgFyAZEBnAHNAQkCAAK3AYsBmQHBAf4BIALVAVoBIQHeABQAIf+c/n3+af5L/kn+fP69/tz+7/4K//j+rv52/mP+Q/4Z/vv9xf12/Ur9Rv1g/bv9Nf5d/kv+af5q/tL9J/0H/Rn9Af39/AH92Pzj/Df9K/27/Lf8M/2M/bT99/0d/ub9qv3J/RX+Of5E/mn+kP6Q/oH+lf7J/vj+Fv9C/5b/9/9BAGIAXgBwAMkAEQHoAJgAZQAaAML/i/86/87+n/5S/pX9RP3y/cP+Ef9K/6P/7/9UAN8APgFKARYBwwCXAKYAuQDMAAgBNgE3AVQBlgGqAa0BBgKBAroC9wKgA4oEUwXOBfoFHAZwBn4G0wUOBccEggT6A94DZATtBEUFsQU6BrYGBwcXBwAH4wasBloGIgYGBtoFlQVIBQ8FCAUaBQoF0wSoBMMEOgXJBQ0GEgZKBt0GegfbBw4ILAgYCNIHmweOB4kHmwfsB1AIlwjzCH0J5QkMCiYKRQpQClgKewqqCr4KogpdCiwKQwp1CowKyApNC60LoQuAC3ELRgssC2ULuQvmCwgMLgw8DCwMEgwUDEoMeAxyDIkM5AwZDRgNWQ3IDekNzQ27DZMNdA2/DTAORQ4uDi0OGQ4RDksOYg4vDjQOVw4oDhsOlA7vDvIOMQ+HD1UP0A5vDhYOlQ0ADYMMRgwvDAsMHgy5DJQNTg7dDjYPWg9wD3sPZg8+DxMPAg8wD1sPJg/HDoEOFQ5eDb8McwxIDCUMSQzVDGkNqQ3jDYwOYA+5D4MPMw/8DmwONA3qCysLqQrwCTkJxgiDCGQISwgHCMkHyAfwB0AIogjOCPEIYgm8CZ0JewmLCUgJkAjTB04HCgcBB/oGwAZhBgUG2wXrBfYF3AXPBfMFNgZxBnMGNgb8BeQFqwVQBTEFQwUdBd8E5wTQBCEEXgMMA9oCnAJ+AjUCpgFaARcBHwD6/pL+lv57/nH+d/5X/iz+AP7Q/br9cv2u/Pj7u/uJ+yn72vqw+tP6SPuJ+5L7K/w6/dz9+P3S/V39F/2C/fr9Av4//uj+QP8O/77+hP5b/hz+ef2f/BT80vud+7/7Wvzp/B39N/1+/fn9eP7F/uz+G/9n//L/mwDeALQAugDtAMkAgAB4AH0AewCcAJcAUgA9AFYAMgDc/3j/+P6A/hP+U/1F/HX7L/tE+0r7CPvM+vf6Rvtg+1X7P/tC+5X77vvw++H72ftr+9v62Poc+xf7+Prn+sP6yPoE+wP78/pq+wn8MvxH/KT83vzZ/N/8y/y3/Cr9uv2G/fT81vz5/AT9Fv0f/RT9I/0c/er8Af1Z/Wb9Jv3r/Nj8HP2J/ZD9ZP1f/fb8HfzD+//7QPyn/Eb9pf3E/eH9/v1o/jL/nf9h/xX/0v5P/sH9XP0T/e382fyh/Gn8dfzS/ET9Zf1F/Zb9cP4L/zL/dP8FALIALQE/ATEBXAFfAeYAZAAcAOT/2/8NADAAPQBRAGMAqgA2AW4BNgFRAeUBWwKmAgUDUwONA9gD2ANVA+cC4gLQAqECyQICA8YCeAJ7AnACeAIrAxMEcAStBD8FpQWiBZwFpwWQBUUFzwSJBMAE+wTGBJAEwgQhBY0FFAZ4BnUGDQZwBd0EZwTyA60D6AN3BAAFggUUBpwG5gbvBgYHRgc3B6YGIQb0BdoF0gX9BSEGLAYxBhsGGAZ2BtEGxga9Bu4G9gbfBuwG0AZrBioGAAaUBSYFEAUmBToFMQXfBI4EwQQuBTIF/AQMBTkFQwVaBZAFuwXvBUoGlAaPBmkGfQbkBkwHbgeVB1QIfwkgCukJognMCfkJwwlHCbkISQgICLMHTQdKB34HTQf2BgQHMQcrByEHCwfJBoEGJAaoBXIFXwX4BL8ENwWkBYoFYgUQBSoEUQMbAw8DxwKNApECvgL2AiADZQPoAz8E/gN/A0MDAwNFAmsBGgH5AHcAJQCaACsBTwGTARcCJAKnATsB/gCsADsA1P+e/6H/t//R/wkATQBkAFgAaACGAF8AHQBcAAcBZgFqAXoBaQEDAbkAywAGAWEB6wGMAi0DkAOaA78DKQRMBAMEvAOaA3oDPgPXApkCtgKIAgICMwIlA7YD2AMxBJEExQQaBXsFvAUNBlMGVwZEBiAG3wW0BWkFuwQvBBgE+gPNA/QDRASSBPAEBQXNBPIEVgVlBYgFLwatBp4GeAZqBmYGjgafBiwGcQXyBOYERAWeBX0FKgUWBSoFgwVlBisHJQfYBroGQgZKBY8ERgQMBO0DHwRNBCgE/AMRBB8E7wPoA0cEowSxBLUE3QQmBbEFXAbYBj0HmwebB08HIAfqBnUGIAYeBiAGIQZtBiQHIQgOCaQJ9AkRCu4J4wktCkoK/wnlCQcKwwlJCUAJdAmNCfUJuwo0C04LlAvfC9kL4QshDBoM3Au6C1oLtApvCmwKPQp1CkELsQu4CxMMcgxSDCQMCAytC1YLGAtxCnoJywhtCDwITAhyCHgIhAizCOEI9Qj2CPoIDwkrCTAJAwnNCOgIRQltCWwJhAlnCfsIwQiwCHAIXAiiCLYIjgigCLsIfAgUCMcHfgcWB7AGgAZLBsUFVQU/Bd0EGwTTA/wD6QPPA/kDDwQTBCYEAATUAw4ENAToA6sDmwM7A4YC6QGlAZ8BcAEqAX8BYgL9Ai8DaQOEAzMDsgJSAhUC6QHGAa4BogGvAdcB7wHyARwCQQIIAsYBrAEuAV0A5/+n/zr/wP78/eT8bPy3/Nv8Cf3Y/Zv+0/7t/uH+j/5z/pb+fv4M/kf9cfz/+8j7fvtu+277/vq++l37MfzB/Fb9xv3O/Z/9Lf2k/JL8jfzb+xv7+PrM+iv6ufnc+UD6mPr/+q/7Z/ym/Jf8y/wo/VD9X/2I/Zr9cP1h/dL9Z/5f/s/9Sf2u/OT7gvuh+7T70Psu/FH8F/wi/Iv86fxn/U/+OP+i/7j/xP+c/yH/p/5e/gv+rP1w/Sb9svx5/Kv8/Pw7/YL93/0w/kr+UP6S/uX+6/69/on+H/6D/ST9N/2N/dT9zv2o/c39KP5d/nP+i/6F/mr+gP6s/nf+6/2w/d/99P0J/on+Df8u/1z/pv+b/63/dABfAdABBQJIArgCXgPHA58DRQMFA94C1gKcAuwBSAERAfsAHgG9AVECfwLDAkIDowPdAxcEZwTMBOgEZAS0A3YDjwOPAz4DsAImApoB2wBFAFMAsAD+AJgBiwJAA5QD6QNDBIgECgXYBVUGMgbXBX0F3gQiBL8DfwMLA7QChALmAQkBwADkANcA8QCKAQ8CMgJQAmkCZwKyAlEDpwOaA6cD2gP1A/YD0gNYA4kCvAFrAbcBIgJBAmYC4AJkA8ADKQSbBNEE0ATmBDgFfAVlBUEFbwWnBYkFQQXoBHAEGwQPBAgE/wMOBPADnwOSA98DLwRyBO4EwgWkBhMHIAdyBwUIHwi2B18HFAeLBg4G7QXyBfUFOAbFBiUHDAf1BmUH4weXB84GegaLBkwG8gULBjoGFgYTBmYGwAYrB38HKgefBsMG5gYsBoUFtwX6BdcFrwV2BQcFkwQXBOMDjgSGBbUFZQVfBX0FiwW4BdYFrgV+BWkFTwU0BRcF7QTVBK8EOQTCA6oDiwMvA0YDEASzBL4EtQS1BEIEfAMOAwwDDwPyAscCfgIXAtoB+gFvAicDAwSrBPkEQAWmBdQFmAUhBb8EsQS/BF8ExQOFA0oD0gLYAmIDhgNhA4IDhgNpA8kDRgQ8BA4ECQQCBBQEJATxA8kDogMSA6sC4gL9AuUCLgNFA5sC/QHnASUCzQJdA/4CUwJGAiECQQFiAC4AdwDMAOMA+QB8ASMCWgI4AiwCPQIyAi8CfgLQArACzQLQA9EEHgVfBYoF/QR4BKIE1AQNBZEFWwVHBNUDFgQNBCwEuwS4BDkELQQeBIkDJgMuAycDWAPtA/cDFgNVAmwCxgLCAo4CaAIuAt8BrQGhAasB0AEIAjwCYQJpAk8CGwLbAbQBlAEbAWIA+P/T/4r/T/97/97/NgBuAJAA1wA7AWcBfgGtAZ8BkQEqAvMCNgNYA3EDFQPgAl8D0QPqAykEGARLA8EC3wK/Ak8CPQJVAkYCggIVA3YD0QOsBKQFJAaHBgEHtgZoBU0E6ANHAwMC/ADXAGIBCQJmAsUCtAPoBKwF7gXfBZEFWAVqBW0FOAUZBfoEpgR4BKEEnwRhBKMEcgUFBisGOAYFBr4FIwbOBqYGRQbcBpIHOQeUBngGTgbHBYwF9wW0BlMHyQeDCIwJMwo8ChUKzAkxCY0ILggjCFkIbwhGCGgI3ggcCWAJEQqDCjoKygmUCYQJrQnTCYwJGQn9CDUJdgl6CTkJBgnsCJEI+wd3Bw8HugZGBoUFKAXYBbYGygaTBqoG2Ab/BhgHEwdPB94HFAjKB4sHcgdhB1gHJQfJBncG/wV+BWAFKgVrBPED9gOtA5EDggSKBccFBganBuwGpQY3Bt8FuAWEBQMFjwR2BGcELwTiA7UDCASuBO4E8gQ6BScFbAT/A/UDdQPsAjcD2wMxBFkEcgSwBFsF+wUXBikGZwYbBhcFCAQzA4cCXwL5AtUDXQSiBBgF2wVsBl0GAQbdBcgFbgUpBUkFcQVlBWMFZgU0Bb8EEQSOA4YDNQP4AecA1wDKAIAAHgFlAg4DUwPhA0sEYQSQBNYEEwVMBSkFpQRRBB8EtQOYAxEERQTPA18DOQPyAnkCBAKjAX0BkQFuAQ4BKwHeAV8CmQIJA0oD0QJFAikC4gEvAaoAcAAqANn/cv/j/pP+0f5L/6T/pP8X/2P+UP7N/ij/Nf82/zf/Rf+C/8b///95ABUBOwELATQBfQE4AbQAgwBdABcAFwBkAL8AQgHfAXACUQOKBFIFXAUyBSMFFAXVBDkEdgMFA8kCcgI8AmICvwIvA24DVwNLA28DcQN6A8wD+gPQA54DVgPyArcCbgLcAXABNQHVAJwAuADOAPcALgHwAMwAogGKApoCjQKrAiMCCAEAAA3/G/5q/Sz9af22/bn95P1h/ov+ZP5l/nb+uP4///n+sf3S/Jj8OPwq/Jj8gvwP/N77Mvsc+ur5SPoN+pD5a/mE+ef5XfqK+vz6/fu1/Oj8Ev0Q/cr8k/wO/Af7X/ou+mX5Mvjg91j4lfif+K34LPhW91T3/vdG+JL4dvnr+XH5Bvn6+Nj48fhg+YT5S/kC+YX4/vfg9wr4UfjB+CH5WPmX+cL53fk6+s76WvvB+8b7pfvy+yT8e/ux+oP6bvo4+gv6lvkB+eb4/Pju+DT5ufn3+TP6vPop+zv7JvsS+xn7QfuL+wn8ffyH/Dr8v/sQ+4D6RPr/+ZP5U/lD+Tr5VPm5+Vj6zvrL+sL6HPtT+zv7Wft6+zz7FvsQ+836CPsV/Lv8ivx4/Jj8Jvw3+536ovqL+tn5sfnh+gX8Qfy+/Jv9sP1P/UH99/wq/EX7JPrc+Bf4zPeo99f3ZvhH+ZL64Pum/Pv8Dv3y/O786PyZ/F38bfx3/I380fzM/Gn8F/za+3f71voU+tb5cPr8+hv7vfvm/IL9lf3J/er9r/0v/W38ofsk+8P6VPo0+lj6WPpO+n/6oPph+gz6FfpV+lX6APqS+T75RfmB+UT5ufju+L35DPrx+ff5rvkE+br4v/iP+H340PgY+S75RPlf+ab5MPqP+nr6NvrY+TL5hfhS+KX4Fvlj+cL5XvrU+s36pfrP+jD7ifvP+/H76Pvt+x/8Pvwe/Oj7tfty+2X77Pu1/Cb9d/0O/mr+Iv7D/av9fv07/TD9OP0m/SH9Pf2Y/UD+tv6m/n7+XP70/aX9y/3g/bb95P2B/iP/qv8AADUAhgCbAAcAcP9x/5L/k//e/2AAyQA+Ac4BXAIRA88DCAS0AzMDiQLGAUgBAgHEAPkA2QGqAvACHQOIA0IEhgXyBnUHCweyBpkGQQatBSIFvwSBBEAEDQQ7BGwEHAS8A3MDtwIWAlAChgJQAtwCMwQPBUIFXAWjBVoGDAfhBmgGcwZZBq8FJwXlBLUEvgSrBEYEQgSoBLwEswT+BCUF/QQPBW8FtgXCBdAFEgY7BhUGGwY2Bo4FiAQ4BBsEeQMMAz8DdwOKA5kDjQOuAy8EoATZBCUFlQUNBmEGaQZmBpoGywbpBhMHDwfrBgsHMAfkBlAGtgU0BcwEDQTVAvIB5wFqAi0DuwOnA2oDbQMuA7YC1gKEAwIEGgQNBAAEnAOGAmQB9wCKAGj/Tv7W/bH9xv3z/ez9C/56/sT+Hf+//6//nf6t/UD9zvxg/Bn8uPth+1L7ZPuN+/n7gvzU/Nf8yvzJ/I78Efyp+0375frO+uH6i/r3+XL5A/la+ZX6ZPtc+1r7Nfum+nj6fvoE+rv5t/nF+IP3Zve+96r3uPfK91X3/PYS9//2zfaW9vT1XfVs9WL10PS29IT1Z/bm9lL34vdy+MX4wfh++CP42/fd9xL4Dfji90j4Vfk3+o76t/rA+ov6avpu+lz6bvqp+mP6v/mU+bT5vvkV+jL6Hvnc99D3CfiL9333nPi2+fn5HPrE+pb79PvZ+7X72vsQ/L/7xPrj+Zb5Uvn4+EX5AfpG+oL6U/vw++D7zvvN+5L7j/u8+1j7mvoi+pH5q/gP+Oz31veo92T3LPdc99n3JvhK+Gz4XPhQ+Jv45vgP+Xn5wvlP+br4jvgw+Gn35fbE9rD2qfad9nH2i/Y19yH4Efkl+nD7n/wk/fb8r/x6/AD8cfsl+976m/q8+hH7V/vK+1L8c/w5/O37j/sX+5T6IPrN+Yb5gfkz+gj7FfsN+8P7PvzZ+2X7BvtZ+uX52vm0+br5//my+TL5h/nr+Yb5S/mH+UP5tvi9+Pr42Ph/+Cr4MfjZ+Fv5KPk0+QT6hPpA+gT6DvoO+hX6APqh+XX5afmV+F73H/d/9yr3UPbh9er1DPYp9kn2mfY29/b3pfgo+Z/5T/ro+tf6hfqC+lT63fnX+Rz6F/oM+uX5Mvm3+Br5m/kZ+kT7jvwO/Sn9XP2Y/dH9qP3I/OP7cvvj+j/6RPq2+uL6BPuL+zj8mfym/Kf8mvwQ/BP7gPqV+nX63vm2+Wn6Xfsa/JX81fwu/dz9Sv4s/jj+g/5b/iz+lf7I/pf+Jf8OAAEAjf+d/8T/5/8lAOT/a/+h/8z/Uf9K/9f/3/+m/6X/S/8k/xYA9gDRALUA+wCpAPT/qP+A/y//EP8r/zT/Of9H/0n/bf/t/50AQQHTAToCSgI1AjkCKgL3AdIBmAEsAfcACQECAQMBMQE7AVkB2gEaAvcBWwIXAzcDKQNoAyADOgKrAWoBCAH4ADUB/wB9AHEAsgCWADsAVAD9AHoBbwF+AfgBRgIlAuEBfQELAfUAEwHoAJsAhgCoABABmAGvAWIBcwH1AYQCMgPMA74DaAOgAx4EUgR4BI8ENgS7A5MDggNeAzYD5AKZAtkCaQO9A/oDTwR+BIQEigSmBAkFhQV7BfQEegQpBCcEsgQmBQQF+ARCBSoFvgSrBNAE2QTTBL8EvQT4BCMFPAW+BXoG2wbnBrcGXgY4BgcGOAVaBOoDLwMrAq0BRgGrAOgAhAHRALz/QgClAWQCywILA5wC8wG4AYQBOwF6ASICZQIeArkBqQFeAroDqASoBLoEYQWOBfUEtgTsBLYEaQSvBPoE7AQPBYEFDQbGBlMHOgfiBs8GyAaBBhsG0wWzBWgF5ATLBEcFsQUFBp8G4wZkBv8FOAZvBmIGmQY+B/AHeggaCREKDgt9C1ALDAsPC9YKgwl1ByAGrQUNBVsEhARWBT0GRwdSCAoJcwmDCUUJ4gjwB0sGDgXKBLoEmwSABPEDYwPGA1QETwSxBGIF/gQNBMEDTQNtAqoCBATcBB8FuQVPBjcG3gXVBRgGbQaEBhcGeQVPBXMFHgVcBPkDEQQCBJcDCQOZAo4C0wIGA0oDswOKA7ACKgLpAb8AHv/G/sv/tQD3ACoB4wELA9wD8wMlBPEERgWPBNoDrQNSA6EC3gHDAID/lf6I/Tj8//sp/S3+h/73/mL/gv/2/80ASgFhAXsBigFbAdwAGwCJ/2L/Hf9c/pD9HP26/BT8ZPsG+6L6tfnp+BH5j/m4+Rr6u/q/+nb64vqn++L7n/sl+3v63PlX+Zj4lfez9if2wfVM9dH0S/SO8/3yYfNK9IX0WvTP9FP18/RG9AD0ofPp8nnyjvK78q/ylPLM8kjzS/Oj8kXyofLv8uDyD/OB873z8/NB9CD0t/PL8x309fOq88Lz1fOx8+nzg/TO9Kr0rfQV9XP1bPUr9fD0tfRy9ET0NPQ/9F/0RfTK82nzaPNf8yXz8vJ88m/xcvA+8Ivw2fA78djxofKI82T04PQA9UD1xvUQ9r/1JfWm9C70s/OJ86rzpfOM8/PzwPRU9Zz1vvWX9XX12/Vl9rL2a/et+IH5vvkR+or68/o1++36Mvqr+Tz5rPii+A75+fiS+Hj4Rfjx9yP4r/gt+a/53vnQ+Wr6aPvZ+yH8gPw5/K77k/sf+1P6cfrq+n367vn5+ef5wvk2+rv6wfrS+mD7/Psl/Bf8dvwj/XL9jv3L/cv91/2g/l3/D/8u/i/9JfzD+xz8Y/y5/ET9S/1n/a/+4//M/3z/V/+O/tr9FP5Q/jT+d/61/lj+Dv4Q/rX9Fv20/Fb83vvG+wT8Cfw4/G/9HP/3/1UAGQGmAYUBlAH7ASQCXAKpAkICsgHrAfcBBQEoAMv/Kf95/in+1P29/Z7+7f/5AD8CywOJBCgElwNDA5oCXAEAANn+2v3V/Jn7p/oE+0788/z1/ID9R/6T/uP+Zv/b/78ApgFCATkAwf/Y/iP9iPxG/b396f1H/vr9IP0W/aX9qP1m/bz9h/4h/2z/yP9hAAYBlAHiAcYBswHNAQ0BVv8o/qf9pfyb+4b7rftZ+936Wvpf+qn7OP0G/h7/ywCHAToBIgEOAV8Anv9R/2f/k/9v/zv/k//u/4n/FP8n/x//2/7//ob/6v/1/9n/AgBzALIA2wBCAXEBJQG8ADIArf+p/z//Zf2V+0/7ePtP+8P7nfy9/G38TPwH/HD73vqZ+uH6hfv0+z38x/xb/bf9H/62/hD/p/6U/br8fvwO/CT7sPr0+kn7m/sG/DT8NPxk/Jj8mPyY/LP8tPxy/Db8UvwP/J36G/ng+BH56fgm+Vr5dviC9yP3EvYC9SP2X/hq+dX5dPpi+r/5pfng+f75Qvpw+jn6CfrI+dX4wvfh9xP58Pka+rj6D/yt/A78iPuu+8L7vvsS/Eb85Ps/+6b6XfrH+pP7+vvy++X7yPtj++L6kvp1+kr6/vnT+fr5UPq4+kn77PtO/G38ofyd/Jv7G/qF+aT5Hvkx+PX3MvhZ+HL4Wvgx+JH4Hflo+Tz6Y/tx+xP75/vo/MD8ZPw//Ir75Prx+qH62vn9+cj63fp1+kP6xfnW+IX4RPky+sj6aPvx+8H7QPsb+7r62fnZ+W37VP1r/vj+0P8EAXUBeQA+/6/+G/5f/Rv96vye/Or8UP0i/Vj9Bv7m/ej9v/88ApwDEgTyA1kDBwP0AjkC4ACX/8/+wf7+/t3+lv58/oP+7/5+/23/PP9c/8r+3f0v/iD/mf9oACMBSgAy/2b/o/+n/7AAewGfAKn/af+9/hj+kP5o/ysAdwHBAukCGgJCAf4ABwF9AIr/QP97/4X/nP+l/xv/4f6m/zwAOwCzAGgBUAHQAJEAaABHACoAEwB7ACQBJgEGAaUBTgKJAswCTAJqANr+xP4h/1X/nP+n/6H/HwCeAJsAlwDGAOoA/wDLAIsAKAELArsB0gCDAAgA9v6n/l7/4P8WAPkAaQJEAyQDCgPeAwEFZQURBaoEgQR7BCAEYgPkAp0C5gEmAQoB+gCGAB4Ar/8m/0H/xf+p/z//Nv8V//r+pv9mAFIADgDv/0j/ev5R/mH+Rv4w/rL9ufxI/FX8u/vk+hj7/PuX/B799/3M/kv/fP+Q/6T/lf8d/yD+8Px3/Cb9pv2r/DT7t/rK+pv6L/qC+Z/49Pdr98v2ivbV9jX3gfeS9y73Dvfc97v44/ju+DL5IPnG+Kv4pvgz+GH3mvYT9tr19vX+9Vz1gfSK9FL1yvXw9Un2fvZS9m72Afdw97b3Svj4+DH5Gvkh+QP5T/h49yH34fYl9q/1ZfaI9/T3JfgN+TX6tPqz+rL6zPoN+1L7O/vc+on6JPq7+d75mPpe+8X7ivvt+sT6HPsi+wD7bvsG/FD80/yI/bX9jP2i/aP9Z/1p/TD92Ptb+j36v/qf+rL6mfsh/Av8Qfxa/Dr8fP27/2sAqf9x/3b/of6t/U/9Lf0H/bT8Evxs+//63foS+xf7oPqW+mH7GfyX/GT9Lv6q/kL/7P9kALYAiACc/53++v2P/Yv97P0U/gn+Uf6y/sD+2/5X/9T/FgCBAAcB8gBjAEEAVgCy/7z+dP6+/vf+yf5i/of+XP/p/yAAswAQAfgArQHuAkEDNAOKA0sDoQLEAtkCBAKRAQkCggLnAjcD/gLtAq4DaQS0BAgFGgWlBCgEqQMXA/ECGwMjA0wDSQNWAjUB7QDsANkASAHKAcEB8AGLAp4CUQJbAiwCRAFnABwAGwAuAC0A8P+v/5f/af8m/yT/f/8HAIUA5wAkAfEACwDu/j/+1P1O/fP8Cf0t/f38q/x7/Cr8kvs/+2T7Svvc+uD6TPuU+/n7lfyl/Oz7AftN+qz5gvh59qn0TvTU9EP11PWu9mL36/dh+JX4t/gb+Y35rPmI+af5Qvp8+pb5U/iY9yj36fYV90z3Xfd591v3WPeH+GD6RPtn+/r7zvwB/Zf8MfwI/MH7f/vP+x38p/tJ+0/7XPrI+GP4sPh/+Iv4Bfnx+Lz4Kvmd+d75S/ph+gX6L/oF+5r7Y/uN+sL5gvld+dj4afh4+Lv44/je+Lv4a/ir98r2hvac9lv2HvYM9m71ovSv9A312/SA9Hb0nPT09Fr1i/Wq9Zj12vTB8/jyi/KO8iLzdfOz8pXxSPGU8WjxmvAC8CTwovAa8Y/x/fFX8r7yF/Mn80bzu/Ph807z2/IM8yTz1/LL8gjzCfPX8l7yN/EQ8A7w3/Cp8YryW/NY8/LyOfOX8/Ly9PGq8avxdPFV8RfxUfDy77jwePFO8SXxq/Fs8hnzqfND9GT1qvYj9zX3Uvd69vb0o/RB9TL1ofTn86jyHfJt8xT18fUM91X4o/h7+Lj4v/hT+Er4uvjW+HT4LvhF+DX43/fy9034Cfia9wz4ufjY+Dj5+/nw+WP5m/ki+iv6gfpx++X7uPu2+5z7CPu++hH7VvuY+zT8efz4+5n7xvv6+4r8AP5C/0f/9/4C/4r+d/3//Gn9Hv7X/s/+aP0Q/Db84vwL/S39Kv14/O/7JvxT/FP8v/wz/Tv9TP2d/en9Iv4W/p39QP2G/Uv+Kv/S/zoApQAeAXABoQHjAVwC6gIiAxIDLwMXA4kCjQL5AgwCawA4AI0A3//O/4oBJwNgAyMDGwNrA08EYQXXBaUFlQUWBjwGLgULBMIDOQNnAvECPARtBCsEawRGBN4DMgSvBCAFbAa3B54HJwc+B9cGpAWUBNwDYwM6A7YChgHJACYBvgH3ATMCtQIuA3EDwANJBK4EfwT1A5sDrQPSAygDcQH6/6j/Xf9s/kb+l//xAHkBwgFGAhIDwwNuAz8CmAF7AbgAqf90/6v/Lv8Q/kL9YP0Z/rX+Nf8CAOMAUQExAdIA+gDtAZACPQLkAdcBVwGXABEAZf/G/r3+xv7f/ur/WgEdAr8CwgN7BL0E6gQqBcAFIwYBBe0C0gHNAQUCQwK3Af7/uf6T/uT9T/w4++36APs3+6D6Evlv+Iz5Avsa/CL9kf0q/fb8QP05/cr8XvzI+/36qvrb+qH62Pm3+cj66PtE/FH8Ovyu+xz77/qA+pb5D/k6+Y35z/nW+UX5kPjB+OX58PpC+1H7n/vs+yT80vya/SD9bfv++WD5SfnU+a/6H/tB+2f7S/ss+6f7afy5/In8Rvyx/Aj+LP9v/87/gQBJADv/jP4+/v39MP5h/q79sPw3/OL7pfsB/I/8u/zd/PD8afyn+2v7f/t6+377Wfu5+jj6ffro+ob6ufmH+ff5Zfr8+jv8pf2N/iX/iv91/2//6//r/+3+Hf73/dX9FP4z/woAxv8o/6T+Cf7A/fz9Jf5X/lb/0ACaAU8BwwDqAJMBrwHxABwA1P8tAOEAQAH0AJUAeQAoAJv/Xv9//7z/HACTAAQBmAE2AlsCEAIBAlUCeQIyAvQB8QHAAVsBOgFKAUYBowF4AtoCsgLRAt4CHgJsAZkB0AGOAWABOQHEAGkAXgBjALMARwFLAasAWQCkAP0A/gCeABgAqv8S/xr+dv3c/fP+/v97AOr/TP6s/Nr7dfvy+ov6mvob+/X7v/zJ/FL8g/x1/Qf+DP51/mv/LQBMAP3/7P+YAEYB6gDn/x7/ef7L/V39Df2S/D38Rvxu/Gn8Avxx+0z7Wfvj+nr69/rF+yr8Ifw9+735Yflj+tH6i/o1+2j8q/xm/Bn8AvuB+Qn5g/kV+sr6Y/s3+9/6Rfv8+4v8K/19/R79zPz+/En94v0R/+7/8v/T/67/Hv+9/vb+SP/m/x4BgAHs/9/9Bf3b/D/8B/vJ+Tj5Zvnf+bz6Lvxv/Qb+Zf5B/un8RfuF+nf65fq/+537z/lA+Db4V/jm9+73hfjE+OX4iPk/+pD6z/o0+6j7c/yl/Xz+l/6S/o/+H/60/eH97f1Q/aD8uPvz+Sb4a/dK90L3rvef+Pn5ofu//CL9VP7WALoCyAImAhsCowLnAiUCvADt/9T/Nv/G/dX8D/1T/Z383Ptg/MD90P42/wX/jf7O/iQAkQGaApwD8APiAosB6QBLAJH/2v8BAaQBYAFaADr+qvtj+o76Afu4+xD9//3I/WP9ev2u/T3+gf9WAKz/Q/4p/T38fvt8++/7RPwz/WT/bgG1AckAAQCO/1X/iP/H/3f/zP5e/m3+2f5h//T/uABGAd8AsP+J/r39X/2R/eT90P2I/RP9CPzk+s767vtz/b3+jf/Z/7P/Bf8b/u/9p/4O/8L+of6W/tD92/zC/Bb9EP33/O/8aPxz++j62vrQ+l/7Q/0r/3b/Dv8B/yn+yPx1/er/ZwEkAiwDcwJ8/5T9xP3r/QL+Ef/X/4v/hv8QAAQAYf8q/6H/MQCEAOsAdgGPAYMBRgIxA/4CTgI8AnMCewJGAnkBgACCAFoB8AEkAiECowETAUkBBwJVAhYCCwJ/AuwCDwMzA0EDFAMzA58DdwPyAjkDCwRsBI0E0AS3BDUEBgRoBPwEOwW+BNYDUgM+A/0CggI9AikC8gGuAa4B0gGwAVgBEwGyAD0AUgDRAN4AxAAxAT4BMwBj/7D/PACWAOsAowCV/7P+Rv7w/Qb+uf5w/8n/zf+7/wkAcwAjAI7/uf9UAMgAEgHJAMP/xf7x/Rb9Kv14/qn/IQAYAB3/i/2v/Ib8jvwZ/Zr9DP1R/Hr8pvxC/EP89vxl/fj8Pvwm/KP83vza/CL9XP1n/QH+3f7f/l7+EP6R/Qv9WP3b/WD9RPyG+zn79/qW+k/6o/p8+x78T/xA/Lj7CPuA+0n9o/6E/rP9yvyG+0z6+vk9+h76yvke+gP7jfsd+6T5xfek9rX2RPcB+GH5/fqb+x77oPri+tz72Pzu/Cz8Ofvs+V/43PeK+Lz41PfG9hP2z/UX9nz24Pbi9yv5sfmU+UP5l/hA+Dr5uvpb+yL7tvpL+hT6O/qF+o/6EPrc+P72CfXf84LzEvOm8kbzrfS/9X329van9kn29Pbh90D4wPgo+Wn4T/cs9333rvdY+Fr5p/kF+RD4I/dC9nX15PSI9PbzXPPZ84H1+/YF+IT5vvoq+nL4PPev9q/2yvdg+QL6z/mg+Sf5N/jD9xz4qPiP+Rj7Hvye+3/6uvnT+Jn3Cvdx9wb4lPhf+RL6ePrt+oj7Yfze/Vr/SP+l/SP8tPuk++f6efla+Bf4HPg5+Cb5pfp4+4/7zPsA/FD7F/pt+YH5wvkY+pf6wfpo+j36ePq/+lP7G/wV/JX7Bfzy/BT94fz2/OD81Pwa/f38jvyW/JH8I/w7/Lj8x/wR/cD9Xf0V/LD7Gfwf/NT7ivsm+wH7bfs0/CL9wP10/XH8U/uO+qz6QPvQ+rD52/kb+6X7pvsW/G/8Xfxu/Er8Wfs++sr59vla+nb6GPq9+bf5z/nO+Xb52vje+Kf5EfoB+m/66/qZ+ir6Jvov+rv6FPw0/bL94/1J/RX8xftF/F78g/w4/Vb9s/yG/KH8L/wF/Cr96P4HAEYAHwADAM7/Lf96/nb+HP91//X+Yv5w/o/+d/4P/14ATQGmATEB1/6q+8X6WPz1/RX/NwBEAPX+6f2U/fr8MPwH/Kb8nP0G/jX9+Pup+0X8/fyj/Xv+p//eAHsBUQH3AMMAgQAoALj/Kf/s/j3/jv+p/xAAywBZAZ8BtQGMASQBjgAjAFQAygDhAN4A/wDRAJ0AHQGuAYsBdQHoATMCIwI5AogC5AIXA80CHAJkAdMAngCRAO7/Ef80/+D/z/9d/1z/pv8KAAoA8/7o/aP+GwBfAKn/7/58/rz+fv+0/3D/n/8+AO8AigF1AcwA7gAjAjEDuQM2BJcEkATvA4wCBgEVAET/gv4u/z4BuAL/AgcD4wJyAmoCvAKtAnECWAL7AWYBBwHZABwB+wGRAloCDgLbAYEBgwHiAcQBegG1AaIByABDAJIA+wBNAbIBzwFhAbkAkgCiAX8DpQRdBG4DqgIbAo8B6QASAEP/Cv+E//f/x/8i/1P+9v1w//kCYAbrBy0I2Qf8BjAG0wVyBUoFsQWkBZQEpgNZA8sC4wFbATsBLAEfAQkBSgGtAvIEygb2BywJ3gnNCLQGogXXBfcFywVABjIHtQcICMQI3whjB8sFmAXSBbQFawbtB1oIpwfHBzYJdQp4CsAJWAlWCQcJjgijCA0JZgnwCUEKcAnsB9gGiQbwBuAHuQgYCTsJWQmpCT8KfQr5CYIJ3gk6CjwJWQdiBpQGnAbABjgI+AlwCooKGwsVC1wKGQpFCmYKmQpXCkIJfAi5CD0JvAmKCkgLdgtqC5cL0QuwC10Ldwv7CzMMCAwyDNoMXA12DaINDA4hDo4N3wxuDL4LfAopCWcIQggHCEoH7gbeB2IJOQpLCjAKagoYC8gLSAzZDMMMNQtfCbAIkAhiCHoIFQhsBgAFKwW8BYEFWgUQBhEH5Qd4CBIIZgbhBKoEGQXSBU0HugjsCHoI+AfUBmoFsARIBPMDgASnBQAGOQX3A4ICDQFNAOEATAJqAxUEkQTyA/YBggBOAL7/m/5G/oP+bP5V/iz+Sf11/PL8Q/4Q/wb/t/6G/mn+Yv5e/iD++P18/j3/ev9e/xf/bf74/Vz+Av87/y3/BP+6/k3+s/0Y/W38Q/tB+rH6CPzV/Dr9jv05/XP8+/t4+9r68fph+y370/r4+vf6jfp0+q76rPqR+nz6GPql+ab51/ka+sT6Nfu4+gr6pfkP+e744/l5+tD5EPms+Hr4Nvln+rT6u/r5+hz6n/hi+Kv4c/gB+Vj6p/rs+Rj5H/hv95/3/fc/+AD54fkY+rP5n/jj9nP12fSG9FX0rvRC9TL1OfQo8/fyhPMb9M/09/X59kD3RfdE95f2bvUI9XL1evUZ9S71evVW9fr0pvSb9Gb1ivb39ij3nvdw9/r21fdB+Zj5pvlQ+o/6Hfru+d/5S/mq+Iz4qPi3+NL42vid+KP4jPmy+gL70Poh+yX8cf1w/u7+lv9QAIz/aP1H/Mz8jP36/dT9XvxW+kn5QPlk+T/56PgP+af5hfn3+In5x/qD+3L86P3U/iL/L/+C/pb9X/0g/T78pvtC+zf6lfl++rv7TPwy/a/+j//z/woBPQJYAjoC8wJ5A/8CcQL7Ac0AX/+k/lP+N/7q/h8AugDJADEBpgFHAbEAPgGaAn4D8gN0BFEE9QJLAVEA7f/P/ywA6wAhAXgAzv9h/03+tvzz+1P8GP2d/Xj9DP0x/Y792P0y/zoBuAHSAEwAvP9k/nb9c/1Z/bP8w/s7+5n72vsy+8X61Pp4+vv6YP09/2P/0/+TAAgASP+//2sAsQATAQABEABK/xf/wP4t/un9Ov4a/x0ATQA5/+n90P3m/t7/3v8q/3P+C/6q/V39Ff4BAJ8BAgILAlcCYgLVAdoAwP/t/pX+tv5w/3oAGAF1AVgCPAPUAloBFAAL/779Tv3N/pYA6AC5ANwAUQBw/4//8f/n//oASAOMBFcEQQRQBGkD8wFCAUkBwgCK/+H+9/7M/oH+wP5J/x4AjQHnAu4DDwUUBfkC7wDwAK8B/QFkAoICjAGLAHgAbAD2/1MAzAHVAhoD2gObBOUDnAIsAsIBEAGAAZ8ChwKzAb8BSgIpAnUB0gAgAPX+Iv7t/mIAtgC4AJkB0wF2AFr/cv/E//P/DwDC/0D/yf7q/br81vtT+0f72ftu/JD8gvwk/Dj7Rfqk+Sb5JfnT+V76kfoo+7r7TvuR+mD6Ivr2+fT6P/w5/GD7Y/oE+Xz43vlE+4j7JfzS/OD7jfq3+nf72vtR/Nz8af0w/pP+S/4o/jn+I/6M/pr/TgBhAEsAPgBLAHcA3QDIAb4C5AKxAusCsgIRAd/+jv1P/fH8x/sJ+6/7p/wj/af9Av7C/ZH92v2h/osARgM/BRMGTAYlBiwGJQaoBE0C/gA5ADT/W/+rADYBTwEaAmoCkAEgAbUBOgIaArwBBwJvA8YE2gTIBPwFoAdzCKkIrQjHCI8Jawq7Cc8HMgZfBJABxf+EAA8CuwL0Ag8DEwOjA7oEiQXyBSMGAAa9BZkFjgX9BS8HgghTCaYJTAnpBwsGDwUzBTEF8wQoBncIdwknCesI7AeeBccDEwP3At4DGAUUBcIEeQVmBkwHVwjNB1cFPgPlATsABv/j/gv/Z//a//X/yQDLAvMDhwP4AocC+wEVAmwCHgL9AZICQwN7BEsG/QZ3BsYG3Qe8BzIGmATWA3YECAb5BvoGLwctB6gFqAPmAukCuwI/AvoAOf/x/k0A8ABMAEoAhAG5AhYD9gL7AgkDbQIzAQ4AVv9O/wgAlwBgAPL/Zv+c/lP+rP7j/iz/r/+0/6f/UwDdABEBNAJzA7UCmQAa/x/+m/zu+oz62PuQ/RL/HgEZAyYDeAF5/4H9hPzk/VMAfQHPAZYC8AKlAa3/vP7T/sr+jv6a/lD+WP20/HT8lPuu+t/6Zvup+4v86v1o/v79qf16/e/8N/zv+yL8P/wG/AD8yvwF/of+8v0+/cj8sPsX+jj5M/n/+Zz8UQBbAvYB1gD5/1b/8/6c/ob+TP8NAB7/Hf0n/FL88PvN+pL63vtl/Uj+yv6n/mr9/Pu/++38qf6f/yL/Ff6u/cP9lv0j/cv8tfy5/Kj8mfyT/Gn8NPwd/DH87Pw9/pz+eP1j/Df8WPzP/Kr9Gf5x/tD/iAEeAqMB4QATAFX/y/5f/hn+O/6g/qH+Rv50/gf/yf72/Qv+Ef8BAJEAxAC9AM0AcwBL/3f+jv6u/uD+j//Y/7P/DwABAIb+Tf3L/fn+tv/X/2//Dv8i/1r/nv/k/3v/df4A/mT+CP/k/yMBfQKvA8wE3wWMBjMGAAUtBEAECwSnAjcBMQEGAk8CbAKJAxYFrQUmBTUEggN6A+EDSwTvBOgFowa1BjYGmAVTBRkFbgQcBNEErgUpBo8GXwZEBU4EBgTJA2EDKgN7AyUEQwT5A+IEvgaiB8YHOghJCPgHSghnCHYHeQa5BdMElgTxBMMEfASgBGkESgQoBeAFtQV/BQAF9gPzA0wFSAarBmQH4gepB9UHmwhwCPEGhgWrBIwDKAI2AcAAzwC+ARUDFgTDBP0EiQQBBLgDRAPOAqYCiQKwAkkDggMqAwYD6AJhAv4B9AH2AT0CuwLUAoICGQLQAewBQgJ1AqwCpgIZAv4BtgIYAzYD8wNyBPkDegM/A/UC+gIdA/ACEQOiAzcENwURBl8FBgRsA5oCMAGgAPYALwEuAd8AiwA4AW8CCQOjA4oEawRDA1MCpgHxAKgAvADMAPoAWgGyAcsBggEHAXoAnf8D/7L/BgGoAcEBywFzAeoA4wBTAccB9QGyAU0BTAFrAfMABACZ/yIA5wA9AWkBggEbAW0A9/+d/1//Xv8k/5T+WP6R/tj++f6R/pX9A/1p/SX+qv6y/gf+GP18/D38gvxL/Zr9t/xE+076WPr++mP7W/sw+9r6x/qd+6P8+/wc/Q/9K/wD+1z62fls+U/5K/lL+Uf6Zvv++2D8Ovxg+/b6F/uI+qj5svk0+l/6jPq++kj6Xvnp+OT4i/gn+M/4L/rs+hf7qft5/Nr8v/xi/BL8EPwx/Eb8Pfzz+9/7gPzH/MP7l/ou+tj5gPmh+bn5dPlR+Un5VfkV+kX72fvb+wf8cfy8/LT8WvzZ+2L7DfvJ+lz62Pmn+aX5Sfm2+Jb4KPnT+cv5avnT+Y36UvrZ+Rb6APp7+RD6Vvvp+3f8TP3j/G77zvow+5X7r/tB+0760Pkx+nD69/mB+aD57/lD+hT7FfxO/Pj7+/t0/Hv9M/9cAAAAOP/e/j3+JP0l/Ir7tft3/LX8efzl/Jj9e/3r/LT85vxM/Zj9zv1U/qf+Dv5x/Xj9//wN/Ir8dv7S/1MAMQFUApwC8gE0AbsAJQB2/0n/xf90ADEBJAIhA8UDywNiAxQD7AJFAkAB8gBeAS8BFABE/33/PQDrAHIB1AHoAa4BnAEmAvcCYANrA3gDhQOYA+wDSARYBEIEPQRUBIQEbwThA4cD5ANqBJIEYgTgA1UDEwPHAnEC1wLfA4kEswTqBDcFQQXRBCQE+QN9BPQEEgUhBUMFvgWABo0GtgUTBcgERwQWBHsEdAS5Ax8DBwNdA84DsgMNA4kCKQLfAT0C7gIIA/UCQAMlA4sCkAIXAxcD0ALeAsQCdQK1Ag0DjAIWAqoCGQOHAl8CLwNHAzACnAH8ARUCwQG6AZMBxAAIALr/Lv+R/p/+7f7w/h3/WP/w/kr+3v06/cD8Pf3w/er9pP1u/Q79zvzK/Lj8wvz1/DH9Gf6+/88A+gDpACYAev5E/Rz9Lf1W/eD9Vf5v/kr+tv3J/BP8q/tD++X6nvpB+gX6bPpC+7j7tPva+0n8sPwW/UT9ufzo+9/7sfx//a/9g/2n/ez9g/26/Ev8w/v5+s36I/sn+y37lvv++1v8kfwn/Jz7m/uR+zb7FfsO+7P6D/pH+dj4Gvkp+ZL4W/jg+K/51/rQ+7f7J/vV+lD6sfl8+bj5u/oU/B/8Ivve+uz6WPrn+bz5TPlc+T76//pi+3P7JvtR+/P7sPvN+nz6QvrM+d/5SvqS+tD6kPr6+U36Kfs5+7z6//nZ+Gb4FfmK+Yb5o/mE+Xv5PPq2+jP6ovkX+WH4jfiR+RT6Ivp5+vz6gvvv+z78BP0A/vf9Of3N/D78XvsT+yf7EftC+2z77vqj+u/6s/oQ+jH6tvrC+pz6d/og+vP5K/pQ+iv6/fnz+Vb6S/sa/B385Pvy++L75/vJ/Nj96v2n/fD9Hv7V/dr9Y/4H/4//nP8N/5r+xP5Z////FABK/47+kP6I/uj9O/3y/B79pP37/dD9f/1B/Uf96/22/r/+PP7u/eT9+P37/Yr9C/09/bf96v1Z/vz+6P5g/nf+Dv9u/4D/Vv8k/0j/iP+F/5j/1f/O/9P/SgCMAE8ATgCnANcArgAeAJP/9P/SAOcApQDwAPgATgD9/xwA0P8+//3+A/9G/83/NAD7///+AP70/YP+qv6p/iH/r/8VAI4A6QAbAWIBeQFkAbIB/QGAAaAAAQDa/5kAAwLkAuACiwL8ASoBeAAwADgAIQCr/2v/zP8QAKr/6/4i/vb9G/+MANwAkgCSAJEAYQAGAET/qP6g/gj+c/xC+9P6EPoL+eX4yfnN+hn70vrN+kn7vPvY+5n7Pfty+1r8E/0u/QH9nPwY/O/7//vQ+5T7f/th+4b7I/xj/Of7s/sq/HP8NfzP+2X7cfuS/BH+uP6H/tD9mfy6++X7Qfxm/BX9+P0m/iT+Zf5a/jX+p/5o/yMA8QA0AYgA7v8kAJkA0QDjAMIATQC3/2r/dv9v/3T/EgDJAOkAGgG7AfQBogGCAZIBtAFgAmoDFgRcBD0EhAP8Al0DsQMxA+ACpQOtBNkEZwQVBLUDQAPEA2MFnwazBmwGbgZVBqEFpAQbBAsEvAMLA5ECRgLDAZkBXQKCA1MEgAT7A3MDgwO8A7kDqAOQA7wDsgTlBRcGTAWkBIsEpATJBNcErQTSBLQFkAZfBk8FUASuAxgDpwK2AisDnwO1A2QDJAMyA1IDgwPlA3EERQU8BqAGJAaPBcIFgAbXBqsGqgbpBhQHbQf1Bx4IbQiqCVgK/whLB9gGtQZnBkUGqQXiBEQFHQYkBvIFCQYIBiYGMQZVBXME2wTABUkG/QZQBz4GugQoBH0E4QSYBAcEQgTMBLIE0wSoBdMFNwU2BboFsAU9BfEE3gT+BO4EiAS3BIgFvAWTBR8GmAYOBkgF5QTCBDAFTAYYB/QGkgaiBs4GlQYyBlEG6AYrBzEH1AeJCCYIXgeYB54IWglOCcgIZQgLCN0GMwWSBOgE8wQOBbkFrAWjBDwEqgT8BFMFsQWYBZUFEwYvBrwFmAXLBRAGlwbJBuoFvwRBBDkEHwSEA2ACuQEeAmECtgEFAfMAIgGAASsCdwLeAUMBhwG/AeEAKQAdAaAC8QKmAtkCBwOuAkgCEgLzAQICIQIXAv4B5AGrAWcBGgGnAFoAcwCWAIsAiQCsAOwAMwFYAXABmAF0AdwAXgA+ADgAhgBPAbEBJAFxAAQAgv8A/7D+Vv7v/Zv9Tv1B/Y/9kv0C/bH8Dv1t/VD96vxy/Bv8H/xb/H78Vvzy+7r76fsn/BT8f/ub+mL6TPtR/I78QfyM+2b6kfnR+az6MPsC+2P6Hfqr+if7qPrR+ZX5Cfqd+n/6uvl8+ST62/or+zb7Dvv7+k/7r/ud+0777PpK+t75Ffpw+rr6JPtZ+1T7hPur+5P7vvtB/KH89/yE/Zz9v/zW+6H7qvuR+1f7IPt7+2T89fwH/e/8Yvxy+xf7nvvr+137/PpY+5f7iPvd+0z8+PsO+3X6QPrX+WX5MPnJ+Gz4w/g0+Qj5sfjb+HL5mfnS+Pv3/feL+Ar5afnK+eD5evks+TX5Fvnb+Pr4a/n/+ar6RftC+3/6KvrS+iD7lPoz+kH6j/pE+9/7v/tY+2774fs7/K78W/2//cb9xP3V/Rn+Pf62/fr8z/xX/Sn+Pf46/Uv8HvxE/If85vwP/fn8Iv2E/VD91fws/br9l/1w/Zb9s/0D/nL+5P7l/+MAgwB0/3f/BgDa/+n/xQDpAIwAMAH3ASACoAIeA+cC1AIFA6gC+gGSAU4BRQGlAZ4BngC4/8L/PwC9AMYAHQCT/6H/7/9IAAkAC/+f/g//QP8g/y3/G/+5/mL+S/5n/sP+D/++/l7+jP6K/jz+Z/6g/or+t/78/s/+TP7U/d79YP6C/tT97vyk/L/8b/wX/Cr8sfuw+nj65/oP+wL7BPvs+oz6TPrh+u/7Yvxu/CH9QP45/rT8Yvsa+zj7rvtM/C/8lvtG+yT7TfsB/Hn8/Psg+6n6efp9+sH6qPoq+iz6n/rW+r36S/rU+T/6dvtf/Lz8JP1l/RX9Bf2A/Xb9Of2t/br9Av0V/Q7+f/70/R39w/z0/A79uPxR/Gf8DP3p/dv+av8E/27+ov4t/2X/Pf/r/sT+sP6m/h7/nf8t/xz+Of0C/Ur90fyB+x774/te/Ej8FfyF+8b6+foS/FH8YPvp+lH7yvtr/IX9xv6N/5f/sv9tAOsAYQAy/1/+eP7a/gz/Zv+p/4v/pP9KAPoA0ACs/7v+ef4w/i3+5/5v/2T/t/9IAND/o/5e/rr+nv63/k//S//U/uP+Ef/n/gH/cv+t/w8AnwB6AFUATQFMAqAC9ALEAtkBxgH4AvkDHATcA0gDfwJPAnUC3QElATEBWwFeAZEB2QFWAgYDQQM3A48DygNCA5cCgQLVAm4DKASDBKwEBwUJBZwEpAQvBX8FjwXMBVUGNgcgCFgI5AdLB+wGnAcQCS4JQgiGCGEJMQmJCBwInQdYB+kHlwhMCM8H8we6B/wGygYhB1YH8QY2BiUGdwYeBkwFoQSoBJ8FgQZGBn0FWwW0BX0FXgX/BQ4GpwXEBWoFpARKBI8D2AJIA+4DEQQmBCUElwPJAtcCUQO1AtcB2QHPAWcBBwG3ALoAAwFfAZcBPAHgAAgBFAHCABsAUP8T/yX/9/7E/tb+VP+X/1n/BAAAATwAAf8C/zT/6v6//tz+2P7b/mf/0/+s/3z/8f5q/r/+kP5+/fj8mvzo+1b77vpM+xH8wfsE+wj7bPvE+/L7Nfy+/BP9Bf25/Hz8jfw8/I77bfuG+5L7v/uB+wT73fr9+nf72fvo+038qvyw/An9cv1n/fj8evzA/HL9eP0V/Yn8FPx7/Cn9cf3E/eL90P18/hX/8v1N/Mv8d/6c/iH+p/4l/2j/7v+W/6D+6f4SAHAANgA+AC8AWgBqAbMBUQA6/5D++fyG+4T7OPx4/C78Vvz2/Oj8D/zs+uv5A/pS+3v8P/wJ+3v6ofpr+r36uPsz+7X59fmU+2n82Pte+vz4C/m1+i/82/vg+lr7tfxi/an9jv22/L/8Iv7G/pP+1P6x/nT9ZPx4/MT84ful+qv6Lvsl+/76zvqD+nD6ffp3+l/6Zfp0+vj5ZPmh+R/6XvqZ+qv6pPqV+lz6Ofrt+V/5M/n7+Dr46fex+Eb66fuT/EX8//sm/GP8WPxI/PX8DP4w/nn9b/35/ev9sv3E/Wz97vzs/L38E/yy+w/8uPwY/Tf9Gf3F/Mr8OP3Y/Y7+YP5M/er8Xv0P/vj+iv/Z/10AzwBnAb8BtgBZ/yD/4P8PAZsBKgEMATkBqwDz/+v/pACYAbUBTQGnASoCmwFZAI3/9/+4AGMAEACrAH0AyP/T/+D+1fw4/AX9yP3h/bT9Wf59/hH9x/wA/rH+R//Q/+//DgBf/9T+of+b/07/AAF1AvcBDAGPAL4ATwE+AXMAvv/m/3QAZAD//8f/7v9NAOf/6v5T/i3+uv4A/7f9kPyu/G79mv5n/gj8yPq9/CD/if6w/P/8Bv6D/uz+vP1f/RMAtACy/mH+c/7C/Zn9Qf7A/6L/QP5+/7oA4v8/AFEAtP7q/nMBgQOuAlwAYACiAbwBcQH4APr/gf7H//EE9gS//8L/nQAx/6QCzAQhAoMBagBMAMsD2gKrAIsBpv/k//ICcQEcAaMBE/7y/iwDGwNeAokBTQGWBIsFzwM5BMkDawLBAmoDJASlA70BmwF8AvUCfwPZAg8BL/82/4kCIAT0AUUBawJsA5oE8gP4AUsC9ARaByMHMAXFBC0GvgfaB1sGOwaKB48H/wbpBikHMAfVBdoF8wi3CjgKBQrbCfoJzApUC/IKFwq+CzkPWw4DClYIoQk3CxkLRwkTCA0IUAm2ClgIngT2BNQGlQYTBdUDTwShBYYFZQTAA3wEzAW+BTcFJQb1B6sIPwfWBVEGRgd4BzMG2wSrBdMENgK/BNUIOgigB4kIHgiTBzYHPAdiBzYG1gY0CecIcQhnCWUIgAbVBWkGjgcaB3cGpgcCCD8HCgdfB9AIhAn7BygHtgdSCKMILwd8BYMGRAhLCC8HUQanBpMHrgjbCU4JegdjB7oIqAg0BzEHiAibCCMIVAh4CF0JMAqTCXMJbgnaCMYJQApkCewJewmjBoUFRQe7CQwKewdbBjIIGQp+CgkIngWnCHQNAw5gC4QI/ghvDbgP1wy+CWgL2Q8HEHQL/ghMCsYLcgtqCXEIIAptC40KkwkQCvEKrAoyCpYK9Ao0C0ELhwokCg8KBwknCE8IPghOBxsHLAntCs8JZAgnCIIHAQdQB4wHlwexByMIYwiUB9gG9QaXB9MIygicBooF9wZaCDEH7wORAo0EYwYKBh0EXwJEA1cF8gS3AocBkAKFBKoE3gLWAccCUwSWBHIDZAJKAiwDMQTsA98CqwJhAzMElQRCBHUDCAPPA84ENwSxAhQCvQLOA64DPgKXAQkCBQK0AcUB7QEVArwBXAB0/3MAsgEiAQIAogBSApMCjwE4AfMAiP9v/tv+BwCQAOn+dfzL/A//BAAJAAIAfv8Z/zz/wv/NAPUAHv+R/Sr+r/5K/YL8f/6qAC0APf7K/eP/NQKEAY7+qP1xAM4CxQBP/Zf93wDyAjYBqPx3+hL97v7R+9n3B/jf+mr8Cv0b/lD9Jfsw+9b7nvrD+WL6dPtZ/NT7qPop+6D8Pv2k/Bj7OPoZ+zH8S/y3+yf7tfs7/cr9Af2a/Ev9MP52/sb9aPy8+8H8Pf7p/bL7Yfqm+2L9o/zK+ZH4lvrZ+yj6r/m2+3P8UPtY+oP6BPwP/Uz8bPuH+zn8b/wY+2z6n/sc+wP5TPl5+z/9kf2f+535XvpS/HP8FPtk+2j9Pv2G+6X7/Ptl+7D7o/uj+rn6B/vB+lD7pPvc+pz6m/pB+gL7Qvzw+4b60/mr+q38HP7u/Ln5QPhw+nz9mv6U/bH7afuP/HP8zPuR+037n/2tAGb+9vpC/ID9mvxf/VH+5vzg+/f9jACD/4T8IftT+wL9y/5P/ib9nvwm/Pr7ovvy+//8Of29/oz/0/rY9k/5TP0d/8L+7Pzm+nH6vPzf/WH9mP/0/jP7n/1y/1r7pvrz/FL/DAJo/0L5j/b6+T4BZwCh+aH7h/6N/X0BdABk+K73A/xeAbkH/QZu/gn0YfHZ+68DswN5Bl0CbfjF+R79OAG4EAkT5f9N96T6qPlK/dwEQAQ5AKX9Ffy6/4sFQAYGBDMEigQj/+r4IfqC/C3+DAauCWgCA/2Q+bf2RgAuDVANeAWB9GzgJ+rIDSkeGxWZBJnva+xVBUsXBxcYC/zowtLP7WQQBRmPGMgK7+745TX2zwRJC3oROwsG9xrwMfpJBo0S8Q/f/Gn1v/a7+f4KhBRrCc8B9vaS4znoWAWsFeQNygLq/47+CALtC+EMtAQy/04ACwmZC7b9WPMJ/WQSzB7OE3j7o+pV9GoYwilVDyr37wPWHLIcGQLH9IoK6SVJI7gC1+36/WIPogyDCWYDgfjA/v0OcA3f/UH4Jf+vC0cdTxls9cvn0P9LC8QG7wnBB6L9CfsG+aL0IAAqEZQLI/0G95b1AwWtFBAKlQS2CQYBgf3U+7T2RQthGKT9Iul/8ikKqxN+9iXgBPeBDRwNpgvWAY3r6eYe9lgC6SD+PGUHjsOc2MT7Ewd5HWwLzuwIA2sFwuT24m76NRcYG8P9ofVj9qvp4/gKESMYRxR98NzZFfciBqwC2w5bB1b2rP6BACrte+cOA6wcKAqE/AMheyKw4JfIE+upAmAi2Dh9A4zTBe0J/VcAiCN1Jy0D2/Gd5jzdHPdpHBAepQa//bv54ekj8KEHUxEuH4QZNenY2h//yQn29wL0uABWEoUXKAPf57LlEPrqCJsRdhXEAKvj/uAZ9cEFVQJOAaMbKieyA/DiM+hh+jQIZQ+8Azj3gwM7AkLqJPUQCv8D3BOsG2fqps+F6ID9wA3fF7wMOful6uvqCAfsH2Ec0wB97Rj4DP2H85MBNBEk9iTUWvAOMhkzSvXQ3X0D9y66LeYAi90Zz+bYYhdIQ5slUgVe7qXZmfj/HCYVGApP/onz0v2C/A3rgewLDZ01ICew7JfbgOo8/U0iYyHj8sjxsQiF7dXSRu2LDyYYnA/B8+DcIfAbD7YURQif6+Te3v+TEcn+wAYEFxv/4esd8/3qhunZEZsl6wRJ7XPp9e3qEhkmvwGB7rP8WwCdAZn/jfKf8Nn7Qw3sGdkK7/Cq9HgJQfTpx9jiRRpzEucWYSoR6vy6D+M28Wr9tjFNJGbsJOJG2VDZkxT4PYYgvv1+5qfDYM8+FRQra/2X6C0HdiYSFWriRNL75tgDKyqMJ0z1Ke8rDEsGGvOc7kTvL+ZT3sMGVjC9EBj0DvXE2AvmhCCZF5n7yvvl3PPX2QscH+4Rlvczy/nXNRgcL64eNfVqwALOiBORNSYfsu1m1ebx0g2XDIYDpfD86hUIABlrEFoShgVU1PLE8fGoEAsV5iFRDFbaB9qz8xL8JAkMBvTwVfaP9QbdEu2FGscfnQut/cnXKLaE5LklUiW9FxQDxsqSySQOoDLYGO7R8KmR6VAk7w1e/44FxQKWDV4IHuy8630BfAu2ArT7if2n41zP2f4EKfYPzO5B6lT+EBNVBGP6vxWpFCnoSdVB70MSQh6iA5rZf9ZmA4YjFAij0rDNJf1LEukANfwk8xjhou0yAWgT3SjGAvzF7td0AJH1x+aA/P8ZGhCm73zoquQw6O8L9gx691obaSqC7iHLH+AG+tgASfxwBd4KJPnM+gEJwPrN7kv49wF4DcUUTgW85EDX9PubInwJH94a5fEBnApGDl8Niu6U2u/9Pw+F42LVmwGNIDUZtvoj5Kn5pBh2C3HofOplIc5AIQUwwc7IGOksBuwpESCi8G/y+xhWDXjTTsRA8nALCwIjD/YNjd9o2boEXQoH8IDl3um9AKESNvKzzbjo4Rh2IlMQw/Ch1IPjxwgSDyALKRUADL/zNuxX68P83TGePWP2kcpg577xKvZsK9I4+Aau+JzwBMZ52l8dFhnpAZ4lHzGq/KDeX/D/CEkkhinr+33c5PWfB+n5R/l6CrsU+RGuDVcGX+2Q5K0DlxHLEDc2DUE0A5/X2+lDDz0orhjc8T7ytguXAgDq1PXFESsNs/oP/zIIRwwAEgAAnO0pElI2RRWp5dLeOflgKls9OAg23iz7Lw1H8UDw9xHXIxIi6gqF2kjEB+xoK3JEZg/xuye89AcaJgEL0P6+B0wWgyBvCIfkou1iE7AjwxXU9dvffPNkGgMkiRT0CDUDhwUUEL8KmPRL6E/vCxIFPi8ubPK2+ZE1lyy+6kfZtv/2KAM8eyLg5tbR0P3HLQA0lhEZ4qnelwbxA6/V49+oHaMoK/p/4vb6Jht2H+0A2eCs+GYz2y8p8+fivAE7CU729Osl9ZH8TO0B8CofXTVKE1f1pPE58hz0TvtpEV0rVBZc1DK59uYkGIQXigWvBBgKmQqQA1f6fgCgCez/s/3mFKsepPz3zsvSOgWLGuIDFgDHEAoM+wNABl7ykd/OAQwrDBkt9Sz6nBb6JbgZNQLYBZwXbQnj75rwHfmmAqUdFTH1HjH3w90t74AapiFNANzx3fyNCSsb9hPr6tLqGBW9DpbgRNc59xshmjTGF1/wZPL7CAUNDAKo8zLoHfZ+GAsUMepQ9181SDZLBIv4BgBU767o8PzHDCwRwhjZGGYCN/S0CbEQBOXOzm3/Ni0tH1UBPfhU+Ir8/vzx9JcAZR/xIssEduwg964b6CVP/r7Yat5C/4wTS/1+4eP3PRZ3CEf2Rfgd+kcEBA0182fdz/4GJhYYXPkr9gwAhAaFBGr3nfH89qb4UgU5HJMUIvOR5oT5/RRsGe77Luy2D5Us4geP2cnngwmxB6gAJgZ0+6D1LwkjBefpvfNNEkcanxT19pDK09gBFF8hgQmU+93uPPLoC+MGK+0m/ZwcqBE48VDurgx6Gej2WttK6Y3s3OINBMUr5RVy6UPy6Sy5RAYDYsA02lcAlOy46gQGGgHAA8gaEfrjyJ7jUBoMH0z4HM9V1+MM1R61BeUDqA5TA3z9hgEi8dvX09p1BMAmowha3hcELD12IPfi/9w6+asNPRNHB9z3Q/zjEHQUIPND3GH5lAYN3MnbfSKZQPkZxPVZ5vPnQgFJEqcIUf0Y+pX/1Qo9Bvf//RJRFgTxZ9wc8hkPvR7EEJPlxs+j4yb8MwhZAn3mkNl35NDbrdpBFSlEJR326Yvx/f5T67Dgyep961fw/wrhETTzwuHy6ULexcORx6zibvOR9TLwfu6o/moPwAQG8ajxJvSn5wvrxAUbCzn1CO8q+F3xmeRw5obp9+AM2YXeUOuy89n8xw7+GE8OBwA7+BTzAwJvJDsskBHhAa0CTPo38oT0nPCn56PqWPdNBfITChrVDQj/nQKSEeQcXSJ6G6oHDgCtELwfwh5NHrQeHxEnBUEMiw6J/cr3xA2jJNYooCcBK34mDBjpEoQaWCAAJmwz4joxLXgXQg7lDJYFc/ua9VvyGPPc/3IVOB7iEv0KXw96Db8FwwdLDmgM4AW9BzUROBTbD/cIu/nS6IvjxuRx6h35mgbcBy7+Y/X8+cz+gPCq4Q/p3PEV46nT1eL1+QT4OO4Y72vrpt3r0LjPe98k7hXogNyr3U/kQuOw1/7LhcgvyRzRKODa3VDFOrp9ys/Zt9gq0HHDK7y/ywPiu+EQ2Gbf/vDO+Yz2wfOJ+28D7wBo/lMAS/nL6Wzn/PcCAx37wvUXAjYS0RrmHVYcmRvvJhw8gUjiRGxDqkvRRnIw0CMoJF0frhjeExsLXQntDtkJkQoZJXs5zDNBLKskiBdaHiQ1lDs2OKI0nCKDFDokAjoVOO4j0BFmDPgLXA8NJS886jC6EVQGAQ58F2YlDzLJK9EgMSw4PuI47h8eCJ4BnQ1BF/0Otf4D9r/1wfPO8dT6jAZ/Bcr5FPD18IDxUehO6OHv++cb5O/ycfjW9Gr59PpP9lPzDfL79NXzQ+VR1pvSgtqw6tLz6+l72GPVBOKc6dLrlfYv+hXuDuhj5prc5NzP8YME+f8K7eThpd6s1kbODsy3x4O5Yqs1sZHJDd++6FDnjuKz74oLKxwBKFs9QkR+L0oeliIdJuQaow/MEYYdmCfDMPpCqVKWTnZFwUe9UANbI1nqQfYr2ijrLwU7YERVQR4z1yfxLnBBZUI1L84enhAV/+P/rhdbJC0XfwlLDPYXoCJMJ2olzhulDNsLQB8vKc4iQiS4JlIYFgwBEiEXLRJaF/MoVTBQL5UxiicIEEkEgwSZAhkBHADL+oPyUOo77M/5W/nq4QTR8tHM1ETbHOfS5n7dnN+16oLxFfIG793qQueA4wDcGND7ysvPZ9D6z4XZgd1H0+jM79G+22joBPPx8O7juN1c4wznl+aF5dTeztgl2FPU59Nl2t/VjcezwgbJcc0Hxae5ZLoOtBqcDJlnuUnYueJc5gDyWwmAHSAiZiR3LnI5RUGWQpQ8rjiyOAo6h0JHTlhZrGxseI9h5DvHKVgplDFmPqA7DyTkEpsRZRReImY3UDQZH38c8ynTLN4iuRn0E54KvgYcFDAfJxi7DVQGkgBOA1EJtAxDE68atRwfGyUcdh/7FyIJzgrWGUEgIR78HhkmBivCJOUYIA67CBcO3BEFCpAAg/U86yHxHf7//x/72fbe753gs9JC1offbOJ77K33LPNF6VbkXuMA4YzSlcLmwt3Ius3G2G/dBNLRyGXN79Zn4SzooN4rzizMPdaB5GTufON3zvXBcbrpwbvXh9scz5bJM8mWzpvXNNlb1K7J1Mjn4b7y4OiV4YDesd4m8oMBHv1a9wnoWs4xzu3tmAvoDrMFPBElMdtIglAAUHJNUU1jS7pHNUsTT8RKnk1CX89oOV4yU69ROkkBNEwkriEcF8T8ZPGuAXcSVBjwEsT5nOZk9fkMzBaFFFwBHvDI+F4JhBXcIBIa9wSh/0gLlhonJOQdNxNGDlcEEgGKEaIcYhYwDsQFrP2//iAGYwzJDvUNMQ0DC9oFvP+y93Xxb+7d4bjMeMItxBbEvMJIyvjZuONr4czc5tWExVG7KMZC0zzT+dBSzpfFvcLkzCjXTNXVyKnAI8RoyRjTb+XO6c/ZDs+80cTVzdO9zNPHH8SCvPW4bb7syIDSNdJP0iPgwOQ+1TzN89Iw2KneLeZU6V3sd/EP9tH+oQ0SExcJXQbYDmQJtPuR/hEJ+wq8DQIccCvmLRIrADA3O3ZOlGV8a01kU2midbRycl6USS9CFUHfNxAqgx8tF98RXw0TARnxe+s977bwRutI37jWO+GJ9Ff5GvjvBAMYZSD6INMkbCexHl4S2g/PFmAdLhz2GRkcsBWQCF0HqwrMBCT/M/+M/2j+fvwW+5/4IvUt9NDyNPJD9sn08Ouf5TPe7tVv1BXUANQV2Qzauc/ywZ29E8WWybzHE87u18rWhtNy2Szf9tro1FPVwtSNz8nN+84ezd3Kz8wX0SDT6dRN2KDVQM9o0d3XaNqL2+DcZuAg45Xejdwg4iDiptyW2e3WnNip4djoROvK8X4BlRFsFtsTaBQiGwAm6S1UMY886lIcZnFrymVPYCpkPm6ob5Bft010Td5V5FSmRyY0IybxIvcgAhpWDf790fdO9vHpzt5k5N/vpfbR99/zyvD58QL1+PeO97f3cgP9FLcbIBnRGHEaLBooGiUZ0BRyEjwVABm6G1YeCiArIMceBxtXFf8QPg8SDkMNEgtVBaQBWQAJ+RnxBvEo8DHr++mv6MTge9hS1hrY6tk42XzS48dwxHrIwsVMvJy7y8Kow33D0s/G25rYHNTG1WXXcuJ/85P08+zC6Rri7uDg9LMEgvyN7HbhoNqG2/3h0uQF5LLgr9ap0kvkGflJ/zkKMx7+Hh0O8AcpDNIN1RUaKOsy0S80L3M8K0/YWUlaXVfBV/NeZmbPYVFW7lL2UmhJkjmPLnUqmSdDJ+0rpCYcErcEfAJv+0v1R/et+A73VfED6kDtmPXi9/n7ogGOAp0HXBAKE/0SHhPHEnMVExndG1Qhnyf3Kj0p5SIWIDcjWiQSIzYi+x19Fk0RQRGHEwIRCQkrBFQD6Pty6+PfMuJL5m3had495pHtkOyn68ntkOxt6aro2ufR5aTjJOIQ46fiu91O28PcZdps1X3U3teQ29nbUNpt2yTfkeN/6Pru/fTf8nPqoObo48Hd697P5QLnwehF7Izh881vyq/U1tbM1M/doejq63vvre7j4yjmmAHjGfcddyE3LVA10z0RTGNR6lBYYYR6/39xcztu/3TfcQteR07ATApN/0IJLxgeeBcwE2sPTQtw+2Pm4t1U3STaWtO4y4zNI9oh47jnDPFd+xMBkwMUBXUIGg+ZFyQfvSBYHOca0yCQJuclpiJEIAsdnRpDG9MaQxezFHsTUxAQDKAHTQHh+2/65vhP9cTxwu3K6+vsqesC6m3qE+Zh4JLht+Wy6u3v2O8H7MzniuSw5kHpzub05uHqVe247WDqxOh67UvtaedW53npYOd24yTgUN983XTa8d4f4kTXl85A1KrcAeNI5vDgk9sp3z3jo+cr9oYDdQHY/PL/hQNlC94aiCNGI0wm/SvcL5k10j1tQ3ZElkYfTQNPCkYPPeM91j/AN9Mr/CXdInMdAxbUDPMEsv5w92/0rPOG6Ureh9+R4BPVXsuH0UPcI96K4YDt3/Ej7I/tqfWJ+R7+bwmgElYSRRCoEskUSBf4HEAgACFqIf4bKhRQEYcN5wbJBMkCBvi57E/rW+iR2vnRPNTc0d3MNc9e0VPPd826yvXG+8R8yMXSjdtT3tPfi9+e4FnqrPMI813xQPUu9ybwGeYc5Tnq6+gu5S3pM+9w79nrN+Z94UPkfOzX8rD2JPb38NTyQP3ZAncG4xG9HM8fxR/zH6Uj9SkVK8gp2y0yMooy8TO8NRgzxS7xLpo0cjnmNYgrVCN3IYcg+Re7CSgCMAFD/DL5L/4p/e/zsvDw76LqV+jq6CPnAuSj2tbMncsO2N/hQeYD7e30GfcK9OXzCPquAOcCTALOAQIABPwN/K0BAQPo/S37OPp185roJuEi3qbZgtHuydjEmMJqxHnG18QNwXO8YLqxvYHA/8ABxrrNzdEp0pTO6Mq80fLh+OxZ7Tnuv/d/AbkEPQnEEaUXmhvGHmocmBeHF6obEyAhISQekRy/HYgawRImEPIT5RQmE+cWuBx8HesdDSHHIgYnsTLhPLU9kDtaO2o5gTftN7czCC0jLZQp6Bh8DFkN/wsiBA4BJwOHAYP66/L57CXp8enz7druzevv6j/wiPcS+bj2DPoOAvcFGgcpCocMXw/NFIoSgwXI/RoAx/7i9FfqjeZc547iFtpO2FnW4c1uyp/LkMPItq21Gb/gwa67eL7Jy4fRps+00XXTgtBj0T3YWNwz3MncVtw/3LbjrOrA6JTtRf+2CL0DUwIYCfQLOAy0FdshnSN5IkknBytCKbYnji0DN2E1Zys4KisuSS1fLI8sZCxXLtwvvTHwM6cubCg2K0wtxitHLXgp0h5MGnYZ3RVxF7gcnxqkFn8ZAxu3FiMW+xm3GDQTYRHAEi8SPxDKEBcTghT5Fw8fciHWGxgZJRsuFqQMHAokC80L7g5kDb8EEQBq/hf31e2x6K7nG+id5u3iN9yK1LvV+Nyj3HfY8Nnk3VLfqtwW2wbfq97e2tDhT+rd63r2ngS2AOj1X/cI/Yf8LP+7C8wTRRCGEC4VHxG/DKsRpxcwGhAYXhH6DgcQUA67FFIkJibzFiQN+QyjCscKpBPpGCgVYxIUE+UT2xO1ELENOA47DFYINAocD/ER3xMbGCciGixILfUtJDEYKGMaZR1lJREj3STiLDApTx1SF5YU+A5uB0MC/gBv/RP3O/Zn+EH2qPKn8TTzovPA73XuuPKI8+Hx3/QE+Xj6Lfkj9nz0vvLU7xLuYupW5RfhGdmZ1YzdSeC33PThGuS/2DbQHNDzz7fQhNYp30nkv+Mm5C3q9POg/T4EEgpBD7QPZBGgGEEcXB2/JKQrOSpSJWohkh32GG4XoRv9Hl4ewR67HaEYFxZgFh0VPhTkEJ4HpQILB9MK6wxrE48Wtw+6CBcIgwczApb7wPkb/NL8OPzw/MD9LQCsAxsDxQCS/9f61/Q79Ff03fAi8g37qf7Q96jzgPe5+Xv3UfVK9Dj0WvVq+A/8h/vv+BT5lvd09Az2kPhB91L0PO+U6dTnv+cQ5kbiLdsR00TOfsybyn7IisoH0ZjUIdPf0UPSvtKu0uPR5NH+0TrQPdLA3MXmfuk+78f9CQckBL4CwQhgDNoLJQ5GEmEUIhmTIwgr8CkkJ60nwilAKlYlXR4tHqMh+R76FvoQ4A/ZD3cO2g5xDfgEmv7w/67/8fxhAJoIvQsABroA/QLKAm37dfnU/vj/Gv1a/3IF4wVKAYoCCAf8AGf1VPOf9T7xOe1f8SX2jvUS9cD4xPzG+/z1T/Gn75zsVegQ5xzoA+jq5fTjOeN+4cPfjuAN4Obcmtq319LUFtVd1K7SHNVI1h3SzM5BzvDO+9Fy1kvbS98R38vc8t2m4J3gg9/j3c/X+dKh2ivnpetW8Lj7DwPiA5QF0gq0E/YaSRsqGjQaJxnPHXcpVDDVLy4wbTIYMGwnTSDsIJ8jmyF0HAAY2xVEFYQT/w6bCGYDrgFnAS8Amf5V/sIB6wbfB2gFbQIC/s37F/3O/Nv9nAFXASgBIAU1BtwHEQ54DuYImAVHA+YCkgXLBYQEWwRkBK8HgQr3BG38qPbp8THwuPDD7oDsuesS6pXo5+dv5u7kyeP64c/f891y3K3ai9jF1y/Y/dZd1H7SsNC6zQDLsMrqzPjOp88X0WzSN9EM0IrQ/9Cv0irV+NXQ12vbFd8D55PyefrJ/hgCDgXECd4MQAzQDYQQ2BDLE9oYvxtiH+4jSianJsAk9CFbIBEgNCPsJe4gGRv3GrQYyRPFE3gVVRRhFCQWxxOhDc0KLwzcDJoLTAi2A8YBqAHb/y39Evuo/NECCgfOCQoP+w5ZCUgI+QjOCGYOTxUgF94XbRjJGfcf3CXPJjMnuycXJoAj1B88G4YY+xf+FvERvQcq/vf5bvjQ9qLz7+zn5a3h99xO143TXNBwzSjL7cQbvE66cb+DwjLD3cU2x/3ENcU/yVLL78uSz0rUBNd02b7cNt8q4W/lGeyO8l736vc19Oj0bvwlAQoE+g2ZGLgb+RymHt0dVCAqKegvPzB2LzYwHjCiLj4tcSxoLW4xwzPeLREkhx4yGgUTWQ57Db0LvgmZB0wClP21/UL/O/86/Yr4WvSs9OP3lfpO+5/7of+TBWoHgQipDuEUoBezGsgcvRvnG3UfDyVWKuErrCxHMYA02TL3MDYwPTB0MhU0ejH0Ktgi7RsLF90TmxGqDS0JaQZ6AF/2rO666e3lVeRx4H/YL9I0zsrKLcoMzGfNYM34zMLMjco7xlXFIMn9y4fML85w0RPVVtmT3QzhEOUz6cDrDu3066Xpne1t9zT+pgGLBQwKhBFIGvsdAh/tIr4n/irKLKcr1igxKtUvLTKML1At+ywrLTsrpiSPHskcLBuRGWcWZAzYAp0Amv+Z/l/+E/v39/v1TvCD62HrVOsz68jrFupc5zrod+1Z8hn13/qFA9oJxw59EjUToRWKHL0jByisKSIsyjGoNjo3yjVGNbA2FTqfPNA4si/TKd0nBiQlH/oZ4xOuD7EJmf8p+b71aPDd7P/nMt3J1M3Sq9Lo0mLSoNFr0q3RFs/RzmzQWdEL0bTPDM7SyxjJ68fWyV/OPNIx0zzUitZC2EXbU9+P4HLhkOYG7tjzXvdf+xIByAXxCZsPKRTmGJEhGCfsJC4kLCctKL0q9y+NMF0u+y73Lwsw0i7QKVoktCA5GpURrwuuB+0DOQAN+tjxP+zQ6e/nP+ZQ41/ePdyT3fLb+teY2Bjf+ubv6jHrJe0H8fD01/pPACoD9AlYFiIgtiNDJZAoDC53NAc55Tl8Oko9Nj6xOho0CS3iKSooByG/F5MQZwmsA8r+0/Z57wjsDelE47DZiNBYzT7OKc9fzfTIx8jRzVjQcNDd0RjTIdPb0RnQa88g0GjWz+EO6MLoxulZ6FrncuyH8Yzz9fSg8hPuuu0a8W31uPlA/dEA+gMTBdgEqQRMBmoLHRHBE6EVIRmjGqIYnxfuGIUaAR3qHsscHBicFFYUZhXqEdMKFAd3BS4CtP5y+rf17fPv8ubvbe0/7a/uzu+87r/sBuqC5tzmCOti7djuOPKP9t373/8HAYME9ArPDrwQwhMTF3Eanh5pI+QmgyexKcAwSDYWNcEwvi1dLDUpMiNDH4wewhyEGawUWwyIA778zfaH8lbv3OoC5/jjLt6z2MjYW9qb2H7WmdTKz2nMec8l1BrXkdo825jWbtMi1ZzXrNkS29fZ6tj/2o/cd97S5Wvu1fHP8rzyS+8r7hb11f5/BkoNSBMYGdsfaCQcJwEtkzOMNis5wDtxO7M7Rz4mPx49jzk8Ngw0My6CIpYYmRMdDv8H0gO0/U70pOyH5s/dzNTFz17NNMqXxUPCI8M9x//LHs+vz0rSYNp147PqC/FC9gL+ogpYFaga5R8oKGkxxDgWPWk/00EvRsJJk0eFQg9A0z4rPDM2Biy/IowdWBigEUwLMwVA/9/54fNj6/Dh/dzA3Gnbj9hh17nWttVT1nTY+dmU2/jf7eRe5k7nB+qM6o7qHu768OXyqvny/2v+gPu8+/X64fp8/bz9cvyJ/ej8l/dY8VLuMu+I753tWe1k7F3oDefS5jPjSuQT7W3zIvSv9N728vhs+3P/RgLMAycJsg8zEX8R8xN9FSUWsBU/EkUPfA//DxcPYg1CCxMKnAlQByYFlQZMCHAI3AhcBan+Av8yBc8IfgueD+ASFhQbE7USCRUnGSwg3iaoJ/YmISgVKFAosyg5J2InRSiXJiklQSM8H3Md7hyoGT4XtRdcFuAQ5wh3AaT+xP+9/6j+Lv0s9/Hvoe3K61LpMutl7RPtFO5W7vLtbfKm9233C/YR9/P2UvNn7hjr1Oi45Ivf9twX3KvaKdqb1xnPV8gdyQbLSct6yxLK88mczpvUhdmJ377osPLw93b6lQCSCZQS1hksHbEffCMUJhwrrTPWNzs4Xzk4NSEsTiioKDonHiY3I/cZgBA2C9kFcAE7AOz83vVC71fp7uKD3uTe2uKM5ZXke+Ix4kzlVezO9PT5TvuX/14JDhHCFMca0iEnJzcunDQpN7Y6OEDvRHRIkkcURA9FyEVJP5E2PC8CKJkhIRs4FHUOBgmYA2r9D/Sm6ujleOSQ4qrdp9dU1aTVdNXJ1rvaLd844hrj7eOB5mrphOwd8P3xmPJ/9bb5BPpi9in1nPhy+5L5mvWN8xTzrfNd9iT3FfN57//tHusi6KnmgeZk6FHpZ+dO5ujmPOjO6qTsQe0574nxiPGW8Hfx4vNZ9kH5WPzv/i8CDQXNBagG9gjvCyMPcxBkD84OcQ+qEB0SHBJjELIPJRE4ESkPVBAOE0IQYQy1DLcLVwnNCkUNng1BDQAMWAp3C+wPMhSxFiwZmhoCGoIa5BslHIkdcSCcIlMjWiLDIRQi9R58GY8WGBVCFFsUTxFBCx0HCQSD/4L7W/kT+Fb2l/IX7UfoPubD5k7n+eYT58zmp+bq6JzqYOp67KLv7vCQ8uPz3fQ6+Dv6QPid9o716PK48cD0mviJ+G/2VPQ47gbnN+YG6AznbuRU4GfcuNpl2abYsdnM24jfm+Pf5FPjMOLr5f3tiPRd+L78IwNkCuYOwBDmFJsbrSF2JkgpACqFK54w+TaROA81ETJnMd0vKSsNJkEkzSJWHkYYwhBvCpYInwbhAkIAlvsY9bXxz+9R7gDwAPRa90T4kvfh9236nf/KBBUHEgp2DYwLkQiLCmANvg5HERgUGRWMFM8SxhCyEDsRFA/hDJQLKgeeA/gDPAEg/C759vQ78WrwVO2N6ann0eKg3BzZ2dY816jZINmD1rXUWNQ719rbB98k4pLlpee76WvsLe5Y7yTxLvSb90D5I/q5/N3/lQIsBq4KkQ2ZCw0HewWwBTUGtQkrDPEJ5gcFB8oFyAZcCMsHCgd7BVwBbP2t/Mb+DQK3BYoHRQXyAmIEKQaVBj0H6wYhBSwDswE/AeQAFwC4AFsC/QEzAB0ByQTaBgoH9AdVCcgKLws3CV8HWwa9BdAICQ4EEdoSKRPyEDcPgw62Dn0RxhS+FKMQiAtNCO4FsQXeCOEJYAdcBX4C9/7i/Yn9Tvzy+ov59vZ98c3sVu1h7yDwh+8E7Gzp6Oka6a7oNeqX6V/pGuw/7TftbPAT9kz6K/vJ+ur75/5vAwwHIQeZB6oMbBIQFD0T4hKzElUS4xEOECgN2wp2CJoF/gKo/y78WPo398bvNOiE5czl1eRN4jPg/d+P4aviceLQ42PntOhy5+rnwehi6VvwVPuVAHQC7QbyDA4UHRrjHFAgXiPWIQIgmSCKIUwk7ycfKB0lDiJlIP0e5xzlGooXwxEuDFEHmAKmAAMCRwNIAsP/Uv3z+637ZPtH+8L85/z3+Dr1ffTW9PH1B/e09lL2Avew9w738PZD+bv6CPsd/ML4fPMO9pj6IPqI+rD83/76AtoFWQaAB+0I7wqvDFILowllCxwQ1xQEFloVGxZAFiUVQRNBDxwMpwsfCt8G0gPzAKH+dfzA+Cf0QfG18D/wZ+3n5xfjc+JQ47biRuP95Pnlxuer6XbrW+8f8qXyc/UC+Tz7Av+nAsADxQSsBjsJ7QuEC+QIXAnCC+cL6gsWDTIM4AlGCMAGtAbcB+oFUQHB/Z37Avoe+Jz22/a59jP1cvSZ8/TxM/Jz9Bn2iPY799L4OfoS+8/6ZPkp+8QAjAMcBBUI4wsVDAANahB9FCAXQhU/EXoPSgx4BwQICwqsBp8DCALh+3r2Yfce+cb5D/sw+gH41fhU+nz50vpcAI8FuAkYDU4N5Q6VFAIX+xVmF9cZBRzlHCEZhBRkEpAPvQ1ZD+APiwwkCPUEQwCK+AX0OPXc9Vzz+u/97WruCu5r7IPtg+6861npAOqg63jsTez57F/vc/Gu8sf1FfxfARgCAgJKA20D1QPSBQEHBwdeBQEC2gD4AX0BBABw/z/+TPtZ+MP2PvT27rvoZ+N64HngZOAB31/ep90W28vYmtkS3cLg6OMr5ublu+QS5vPpm/Cf+eMAngVsCQwLaQzBEOIV0hrfH/kgNB4oHdUdjR7HIoIphCt3KLwliiMAIfkflx5QG9sYoxWlD3cLCAqgCDEJcQqcB/ECpf+m/MD7B/5c/i77oPlE+RT2jPVP/FoC4QOkBqUJegniCcAMkg+CEdESdRMnE4IS5xJIE/ISWRPWEm8Qdw/zDocKOAQGAbIAaP+J/ML6e/kl9l3y9e9B7XnqCeow66Xqj+eF5HfjmeOB5MnmIerp7ZfwdPDk7xvyiPZK/O4A6QA4/5v+0Pti+cT7h/5g/yIAOv1e9TzuO+us6hDq8OhO5q7gSts710vRzc451EHZkNrF26PZ3NML0uXWc94O5TrqnO0M7vjutfPx+VsCSg4cGDwdyiCKI/omui1ANaA5nDtkPWM/EUI5RM9CQEB/QEZAcz25OXAzzStlJpggURmTE6MOiwlHBUcB+/zi+Cv2R/R08L7sWewl7Pfqhuob6VDowevJ8Jn0u/fU+sH/gAZcC1kNvQ7hD2sQkRIgF08bbh/SJIIm9SIsIGgfYB+HICIecBZQEOgMrQdHAfL7pPef9KTy8u5X5rDbTdVf0qnPac5FzXzKpMinxsHCY8EQxV7LvtEP1gfYjtjx2C3cBOK655TtuPE18hPzEvXp9UP40/uT/cn/hgL6AYT+dvt2+7L9nv7J/XX7O/cj9N7y9vBG7+rtauzf7HjtjuzA7SvwOPBO8DPyHfRj91r9/QG5A7wGowrdDYYV6h6tIXwjtyiRKkwttjYQPcY9AUGrQwVAPTveOFg2jzRyM1ou8yY7If4acxbaFHkNcQIm/aH3M+4P6PTj3d4g29PWYtErzn/Nkc4w0BXRGtIi1HDYON6p4czkiuyq9jz+4wEBBTML9hFcF4UcsB6nHvUhmib5JogiYx12HAgdKBnLEiMMegS3/ub5WvH45/jhb9zO1NDMbcRVu2u2m7bhs8OthKycr62xaLMXtpu50L4BxdHKMND81AXauuHK62z0Y/uuA4QMARSZGQscLx6ZIsokoCUuKkMtGiz5LMYtiSn+JDwi/B1RGmgYJhMtC+QGHQR2/ZP3Y/aP9N/w4e+77xnsJeix6Gfrmuy97pjzyfc1+qb87f93BrQQfhgKG94dsCPcKBMsNC+gMdMybDbOPNU+8zqmOR48tjpBNVQwpSzpKaclkR6+GLoTXg29CCsCLfbW7S/s0er85+LhQdrg2Gzazdfi1eHXh9lG2sLcKuA24R3ituiY8e31tvjs/jMGGAlxB6YHVgtfDgkRWxOSE7UTphLgDrQMrgsvCVQHFATu/Qz5e/Vm8qfvm+gk4B/fJOLU4M7bc9hY2tfey+DO4abjNuMR5PLr0vMi9Sf4zQDNBXsG4AokEZkVghuKIbMjwCS4KL8uSTHDLQIrYywBLfcshyuKJOQeVB5UGnYWpRhjFYgLAghXBpv9Rve3+W/73/db9iL4a/Wf73bvL/IC8Y/wxvQd+C351fvb/Tn+LwO2Cx4Q4BFxFK4UqBOSFWQY4xm5HPogZSCZGfIV4Rc3FgkR6A43DaQJAwc3BfQC4/64+dP3N/ZM76HpJOqe6g7p1efy5abkWOXH5OPje+cV7HvrBelK6FDm3uW262jxrfIy9WH4iPiE+iz/2gC/AWcFage/BWkEiwXUBgkFxAKiBTEKIAq/CCoJ6geVBYEFjwU7BGYFvQh2B1QCYgAI/4H7OP0qAicByf++AiYB+/pI+dv7hv7o/5z+E/wT+976cfuX/voBHAMKBbwHCgfZBpEKIwvqCNIKhww1DZYTLhjTFEgUSxhwGAIXcRf9FnUW1RcvGS8XqxEDDr8O7g6UC7UG+QIOAen9+PdD8p7uMe3m7FbqwuSt3mrbCd0W3yjeEN653ivgLOZ56Qzmtegh8sb1P/a4+Sr7e/tiApAM4BAhEXMTcRb/GEgcgx3IHJ8cdxssGo0aABvSHEwfuh3YGSQW2BCVDKsLPQlkA7z/If+3+wj4ufk4+u/3//or/SL3DfP69M/1VfVX9pD47frc/P//fgPHBMQGFwvSDSoOug+PE4QVgRSmFV8XJBZuGGQd5RvIGEka9hnvFfoSmRGREMUOygu7CKkEOQDD/2oBzv7j+R/4qfdo9o72G/fS9fbze/Lj8eLxVPCa75TyffQQ9Mf24/mA96T0r/ZH+mv9AADz/lX8gvyO/Jn8gADiAg0BkAGOAfP6TPYk+n39+fsF/R7/aPpr9WL2/fQV8h32x/it8ovt1ewE6tvohO8/9VDy2O998q7wPOuJ7Ezxt/F28hn4dfxw/M/98QHIBfcILwlMB2IIygiMB3EMqRP/FX0WIhckGm0eyxs6F4gYCBitFR8YmBmiFogU+xaUG+cZZhMBEmUR5QvuB3gGhgTYA4kEygSmAYP7E/nj+br3wvMi8cfwK/I+8kHxPvDO7djtDvM097D1T/He7wDyNfIz8q726/nX+Vf8AP5C+iH4r/vt/lT/rABEAdT8WPkh/Bf+I/0Y/13/dvmY9X310/PG9Of43fgQ+Kv5Tvcs9ev4sPmS9nT4Ffwp+2b4Cvjd+o79OP8+A7UFGwJG/0MBFwQ2BmIGzQTUBS8HYAXSBwAPhw76CCQLdQ2DBOL7Y/57As4Ayv6w/fn4kvPv8m/0WfOt7lPpwOhc6sLnYefe7ajxYfB08CzxrfCX8cX1mvrN+xf9CQO9By4J/Av+DqMRJhR6E+kRWxHLEPkUExziHDgZsRYeFagU2RNZEbwPbQ36B3IF0wjdCaYGQwcZB9z8mPMQ9D3z3+988CHsfOEW37vibOGj4UPmyuSo4NTiYOM/3mzc8d8J5Z/p5ewG8XD09/TA9xj9KQL8B9cIRgTYBJ0IAgrgDQwTCxT4ESASlRcbGY8RhQ3PDYQKiArFDDMJwQVXAwcAjwJFBIb8RPUN83XxYfPz9iz0ze2P6hrp/Oic7Kvu5epy53vnBOmw7DzxrvXX+P/1H/Qi/A8CWACDA9cIUAgPC5cSuRQzFfgbliGvHk8ajhgYFHYSwho2HxoZ3hb+FXQLEwUSCncMCQwVDPADv/go9cr0CvZd+v75RfMt7yfw3e516gPtB/Us9mz04fZm9mTzqfWT+3sAJAIPBDoLfBDmD64RfhReFLwWUBpGGyAdrB79G9kY0xhiGC0X5RkyGi4RygqyCwYJCwbbBmkCm/sf+mn5PvY98mXwzPJv9e32avhz9kbzT/Mo9Wr5sf0s/ZT7FvyW/toEPgwPEakRYA5TDnkRpA+BDWUPyQ9gEW4UpRAXCpwIvghLCP8JdQusB3YBE/5q+vv2Yvoo//P9J/tn+FX1wvWJ97z3H/k4+8H7NPtG+fX1DfVe+hABxQFMAO0A1P9e/+kDEQgeCLAH3Am5DNULzglQC74LMgq8DA4Qrg54CwAJEgh7CToLQQsICXIFKAMLA7ADqAOtAgwCAgGQ/if+zv/c/vz7wfnD96L2c/YB9sz0QvLm8HTz5fVq9ATxPe+f8f70oPTG9Kn3cPd69pj58/pK+U777/8EAkQC5wO3BgEIigmsDNkL+QnuDkMREAv7CL4KMAguCc8NgAuiBxIImAZMBAIEQACp+jP6xvuI+Rb1YfHl7kXudO5t7YfslOy/68PqyepJ6hPp7Ohp63Pu2ezu6bTtUfP58urwTPKr9Y338PYU+Lr6ZPiv9bj6uf8t/Tr7Rf/nALD7DPkN/bT9bvlR+r/+Vf0F+cf48viC9ffzefa99T7wtO3l8Nvzd/IT8h33XPrZ91X2vfZw9tr4df0ZAE8Av/4jALAHVAwuCGgEEgjvDF4LPAdqB5QI5we4CVoLEAduAe8AZgS7BRgB6PpP+AL3EvV69Lj07/PY8hfyHvCX7RHuIvC77yrw0vNr8zvtG+uC7iDuBuwQ8q36V/qK9IPxG/Ej8RTzafgC/LP3RPJw9e377PyD+qj6//7RA2kEygEFABD/Ev6jABwGlAWN/wv/RAI9/6b4ffY5+Cn3nfIN8+D1IvCl6uvtK+xL5LbkRume6ObnfOvg7+Hwe+7N7fHx+vbD+L36Tv9v/q74NvwQBkwJ3AsmE+oWlBWpE8ESDxP5ErsTMxeTGREZrxZuEyQU8he1F8AUZhKHDrsJVwZqBe4F4AMwAOL+Sv6v/cr+9/+e/3P8Mvdu9e/3r/oP/dz9K/3t/RP9jfnM+gEACAHn/1cCIwVCBKADkgbICLwIowsaEGQPWgvuCY4LxA16DsQNBQ1mC/QJmApeCPYBP/9k/zz7NfaG9V72vvVB9FjzlvGW7bjrCOzg6f3p2uz46Qvnk+iu5C/jpe8z+MLyUe8C8ZrvR+8e9MH5PP29/kcA6wOSB7wIrArfEB4WNxTmED0T/xVHFd0W3RrhGkwXtxTjFC8WNxWqE5oUJhK5CmUIXAt9C6IL8wxxBoH6Lfao+PD3Uvbl+Lv4PvSR80X0XfJl88r1U/Zy+KH2g+928Rn8bQGZAtsFUgkEC44KzAqbDk4PrQn5CNcQcxSEEA4R9RY8FtwPcg86EkEMjAH2/9kEZARsAAj+mvtR+/L79PgV+eL60/F550zoXOig5IToLfD48nPxDe/i8X/4Pvi+82f2ZP1J/5n8Ofvn+8H8qwHRDBsUUQ8UBz8HrgwJDVcJ0ghLCW0H6gZpBqYB0fy6+xn8IPwf+e/xGu3Z7nLxGfBr7a3rRukE59Lnqunr6WLrxO6l8EXxiPOd+HP/iQRMBl8GdwX7BeUKcRBHE18XWR1AIDggniAfIQ0i4iSgJQchChzjGZEY4hgxGtsYVBYUFFYQ4Az2CXUFFwNYA6n+EfZb82v2N/dQ9hD4yfcv85LxYPNj83vzBfUR9036jPrS97r6+QG4BkkKfAycC1MLKQ1FECgUBxZtFY0U5RN+E6IR/g1gDZEPpw53C1gKeQlwBSACiASjBnICEf7i++j3gPX49qv5Jf2X/Kj2G/VG94T1Zfaj/IP9//hZ96724PTB9xP/vgNRBQQFTwCh/O7/AQMNAwEG9QaCAer+qQEtA74Eswh2CjkIggVkBK4D7gHD/+3+DwAZAVj/Cv1E/mkAKQBoAPz/xPkS9P73Zv48/S757fi2+ev4VvnO+xr8F/nB+O/7Dftu9/T5QQAzA8YDqAN7A/IFrggHCDUHcAiSCsUOiBOOFCITdRP9FhscQB19GBMWpBmTGgsX2xb1GCMYqReRGPgVeBDHDB4NMQ4wCL79Jfvg/RL7CPaa8wHw9ev66sLq9uci5IvkW+iB54XiK+GI44bnv+3r8ebwAfCW8w347Pm2/YkFrAkbCe4K0wsCCY0LbhL4EoMPiA4ZDfAJMQmxCs8JYAWNAEn9dfp/9uLyK/LW7x/o/uOc5uDkSN8Q4EvkIOSD3/nbY90Z3c7Y1NzH5mLnluQm6UbuTe+z783xpPad+Vj31ve9/lcDLgI/AhsHrQkaBVME1Q6QE+cHfAASBogDdfrAAXINcgf1/sj/0vlx7TDrLfAi83b0v/A755DiEOQj49nj3uov7djnHOaT5hfiLOKc7fn32vg+9gL1/fZ//dEDrQZFCYsLOg2UEesUKhTyFzoiuSYFIfEZfRd3GZMeXyKgH3sY/hI3EWURGg+ICJwD+AHC+xXxJuul6h3q1uh35jniHOD94MvghOGA4w7huOAY6QTt9+l48OH9kAP3BJgIOgvYDX8UFxuyHPgczx07HLQcwiABIL8eviOmIU4UAgtuB9ACZgBI//v5YPMv7hLo3OOf5e/nn+Z45onlX96N2czdtuP354rsavB+9BP3U/Yu+l0DKQcMCBAO4RI5EgwT0BajFxYVyBVhGt4YgRAlDj0Rng7qCtMMNAvTAkn+nv78+QTxXO2H7t/s2eis5sXl5+Rd5IDkNOWZ5EfiFeIf567tK+4e7Lf0eQOmB2wGzQyKEm8RxxXZIP4jYCHEKI41MjiOM7gxVTVqPW5AJTh9MDIuAClQJVcm3yEAGmkYohjvE+sKxQBi+6n7Xfn18FHpFOcs5VHgUd+G5Dvo1Oif6WzoNObP6Gfwf/ii/Ff8z/31AzEKYQ5FEYwTLhh3HfAcoBmQGjkcYRtMHGQdcBpmFs8RSgv9Bk0EoQAYANv+9/V37kXucezF54PldOJ33aPbl9pb1Z/TDNyr43nkSega7R/qAumJ8KX1y/UE+e79oAAJBDYHqAZaCBkPhhB9DDMNcwvZ/6L5Iv+/AcT+EgDCAz8BVvpg96T4MfdB8w7ySfFw7gPtu+tJ6aLrcfBL8J/wd/Tv86nyl/npAOcAMwO8DewV8BYGGtkgeCUuKigvdi6pLCUy+DomPj46VzUQM4gwdyx3J/0gkBvlF1wRygdoAGb9a/xJ+vzzqudU3H/bAt7w2cjWLdqQ3lXhOuMO6N/x6vhp+yv/oQAcAEAHqxOaG8IdZh44Im4obipWKM8oWCp9JR4clBWcEWcOYg2pC3sGcwDA+hP0DewJ5ejhHeBK3SLabNMpzJ/OgtdM3Ivc6dyF4dfntujZ6Jnu+fGT8NvzVft3/w8CXQbLB5gFBAbJCSsO/xHaEPQLgwsEDKMFyf9vAq8FZAEL+8P24u9k6pztwPEJ8RDxEvCk6nPmGOZ052Xpu+pK7Gzuzu/H8tr3Cvsn/tsE4AkMCQsIsQpPD6QVoRt1H90kdyqzKuAo/ylfLVAw/i48Ksgl9yC1Hs4gsB5oF10T+RABCmT/7/Y19Lnyfu6m6QjkId8G32vfLtyk2UbayNxm37HfVd+e48TsmfTK9xT66v6aBpMPAxXsFaYWmRjaHYkmsCqZKgAuWDCnKxoljSEBIKMc0RbdEb4LPQOY/tf8//dz8t7ub+uE5nzex9Vn0U/RFNMJ1DjSjdGH1HbWjtfh3Nzij+NY41jnAeu16z3wnvmK/tz9Jv9hAesAGwJEBbIF7wSfAwf/Wfs6/BL9Yfy1/Wf/kvx+9pDyMPEW8JvwdPLH8cPuJ+zR6cXoquwb9Kr4qfmB+/j9cACxBScM0RBkFWEa1h3rHhMeQR8ZJkcuiTAVLTEr7i1yL1wsDiiUI2Ee5Rk0FaEOCAhaBH8D3gAS+h70T/JT8Xvu1emu5BHiOeM05RDlA+WB6QrwMvMV9kD8ygHRBgsODROuFEMYYx3bIAsjxyR3J18q5CkbJ54kmyElH8QdnhrrFLoNFQffAnr+lvgH9Dbweesh51TkNOM04cLcg9pF2+rZANib2ZXcod/J5FjqZOxl7Hnuy/Lq+DL/JABW/Vn9b/3j+hD7k/6aAS0EcAWzAeT51vSj9Pbz7fEY8Hvr8uXc4nneZ9pw3LXgXuI64mTgTd5C33Ljeej77A7zAvzIA+0HlwtXESkZfCF7J5Uq6SytL40z6ThVPVE+oj2jPdI8gTivMf0s/CrgJh0hOR1iGHMRRQxRCMQCePuW9PDw6+0b6NrjwONE5Qjo6+ql7KnuNfF49B33ivbt9hT8lQK3CMoNyhDsE34WkxdSGo0dsh+mIm8jGCAjHCgY1xRzFKwTmA8QDEUKtgQ9+4/1z/RE87fwge9X7tLqpuT+38LeaNz42RPcIN934GfiZuMR4+3kUeh06i7tGPJM82XtFen96aLoA+ef69TwAPJp8kjyy/Bx7+rt/uub6jTpCufn5GbkiuVI5cfiEeMk6PbsP/B39BX3tffM+uH+AALuCIATxhrNHCodER71Hxol5y3ANKY2STZBNaE1pTZUM+4wfzSyMD8gFxRAEyMTTQ+iC4IHV/8D9oTw4uxw6GrkYuEw4AredNVpz5XYseam6y3t1PEj98X8ywE0BdQLsxW4HDohQSUNKIot7jbuPCQ8xDdaNFk2jzntMx4o3yD9HMAUfwlpAaf9HvvV9JjnLtky0qfRVdJL0nbQS87gzYrMlsivxLDEp8yW2eTg9t+F31HmOfHq99n5m/6RBRIGxP+P+hv6A/xG/ur/Ev92/Nn6yvoz+4r3ruyB42DiJd+g1dnRNthT3pvdjdrT2ATYANyG5b7t7fOO9/rzDPI3+WcAnAloHGIsATA+Lkwt/TAnOQ1A1UT/R7ZGmkFtO+E2xzSeMrEyXTWwL+MfCBNBDQgJMQX+AQv9ZfVb7YHmneD53cLfV+JT5LXlpeTm5JfqtfDq8/H36/03A9cF4QUKB2gNmRdDIBwlJSjpKbkqjC3VL8grVyU+IhcgKx3QGT0VEBEpDKkDH/zY+O31LvFU6j3imNvT1X3RONEX0hHSINJS0HnNbcq6xrrJTdN+13DXa9jo1a/Tsddf3eTjwOms5jLertsm3wbju+YA61Ht3etj6Tjozub646zikebh65froego6pTvTPTa9un6RQEkA48B9AOWBzoL0BGSFcQWhButH4Qkuy1/MI4rqiroLAguyi7ALGIqmiuWLGorcieLH14Z+xZGFJwTVxQ/DyEHWgGu+kT0DPNB9J70QPTu8Ofr5us78Xb1LfgD/rkEqwbzBRMHgQlDDV4TYhlPHUUfEiBVIzYqCi7EKpgm1ibiJr4hThvdF2cUXQ65CI0FTAOFAMb8G/co78jlvNxQ1xHW2NPUzi7LnclsxzjEDMMmyKrPadBhzFnKLckYycLMQNJN2Kndlt+g4MLjUOZU55rqu/BP8xHwle6P8ATwxe6u7+jvvfBy8l3yCfW5+5D/DgEXAwsDMwTNCjoRfBSaF9AY7RckGqAeoyHyJJUqQjJ7OM838DO2M90y1C7nLFEswCoUKjUohyNUH9Mc5RorGIoT2g1LCEwFdQVAAcj1mu1D7kzxxfJa9Jz2Yfg++bv5w/ka+1oCwQ2XFBMWcBinGtEaoR7LJfEpcS6uNjo6vzXdMVYz/jWvNPcuXSgOIzAewxemDtAFUgEG/9j5V/JF7PbmYuB+2h/VM819xYXCaMLPwHO9Hb7HxLnImcf4yP7LUc2dz9PRFdT32IzbQdp624vg7eZd7GTvRvJv9CfzvvEl8dHuAe+N9OH5JPof9YDvQPF3+Rf+BP9kBB0KNAkmCG4KPQwlERAZQBx2HAYe3x5aIJEjJCUHJl8p6izsKxonfyTUJFUjth+cHEcbTBtyGisYAhMOCkcG/AoYDBoInAbaAr36o/WL86/yYvWy+Dr5w/lv+/r6U/mn/BEE6wfNCB8MTxDuEggWmxtVImUllyT1Jj4soSwHKS0oVionK+InYiMZI5gjYxw4EdILgQnbA5X+g/wc+D3vw+Y24WbcJ9fD0rvP180Hy+fCp7kTuh+/br1vvWzGo8s9x1jCnMG1wxHGUMiezb3SC9QD2Hze3eDh4svkMeKu5J/vM/Q48YHy/vQ/85j2VAN0DigSOBbBH44oLCoXKJUooyt9Mfo5IjwAN8020TcrL6snlilPK48rIy5tLL8i1xZ9D00Nrgm4A7IBYwEj/Uv2XO6E6CfrJvKF85vyp/Za+L7wcOl86rruVvMF+gT/Sf8I/7UC2AntEMYUBxbaGC8dzR2NG8QbFh53IfkkniQQJPUnVCnNJ/Eqby1MKV4kjiESH5gcERkpFHYOEQm7BH3+ZvfZ9N3xr+ju4Erf0t172UrV9dKWzaHCrLzBwFDDG8M2yhrTvNTm08PS1NA11fHd/98c3onf697B2ZbY8N3U4ujkGOjY6zTs1uoy65jsqe4f8kf2g/os/okB9QZDD9YYAiDGIW8jPCsyNGY49zghOJU5Uj0BPJM2RTUGNhk0+jEcL5go6iBlGoIU/A67CCkCd/2H95LsLeIv3xvhl+GX3gDcj97+4x7m0eT55B3ou+uY7w/1evmd+0r/XQQXCEIMxxIuHEkmvCmUJnQlWSeiKcosvC0yLPIsoi73LYIsFiyuLEQs5SmMJ8ojXh0XGAwTeQr1ADH5F/PC7srp/uKy3V/bINnI0xTNVcpoykvHOsLuv06/Tr/+wn7IbsnoxyDKKM1szUnOa9D60WHTbdPB0bXRadVz20zgreMN6WjuxO/5783xmPUE/fIFdwtPDeMQzBr2JRcr8C0lM/s3YDsEPm0/e0BfQaRB2z/rOUM0ZDTFNU0xzSbGG6kUTg/HCQIFbv4q90HzOu0+49bec+Bh4JLf3+Dn4E/fLeHA5RTo9Op58B3zJvQq+AD86f+wBYAIxwisCjEORxWdHWUgZiD4ICsfgx7hIwEs8zH5MswwJjBdMKYuvCyoLKct2SyXKGgjOR7aFmAPCwsVB1kAAPlc8h3q7uA42Q7SvMstx2nD8cIoxTjDdL1ft4Ky77VSwLHGQMuy0ErPUstTzQfR4NT923LijuMR4dXfjN9x3e7freqG8+z2CPsh/m398v1IAjAGWQf/Cz8YZSPlJr8nHSivJ/krSDTNOPA72EJBRb89SzW8Lygq9yn9L9QvqCWKGsIRMQjx/vr4OfU28d3sa+iA4jjbcda91RbUsNCV0s3YHdzY3q7jWOWv5Pzn2e2t8p35jQSwDPwNwg4/EYkS9BgFJz0wxzCEMXQymTAgMXU1vTmsPdtAy0HeQOI9YTtgPIo7PDZTMj8utiabIYQdhBNUCaQEtv678rjlKd7f2uLVVs+dyV/CQbueuHy4y7lmvB26F7QZtEG4obobwHDHqMfoxB3HKctdzsjRZ9S61ozYT9YS0ZDQvdk35vvsQPJk+yoAbP6VAKcIAxM5ID4sDTJ9M9gyzjIeNxo+PkRXSWxO+lJJUdZGsj3sO007pTjgMwotFCd4HjURvwidA6H4ve7d6sjlfd+k2jDW4tJ6zCPB7rvfwenKwdFA1TPVyNXx2ULfS+XU7TD2IfymAuIJ9wyMCyUNXRdoJOgsYDOROSM8SDwTPWdAPUa8SNVGrUYtSPdIvUfIQo0//z1iNYgsPCudJisbUBFlCioD8vYO5lbb99nN2dHXFNQtzNrAbbemtEO3CbqIuca28LZZuUy2brEztb29wcLgxsXNx9ID0Y3NJs/40pfVeNdX2BDcHOTE6SPuF/Z0+/r6Vft0AfwMchYnGDwZIBxbGTwWNh1JKRYyWzgGP0pEm0MvP0o9ejypO/U9Iz7XNzcw6yY7G4QWNRlWF3EPJgrgBrD9WfAU6J/louML4CDa7dOp0vPVCtnz2rPcst0X3sXfjOKV5KDnh+1f8032Nfe3+uIELxEdGcQe6iVMLRExDzCDMB42azuGP9lESkZSQus+3T3VPT4+7TxyOB4y6SsXJVEahA0GBbv+xfTU60fo+OPC3Z/ZE9NRySLEesNDxD3HMsd+wJO53bXzsNWq16xnuenC0sPYxULJR8ljyhTOyNL328Ppy/Xm+an37fUr9p/7IAt8GYsdcSC1IRwZJxDDELUVuBqzIM8kNyMbH3MdFRxkGiceFyZFKu0oLyXWIH8ctRnYGXUaERmbF8MVTBApCRIEVQCT/cT8Dfvd9ub0TPUI8f3oueXY51bpxuhc55zk4+IO5VHnDeit7LLycfLT8GT1xPvv/0EGlw/hFRgZzB/XJ1UqJCunMKU5fEKwRKc8BjT+MSUw/ywqLrovbyqgIC4Y8BE8CkQAOvlo9hHzt+165nLe19ib0ITCFLxbwazDaME3wU26Eam3nfye0aBRoh2t/7hSvP6/ssOCwVzKbeVH+7AEzRK5IggjLxvqHJcktC2PPZFIrkIdObkzSCuDJNglfibnIRcgfR6ZDq33RfD783jz1vOj9n/0FPKX8YXuVu8M+BD/twDxAgsFiAKh/zsBsQMqBGIE6gVlCaAKkAWIAKsArv9q+JbvWeyW7HToAeIt4F7ipuZ262/uX/Ls95D7xQD9CXYRWhXkGRMiviqdLGssHTauQrFFAEaVSdRIK0EjNz8ulykUKMkkXB5rFpENnQPj+sP3NPjs9fzxe/BL76voodsX0qTSodJMzJDJNcuGyOrBOLtXs3epSaGRnmKdIZhzkeCNOY9vldSaK55yrNLKTOfL9Dn+kwxcGk8nMTYyQoBL21ZLY31uqXQKdDVzSnTbctRu7WhgYoxaJUm/L2gcfxJ9DSAKCwO++Yj0J/Ex7JjmT+D/2qHZ8dvu3qHdA9fo0f3SR9f32lzdduAZ5fzlit+W2ATX59Yn1QXUItMHzznJxMnk0jjcXOJa6S7wwvU+/M0CNQzCGhslmSaUKHAvozX8OapCxU8vV+tW8ldDWbpSJkZgOg0zVzBKLnQppSIOGz0SIwp3CNcMYA1ABwUC8P0/9aDpQOBv2oTWPtMB04XW2tej017M9cJlud2z0bEdsB2rm59Wk1CO+o5Xk4OZo5u2n0mvwMCly//YSutV+SwC0AzNGoMo6TVkRGRQ6VfxXapiY2U6aJVpf2dpZ4NqvWXpVJpETDxONb0taCtDLG4pciRgIqYg6RoSFFwQIBAGEb8MlQBT9Drteuf+4G3bINcn0/3Oh8sfyFvC6bsZtx6y1K1ArequhbFJtjm7Pb4jw+nNVts95S3sjPZiBGgOjhOKGAIeliQULp04bEPaTOlQGFVXXoZi91ygV9VXSlnZVeVMmESQPvE4pDVrMa8omSFZHsUaMxZ9Dc3+xfE56rzihtjrzjvJhcRzuyax36vaqVunB6QKn4Ka0Juwofulk6coqD2pea/MvDnLwtYQ4gHuR/iqAMoHow1HFKcd3ibvK38t1i0BLYkrgStKLeQvqDNrOSJAbkQqQ6A+9D0fQ49Hn0aiQ4lCckJDQlBCzz+KOGAxNi+NLvcoeh1MELoEjPmw7OvfXdfm0sXNh8ipx07HjsJdvX65QrX5s6u247l5vB29xbzNwb/MV9dq4Dvqr/Nn+14CxwgbDTcP+BGzFy0eTCKhJnou/DZbPdRBtEIkQa9CBEfYSExGG0H+PEY7+Da3LT4lYiEIH0cbXhZADxkE2Pcv7u7jQNaByvTDar1rtGKtg6otqoqr4q2CsNC0W7tQwSPFAsr00X/ZJ99K5hvuD/RR/MsHxw6AD5wPAxAlD4AOtg7oDtwOJA7oDHcMTA3zDssRLReoHs0kvCf7KBYp9ijRLOw0YjuwPfw9WD18PIk7qzgmNGYvNikVInkcZRbNDUcGXgEt+7Tysety6HvnxuVC4mXePdo61eTRcdE20QXRLNNn1jPXZNVD1cLZZOAs553ucvTd96D7j/4wAM4ExArcDWsR8BbKGnMeOSSPKCQq1CxMMbIyFC90LMUusjBJLuQpzCP8G+oVYBFaCysE8/s58vnna9tkzHXCPME9wVy+Fb/2xRfLV8tDzW7T49yP69f6NwIvA/4CAQQiCZcPZhEPEc8QeAzYBdgCYQLBAJD9zfmo9vf0AvXL9Qn1B/TP9v37ZQBYBukNwhJ9FWoYAhsBIKMnsSk6JFIfgR0zHBEddR8bHQUWXRHaD/EM7QmuCLcFcQD3+0T5Ffms+gT6o/Ze9O30p/bc9vf1YPdm+bz2K/FH7mruZfAd9PL1zfJz7pXtzu9p8kHzy/L28/n2n/iV90b2+Pd6/GcBjQcmD74TExSOFEcYyx6UJCUmISVsJPIiOB8MGokUvg7JCPYCJvpF65fcxdWJ0s7Lx8KTuoC0z7Kttcy62sHeysfTw9u45AzxfAB/Da8SLBIPEvMVphsrHCQWdw8ICugGtgkRDewJrAXzBKwD9AB+/4j/OAHtBHwJxw37EW4WoRriHhgkYCizKWcq6yvyKdQhvBgMFIkSHhIHEtsOJghLA5MBUP8I/Gj4bfNi75/vufEa8s3x5/G58fLxFfMT9Yf3BviS9q31ZfPk7pjsXe2W747zFveb+OX5GvsP/Ib82/qu+dv7lP3Y/AX8dvpo+Of5J/+9BO0JyQ4yEqcUSBfxGW0cQh3DGk4XUBbtF0sZ6hRfCfL9Efcm8VrqW+Pn2n3RtMkbwwi8W7c7ud+/f8YrywzPK9ZX4nvuUPc1/1MGlgtREMkU8BfYGFgXhxVDFMUR3w4vDccJxgLq/Gj7Pfqq9733EfvD/rMBhwMnBtcLrRGWFV8ZEBxSHdIghCYdKukpkSfzJAIi1h1OGfYVBxNlDk8IGwOG/6T82Pln98n2dPjJ+k/8Afv/9Unx/u9v8D7xiPH972nuSe/j8LXv4uwf7bfvH/At7yfvGe9x76PwGvGq8MLw2vPg+pYBowSEBbcFowZtCRwMqw2pD48RPhJEE0AVNRb4FfMVCRXAElYRMBCuDLkGBP9z9nzu4ufo4yfiUN/02kDXI9Xh1aLZn94C5O7nl+lh7vr4GAKOBPsEHAeGCKEIZgnJCQEIDwUwA/wC0QEo/vP5+/Uy80zzyPOa81L0bvLt7uDx1fgG/LL9fgHoBZQJlQvzCyANzhDcFWkZnBqiG2kciRo6F7YVNBUgE7cQjQ9nDQ8KYwjRB1cGFwTZASgCvwWRB8wFLQVOBsYEyQBl/vT99/zj+ob4V/bY837ve+o26TTs/+7P74rxF/QC8wfwBfGT8+j0BvnB/nYCoAUwByYIRw4ZFlMZGBscHkEhwSMgJLIjgiNMIFYcpxykHbYbHRkjFjcSWg71CY8FiQIG/r/2qPEw8PTtSOpg5xXl/ePt5M7lx+Ul503qC+3H7k3vYezb5w3nj+fm5MjiDuJC3tLZ9Nft1J7PnMxrzvTR7tPF1YPXEtfi2EzgKuiw7hj2afzjAYIJXRA3E4cV4Rk0HVweNyDvIaggzR5kH8YgIyENIQIh0SA2Iaci0SIwIbkgbyBDHqgduh/9IL8gWB/OHBIbCxqDF4ITDA99CmgGSwMCALb5C/HB64LrwOu+62Tu1vER88TzmfXP+Ez+KQQuCBQMNxB8E7oWXRnvGjQcOxzXHOIfViGQIJQfaRuXFQ4TARJoEXkSPhJfD4QLjgcfBPj/WPuB+U/4IPSE78vrWOc644rgsd/X4OjgJ9+R4JXlfeh+50rkY98r2nfW8dTg1N/Sac7cy4DKesaowVu/BsLgyTfRWtVJ2PTYRtrf4HHoRu5n9Av6dwEZC4cQdBI3FBMTfxIaF+Ib5h61Iq0koCO2IrUiSyMdJdYnlyo1LKkrqSpILFsvoi8XLUcrDCt3K7MrtSmGJbkh8R0lGQ8VHBEyDFsJAQjhAuL6wfS48NLtC+347sTy6PV29ub11vYp+tb+bQOJB9oKjg2VENMS+BKTEukS9BNRFdAVuhWeFWQUChMWEnQPIw1eDRkNCQzEC90JHwY4AlD9+PiX9mrzme/87HTpauRe4E3el92Q3Knbkd7q49vmzOiO6qbn1uFq3w/gXeFa49HjseC926PW6tENz9fOEdBj0aLSvdMH1DrUhtaS2s3dQeCg5M7rUPPv+Dv9fgA6AhcEEwdjCiQPkBVHGzcfuyDzH5cfByGFJJQp/SsOK7wqkSk+JmckWiNdIYsgJiAmH7wenR0RHNkb2RmwFNMQQBALETERIA6XB54BHv6g+1D75f3V/2YAdQHxAFf+oP23/5sCCwahCWAMdA7iD2oQmRCCEGsQ6xFmFCQWSRjAGbYXQRW2FIgTiRKoEtUR8RDPDy8MzQa+/xv4X/P57+Lr9Ofk4Z3aDdf11cPU1tOe0hXTftfw3FLhvOQ65fPiw+HZ4lXkF+b359jno+VH4mTdKdi106bQH9E/06HT99Mr1DnTn9Tu113aZt6J5WPuoPZt+2z/LwXUCK4KEw5QET0VlRskIAMh2B+eHAoaRxs2HUEc7hnsFw8VXBEsD1EOcAydCrYKvArwCWQKbwsjDIsNEA6WDM8Liwy4DewOng7cDO0KIAgcBhUHTQhgCG0IywaFBP8FOwm8CSwKCg2NDqEO/BAPE38SDBOHFWgX5Bc/F38X0BgeGfoZ5Br9GI4XAxfLE7YRzBHQDjsK8wWh/8r46PKf7cfpTuWX307cs9p/2GrXstaO1CrUYdfa2s/dAeP+59nnQ+X/5NHkpeLL4QbjouKA32rbQdaizzLKG8hVyL3J4suEzZbOS9CK0cHRJNUo3n3oiPCK9z/+5wKdBF8FLwg9Dc4SuBiSHvYhuSHWHyEf+h9yIJAgnSEwISMd0higFt4UshO6E34TRhOgE7sTVRQNFVIUdBMOE0cS+hF7EfoPgg/jD+AORAw5CWYIowq4DLoN5Q7EDpANKA43EP0RbxTQF/MZlhpHGzEchx3BHjAeAB2xHMIclB2GHTIb0hkcGX0W9hNgEdsN4AsfCmgG1ACp+D/xT+1I6arkL+C32h/XQdUu0tjP781TzLrOVtLe1Brand8o4iDkDOWL5NHkquVb56PpZOpd6o3o6+Gy2tPXa9Yy1c7WtdjF19PWrdYi1dbU49gw39fkpuke77D06/fA+TL7n/vx/igGRws1DtwR8RONFb4Zqx0LH7QfRiHSIiciYSDGHxMflx4GIOQgsx+DHiQecR4gHxkfCx6WHLcb4hpsGDMWCBaQFXAVYhePFxMVoROOEhgR+xGlFOcV/xTgE9AULhcmGWcacRqJGlAdhyBoINsdQBvYGY4akBy8HGgZvxVoFAgTDBCbDMEJegjcBksDdgDq/Gn2dPEd7ezkYd2R2ZXWv9Nu0LXMgcqdyenJIspsybHMj9Nm17LZRtxm2/jZBN3+4ZTlquic6+fqzuU24Z3dXdkb2aPdG+Et4hri/9+43BTcpODm5nTqDO4E9OT4cfsM/cv9Mf8fA0oImQxgD6YQIxIVFgUaDRo4GOgXNhl2Gx8cUBmEFZ4SEBGtEQ8TzxM0FO8UoxfdGlEbARs2HAcddRwNG8kZChkDGAgYsRl0Gu4ZmBj0FrEXexnVGC0XWRXJEiESahQNF8IX3BbTFhYYDxkcGcwXyRbHF3EXdRQmElEQuw2ZDBkNAwyACNgFBwWjAm3+vPoS93nzpu/l6Fjgqdmt1cfT59HcznzMQMu8ytbK1MlhyVzNfNMF2Gfbkt2h3dDcMt0f3zLh1uPP58fpmufE44XfENt42MHY7doA3Ujdctz52xDdueDb5KXnGOwa80r5kv35//f/qf9xAUEFqgkBDAcM1Q0hEv4TQBJhELcOEg0GDugP3w7ODMgL5grtCoYLkwv/DBAQixOyF2caxRpLHJweeR6fHY0exB8qICIhsSIcI1wiqCFhIv4kSybTJOEjziJuICoh7COhI6EiASNHItsgESBxHzIfkh98H+gcBBjwE1YRwg6xDC4LHAmPBg0EBQFV/HD3+vSm8yjxxOym5UXe1dnn1jDU6NDey3PI7cg0yaHG7MPdxZzMENKN1ATXSdh12BHandse3Ojc4t4Y46fmseX34vngh94E3Z/dL98r4Rri5ODl3yDhl+Nj5rLqLPGd9xn8qv95A9AGzwhmCjoN9A9sEA8RKBQqFg4VOxTlE0IRgA5YDpwODA50DRsMfwoHCrEJdAkjC/INGBDhEYcTkhRXFYkWFxjcGBIZChu0HRwejR6nIJkhuSKsJcImKSaEJlEmFSYYJ1knMyemJ/gnQymMKpcpgCh2KI0oEimbJ3AiMh2jGaYWqRSvElAPnwxVC6IIRwTeAPP+uv1j/Lv46vFc6jPkjN83297VDNCHy1XJc8j0xf/BAsEpxHPIdMwe0JfSUdN405zUydUM1rvXyNuf31Hhu+AG38rd/Nw23B7csNwj3S7dmt293ijfO9+g4hbqdvHo9f74Ev2IAVwE/wVLCHEKWAsrDroUERpcG1Qcyx3mHGsauRjhF4MXvRcjGI0XthXcE7oSoBLjE18VfhZJGLYZ7RhzF6sXBxkhGoobrh12HwQh4CK0IzAj9iLII0wlQya2JbIkziM3IncgtR+4H4IfuR5XHmgeNR1tGxkbsRpmGIgV+xL7EDUQCg8iDMQJbQjyBZEDQwMaAwICwgEiArn/mfjQ74PpXOVL4XzdiNqy2KfXK9XT0FbOkM9B0pzVIdrD3E3bI9p73J7eat934hbm+eat50joeuWF4aHeXttm2cfY99U70lPQbdBA0nTSZdEw1hffhuRR6Kzt/PJp+FT+DgQ5CSMNkxHuF0cdkSA7I8gkRSVVJUskPiIHIAYeSBzZGkkaLxr1GBQX1ha2GCIbER2fHvYfUyFAIuohiCFzIaMgjyH5JCUn3CdVKCAooCj3KMAnvCZwJCMh2yAAIOQboxi3FDQQzhD+EvYRpBFtEiMRHw8EDjENQgxsC5kKHQlYBzAGqARKAT39iPut+/f59/b981vum+dg44rfcdsX2QDX4dRP1ODTbNLo0RbUtteG2jfcA91G3kLi3+YP6sLtC/C075/x9fT+9Hzz7vE47xzsLOia40XgntzK2JLYvNlw2LnYnt2R493o4e208fn18vvJANIDdQZpCEMLXBBZFfcY5BqkGsQayxu/Go0Y/hYGFcMTbhNXEZ4O8QyBC/oM6BH/FBIW4Be1GP0ZMx4HIqYk1ifEKXsqKSuHKt0ptyrrK7ssWCthJ98jliDiHAUbWxk+Fu0TmRFSDrYMvQzJDPMMiAzoCqUIdwYYBRYERwKO/7z8D/sz+gr48/RI89byDvIa8VHw/O1Q6dTkleEW3ibbVdkJ1yXVbdQy04XS7NOE1bbWf9gl2o3bF9484snmF+rP7LrwN/T49Jr0zPRm9LryefDz7WTr1Ohm5SzhnN6639fiFOUL57DqLO+S88L4hv2kAD4FgQzWEbMTqhU2GKUZXRsEHjofaB7XHN8aCRmQF18VfRLfD60NYAzUCwkL9AolDO8M9Q1lEHMSWhUGHGoiISSAJA8mQCf4KE4rbyuFKukqWCo2J64igB20GKoU+hBIDoMLjgdrBA0Cyf87AF4CUQPBBAYGpgQcA3IC9gAaALr///zO+ID1vPLV71rtz+sP66jq4unm5yjl1+I24SbgR9/j3b3b+Nh01oDV/9UV1zzYNtn12pvdr9944uXnWe2F8E7zdvYP+Fj4gPmy+tf5XPgo9+bzqu/K7YnsMOr36cns3u/G8i72h/kc/boBFAemC6AOqxIyGewdOh+UID8ikSMtJpYokCg6J+YlZSXFJGohrRwEGZ0VARNOEb8NuQlDCGgHvgayCCwLpguZDNEPQBQyGUUdgR+lISokcSWGJbgk7CI3IVIf2Rv1Fk8R+QukBxMD9/7L/SH+YP15/CX8Svt++sD6zPr7+SD5j/cG9eTy6PBD7g3rseci5g3m2OR55Hnlm+Oz4Nff7d0q3PDdMuD04NfgpN4r28jYN9gw2R/aDdsT3knib+Ul53/nCejn6ljvU/MF9n33EPjc98D2DPWo8yDzL/Ql+Nf8Lf59/U/9u/1HAg8L5RCAE/kWaRn7Gsodkx8aIYMkPSeiKJUpBimnKIMpdCmVKcwqbSr3KFIn2SLsHIAZuRfKFQkTKQ5FCWAH9AbuBssHYwipCW8NlxEfFJsV0hZEGFEZbRnrGDMW/RDfDC4KAQYwAXz90/lj9lr0cfLj75Xuze6s7hXusu107APqo+g76Zfos+W340ziC+Au32PeItyd3O3e5N6E3p7dedoo2Rrb/d144Lng5OBz4tvgj9773/PfL+Ay58Lt2e287BXs3OuT72D1lPiN+cL5ifhC9v70o/Xa9rH3G/rv/88FLQhBCpYOpBLEFt8b8B6SIIsjayaOKOwqciyBLawvFjIuM6EyyzEeMnsyiTFtLwksaSgtJnkkeiKyIC0fRR52HS8bpxiAF9sWWBerGUwbdhqHF9UTfxGlD7UM0gpxCfYFjAIe/+34h/P68AHu4OuD6xjpteVD5Ori+OGF4jjhXt3S2arWudP40EjMCse0w2a/iLqNufO5D7lwuVS5TrgBvNvC/sY3yb3L9NB026fmVO2Y8Rn2QPyjBMkKTgwbDqAROhOqE5AUZhMBEVoRBxMoE50SwRHuEOIRlxNfFL8UxBRiFWsYXRz+Hvgg0iPyJyAsuC8aNBg5FD7URHhLJk1ISxJKjUmASRRJkESuPE02QjF6KmohShdSD1oLnAh4BYMC/v49/Eb8X/3A/qABBgXDB54JHgoFCuAJeAgVBj4EZQE8+zv0Pu/R6sfme+NO3RvVPtAxzbTI/cPGvou5rLZLtJuw/awVqrGpLqwMrbur86vYrC6tt64VsAywCLJht7a9G8NxxhbLcNZ45GbuDfYS/acD2g3lGDAeOSHeJdopwy26MWczdzSVNvg4cTwfQGFBSkGWQSxB8j/qPk49ojszO+Q4LDOqLp0s1ypwKr4qsinDKCgooSdsKVMsHy0hLJ4q3Ch+JpIjpyBkHGMXdhQ0EKQHTAD5+yD3JvRh9U/2IPQS8d7u2+5f89T5+/tD+zD9WAAXAlwD3APTA/oEIAcTCfIImAWHARD/aP2i+vb0ne1Z59rg69f9zSzFob6Yuqu2+q+jp3KhYJ6OnDmbg5rumoWdu6GIpsOrXbFOuRnEgc3M1QXiZvB0+0kC1wbeC3QSbhjSHE4gbCInIzIjmiIvIoYjwCWyJSkkpSU7KWYqKipvK6QtwS8wMVExzDDlMIEyrzTPNH4zvjNFNHsy6C8ALoUtDzFQNa0xlCfJH04bJhfiEloN8waQAWT7lfNx7k/vdvOh9dT2Mvz1AkYFLAVtBhQKJRH7GIMcERz/HDkhEiNoH7QcYh4ZIOcfzBzxFM0LGAWe/+T5ZvMu7KLkdNxj1c3Qhct/xPu+s7u5uEa0iK5gqvCo8qnqrcSvMqrKpDWoqq8OtEe1lLafvLrHiNEZ2HvftOdE7nXzdvkJAyEOYRTPFWMW6BbiGeQfRSOaIykldyefKoIvOTISMesuai0VLWgtLy1aLBEqSSY1JIcldShsKswpLSjiKNQrfC05LJcq0SiGIhsZBRMREKkNRAzpCJoBTPvp90bz2u0C7q70e/rj+5v8+fx2/FIAkQhCDwQX8iJBKn8o7SV7Jngn7SmPLb4tPCqjJl0jGh5mFj0PPQq1BPz86/ML6uvgk9lD0v/J28HHu764OLZHsyGzLrU3tge3Pbh2uFy4YroiwMTHHs5D1JncL+by7hT1rvhh/LQAYwS5B0gKUwqKB0YEHQScBuoHJgjUCfEMThDmEf4QABE6E4QUrRSDFXkV3RNWE7cUWRaOF90Y/hrnHFocfRoZGRUXTRcfHE8dXBbNDtkI4QHI/jcBMwIrALj+ofud9LHvnPFA98r+ZAfxCnIIqAd6C/IQJxfMHfMjPim5K9UoJiN5IaEkpie9KeQpAiTCGz8WMhAMCV4DvPzc9Oztg+bx3fzUccxwxhTD4MDpvbm2Lq7Sqxquka+TsUa237vevzTC6cVgzWbYweRo7nX1Gv/5ChYT4hXKFgca5CHcKgAuRyq5Jaoj5SFlIIYh3CNGJGwikyBsIRMkYCSEISgfnh76G1MVrA/tDm0QMhGIEAEOdwqTBj0BCPsJ+AH7l/81/xj5ou5L4obbm9xr3mbdptrH1izUytJ60OnRzNvH6FzxWPUY+QH/mQazDmcVgxtvJFosgyyWKCQnDyjgKfAq9imHKCElKR00FVIRUw4wCb4B5viG8QXt1egG4xzdQtl01o3RiMrAxMjCLcQrxdfD8MMFx4XKOc+71FHYQd7O6F7ygP21DpwbchyRGWcalR6dJYEtfzEQMWMwRS/LKWMiSh7yHOIcrh4/IWsifyAwHFEYFBXNEqgTJhVmFIwS0g7RCjsLYQ2yDRkOhgxRB3gDiAL5AikFlgRg/GHxDOoJ5k3jBeFQ3tjbttrS2bHYSNmY3NzhHujP7fbx0fWA+34DKwsTEOkTCxm6Hv8iZSQhI2shgyGeI8wjGh4pFhoQJgkYAaf6XfP56s7lpeIC3ZjUQMtRwmm7vrhFuai3kbOlsoK1tLiiu0W//MTFzPjU6d1o5jfttflvD1kiGSqMLD8uWS9eM1Q7/0FuRWFHHUWFPUY31DWzNcE1XjeyOfI5rjVHLgcnWCHZHnEfRSDyIKgf9xhAEdEN+w0hEgEWKBDZA977B/mi9yP2afO48NjuceuS5rnj4OR85wrnquPx4evjQeeb6G/oX+vN8UX2ifeq+Tj+tQQqDZETsRKoD38SeRVIERUNoQ/cFLwXlBViDwELUwnEBKP7WPLI7UXs7ubS3TrWPc9Lx7jBNr9svXq7Cbj5sbesjKwor86wxrRsvWPGZc0t0oTUmdzu8ZIK1Rh8Hpwj5yh7LGEwBjZiPKBDR0kaR0U+1zdINnUzkS14KnssWi5oLCgnIyBIHBof2SI0IgohUSKJIv8fLR+aJBAtqi9XKUsgIRtvG+MdRBt7EeMIuwQO/H7tF+TE4y7mauUZ37XXhtdR3bThnuUZ7Yf05Pdh+gIAuQgIE4sc7CKjJ+EsWDDrLjEp5CJvIAohiB5CF7gOiwXW+qntD9zAypfCFMF3vMay8qcAn5WZJJg0moacKptxmYKciqFNpuCt4rVJubm8zMU0zkDT0+El/HkQ2RnxIKsidx+TJMsw3DhhPktE/0WpQwJCt0DIPMA64kEgS9dKckX0P3EzCyORHD8g7yNxI6UeXhbaD9oPoxRMGvscQBg+Do0GmgH3+9n4Y/sLANQB7/3V9un0xPojAHkBUQRwBtIAHPnp9uv3SfzBBDUKPwttDqEU1xrZHrUf9SDrJIMoSyn1JcgfkRyoHQofYx/ZHWEYMg8PBNj5//H96dXg2NdTzjDFA78Guu6zcK+trl2tVqYznPGVBpWSlmuaraAVppqpha3OsIq0icEN2Hvri/i+BL4L3wnoCIMPyRl1Jqo0ezuXN9sy1TEGL0gr3iynM106YzyrOaE0uiwgJPwglyKrJAEmnSOSHUsZehgXHA8k6SdiI3sclBZ5EwQU2RFBDMQKKQnL/fnuxOiG6jLth+5R7rvrH+nn6PLoYemC7jr4swJcDBwV+h1IJ4ktPDAeNQI94EGZQQE/YTxkOq83MjOGLpUpgCKEGdsNwv7a8KzmkNulzcG/QbNiqp6mLqOhnaOa/pl2lmiS/JINltmYBJ3ao8Gs9LRZu3DH094p+FAJGRWMH0YmvyiWKjEuqzN5OY87uTe0MkIxGTErMHIw3jCrLk8q2CJzFnUKTAamB74HsgZhBmwEOgHp/9z/DwK4CP0MZAitACT59O325eHqbPV5+7n9S/va8zPwQfOB9t/5iP9UAgoAAP7M/+sEsQylFZAcWiFQKCQxKjaxN4c6kT6DQuBGwEfzQPc3fzXBOCs7zzkZM+glTxceDDsAbfEw5tjfq9dAzWLEw7p8sL6r9KpLp2ai7p9lnXSZ8Za0l3eaRZ0coX+mNal3qR2w8cBp1cbmGvKc9rf4NgB8DQAaLCWhMe46AD61Pm8+nD1WQHZGZUtzTQJN5UqXR5BAoTROKZkkVSOrHLkPBQQN/Uz6evx5/4H8mfXb73TpRuLB4Jzlk+oB7z70O/Q57Rjphe2z9rQBWQpgCesATfv6+hv72vrI/GYCRgskE6EV3BSsFUcZPR8oJyUuJTDCLSwsay0kMHg18TufPE421i0AI8YUewj/AMb5A/D05WbbM85nwbq4U7J8rLOmXJ4hldGPUoyKh5SFiYkGkXKZ2aGbrAO/SdiZ78z/8wsBF60gGymkMAM4eUFmS7pPLE60TM5MqkuiSR1I20UxQkk8OzBYHvwOSgeTBGMDzP/v9xrzYvYC+gn65/12BQQH5gEh/QH5zvNo81n7egR0CTEOGxS1FVgR3gwCDgYU8RcAFOcKgQOj/7D89/ky+db7WwKwCpUPHA5KClcKAA+yE3QVgRY+GQAc2R1wIcwmuSnCKBImcSKoHQYYJhAeBYH6xPKD6iPgMNc80C3JtcPFv3S4mK6mqJCmtKSapOGmPqjBqBOq5ayptrHKkOD679r50/+/A/IKexXKHbEjFiomLlEtZSzwLUos6CbiJt4u8TavOHgxdiLdFUEUAxdzFWoSORCiC8IH/wicCvEKRhBeGAsavhWhEAUKPwK//YX9mQDBBkcKggVC/w8ACASeBlEKPQ2XCj8FCAEt+xvzre+r9H/8WwJPB4MJAAeWBpMMARO3F/MdRCK2IFQeHiCJJFQpWC2ZLs8sCyoMJtgdOhG/BKv8Mvjb8pHp1Nxnz8vEWr7iuB6xsqj3oQKcSpfTlcSVcJX/ltqaUKOVt2vTR+b86/DuefbdBGcXRiQnJxgnCSpWLzw0CjYANZc1gDqpPwg/sjdMLBUgMxj0FdQSiww2COUD9PkL8V3yZvgG+zD+mgNfAgL6KvTn74/oKedN8Rf8QADZAMj98Peh9ib6fPss+xz97f2M+1b6k/r4+Fz5IQHGC0gSFBbQGckaDxnMGF0aEh0OIlomDSeBJy8pgyriLvc2NzpyNT4vGCnCH58WBRGaCmYBCflR8Rfo3t/C2jvWos+LxyTAsLlNsrOq06V3ommdrJiGl8qYl56RsOjLNeFb6rjvEffd/wcKwRNBGgMgxyg0Mn43BTjsNtM3ADwOQKE/NTtIND0phBuQEHAKYQeGBEf+c/Vj8FLxXfMl80ry/PHf8ITuk+vc56XkwOS159zq6e5t9fX63fpF99X1aPfl+qcACwQI/2/2qvJc8nHyMPYI/lEFuwpdDkEOBQ0bEDAWmRsQIY0l1yULJJEk4yi/MVQ91ES8Q509KjhSNA4wOyqcIv8avBZlE2YJWvnS7L3mQuDw1QPLB8Bts2mptKScnsqU1o7JjEGKvZEfrADKc9p+4aDn1+4++kQJlBQXHHonZTWwPCk92z1ZP01BYEq4WMJdJFX1RrE1vCLSFcQQxA0fCqYFhv9g+PvxC+5y7BTqn+Xh4Y7fCdyw18HVV9YE2JzcV+Ub7+72IPt3+dzzG/Hg89L3lvgS9pPxjetY5ibm9Oqq8FX1hfgv+SL5MPvr/ez/gwToDPITORZOFiwX1hqKI9guUDbXOE46oTpIN/4xRC3HJ8Uhih7mG3sTwgbW/J71XOx74mvbr9MAyHK+lrvjt+atJaQunkGaMqBntgnQg98s6EDvD/TT+f0DMQ81GY4kjjA8OOU5XzhQNis34T50SS1Odkw6Rlc4vSZ1HCoa/BeNEqkKmgKA/R37vPjG9Qnz4PCv7/PuI+zH5tnjJ+ZO6a3rau/e7x3qN+ce7JHxd/NR8wrw9epQ6eHqaeun6mzpJue458PuSvU29ETypPZh/AMAMQWoCXcI1gY1Cy4R5RN3F84eMSVfKA4spi/wLcQnFSLzHIUXGRQ4EbIKQgLH+3X2cPFr7cXnKd4d1K/NN8l0wnm5t7IGrkKmx6C6qwjFQNtk6Jfx4vbm+aUBOgywEgAZ3CVzNCY9cUBLQQZBu0ONTIxWrVt9WzpUw0N6MWgmfSDRGtYVARC2BtP+xPzm+jb0ee0X66Hpq+X+4LHdsNuf26je3+N06bju0vLt9Gr2Ufl0/REBjQJxARL/bv30/K/7vveg8+Tzw/ex+r77/vvR+hf5Vvlb+6b9kQCWBIsIVQv6DcsSoxmJH8kjpSi2LXsvdSxqJgAgwBrTFZYPrAieAnn8E/RY6V/e1dRszJPEmr1rtjuucKdmoDeStoIjhd6c6be6yvLWc9194a7q6vd8A6oRTCa9OEJCIEdRSnhLV08UWVFjj2ofcNxv9GTxVAtHhztAM20v0SmdHQwRgAk8Au/3n+8R7IPpreb+5NzhOtwr2Z/ZW9kf2wjkv+6E8/Dz7fTU97v8jAIkBrQGLgc1CBsGAQBi+q33R/ZO9/r87wJmA0gA7P0h/Az70PwLAIQCNwbODN0TQxgUGh0evyd+MK8wwSwbLMMsOirEIw4aIxEfDuoMOAR49Y/qpOS43MTRG8exvGa0zrCKqouZEoelgwSPs5rMojmxNcYd1bfZK9og3UbriAW9G0Uk2CpmOCJFSUjXRLFFjVDDXkdm4mKTVohI8j2GM+omXh4gHgMfyRboBj77Ovjb9b3tlOKG3Lfh6Ouq7PTh/NnR3wPu8vYd92r3rvxQAu4D8QDj/XsDhRCvFqgPlgWMAc4Af/1L+Ob2CvxgA0YF1v719ij3e/61A5QE4Qd0EIcYkxqZGJQahCWhMvs2sjR9Nso7WDpSLzIiPRskGgAVYAYE9wTwzu1c5+bX4sJ3tF+00LiHsz6kH5Roi0aMgoxbg7GBtZvuwAXTbNJE0uTafOsS/8YNrRgtKSU+l0kGRoVAFkYPU1ldF2GoXoVZJVTkR+Uwshv7E+oULhU/EDwExvRJ6arjjt/t2OzQK86609fYitRBzdnO+tdC4ELn+e9z+Ir+fwKHAzcCUgKVBVMKfA8bFL4UhQ/iCNMF5ASgA0wEZgiFDUgQnw01CHwK5hbQIKAgrx5aJCIxwjx4PVY0NjBbOSxE3EJaOEowZS7iLIgkOBMPAMr2ePjY9mrmY860vrW61bbAq+GgvZ6QommloaO8mluN6YeikkykIbJrwRHY9+tY8n/vAu+L+iMUjy+DPf0/0kMNS8lNMErBRnpJEVTbYXdlzlTbOLcjYBvwGSMYthF5CTkFkwAY8fDZrcuJzWrTN9CYx7HEechaytvE0L3wwA/QCeCk5zvnceTy5u/wBvpb/H3+UAYGD34SnRDdC0wIGgsgEwMYJhfGGHAiaS1TMK0r4iY0JjQqhjJsOmQ8BDzJP/5EkEXfQYQ+oD6GP+M5UixhHusUFQ3IA0/5ve7E5WXgOtxd0jjB0rBiqXGrBbFHsamnp5t2mj+jNKN4kx+NnaX6yoXhs+m48Ef6TgR8C3MQYB3FNtxNk1KfSPo+hTyqPzFHkk+mU+5WTFsXUoQz/xPOB08JJgvDCSAEx/mo8DXrEeAZzVHCLMhF0pDVsdEWyJu+ybwPwBLDOMhZ0fXZ+N223iXglOKA5P3oc/FX+aYAcwkEDfwHkQTkCrQYDyk4NWk4VDkuQEJGtUEhOTA520AMRylI4UTmP3U+w0BKPxo2ECumJWEkYx0kDHr5tO9I7jrtgea53PXX5dcW06HH4r1Eu1a+h8KWw0nDCcbwx5nCCLx3wJHO0NWezNjAJcba2SPsoPrrCQgVwxfOFgUX5B3bL1JDUUoaR8NC0T92QRBI+kqBSytWSmL1Vesx3BH3A6YCBAiKDIoG4vhI7NrcjsWwsVKu9rY7vc+5IbDVpwWl7qRopPWosLnoz1HdTt6Y2ZXXnd+h8IcAXAsTFrghMirYLJsqMSl1LoU5wUWeTiRQVEt6REQ8JzQAMa0xxzDDL74xmDHGKXMeoxc7F9oYShcsEbUJlQJf+N3qeOHZ4I/lIutB7oHqz9+f1v7VItiT0qvHWcPrydHUE9n2zie/tr4B0YHfbNmyydPFJtEc3A7hUO4/Ce0fOCPlGOgQrBjEMJlHPU2nSHtHWUguRjdD00DGQv9PGV00U+g1rBzJDSMEJgIEBf4B8PgC7yPfYcb8sGCqjq5ttI2317TorB2nGac7qWOupbsSzpLcR+NL5VrnmOxj9m0E1xTDJZU01Du9OAIyXDHXOLdC+Eg0S3BMFkzuRas4zimyIlclziZkH80WLxQCEgwLJwPu/3gChQZdBbv8KvFG6BPjTt/23FXdwt0p3PXbkd1p263UPc62yiHLOs/v0gzVvNiT2yfZYNbn2Sri2urN8Azy+u896Zvb4dUv6yoPDyZALhIyZy0vIv0fhiiiMtk/KU8vUypIKjh0Ks4lFjC/PvFCz0AwPvQvPBJ19u7pienB7t3xUum+1sLFR7m3rcSoFLA8uzrBF8JxvP6wYqtZsoy+osuS3Pfu1vx6BO8GqAjvETAkIDWRPQpDIUmqSO0/izgPOOQ9ZUn4UrJQikVpObIsIiBYF80Rdw7PDe8LhgQW+qbxg+zb6S/qee0A8I7tpOUZ2qTOPsiYxwbKiM9y1ufX5tEnyyfIX8a6w0LDiclm1nLhUODr1GnO+dU75Wvz7f4bCXwRqxMSDf0EBQEX+8726wYiKuNEpEdSO10tGidoLBY5S0jWVhxbvExYMrAYgQcJB/UZhS7gL3IhIBFo/hXlN834wfLGTNY74EbX4sDOrdulVKbSrIy5x8n01bHX2dBkyqrMN9mA65n/kBRMJkQuYS0SK24s2zMLQRZOyVUUV79PpEKDO9w8yDyOOvA7iTq5LqsdwQyJ/LDyofOl95j0Ouqp3qLWQtPj0kbT7dMI1sbZs9zh21fXytKh0vXWe9oC2nLafODw5RXig9nn2BTixOqK7KDqjunY6hvuUe5+5cra2d6O8oUEiQv6DWUQaBHwEu0W8RaMDZgFEQ5AIJIrrjOTQdhIUj0cKt4fcyY9O4VJAz0MIMgI7/r19Tf+LQveEBgTFxLM/wbensSgvuDC58xO3Cblfd+T1+/VxM9gxDvInOD/9/H+2vh77u3q7vT4AusKaRQiJ8s5R0F7Pl44dTVmOXdB90bhR85Hi0WxOYslHhV6DZgKBgxFEKYOdgRM98nnENbkyq7KQs0qzOnJf8nNyj/MA8tMyFPMm9oV6dHs3+cI46ni/eXx6ZXt6vX7AwoMcAbD/Tb8gv0W/dL8yv2LAqIMexKWCwwBUf/0BdUP6Rm6H0UeCBjLEQMPpBBtFQEbSh6LHR0Zdw+6AK312vTA9/P4ef18BqoLgAUc833edNmf6An8twSDAXr4gvI49Tv8ywJhDBEawCMvIUQTbQXkAgkIIwrQCrwRNRvLHcgWmgkE/vT84gUnDt4O6wr7BsADDwBg/AH80AIRD30XXxXLDU4JWQjBB6UH8gevB2UHhQTY+sLud+iz5qjknOQN6IXpFeb/4DPcw9c/1uPYANxy3YLgtOZK7IjvXvNW+RYAdwYUC/EM4w0pD2YOcgtNC3MQnRaNGYcZABdzEZYL1whcB5AE5gJTA4UBLfz29nXz5/HX81H3e/j0+FD7lfwT+1X6JvzP/+IFHAwODZAJpwjnCzgOCg7RDvkQwxAaDUAJewcmBYD9w/Hq6m3t5PJk9zv/EQl3DEcIiALb/3gEkxDFGh0cZBk1FzsUAhJHFBwbdyWpLyow7CIbEYAEnf28+cT3EPdH9wn2Oe4K4LnUwtOl2UHeK9/D3kndEtlt06DQtNTK4BnwTfqT/PP72f3TArYHLAoRDdITLBo7GiAXVxYoFmEUbBO2E08TshJoEeYM7gZrA/sAoPzg9xL1bPNA8YnuJO0c7hDvXe7l7gvy/vM38pbuNOw07p/0x/mC+q77ugB9BmsKfQxUDEIMvQ8FFDgUmxLKE+0VMxWyEhsRLBHPE0UYBRnmEhIM5AqjCz4ISwOXAvQEGQX3AX7+vvwn/XH/uwHBAfb/lv7w/br8sfq697Pz2vC88LLvL+sk6DXrpPF799H7NP3D+lf3TfVX9Hv2Bf7EBY0GeAIbABMBOQW2DFkT9RRcEzAQrAmKAd78BP2p/+gClQU5Bu4Da/9P+uz1evPq82/2vPg9+BPz2OrJ5AfkHedP7IfyTPdM+b75zPjl9ZDzyvS5+LX8/P7R/r79WP6nAEsDpwUdB9kIhg29EhET3A9UDhYOCQzNCGQHEQrMD7gT+RI0EOINcgtpCSUJdwkKCe4IHwlhB9IDWwHsAG0BVwPOBswIDwcYA4b+v/mN9lb23ffd+RT7svjf8k/uMe3t7Ufwk/PI9NvzYfOM8oPveOzg7Cfxzva1+iD8Fv1A/1QCDQXuBksKRhHJF8QXqhJ7DvwMuAwvDfoNXw6MDn8OogyAB6MAfvvj+MT2d/Ti8tzxg/Cw7bDoZ+Q05WTqL/Dx9ZP7yP0c+0v3MvYb+N/7OgCKA+EERATfASX/6/5CAksHOQvrC/8INwSX/wD8OfoY+zv+FAIdBRUGWQSJAbEAawL4BPwHfgudDSgN7wrXB5YFwQZFC+kPyxFzEAANKAjwAe/78vg++QL65PhN9szzQ/HI7ZvqGupL7NfuuO8R7x7uwezn6irrUu+w9Jz4c/x+AY4Ffwb5BU8HQgvlD0QTdhSdE0QS9RHuEWIQJg7XDRMPRw7+CcQEggEoABX+/flp9g320PfX+ND3TvUj85Dy6vK98/f1Zvkt/Dz9Kv30/LD8zfsO+2D8fv9eAUAA3f2N/Av8mfre+O/5R/6pAbIAvv0y/af/hgJTBCYGpAm6DaEONgt+B9oG2weuCPMJXQuWC6ELVgzUCqIFcAE2AjsEDgKe/EL4PfaN9F3xwe1E7a/wv/N686bx0e/a7Rztr+7y8HfysfPR9EP15vRl9OL0T/d0+6L/MQI/A3EDnwK/Ac4CWwV3BzwJWQvGDF8MtQpACn8NEROVFpgWFRWyEtsO1gphCGsHXQcdCNAIBQh3BWcCbADU//H+Vvwj+aj2gfPg7lDsBO8z9Mn3a/ps/d/+8/2p/Db8Hf28/zMCdwLOAaACkAW4CUYN5w52DxAR6ROrFHsQewrLB88HUwffBqwHigiECHsHAQW8AYj/8f7r/cz5U/Pp7u3uw/BZ8e3wC/EO8m/zrvSb9Sr2Bvbr9F3zz/H/78nuPfAj9Kf3YflJ+gv7pfvG/O/+EQHlAdoBFAJFArkBsgHRAxAHIAmQCSEJEwg2B9MHSQmXCUQIkgaOBdwEUgM8AU8AOQC2/gj8/voz/Ev9tvx4+0f7WvxX/Tb9If0+/xsDfwXBBKgC0AFfAzkGzwecBx0IKwoFC+AIzQXbBKoGMgn1CV4ISwbJBVkG4AU1BCUDPwOsAxcETAQDBOgDhwRkBbIG1QgcCuMINAZYA1cAFv7f/Qb/z/+T/9f+Hf42/fH78PqG+mr5HPZP8ZztV+wj7MzrBOw07Z3uee++7kXsvuqJ7L3v8fDp747vy/IN+Tr+egAUA7EHdgoeCQ0HDQf6B5EIqAjfB5AGCAb7BgcJxQrTCm0JjgcnBQQCHP+o/V39N/w2+V320PXP9tP3VvmS/KYA3wJcAoABUQKpA3ID2QH1AHYBuAEiAXYBggMCBuIH5QhNCYIJDgl8B+EFQgVSBeAFuwY0B9EH3QlEDH8M2AokChELOwtvCX4H4QZtBooE9wEWAaQCkATeBOADXgIiAEr98vr++Qn6vvmC+BD3wfX888Lx6+9H79zvC/Cy7jTu9/CQ9HX1LvSC8+X0cvfy+O34F/ml+TL5Rfi0+H/6J/wR/eb9BP/+/6EAugDw/3D/AQHqAwkG1wYWB5sHeQiTCMYH/AeuCYgKIwkABwoGIwbxBRMFGgR+A8EDbwRuAzwATf0H/M/7v/yV/oP/Wf++/ygAQv6S+q74S/oK/d/9w/z5+678r/2//cj9XP8YAkUE6QQXBHkCfwGBAuIEXgZBBvEGVAolDtgO5gztC4INtA8tEO0O1w0YDoIO8wxBCaQF1QOtAg4AM/wg+X33/PV081vwI+5J7absDevf6JnnL+jZ6SnrNuwX7ofwcfKx84X0FfVW9hb5ZfzV/jcAAgFqAbQBTAJIA10EWAVpBq0HighPCGYHIAc6CPwJFws3C+cKJgrZCOgHHwghCUsKAQuFCsgImAacBO4CYwHV/3r+jP2Q/Lb6Bfir9az0kfR79KP0ZvUe9vf18/T881H0Z/Zb+f/7Hf44AE0CggOiA6oDawTHBWEH8wgqCsIKwgpuCvsJfwlCCV4JWwn8CGQIhAeIBscFuQQrA3gCJAN7A1UCfgDj/nn93fvt+TT4e/eH9/L2zPTW8ZPvwu4j7/nvjfDu8KXxY/Kq8kfzGvWB96j5v/vn/a3/5AADAn4DXwVWB9AIYAl7CcsJlwm+BykFuANVA5QCVgGzABMB0AEzAtsB6wBiAB4BZwIlA6oDZwSMBNIDKgMCAzgDEwRGBa8FHwU0BJsC//+S/YT8U/wF/D77yvnu95j2/PWQ9ab1/Pb3+FT6CPsN/NP9wv9KAXICOQOfA0sEzAWJB50IHAnFCd4KuwuRC4wKAAl2BhEDUgAB/zn+GP2I++35Bvkb+Wv5Yfks+fD4qPhd+PP3wPfH+B37Wv2E/i3/UADUAaECIgINAVAAGAAuAE4ASwBEAF0AWADq/yj/lv6f/vD+z/45/uH9OP4a/zUAdwHuAmMEfAU4BtYGgQdECA0J+glQC74Mdw02DVIMVwvNCqcKJQoACcQH8gZ3BtEFfASNAsAAgP84/k78ZPqQ+ZH5WPmy+Cr4H/iX+Gn5Xvri+gL6C/jO9h33FvhK+QT7D/3A/nz/dv/Q/+IAwAEKAg8CngHJAE4AZwCtAOoAKQF6AasBTwFWABT/4v0u/RL9I/0k/f78YPxs+7X6W/pT+rH6JPtB+yv7LftG+337JPxS/T/+Bf4n/UD9M/89AqMEhQW2BfkFuQWjBJUDVgPkA8AESgV2BbYFWQajB4UJ5AqsCjkJhwdEBu4FjwaFBzIIQQh/B1EGqgX2BcMGRgdlBmQDn/9i/dT84PzZ/cj/wgCl/1T99/rk+U/7Fv60/5f/rv40/WP7Svp9+oD77vxg/qb+Rf33+1r8jv0S/uj9o/1T/bH8jft8+pn65/sX/Tz9rfxl/Pn8Iv4+/7f/vv7i+0H4t/W99Hj0b/TF9D/1dPU39UP03/Jt8pzzO/UG9vr1n/Wy9d32/vhb+3/9kP/NAegDawWwBgYI9whuCfsJ6gpQDI8NJQ36CigJ2AgXCfoIdQiuB+4GwgaHB7UI8AiUB6MFlQTMBFcFMAWgBIQEuASlBHAEXARBBBYE7QN5A1ECqgBd/93+/f6i/2wAWgAw/9797PxS/FP85/xS/Qj9Uvwe/Az9pv4RAPwAOgGfAJr/yf49/sT9mv0r/k//HQDf/z3/uv91AakCJgK/AEz/iP2p+5b6dfqy+q76uvnj91z28/UL9sv1E/Ut9Gzz1vL08avwGfAn8dfysfPR8w70sPT69Qb4W/rB/DT/yQDdAHQAhQC7AB0BewK1BLMG8QeWCBkJPQoEDF4NHw5eD8gQjRBkDggMzwrJCkcLUwtyCgoJfgesBaYD/wEuARYBJQGeADz/lP1f/Iz70vqF+gf75vtg/Er8J/yl/PT9hv+7AIMB8gH3AcQBtwHtAYYCoQOpBNkEWgTpA7IDiwN5A2EDEgOxAj4CWQFGAOz/ZgA1AR4CggJwAUf/aP1V/Mf7nPt+++366fnC+LL37/af9q72uvYz9sT0sfLL8PPvPPAR8VDyDPSB9eb1sPXJ9Zf2Cvir+d76hfvj+zH83fxU/lgAXAI2BN4FCAerBxgIbQjMCM4JewuwDL4MdQywDDMNaQ0qDcMMvgwwDUQNOAx/CvAIcweWBZkD9QG6ANz/Bv+G/XP79/mX+Zf5mfkd+hf7x/vp+7L7QvsZ++n7bP3J/vr/YAGIAtYCowKoAjEDVATfBfgG7wYQBu0E4wOcA3EEsAXDBvQHSAnkCWgJqQh+CKMIdAj3B24H6gZtBnUFRAN/ANT+sP76/pP+2vz8+Qz3vPSm8rHwt+8g8AHxM/Ge8AfwK/Ak8YXywfOi9Fv1MPYW99L3h/jM+Q38+f6uAYkD1QRLBukHDwm4CYMKmwtzDIMM+At6C4YLKQwPDYMNBw3sC7IKWQn/BycHzQZNBmAFYQStAzoDnwKXAaEARgDx/7z++fyd+9X6NvqD+dH4Tfj797b3m/f398P4ofk1+pP6WPv9/C3/NwG2ApcDGASXBC4F1AWgBroHHAlsCiILDgt0CqYJ6AiBCHAITwiVBxIGMwSlArgBTAE8AWYBXgGyAIH/WP5+/dP8QPzH+237SPst+5P6Svnq9yb3Bvfq9kL2OPVr9BD0ufM38xzz3/MP9RP2H/ev+LX6qfwV/u7+sP/qAJ8CWwThBU4HmwiFCfoJOQqICvwKUgsJCxsKBAnDB+EFvAOLAqsCIwMbA5YCxQG2AJf/iv6e/ff8lvw9/OP7o/t4+6L7hPy9/W7+cP5Q/iz+sf0Y/fz8Y/39/cX+if/P/7n/2v8vAHwA4wB7ARMCkwLrAg4DUQMLBN8EPgVqBfcFyAZsB+QHXwi6CLAIIwg7B3oGNwYGBicFngMSAtMA0f8q/9z+af51/Q/8YPrt+Fz4a/hQ+OD3OPdP9p71zvWw9tP3aflT+6L89Pzn/Of8Cv2w/f7+XwBUAbsBewH/AEkBnAIxBI4FtQZUBywHpgYJBlgFPwVRBqYHLQhDCE0IvQeDBnYF9QTUBPME0gTJAyECsQDV/5X/9f9xAGoA/v9a/wj+J/zl+sb6KPu5+3b8sfz5+wf7iPpI+kD65/oh/Cb9W/2m/Hv71vpe+6z8Af4L/7T/GABvAI8AWgCiAEcCqARQBtUG3AbCBosGhgYIB/IHFgk2CpwKyQlLCCMHwwbbBpcGYgWUA9YBEQDX/Y37GPqM+TH5lvjf90D3v/ZB9qT1A/Xg9JX1zPbb94T4Cfmz+ZP6kPup/CP+HwANAhsDLQPPAqICHgNcBOoFOAf6B/4HLAfuBRgFLAXhBW0GSAaYBcUE+ANCA+wCIgOaA+MDvwM2A3wCtgHXAPL/Wv8x/yj/5P5C/k39HPyv+hX5rPfu9t328Pac9rb1hfSn84/zB/SD9PX0sfWj9jn3IffW9lL3A/lJ+1r9MP8nATAD0ATQBZkGygd5CQsLxwuYCycLGwthC2AL2AooCq4JPQlKCJUGcQR4AugAdv/P/Sr86Prs+cn4ePdY9qv1dfWG9XP1/PSA9IP09fRl9bD1Fvbz9lf42PkV+zX8dv27/sD/YwDEAGgBugJTBHYF7QXNBSEFXQQ3BNkE5AXuBmsH4waiBXMEsgNFAx0DNANQAxQDRgInAWQAWACiAL4AnQBcAOT/Df/5/Rj90/wN/R79hfx1+4X65Pk6+Un4VPe59l322/Us9cL0+fSx9XH24PYd96T3wvg9+sX7Xv0j/+YAYgKvA0cFfwfzCcMLkgy9DJ0MPAzOC6cL0AscDC4MQwvvCO4FVANkAev/1/75/dv8NvsR+cH2CfWK9AP1rvUZ9iT20PVi9VT19/VQ9xb51vo7/CX9iP2X/d/9yP4kAJABxwKjAyMEdgTFBAUFOAWoBZsG2Ae/COgInwiWCBsJ1QlkCtoKUAtjC4UKyggAB9wFVQXuBF8EuAMKAzMC7AAG/9L8HftL+sf5zPhr90/2zfWV9Tz15PQw9V32zvfB+C35fPno+Xv6SPt4/CP+9/8+AZgBYgE+AZkBrwJiBCkGlAd+CKgI9AfzBnQGswZVB+QHAwiUB8cG8wVuBX0F8QUfBpgFiAQQA/QAMP5l+1b5L/iU9xb3d/ap9bj0qvOv8ivyafJH80b06vQX9UL1BPZ190T5WPu+/R8A7QH6AqcDawRsBZ4G6gcXCckJAAolCnIKtQrXCiUL0At8DIMMkwsYCr0IrQfGBhYGpgVTBQAFiASVAx4CsADW/2r/6P70/Zr8OfsH+uj4+fe39zv4+/hq+Vb5wvj49333h/fq96f43fk7+z380fxK/ff9Af9nAOwBKAPeAy4EewQZBQIG5AZ4B7UHwQe1B4UHLwfYBqUGlQaEBkkG8gW6BYwF5QR6A7UBEwBr/mL8WPr++GH47/c590r2YfW89Hn0fPSZ9Kv0jfRJ9Bb08vPT8zr0ufUH+DP6vPvc/Pr9Qv+xAEQC9AOGBZwGGQc7B2UH/wcvCY8KaAt7C00LewvgC9kLOgt1Ct8JTwloCBIHqAWcBM0DqAIeAcX/8/6M/lH+6/0Q/eb7zPrb+R/57Phf+QX6ZPp4+oj61fpl+wf8xfzf/Rr/vf+K/x3/Iv/E/94AIAIXA44DhwP/AjwC5gFYAjsD5wPkAzcDaQL/AfwBKwKLAusC0QIaAhMB7f/A/uX9of23/a/9UP2H/E776Pm8+Pj3ivdV9z33Jvfr9on2PPZB9oL2u/bb9hf3s/fL+Cr6U/sO/JD8C/21/en+mgApAiwD3gORBEsFAAbSBtEHzQh1CaQJdQkWCb0ItggHCT4JDAmICMEHmQYmBdcDGAPCAj0CMQHh/7/+9/2O/Yb9rf2W/Rj9Zvye+8X6K/pL+h37Ivwo/Sn+zf7j/rv+w/47/zUAZAFCAqACqQJyAg8C6AFCAukCeQOsA2YD0gJGAgcCMAKbAu4C6AKLAuoBBQH4/xD/jP52/rn+Fv89/xL/mf7r/Vj9NP1b/T39nPzB+/j6Wvr++ez5FPpt+tz6H/v/+pX6JvrK+Yv5ovkv+u76gfvB+8P74fuU/PX9d/+LAFABOAJgA3wESQXaBVYGkwZ5BlEGZwbkBugHHwnDCXkJogiWB1oGLgVvBP8DgwPTAgACQAHMAJ8AowDKAOkAswAcAGD/p/79/bf9Lf4f/+z/UAB5AI0AkQCYALIA5ABKAcsB9QGtAVkBGwGzACAAxv/g/ywAGABI/xL+UP1j/e/9qv6P/00AgQAnAHz/t/5H/q7+z/8FAecBWAI1ApIBzQA1AAQAUwC+AJcAsv+P/rD9NP0U/Sv9Q/1G/Tb97PxG/GP7kfoa+hn6h/pA+/r7hPzx/GH90P0r/nn+0v48/73/XQADAX4BwwHlAfMB+AEQAl8C5wJ6A74DYwOaAvEBjgEtAc4AtQDeAOIAZQCJ/+r+GP/o/4wAkgBqAKEABwEQAakAPwAYADQAjwAKAYYBKQL8Ap0DtANtAzgDWgO5A+UDmAMdA+UC1wKZAkACJAJcApYCVwJlARkAB/9x/h7+qf3o/BL8g/tF+wL7m/px+sr6UPuD+177b/sv/G/9lv5B/3T/R//T/lz+M/5Y/qP+7v4M/+b+iP4K/pP9W/10/Zv9dP3g/Bn8iPtx+7r7J/y8/In9ZP4P/2v/nv8cADIBegJGA3sDpAM+BDkFHwaEBoIGjgaHBtEFewRQA8kCrgKaAjYCSgERAAL/Hf5E/cb86/xh/Zr9W/3i/LD8IP0S/gr/tf8lAJsAMwHYAWkCAQPjA/oE0QUoBkYGkQbzBgUHowYTBp0FQgXNBC8ElAMBAyoC2wBi/03+2f3F/af9NP15/NT7f/ta+z77OPts+8v7IfxC/BT8q/tr+6/7UvzU/OP8mvw//Oz7nPtS+zD7afvv+3X8wvzG/In8MPzu+9z7D/yt/Kb9hf7n/vL+BP9W/xgAUgGkAqcDXQQBBakFLQZ2Bq0GLwcKCKcIcgiBBz8G9QTvA4sDxAMnBEUE2gOyAvYAWv98/nH+7/5+/5z/Hf9N/qL9Yf2y/aD+2f/TADkB/wBvACYAnQC6AQgDKwTvBC8F+QSfBGUEWAR2BKUEswSCBCsE4wO1A30DIgOjAu4BAAENAF7/8v6T/iX+uP1f/SD98/zS/Nf8D/1A/TT9//za/PX8XP3k/Uf+hP7T/hn/6v5M/r/9if2H/Yr9fv1b/TP9DP2r/OD7Bvul+q/6mvo/+hL6jPqQ+5/8c/1F/m7/1AD/Aa8CHwOYAxcEewTDBAYFUAWcBcMFoAVaBTIFAgVYBCUD4AH2AGYA5/9B/3n+xv05/ZX8vvsM+9n6FvuC+/z7a/y+/AT9Sv2D/dX9iv6G/04ApwC3ALYA1gA2AcIBTgLNAkMDkQOMAy8DrwJdAmECjQKPAkACvQFPASUBHwH2AJoAPwAQAAEA4v+Q/yL/w/5i/t79Wf0X/Rn9Q/2U/fr9Ov43/g/+4v3a/TD+1P5e/4H/Pf+v/hH+uP3S/Uz+8v58/5X/Jf9f/o79Cf0v/fz99/6y/wMAyP8K/1r+W/4V/xEA4gBSAW4BcAGFAcUBXwJvA5sEVwVoBQUFewQBBLMDjAN5A14DCgNcAnsBtAA6AAAAxf9O/7X+Pv76/cX9nv2t/fj9Wv6z/un+8f7y/iz/iv+t/4P/if8iAAYBrwEOAmkCwwLRAnUC8gGZAYQBjwGNAXABPgEHAesAAwEvAUoBfgHwAVECNQK2AUIBAAHkAO0AFgFPAY4BtgGEAd4AEAB8/z7/RP92/6//rf8v/zL+FP11/L38qf2Q/gn/Gf/m/p7+e/6l/iD/+v8dAQcCNwLrAcYB8QEuAnMC7gKeAzMEOwSHA34CzAG1AQwClgIRAykDzwI3AnEBjQD1//j/SwBlABwAo/8w/9L+ff5C/mP+3f49/xj/cv6X/fP88PyL/U7+3P4v/0f/Iv/p/tX+Df+x/7kAuQFDAnACmALHAtECpgJvAlgCVwI3AucBoQGPAZcBmgGGAUMB0gBgAPf/Yv+d/vb9ov15/VX9Sf1x/bn97P3e/YL9+fyL/Hf8yPxP/c39JP5X/nL+g/6o/g//y/+aABYBEQG/AHEAYQCiAB0BqAEpAoICbQLVASIB0QDqADYBpgEuApICnQJhAh0CAQINAiQCPwJ9As8C0gI5AkIBbADZ/0z/rP4b/q/9Vv33/H385ftT+wv7D/sP+836b/pA+kz6V/o6+jD6oPqR+5H8S/3b/XH+/f5k/6v/3P8HAEUAlgDRANwAvQCLAHIAkQC7ALUAkACJAJkAhwA9AO3/2v8qAKoA8wDyAPEADAH4AIIA9f++/+D/8/+e/+n+IP6S/Vb9Qf0W/dX8nfxU/Mn7NPsZ+577ZPwN/Y/9E/6x/k//zv9hAGkB1wIPBJUEkQR8BKIE+wRWBZAFqQWtBZ0FdwU8Bf4E3ATQBJAE7gMgA34CGwLLAWgB6gBgAOj/jP9T/1D/bP9i/xf/tf47/nL9cfyf+x/7xPp9+l36UvpF+jL6Efrm+fT5dfoy+7n73vvX+wH8lfyB/Y/+uP8GASwCvALMAtwCFgM+Ay0D+gK0AlQC2gFhARIBAwEaARwB5wB7AO7/af8R/9b+kP4+/gX+9v3//fn91v2+/df9/f0M/jn+uf49/1T/Cf+3/pT+pP7d/jH/h//T/x0AdwDkAFkB5QGtAoUD7QOvAywD3gL4AoADUAQUBYsFuwW1BXwFLAXrBL4EoASFBEIExgM7A8kCewJrAqICzwKbAigCuQEqAToAIP9D/sb9kf2Y/c798/3M/WT97PyM/Fz8Z/yg/O78Lv04/QP9xvy5/O38d/16/sL/xgBSAaEB3QH4ARQCZwLgAjkDSwMAA1oCoAErAQ0BGQE1AVkBWgH5ACQAKv96/kr+cf6f/pj+Sv7k/aP9jf2R/cv9YP4c/5T/nP9i/y7/Jv85/0v/af+r//r/OABtAJEAjQCSAA4BEAIkA9sDKwROBHIEnATBBP0EhAVDBsgGxgZsBhIG5QXsBRsGUAZdBicGtAUqBboEbwQqBNsDkANBA74C+AERASEANP9n/uH9m/19/W39Nv2p/PP7dftQ+2772PuI/Cv9a/1N/QX9yvzq/KP9yv72//IAugFDAoYCrgIAA5UDNwSQBH8EKQS3AzEDqQJQAjoCTgJkAk0CzAHYALz/y/4Z/ov9H/3h/MD8pvyd/MH8/Pwe/S79Zv3Z/Uv+d/5b/jX+Qf6F/uD+OP+M/+T/NQBUABQAov9o/4P/pf+v/+T/YgDoAD0BXwFXAUkBdwHvAXMC5QJUA74DAAQDBNkD1gNeBEwF4wWrBfwEZwQkBCgERwQ7BNoDPAOGAr8B8QA1AKb/Sv8V/9r+hf4f/qv9Kf3I/Lf83vwL/S/9Vf2A/bv9Cv5k/tj+if9bAAEBXAF8AWMBFgHQAMsACwFvAcoB1AFoAbkACABR/4r++f3p/TL+XP4j/qH9JP3y/BL9U/2n/TH+4/5e/2H/LP82/6v/RACmAMMAzAC2ADAAPv9j/g7+LP5b/kL+x/0h/Xz8oftr+mf5R/nz+cf6afvL++j74vv/+1v87fy3/aD+VP+i/7H/3P93AJEBzwLMA4gEFwU/BdYELASnA2MDUANVA0ID6wJkAtkBUQHDADgAvf86/5X+0/0l/b78nvyh/JT8V/z6+7b7rvvS+xj8mPw7/bv9Dv5q/uP+Vf+f/7v/s/+h/53/ov+r/8r/7//n/6b/UP8E/8v+pP5y/gX+af3z/Mj8xfzu/F39/P2R/vz+S/+6/3EARwHdASICVgKDAnwCUQI7AjICDwLQAX0BGQGwAEwA0P8V/zT+Zv20/Aj8Pfs8+kT5tPia+Lr48Pg9+ar5Pvry+p37LfzL/IP9QP4K/+n/wACHAU4CDgOzA1wEHgWhBZUFKQWqBCYEsANoAzwDAgOuAkcCygFFAdUAegAwAP//x/9h/+D+cv4m/gb+IP5i/pr+vf7g/v3+9f7M/qT+nP6f/n7+T/5Q/nn+lP6R/pH+r/7d/gH/EP8e/0X/cP9j/yX/9P7v/hr/fP/6/2oAygAuAZ4BEQKIAgcDjgMNBFYERAT6A7gDhAMwA6UCEgKaARwBcwDE/1H/M/8k/8b+/v36/A78dvsd++X6yvq0+pn6j/qw+hH7qftL/Nr8W/3e/Vb+hv5k/k/+mf5Q/0IAFwGUAc0B8wEhAnMC7gJcA3UDPwPcAjsCbwHYAKkAxgAXAWoBVQG6AP3/bf8U/xb/c/+8/6f/W//w/mP+9f0B/nz+C/91/6D/Z//X/jj+w/2R/ab93f0I/gz+5f2y/aL9zP0e/nX+yP4k/4b/0f/z/w4AawATAckBWAK7Av4CLwNiA6kDAgRcBKUErgROBLADHgO2AoMCkAK3AqECKAJ/AdIAHgB9/xD/xv5z/gP+hv0d/c/8oPyg/Mr89fwE/f388/z3/A79Kv1E/XX9zf0y/o/+5f5A/7b/QwDIAD8BqQH9ATsCaAKYAswC2wK0Am8CIQLbAbcBtQHCAb0BnwF9AV0BQwEtAQIBvgB5ACYAwP9o/zj/I/8H/8r+gf5K/hH+x/10/S39Bv35/On8yvzH/AD9TP15/Y79p/3S/SX+of41/+z/1gDPAYUC3wIbA3cDAwSqBC4FagWABYMFVQX4BK4EpgTXBA4F+wRXBEIDLAI9AXIA/f/2/x0AHwDp/5b/S/8c/xH/Iv9K/4P/tP+w/2v/B/+6/q/+8f5g/77/8v8JAPn/p/9H/yj/Vf+a/9T/AAAPAAAA9P8CACcAYQCwAPoAMQFsAa0BzAG+AbABswG2AbEBnQF0ATUB2gBmAAAA1//m//j/6P+k/yT/kv4p/uT9tv25/eP9//3w/bn9bf0x/TP9eP3T/R/+Zf6t/vP+MP9j/73/ZwAfAYkBqwHDAecBCwIuAmgCxQI4A5sDuAOEAzYD9gK+AogCYwJcAmcCYwItAr4BLgGpAE0AFgDr/77/of+S/3f/T/82/zz/bP+7//T/7//D/4b/QP8Y/zz/mP8AAHIA6AA6AVoBWwFKAT4BVAGJAbABygEAAjcCIwLTAZ0BkwGQAYMBbAFBAQIBwACNAHUAeACXAMQA0QB0AKn/3v5x/kz+R/5i/ov+l/5n/vn9ev1B/XD90/0r/mn+lv6U/lP+B/7x/Q7+Rf6V/vP+O/9a/4X/8f+AAPcAWAGuAdwBwgF2AS8BGgExAVMBcAGSAbQBvgG5AcgB2gG6AWwBEwGyAE0ADAD///z/3P+p/33/Yv9V/1b/XP9L/w//uf5w/kj+P/5J/lb+Y/59/qL+zf4O/4T/HQCcAOkALgFuAXwBXAFUAX4BvwENAnACzQIKAzcDYgNjAxsDqgJFAvwBtQFUAe0ArgCeAKQArgC4ALUAiwA0AL7/NP+p/kf+Kv43/lP+df6L/of+hf6i/tj+Ev8m/+v+ff4d/tf9nP1//ZL9yP39/R3+MP5L/nz+uv70/jv/k//U/+v/7v/q/9X/uP+m/7H/1P8DAEcAjgCzAKgAcwAgAMb/bP8k//n+z/6R/mn+dv6b/rn+2v4P/1X/jf+f/4b/Uv8d/wT/Jv+K/w4AlQAdAaQBCAI4AloCmwL5Ak0DcQNoA1MDQwMnA/ICvAKbAogCWwL1AWYB5wCgAIEAWQAZANH/lP9b/wj/q/6L/sL+EP8//1P/U/9G/zn/M/86/13/lv/G/+H/+P8aAEUAaQCFAJwAqACzAMIApgA1AKD/Mf/5/ur+Af8t/0n/Rf8t//z+t/6K/pX+vf7d/uD+w/6X/oX+ov7q/lb/2f9AAGoAYwBAAPX/hf8i//D+4v7f/tb+sP5x/jr+KP5D/or+3/4b/zP/NP8u/yb/M/9x/9X/RADJAGUB8QFYAqYC+wJwA+wDPARkBIgEqQSmBG4EGQTDA2wDEQO+AnwCRgILAsEBbgEOAaAAOwD7/83/hv8a/7L+fP54/pf+1f4d/1L/af9w/3H/gf+2/wUATgB3AIAAcABfAGEAcAB0AHAAjQDUAA8BDwHoANEA3wAHATEBWQGIAboB1gHQAbkBpwGZAYABWgEzAQ8B9QDgALwAdgAUAMH/h/86/8H+Rv73/cP9gP0y/fz8+Pwf/VL9f/2y/fP9L/5R/m7+pf75/lT/o//k/xMALwBAAGgAxQBJAcMBHQJgAo4CpAKyArkCrgKjArkC3ALiAsMCmAJxAl8CcgKZArYCugKUAjYCxAFkAQQBhgADAJ7/Uv8a//3+8/7d/rX+k/6K/pX+oP6S/mb+LP4D/g/+WP6x/uz+Dv8g/xD/8/4M/2n/1P8nAGYAhwCDAHIAcwCUANwAOQGCAZwBjwFnASoB8gDRALoAmgBtACUArf8X/4z+G/7B/X/9V/07/R39Bf0N/UH9fv2Z/Zf9lf2V/Zj9t/3x/Sj+V/6O/sv+Af8x/1T/a/+W/93/GgA+AF4AcwBxAHEAjQC5AOoAHwE4ASIBAAHpANMAzgD4AD8BdAGEAWsBMwEJAQwBLQFfAZkBpwFgAe8AkABHABkAGwAqAAgAtP9O/+T+hv5V/lD+XP5v/nP+Tv4S/u399P0o/n/+zP7j/tr+5v4F/yX/Xv/D/zMAjQDSAAMBFwEWARUBFwETAQwBBAHuAMsAsQCWAFAA2v9d//X+kv4p/sX9bP0g/eL8nfxO/Cr8afzs/HT97v1K/mz+Zf5v/pj+yv4L/2//5v9JAHoAaAAtABAAPgCaAO0AEgH0AJ0ANgDj/6z/j/+C/3n/cf9c/yz/7/7W/gD/Wf+8/xcAZQCdAMMA4QD+ACwBgwH7AW4CxAL3AvkCwwJ1AkACMQI0Ai8CBwKzAUoB8wC3AIsAbgBbAEoANwAjAP3/t/90/2H/cv+W/9P/GwBIAEwASABUAGcAdAB2AG0AUwAqAPz/1//B/7D/qP+z/73/n/9O/+D+a/78/af9eP1d/Tj9AP3S/Nv8Hv1y/br9/v1M/qX++v4+/2//q/8SAKkASQHaAWYC8AJZA4MDfQN1A30DfANPA+gCWAK4AQsBVQC0/z//8/64/m/+Af55/QX9wvyW/G38gfzy/H/97v1N/rD+FP9+//b/dAD3AHcB2QECAgQC/wH2Ae8BAAIhAjUCMwIfAuQBegEHAbUAjQB7AGIAKQDi/7D/qP/K/xEAcQDTACkBbwGbAaIBjQF+AZQBvAHAAYcBLAHTAIgASAD5/3v/1/4u/n39s/z4+4/7avtP+yr7B/vp+ub6EvtX+5f70vsV/HL87/x5/Qn+sf5r/xoAswA5Aa8BDwJcAp0C1wIIAy8DUwN4A4QDXwMcA9YCdALYARkBaQDP/07/+v7N/pP+Qf75/bz9bv0V/dL8r/yg/Kf8y/z+/Cf9Sv19/b/9Af5H/pP+z/7v/hT/X//H/zUAqAAhAYsBxQHPAcUBxwHpARwCNQIuAhsCAQLaAa8BhwFrAVsBQwETAdEAkwBoAE0AOgA1ADsANAAMALr/UP8C/+n+7f7r/t7+xP6T/lP+GP7r/dL9zf3B/Zf9YP0x/Qn96Pzb/PH8Kv1v/Zr9nP2O/Z792f0l/oL+Ef/U/5cANQGxARACUAKBAroC/gJDA4QDuQPKA6cDZgMqAwED6QLVAq0CZQL7AWkBwgAvAMT/d/84/wH/y/6F/i3+1v2X/Yj9t/0G/kr+ef6V/p7+rP7c/jP/r/9QAPsAcQGkAcIB5QEQAlECowLnAgsDCgPrAtYC5QIPAzwDcAOrA80DpgM7A7oCSwIEAuwB7gHpAcYBfAEOAZgAQQAXAPr/uf9I/9L+fv44/uL9jf1e/Vz9X/0+/QP91/zK/Mz80fzb/Oj8+/wi/V39k/24/en9OP6b/gj/cP/W/1UA9wCXARMCZAKaAscC/gJFA4kDwgP4AxQE9gO0A3gDRQMBA50CIAKdARkBlAAbAMD/hf9U/xj/yv5n/vr9p/19/Xj9qf0S/nb+of6r/sr+F/+Q/xoAiQDQAAEBGgEZARsBOgF1AcoBJQJcAl0CQwItAiQCMAJUAn8CowK6ArACdQIdAtABoQGFAWkBSgEsAQEBvgBsAB8A8f/b/6//XP8C/63+RP7F/V79KP0O/QH9Cv0T/QD93Py+/K78rvzL/Af9Uf2W/d79NP6X/vv+V/+2/ykApwACAS0BPQE+ASkBCgH4APMA3gC7AKkAtADEAMAAsQCnAKsAvQDHAKwAaQAfAOr/zP+9/8P/3f/1//z/+P/n/9T/4f8LACkAHgD5/8z/hP8l//L+Gf95/+j/VgCpAMYAvwC0AKsAlgCHAJoAwwDaAMwApQCEAIwAxgAiAYUB0wH0AdYBigEzAd4AjgBdAFAARgAlAOz/oP9U/yD/Cf8G/wH/3P6C/gT+hv0d/c38nvyf/Mn8/fwi/Tr9T/1q/Zr96f1Q/r/+GP9K/2j/k//b/0cA0QBhAeEBSwKgAs4CvAJ7AjwCFgL2Ab4BZgEAAaEARwD0/7H/fv9L/w3/t/5E/sj9bP08/Sb9KP1F/XX9r/3m/Qn+HP4+/o3+BP98/9v/JABgAJIAuwDkACgBkQH3ASUCFwLjAZ8BZwFWAVwBVwFIATUBCwHCAHoATgA6ADIAQAB1ALUAzAC2AJwAjAB1AFMAKQD0/7D/ef9d/0H/Ev/o/s/+q/5t/iP+1v2W/X79i/2V/ZD9j/2o/eT9Mf53/rP+9f43/2b/e/+S/8r/JgCfACQBkgHXAQkCLQIwAhsCEAIYAhoCAQLVAaMBagEuAfsA2ADFAKkAXwDv/3H/8/6C/kD+L/4m/g3+7f29/Wz9Hv0D/R/9a/3V/S7+Wf5r/nv+m/7y/oH/FQCSAAYBeAHVARgCWwKyAhgDegO1A7IDfgM9A/UCpgJpAkgCLgIIAsgBbQEYAeYAzwDGAMUAvQCZAFsAFADU/6H/j/+p/8n/0//L/6b/Wv8D/8b+q/6l/pr+h/52/mT+Q/4h/iX+ZP7E/iD/bP+g/8T/9P87AI0A6ABUAccBNwKhAvcCKwM+A0kDXQN6A5kDpwOAAx8DsgJcAhoC6AHPAb8BmAFPAfoArABbAAQAxf+h/4b/a/9H/w7/zv6d/oP+iP6q/tH+6/7z/uz+4v7o/gL/JP9B/2H/kf/I/wIAPQBnAJMA9QCTAToCvgIcA1cDcwN+A4oDpAPUAxoEUgRXBCsE6gOrA3kDTgMQA7QCQgLAATABnQAXAKv/Xf8c/9H+ev4Z/q/9RP3x/NX89Pws/Vb9af2E/cP9HP5z/sf+E/9N/5P//v9xAN8AYgH3AWsCowK4AtcCBwMiAwYDvgJ/AlwCKgLUAYoBawFhAVEBKgHhAIUALwDm/6f/ef9Z/zL/+v69/ov+Yf5G/j7+Of4q/hb+Av7o/cr9sP2X/Xf9Sv0b/QH99vzp/O38I/2E/e79Sv6c/u7+Qf+X//P/TQCuACQBoQERAnYC4AJQA7ED6wMCBAgE9gO/A2YD/AKPAisCxwFYAecAfgAdALn/U/8F/87+h/4h/rj9X/0Q/cn8lfx+/Hr8ePxq/E38NfxJ/I/82/wW/Vj9sP0L/ln+p/4M/5D/GwCYAPoATwGrAQsCVAKCAqwC0wLhArsCaQIUAs4BiQFCAQYBzwCYAGQANQADAMj/gv84/+f+kf5B/v/91f29/Zz9cv1e/Wb9cP15/Yn9kv2D/WX9Vv1d/Wj9Z/1l/XH9jv2//QL+UP6i/vD+Mf9f/4b/zf9GANAATAHGATMCcwKNAqICwQLtAhsDMwMeA+wCtgJyAgwCnAFGAQUByQB9AAQAbP/l/oH+N/4H/vD94v3Q/b79sv2j/Yn9bv1h/Wr9hv2p/cT94P0Q/lv+uf4O/z7/W/+E/7f/3v/3/wwAIgAyADsATQCBAM8AGQFGAVsBagF5AYIBgAFxAVcBOAEPAdAAhAA+AAUA6P/m/+b/0v+v/37/PP/y/rj+lf52/kr+Hf79/ef93P3h/Qb+UP6c/s/+9P4M//v+x/6k/qb+tf7F/vP+TP+q//H/LQBwALoACgFVAZABuAHLAdQB5gH9ARQCMQJQAlwCSwIhAuUBmAFFAQAByQCEADAA4f+b/2P/QP8w/yL/Dv/u/sv+uf7D/uf+Ev8r/yL/+/7X/t/+F/9c/5P/uv/Y//n/LgBsAJUAnwCVAIAAVwAVANj/tP+s/8H/8f8lAFAAagB2AHcAbgBcAEgANwAjAAYA4v+9/6b/nf+Q/3X/Rv8I/8f+hf5D/hL++v3l/cj9rf2d/Zf9mP2m/cj9+P0p/lH+bP6E/qv+5f4x/5D/8P87AGwAhwCWAKgAwgDhAAkBOQFfAWIBQgEZAf0A8gD6AA4BGAEKAesAvAB/AEcAKQAeAAwA4/+m/2j/Nv8Q//f+6/7p/ur+5f7c/tH+v/60/sD+3f4E/z3/gP+0/9L/5/8AACAAQABZAGkAdACCAIcAdABXAEoARwA3ABAA6v/g//L/AAD2/+X/4//y/wYAFQAiADMAPgA8ADcAPABAAC0ABQDg/8T/sP+o/5//gv9Z/zX/Fv/4/ur+9P4L/yn/U/+G/7L/y//Z/9//4v/l/+v///8uAG0AmgCjAJcAjACOAJsArgC7ALUAmQB5AFsAQwA8AEwAYQBtAHUAeABsAFUAQgAwAB0AJgBdAJwAtQCpAJAAcwBXAEsATABRAFcAaQCLAKoAvADNAO0AFgE2AUkBWgFoAWcBWQFbAXwBrAHKAcgBuQGwAaYBjAFfAScB8ADGAKoAiwBjAEoATwBiAHYAjwCpALAAqACfAJQAkQCpAM8A6ADwAPAA2gCtAIwAkwCuAMYA1ADFAJEAWQBBADsANQA3AEMASwBIAEEANwAtADMAVwCOAL4AzwDAAK4AsQDIAPMANAF2AZsBnwGWAY0BgwF1AWUBUgFCATQBGwHoAKEAXQAtAAYA1P+T/1b/Kv8D/9v+uP6k/qD+qf6y/rT+wf70/kP/j//M/w4AWQCaAMsA+gAuAWQBlwG/AdIB3AHwAQkCFAIJAvcB4wHJAawBiAFcATIBCAHMAHsAMQADAOn/3v/k/+7/5P/F/6L/if+D/5v/yP/3/xsAMQAwACUAJQAzAEgAagCQAI0ATAD3/7D/b/8t/wP/+v7x/s/+nP5r/kv+RP5W/nH+h/6U/p7+rP7B/uf+Kv+N//r/VwCbAMYA5AAIATMBVgFuAX0BdQFNARMB2AChAHkAXwAyAOT/hf8j/7D+MP7K/Y79af1O/Tv9Mv0+/WT9lf3L/RT+bf7F/hH/XP+p//D/KgBWAHoAmwC6ANMA5wDwAOwA2ACrAGEAEgDe/7z/mf95/2T/SP8d//v+6v7o/vf+Ev8o/y//Lf8i/xH/D/8s/1j/fv+a/67/tv+z/7b/zf/1/xoAJgAKANH/kf9c/zn/KP8q/zv/RP80/xP/+P7v/gH/MP9q/5X/qv+v/6r/p/+3/+v/NQB+ALgA3ADfAMkAtgC1ALYArgCiAJQAfgBiAEQAJgALAPP/0v+m/37/Vf8W/87+kv5Y/hL+2/3I/c/94/0G/jX+ZP6M/q3+z/7+/kD/jP/R/wkAMQBGAF0AigDGAPsAHAEiAQ8B7gDEAJsAggB9AH8AdwBkAFIARwA6ACwAJwApACkAIQAGANP/mf9r/z//C//m/uH+6f7s/vH++P74/vv+Cf8U/yb/Uf91/23/Tv84/yz/L/9W/47/v//q/wUA9f/C/5//n/+r/7r/yP/K/8T/uv+p/53/tP/m/xEALgA/ADoAMgBBAF0AegCrAPMAIgEdAfoA0gCoAH4AWwA/ACkAFwD6/8n/lP9p/0r/Q/9U/2D/V/9F/zD/DP/i/sj+yP7V/un+/P7y/sX+mf6S/qP+vP7l/h3/Sf9T/z3/Ff8A/yH/cf/D//3/JQBBAEkAPQAwADoAYQCIAIgAXAAgAOH/rf+l/8X/5//z/+v/xv+L/1f/Pv9E/1//hP+i/6//sv+3/77/xv/Q/9z/6v/3//T/2P+//73/yf/d//v/FgAiABwABwDn/8b/t//C/9z/9v8QACoAPABGAE8AXgB+ALUA5QDwANoAswCCAFIANAAtAC4AIAAAANP/qP+P/5X/t//v/yUAOwAtABcABgADAB4ATQB3AJsAswClAHMARAA0ADoAOgAkAPb/uv+C/1P/K/8V/xb/Gf8S/wX/7f7I/qz+pv6s/sL+6P4L/yP/Of9P/17/a/98/4z/k/+U/4v/eP9n/2j/dv98/3b/Zv9V/1H/U/9A/xr/Af8D/xD/H/8z/1P/e/+i/8H/4P8RAGEAvgABASABMwFKAWMBdwF4AWsBagFxAWUBRAEqASEBEgH1ANwAzgC4AJgAegBVAB4A5/+5/4j/V/9E/13/i/+n/6b/lv+C/3L/d/+T/7b/0v/e/9X/xf/D/9P/6////wkADAAUACYAMgAjAAQA7v/l//X/LQB3AJgAjAB/AIIAkgCqALwAwgDLANoAzwCdAF4AMAANAOn/yf+x/5r/f/9W/xb/3f7P/uL+8/73/vf+B/89/4X/sf+6/8H/2v/+/yUATABcAEcAKAAfADMAYACfAM0A0gC+AK0ApQCkAKMAmwCQAIAAZwBUAGMAlQDEANIA0wDpAA4BKgE2ATQBJgESAfYA1QDHANsA8wDjAJoAMQDe/8P/2f/7/wAA4f+u/3v/X/98/8j//v/v/77/rP/W/ycAbQB4AFAAMQBTAK4ADAFKAVsBPAENAf4AIwF0AccB3AGdAUUBHwEvATUBCAG1AGgAPwBHAGUAYAAmANj/lP9q/2T/c/91/1z/MP8L/wT/Hf9A/1b/Yv93/5X/of+T/3f/T/8i/w//I/9B/1b/Zv92/4n/o//F/+f/+P/y/+3/AQAsAE4AUwBPAF0AfQChAM0A+QATASABMAE4ATMBMQExASUBDAHzANoAugCPAF0ALwATAA0ABADg/6v/ef9L/y3/MP9A/0D/Lv8Z/wb/9f7n/uf+9v4Q/zH/WP98/5T/pP+4/9r/CgA8AGUAigClALYAyQDeAO8A/AALARoBJQEkARYB/gDhAMQAswCsAKsAtQDGANIA1QDPAMcAywDeAOoA3wDHALUAswCxAJ0AfQBlAGcAfwCHAGUALgAAAOL/0P+//5z/df9j/2P/Wf8+/yb/IP8p/zT/Qv9V/2v/g/+X/6H/rP/B/9f/5//x//n/DwA3AFkAagB7AJgAtAC/ALcApgCeAKUAqwCeAH0AYABXAFcAUABAACcACwD0/9D/n/95/27/cv9y/2r/a/+D/6X/v//X//r/KgBeAIoApgC8ANsAAwEjASwBJQEZAQEB0QCXAGUAOwATAO7/1P/N/8r/rf96/0n/KP8U/wT/9f7x/gv/RP+G/7f/3v8WAFwAiwCeAKwAyADqAAIBBQH+AAUBJwFcAYcBlAGIAXUBWgEuAfUAwgCeAIQAZgBGACoAFAANABcAIAAXAAQA9f/n/9b/wf+x/6j/nv+K/3H/VP87/y7/Kv8o/yL/Fv8G//L+1/69/rH+rf6g/o/+hf6A/nz+fP6J/qP+uv7E/sL+tv6o/p7+lP6P/qP+2/4q/3r/w/8MAGMAuQD4AB4BPgFhAXsBfwFzAW4BegGEAXMBRAEPAecAxACKADgA5v+m/3L/Nv/z/sL+uP7L/t/+4v7d/uH+7/76/v3+B/8p/2D/kP+p/7P/x//s/xgAPABSAGEAdwCTAKYArQCuALQAvwDIAMsAygDMANMA2ADQAL0ArQCyAM0A7QADAQ0BFAEeASUBIgENAfEA3gDbANwAzQCmAHYAWABSAE4AMwADAM//nP9d/wv/sP5q/kn+Rf4//iH+/P3w/QP+Gf4e/h3+Kv5B/lT+W/5h/nj+r/4A/1T/m//Y/xUASQBmAGsAZgBmAHEAhACUAJYAiAB4AG8AbQBqAF8ASgAtABAA9v/V/6X/bf9G/z3/SP9a/2j/cv95/33/gf+H/5D/nv+1/9j/AAAhAD0AXQCHALUA3QAAASQBRAFYAWMBbQF5AYQBiQGDAXMBXAFEATABIgEbARoBEQH6AN8A0gDPAMAAoACEAH0AfQB1AGcAWgBOAEQAOQAkAAEA5P/S/7b/f/9B/xz/C//v/sL+nP6I/oX+jP6Q/oj+gP6R/rj+1v7X/tj++v44/3H/mv+7/9z//P8VACMAJQAjACEAHwAZABYAHQApAC4AKwAiAA0A9v/n/+T/4P/X/9D/y//K/8//0v/S/9z/7v/1//L//v8ZACcAHQAWACMAPABaAHkAlACuAMAAuwCtAK4AwADNAMIAtAC9AMoA1wD9ACkBMQEgASABMQE+AUUBVQFhAWQBdAGNAY0BdwF3AZkBrwGTAVYBHwEEAfkA1QCkAIUAYgA3ABYA7v/F/7b/r/+e/3L/Kf/6/uj+uv6U/pL+ef5b/nX+lf55/lj+d/60/tL+5f4O/0T/eP+a/6X/tP/F/9L/8/8RAB8AOABFAB4A6f/X/9H/ov9u/47/xv+k/1P/OP9Q/17/TP9K/3f/kv+J/5P/oP+R/5r/2P8FAAQAHwBTADMA7//3/xQAGwA9AGIAdwCQAIUAXQBWAGMAdgCQAKMAxADrAOEAvgCeAIAAgQCdALMAygDgAOEAzQDQAO4AwQBIAD0AsQDNAGUASACzAM8ATwAkAHUATwDg//T/NAAVAOz/EQA6AAAAvv/1/zkAFgADAGUA5wAhAREB8wDkAN8A1wCTABsA3v/k/9//s/9c/xP/Kf9W/zf/7P6l/nr+eP55/m7+cP6Q/uP+Vf+F/0n/3P6e/tP+Gf/Q/or+CP+C/2P/VP9o/7X/lwEYBTEIEgrnC0sOuw9aDuEKlAfABAEBBPyY96n1OfWQ9CH1QvjI+9/9aP9iARsDUAORAnYCvgKMAkACKAI+Aq4CNQNQA74CFAJJAqwCGwJZAccAjf/F/R38o/oE+VH3c/Yi9qX0XfLV8CHvxevW5/LkjOH13Avelemh9xIDQxRILEg83zwnOAg1eiysGwgNXwayAigASQDS/w38iPfW82fuTeai3+vcdNtl2SDXttR31IvY590P4nDojPMI/ysG6ApJEDcWSR5KKHQuxC/kMLMw3yrmIAcYmRIxDgwKQwldCtcIpwUKAv/7N/QU7YznQONT3oTZSNju2ZnbNN2A39njDety8uH3TvxGAFsDVgW6BtIIwwtLD+MUGxy/IY4lfikzLL8qgyU/HwAZZREGCJf/wvq9+Gb3i/ar9mP2zfPo79Ps1+gc4jDd193s307gPeJ35yftg/GH9lP+Egc8Dn4U/hkWHYUd/hpbFXoP3gsYCqMJnwrhDEMPiA9MDU8KkAaVAJH4ivDb6fniutqO1ETTW9RQ1i7c6OZK8gv7dAJSCUUNBw5ZDgIPOA/AD3QRjxP+FJYVthWHFZ4UmxGtC40Ebv119DTpYN+x2vjaEd6D5cv0SwjyF3wiESt2LwIqKhttCkj86e6D42XfK+Px6kL0z/5bCacPzg7BCZQDePsA8kLre+pK7hnzKPmoAYoIbQrACXkIxwWJAqoBgwQSCR4N5BBPFJAVbhN2DsIIjwNJ/gL6uvi5+T/7J/za+9/6oPjm8zbueumR5vnmp+qA8N/45wIyDFMTzRdIGtIarBcOEs4NcAuKCbsH/wUYBRIFFwSqAVL/Cv6A/W78WPo7+EX2ovOK8E3uDu7G7/3yLfgS/58F4gpND/kRhxHQDsALDgnKBhgFGwSQBKgGyQgHCjcLTwwADMYJuwb1A4IA6/u5+Mn3XfYS9LXztfXk94z5zPuf/lgAegBPABsAI/4x+jX3yPaL96r5Nf5qA30H+QoFDsgOLAvKBM3/BPwk947zqfNZ9aj2mPjG/GcBqgIDAhADgwNTAXr/0P5h/Qf7kvht9pz0hPIv71XqtuXz4T3dYtrM3nno5fLY/9MRZiRuL5AyFzULNvMtYiCSFuIQAgucBH4BjAIeAv79RPp/9rHvX+jB4xnhat6G3JreTuNi5mPotuqO7APvrfLr9oj8IwOVCtgThxyGIq4msiemJLcf6xnkEwgPUwucCCYHMAd6CNcHYgOn/vj6wvVn8KXtpOv46L/oZe0W9OL4NfwIAE0DTgT8BL8HSQmWBY4AIP/f/qv89Pkt+V36Avt5+3z/AQUbB5gHIQkXCgcK/AlWCgkLWAsHDGUOihD7EIUQaA5aCiYGBwID/ZH3dPMY8Zvug+zA7bLw9/Eb8zv27PmB/Cb+8P/1ASEDLgPrAuIDfwahBzAG9wY8C5YNWwxVCxYLswdwALL6KPkz95bzFPQb+Uj8//y0AGMG2AZJAmr/J/45+pj0RO8L6ZvgPNU9yFK+07r0vPnEONha+VUf3j7BV5tsOnZ0bLZUaDvRIocHjPEl7Azzufv/BRIT8BmkEosCMPK535zIGLcVtZa8OMUP0ubjm+8Q71LqD+ey4tng6OkF/AUPcSGVNWlGLUoRQZg04SfJGF8LmgWzBskJQA0dE0IZyBnBE3EKkACV99nuUufC5EHmLOiD7JD1Kv7vAIYAWgAy/Vz1Ge5G677qlOm+6I7qlu1T797wJvRT+YP/ogU6DJETZBicF5ATBBGqEN0QfBNZGlIi4ScsK2EtfyygJBYXewlC/QXx8+U83mTa29hP2DLaXN9l5QjqkO0w8az0TvYr9fbyFvKR8VnvVu6f8un63gMZDZIXXSGQJssmCiQdHpIUXgnWAFT+EgBNBIIMoxbFHcEfvxxIFkoNTAEt9Pno8t8p2APT9tIW1qDYsttn4HDkdOfp6QPrJeoI5prfd9pN12zVItcR31TsW/zADsYjYzpOULNf8mSOYyFczEx7Om0qXB0FE1YLdwjZCVsJagU6APn3zeq+2gjMZ8Abtlqvw66RsFqzQrnpwG3I9M9O2V/l7PDE+9YJfRnzJTYuojQHO4A+QD3sOr04iDVcMhwwYS/XLhor1CRuHvEWswxtAHX18+y75Lfd0tks2ETYMdnI2g/eTeAO4BHgQeCm36neAd2v3G/fquN76MPtFfT9+3ADxAr0EyMcPiGTJVIqHC/cMsM0KDZ5N2Q3HjZbNDQxZSszI08ZYw2iAGD1S+v54ZravNQC0KfNRc3KzYPP9tHC0/zU7Na62nfgTuZR69TxlPrgAp0K3RNIHUUkyCipKwItLiz9KG8lwSKtHoYYlRNXEWAQxg8vD5EO1QyUB0r///XW6hncz8kCtyqoV50SlcOSoZqWrFDEyN5f/4olYkYNW5xmo2uMZzVYiUPqMWUjXBarDl8OEhIDFWsVFhNeC7H+6PEe5UTXwcyhyJ3IO8nPyrrPztT11b3WN9uF4V7nre9S/vIOpBrfIpYq9y5sLBIk+xuaFq8Qrwu0CzYQiBYTGzsdUB/pHS8WjAy5A+n7yvUU8Yvv9PEP9SP4UfzF/3z/xPr29HHw/eo65ATfsNxy3L7c0N4g5Srt//Mb+4YCowffCU0L0w0GESIUzRd1HDciNCmfMHM2bDh9NtUxLSoyIIcVWAoz/5z0SOpE4WPalNUj01DSAtNI1pDau9284NPko+gw6uXqiO1d8VP1K/sIA7MKOxHkFnIbFx4IHiUbaBZZEWgN7gsIDfoPbBX8HOsjOSmVLCQsWSegHqoRDQG57+/hEdgFzxfIMMbfxjPHLMi0yxzQRtHS0LjTHNho2ojczeDF5aHonOoa8Hr4nADICUUVeiGdLNI1yj1dRHxH9ka3RKNB1zxINkowHyvCJIQdYxWzCxICg/ht7lflYdyr0vTJD8IIu8i27rSUtG62nLoHwBPGiM7r2a/kJe54+VEG2hHhGlkicCovMsU24zmjPac/Ez/5PjhAyD9DPMw3ljI1KuEf9RY/D0kHIP9s913xhOw559riGuCm2wbVVs+8yurFuMGQv52/DMHiw3XJ3NE+2x/kFu0E98gAHwr/FEwh8SzzN49DiU4PVoFaw11WXh5bS1WOTItB+DVrKVocMw/xAOXys+Uq2NrL+MG3uZ+z46/TrT6tj66Osl+4FL8IyKTTz+An7gb7/gg/FgUfiibjLucz4DVXN8E3pzfhNhk1BzRXMt4t0SjwJFMgkxmpEooMVARV+bztHuI713XNMsSevAa2mK4pqQSoZKk7rMawSLd/wLHMCdpp5trztwP9EfIdHyrmNCs+S0dSTZxPzVCSUA1OlUmEQ5I8uTSpK5ghARepDM4BV/Z+7AvjpdevzaLHrMIdvnK8jL1Hv3rB28QpyR3OudJg1tHaGuDH5GzrGPerBTQTLB/vK045xUOxSR1MTUwwSp5Epj1+OGszeC1dKbclZx/4FxARDAn7/g705+iG3Z/ShcgYwEW7WLkHuUW7hb+AxfTO3dkw4zTsZ/UC/SkD+QiFDroTQxhAG60d6SHbJrcqCDAkNwc8/j2mPuk9cjtaNqQudybpHdMTeQpEBHr/z/nT9Pzx6O2Z5tnfctvV1mXRnsxgybTH6caix+rKWM9z1HnbZ+NF69rzdv1dCP4SCxukIhQrUDHINGA2jDVcM78vVykSIpcbaBQ2DCoF3//1+Ynzq+6v6ZzkJuIF4PTc+tok2MbU/9N108LR5NCs0NTRQdWF2U3egePA6H/uB/Qs+Zr+eANrCGwPlxcwH0InLjH6OmlCsEdhSs1KbEkZQ044oC0uItEUKwhw/KTxeOg24K7Z3NRj0LrMjMlsxhDEg8LFwp3EjcamycbNd9N23broQPKO/NAGQA/5Fn8dryKEJqQomCpDLNwtmTClMjs2kD3UQTFB1kA2QEY9czbaKrIeQRIuAijykOUP2x3SXcovxJq/jLs9uke8XL5HwILDU8kv0pfaC+MC8LP9gQd4ELAZiSF2KBsu1jLVN/U6yztdPl1CI0MaQQk/PjtoNJYsVST/Gu0QNQZK+93wqOZv3Q/WCM+3yAbGCsYSxhPHR8lqy5bOZ9LC1ajaQt/V4NDk+eyp80D7DAgzFMobJiJfKFYtgjBBMSswkC2FKAoixxyOGQQWkBCGCyYHXAA1+L3w7OhB4TXZkc95yHXFiMJ7wbfGGc/71CXZJd9T5Orl+uhh7+j0M/nj/RwF+w/YGD8eTiULK6or1SoVKlspPShzJEggTB7jG/cX6BPmEM0NKAd///n6YvUn7fvnPuYt5P7h5OAF4Kjf7eDC4lvlEur87Wzw9/S7+Q39DgLFBv4HTQhMCRsKtQoYDI0PLBQXGNob7CDmJgYrxisaK58qmimRJeUd4xYlEdoJwQR5Av79afn09S3xv+567rPrBekH5zDhr9la1kHXqdjY2ljgcucw71/4FwHNCkgW/B2WIsknXyoGK6Qt5y/7L8wuhCxuKqEoqCQvHpEXAxDZA6v2Ye9C6grjCd9F3ozaz9Wd1DbV+dVA2LLbSN/k4xPq0fFL+k0AmgPKB2UL6AppCaQKiwwZDPwJ6Qd+BQ8D/QEXAbD+ivvX+aH6yfoZ+Cz20fbY99T3LfWq8RLxR++q6G3jO+Ke4O7eeeBX5CPoUOsD8G35+AS1C+cNfxE4F0Ucrx+cIRMjNyQ6I38fPRq0FWcTnxDCCaoA9fkm9nzyye7N6+znHeST4jPhPt/A3/HjBurL7tfx0/VJ+qv+FAQ+CMAKPA0TDeAKwgoEDFUN5Q1xDAoMNg4UEGUSmRa0GWEZ6hZPFQQWVBcMF/cUIRJpDtQJAgfnBd0CRP5M+gz27O8x50ffK90d3f3Z3thX3UvituUD6zryQvj4/AYCUAeYDM8S6hrnJG8uzTQHOSQ+W0OXQ8g98Df9MusnsRatByT+dPXy6VPf39ol2uPXddTH0gzTyNI/0RHRM9JV0kDTR9eN3YTkq+qb8X38sweaDocUfhzCI88n2CjxKGMpSigmJOAdKxcTEgYOlQi6Aqf9OPj181Xxtuuz4l/cWNpJ2GLUfNFc0p/VhNeu2KncxuHf5dDrnfLr9rj70QJwCbAO5RG7FGwbiiEvIAscoRt0HFAaRRbzE60T4hI+EY0QHBErEL0L4AagA/b+1/jR9O3yhvAl7JbnK+Yf54Hnmucf6Lfnfebg5pHpTexh7vrxBfhQ/qMCAgdWDhsWbhvxH5ckuiiSKyAsKyz8LKcsRCtZKCMhEBjpEUwOSgrUBOX+Bvlh8wfv/+ot5njizd9R3VXcptvN2pDcgOC35AvpLe1t8qz58AClB/8OwheNIToq3DCZNk87uD0IPRA6izbeMnsvmyvPI+0Ytw9VCFn/BvMI5vHcUdb6zb3FvMByvh++wr+swmbGtszO1jHhY+kf8nL96AmUE+gXYhoVHkQhDCP9IlEhmiDGHwMdnhplGEwVjBK2DdUEcfs09KTuHulX4/PfTt/m3jvedd1a3izkl+u57mnvPPCZ7inr7+lX6mLqZOqw6VbpLO2T9H/8DwWbDTgUqxg+Gx0eTSMiJ2clXyBqHLwZChajEZgOogzsCe4EJ/6w+Ij18vJ68FTtgOg448TeWNxb3PPcq95g49noguw+74z0ev64B00KeQnCCUEJmQbWBSkKdA/VEDMR6xQ5G5shwyYSLIsx2TF3LFAopCbQI4wfWBoPFMwMTgSV+97zn+2h6WnmWOFl2rXS4M2zz93TctQa1DPXA94S5zHwOPqcBxgVRB6hJEsr/zL9Obk9bD4uPdM52zWRMfYpUyBLGQoT4Agj/d/0ru+M6qTkqt7s2cbWL9TL0hnTBNMS0+rVRtpO3sLinOfB7K/y4fjD/18HOQ1AERoWaxt4H+0h9iGYH2wcXhi1E/UQpA4VCAj/EvhN8WjpN+XC5SvmAuSZ4CDfMeHa4uThWuKo5ObkZOQv5/jszPKh+DgBiwqTDugO2BEMFmMW7BJkDzkOfQ2YCl4HkwVHBFYDIAKWAEQAEP9P/Fj8QP3T+ln58fr2+9D7YfrW+Gr7s/+TAFwBBwUGByUFdAOqA5cCK/8Z+1D3MfX69GT1cfeO+m/8Wf+vBAsK7g6BEh0UABaZGIwcmyL3JHggXxvYGH0W9xNdERcOdQr7BN38Cvf/9tv3dfWH8SfsU+Vx4kHmKuy78Mj0MfiB+p79fAI1CXwSSBrnG1AbrByxHuIilCkHLXQrTijqI3EdZheiEzkQZgt/BK76MPHe7OPr+OmF5lfiCd9R3SLbddjv1+vZqNx735HiDeZF6+TyxvoXAgwJFQ6VEpIX9RiCFxQYfBllGc0XkBQxEZ4NEghiAkn+2vqy9gHwWejd4zfiFuFx4BvgAt/i3FHb39vE3QXhq+YC7PztW+6n7ynyyPX++VD+SgMxCPYLkhDQFgYc8B/ZI2Al0iH8GgMVUBEvDswKNwf3Arj9UveF8m7yMvM08ZHvau5D65roGekK7CjvFfA57+/t1+z+7WTxZ/Sf9lX4UPm/+h79if/XAakEXwgyDEEPCRNFGYwfVCLkIpok9Cd+Kx0syicgImYeVhuTGLcV3BAUCwoGFABs94nuSerO6RLngeDN2b7X79us4Tvm1esQ8ef0pvp9AqULZhZZHzAkFSdiKVErSS5NMmIz1C/uLIordyUSHFgVlBAvC9ADFvoJ8ULqPuSH3lnYRtI7z6vOXM4hzuTNyc9u1nPeLuQR6gPygfke/34E4AotEj0ZIx0/HXsd0R8lIncixB/aGvMVdxGQDDIGgf5u+Lvz1+uo4QPb5dkH23/ar9g82Draz94646blDuk764LpwOqY7yLzT/mVAOUBRwJVB2sOJhVbGFgXnhZIF+wX4BfsFBkPUwm9BEgBuP62+6n3O/TD8VrvjPBK9oX5L/mo+Qb5rPcf+bv6i/uq/En6yvQb8j7z5fVv+Yf84/yQ+wD8zv4uAzgIMAsUDEcNeg7LD4kSixblGuIdeiBhJMckBSDJHHgclhsHGcATCw04B1cBE/yW+An1evHn7k7sPel25Qbii+Ln5hXruO7R8wn6zQAlCAYQehmPI44qZC1VLmwwkDR7NnUz8S4WKxMnByL7GikUhw/ECZUBg/kS8jbry+WF4SzcHtVV0XrTK9Zv1t3V8NQw1lDb+OAq5v3rau/777LzAPzCA3AKFBLxF5sa7BvZHAof/iGqIQQdLBYwEEQMqgYk/1r6Wfa77znqE+hF5tPi0N5r2xTYfdS10afQlNEM1IbYWN/s5Tnr3/Ay93T/sggGDmMQ8RLBExYUjRaeGOYZdxvVGeITtQ6PDQEOzA0aDZMKTQWh/xv7t/dG9Vfyfu4Q67TnaOS45OXp8u5o8Sf0nfZW98f43vpM/QsCiAUIBGoBVwE3A+YEfQVfB9wKYg2JD7ERshKIFOIXXxoPHB8dghtrGGgXiBe/Fm4XHRncFnMRmAxLByAB8vuP95Xz7O/s6qPkx+Ac4sLmV+tq70n0/PkUAEwH3A/kGDsiuynsK6QrRC2TLp8uoS+mL0ctNSqYJWwePRYEDzgK9gWk/Srx+eXe34Pc0Nc40nLOGs3QzfrO0s4k0OHVc9yk4NLjs+Yp6xXzFPro/a4CCQl7EKIZ0R9JIVgiGCJWH6IdOBzKGH8UUg7QBfz+bvsB+f/1FfDY5nnfxdxb2+rayNz53MXZLNfI1uHXJNsP4D3kuuYz6JPpQu6w+NoCbAc2CsYMYQ0SD4kSNhVmF6sX+xQIE/oSBhNWEwoT+w/kCnwGWgNmACH+zPzV+gv4TPUf843yBfNe8nPwAu9173bxL/Pe8+b0Z/d2+UX5W/mw++n+4gISB1MKFQ7hEY8UIBj7GiMbrxyLHxMfixzHGigaURsWHEIa3BfyEwoMaASoAHn+ffyn+Yb0lO9o7LjqGO0r8l70qfRF9n33gvgo/UUFzAwaElUW5BpvIVgoriuFLYkwDTDDKg0m6CL9Hi8bVRi8Ez4M2AXzAaD8O/UL7vfnj+TU4uDeKNmE1VjV8ta+2Lbasdxa4HDmdOqC7ab0fPoA/N3+zgB4/3oACgQIB5QINwc0BtEJIQ7dDZEKfwg8BiEAXvmV9ObvJu1/7FDqUOcf5BjhmuEj4yHhzN4N35/fX+BB5BDqeu078Ef1SPqH/3cF3QiFC5wPwxMmGdgcjhvYGl0bJhh8EzoQjg2JCpYFcgCV/QD7Q/jS9pf1IvMu8MXv4fGJ8tvydvVi95r3Vfh4+nz+lwFDAIT9D/2R/Vn+3AANBNwFPQeNCRwNyhGZFLEUwhRXEp8ObxGCFR4TTBGHEFQLIAmZC/0JngZbBP39pvdN94r3e/dS+lz5XfPX8Tz0gfXS+KD9LgDsAq0HKA4YFyYg7iXxKMgrsy6LL8su/i0WLJsosiNrH50fMyCUG6sVzQ/xBjj+efhR9E3vmeYx3c/Y7NfI1pvVM9Vd1FzSGtIk1XzYgtuz4LLoC/EY9579AQdMDhoRdxKTFFEX0xUAEKkN9wu9BZYBbP+o+lf3nPRn7sDnPeNa4dngnd682kvVsM9XziDPac9g0iPX29xW5fbsWPQ6Am0SjhphG2UcDR8mITUiHSAUG+4YNBkSFpEQBAxICSEJuwgdBND8q/dN9nT0ku9f6w3pbufx5zfopeXW5XTs+fPV94T6wv6DAmcE4gVtBp4FoAQxA4cCWAPwAwcILRFMFvMULBRHFZMY2h4tIpsg5B63HTscphlEFFQP+gx6CSsEQv7B937zZfGm7anpeuid6NHn9eUg5J7jKebx637xGfY5/ewFZg40GMMgtyaUL186vj9rQMdAvkAiQetBcT4TN+MwqCtqJ0YlVh/TEzoJ7/8y9lPuHefA3w/aAdRizBnGsMPyxLXGdMhjzNbQc9VV3APjkOhO8ND5RQH3BBYIew2CEZ0SLBOpEXwPoA8ODaUGtwFS/Az1wvFM8t/wG+1P6aHlMuLS3nDbONon2vTWANRr1w3dYeAj5r7uYvLg8Rv2DP6OA+EIJg/HEhoVCBcjF0UYHhquGOUV8BOnEA4M6wiTCJ8IoAaJBAED+v+v/OP5a/aN9Nr0v/Na8Tfwmu897r7tjPA09XT3nvd7+AX5k/k0/AX/5QEaBpgIlgq5D0gUUhc8HB0gdyHEIscimSL/I3EhoRljE+8O+AeyAQb/W/sw9VXv+OmO59Lp2uoB6fXob+ie5DvjLecB7B7xp/jn/vkCnAkZESgYlyK/KyMvjzGRNBU4Bz2xQNlCz0LTPzBAfkIYPiQ19yzEJtAgEBYNCXL/Avde7sbkQ9rQ0zrPHcmdxbLCer+kwQXGjshby3TOLNP52aHfu+Sd69/zffqV/SEALQKRAtUFRgoVCu0HLwdaB7IGBAQYAfb9lfw2/6X7Le9d5l7g7Neg0sPRrdTG2enbvN7v45XmJOt885n6MwIBCnoObRBPENoQoxSmF/8WuROJEKMOignpATX/8v+0/jz94/2Y/lr8dfgL9hfzA+/G7/H1Gfpx+7UA5wZ1BeMBFAPeA0MEUAaMAyL+Nv0f/cD8kAAaBhwKrw3+EIQSzRC7DvMQBRRJFCwWThh6FfoSnxIeDvUJXQtkCyEI3ASi/9P5ZvZT80LwLu1g6avox+sI7u/ug+/i7iLwAvYZ/UED+AiHDEoPlRRBGjgfuiWhLCYzETkBPMk9FUChP689cT3DO/Q1XS/1KvAlkh5OGB4S7Qij/8f2p+0P5oDcftIx0K3Q4833zRLQwM4Dz4PUj9o83pDhTeVn5gXmvel47pDutO889Xb4hPlN/Bf9+PyEAFwC8P+q/Un6Tvat9DHxI+sU5gfhqd1m3czcf9xl3ZDf+uY88EP1/fpxAysJNgy2DsQRlxdPHQQe6xrLF5YW8xUqEm4LqgUFAuf+wPqm9SDyvPEf8z70XvM38eHvku4k7izxzvP28zb3a/w3/vP/TQRnCJELgwwWCpwHvgVdA5UDpAZ4Ce0MJxHWEloRuw/eEOoTxxWvFk0XRRZAFTMVphP1EQ0S8xEsEjMTzA9ABdn54fO18F3sz+hN5lzjpeFk3/Pa/9lB30rnLO9p9QX8PgSFCtUPrBd4IOMq/jYmPsY/CEJMRG5EGkWLRY1EHkWCQ/s5yC67J0MhrBrCFREQaAdv/R31vOzU4XTavdkg2SfXsNXr0QvNL8xWz07SC9Te1rXYVtgM2krbetok4JrpOO2e7hvxifN2+aIAfAMbBAYE9QJLAyADAf9A+8v7Nvv180TpdOKJ4AvdbNlE3mDmSOo48H/3nPkm+xn/zANjCIkJEQusENUSZBJVFDMTEhGhE8oU3xEYDuoH/P/6+vf4KPfI9v73h/Ve8KbumO0t6yfuNPYq+w38yfx//FP68PkR/NX+cgF7AOz8Af3Y/o7/GwKqBdgI9wsJDoAQWBGoDc4LKg9nE/YWExogHdkejRxoGRMZVhqIGoEVbQy3A+34B+7e6bXpe+mQ6HHkGeBC4SrlQud16nzwH/SN9iH9VQOhCJISixurIDQnrCx4MIk2cDtBPFE77ju7Pq8+ODsDOXU26TGlLRYq+iXEHugV6w7GBgz+Y/g18XToAOOG3XTXDtZH1+DVQdP40tHT19RA1wrZu9uM4Wfint1a3q7kPutZ8l33vfem9uL3xfmp99P0KfWF80nv5ep95D7gu+Az4d3hbeGN3CPaAN+75Tfr5fCh9p76Hf3H/yICFgX8CmsRzxRiFtEZIB+fISogDh7KHOkeniMqIH4RMgZbBvUFbPw583zx2vHs76zqjuPO4UDoPe9v8O/uPu/z7qntbvD89L31lPSP9Rf5o/mM9fD28P5NBBYIqQvoDO8OwA8JD8MRmBITEv8aciatJuweXRn/GMAZ2RmCGcQVPBHYDfAEi/nl89Dx3/EK8qnskuVh4mLiOeTv4xnjxOmA88T3afqK/psC2wlfE64XFBpcJIQxgzZiNUs1pTn/QiBLzUtCSB9FdkKqPig4IDFeLSQqmiG0FL0IlP6o9dPuGeYt22HWdNV30GTL7ccJxcXIHc6CzHrMeNPh223icOSQ5f/sY/WY+A75Wfcy9Zz27PmX+l33KfNb8L7uuOx/5lngCuJX4UHXIdHq0mvWzdgP2HPfIPMp/tv9ZQA6BEoKiBJjE9oSzhZnF30WZRclF3oYYBtPHT8gbSHRHTgZihR9DWQHqAXIA2T/Gvzl96nx8O5W7gPuKvMF+mL5mfNW8HXv7ezS6/7uG/E08ZnwVut/5jrqPPGC9tj8bwMbBpkF0gYRCXwH9QVfDFQYyx/vHh4behiiGG4bshqGGDAdmx8KFzQLtgBe+rz6W/vH+B702O7z6y7nBeHJ4mnof+w38oH1HPUU9m75gQBWCOANIBZgH7gl/izGM5Y1qTTjNpw9z0FtQodECkQvPz46WjUMM3wypyzXInEZpQ8RAt3xaOlU6TLn6uI73UXW1tQO1iTWFNgr2XjbgN8l393g4uTI4kficeW35i7q+OtC6P3kBeMg5BXmjOLb36jf8d1a3+TfKNwQ3Hbe6t9P3wrZ+NVy3njq5fLm9/n8dwKLAyQEewqVEtUW5hJlC2UMphJYFcgWLhngHA0ffhtNGeUcGx7XGUwU5BEyElYNwwLj+gn42vc19cLrW+QC6PPtCu0P6gnp2Oio61TwavIN9Hv1m/NB8iDzCPO28q7yDfT/+Mv9QQC6AngFswj/CkEKsQniDL8TUBkTFxMStRNaGXwcfBuDGPsWjhPnCLv8wPeI9xP27fVf96nyyOqW6E7oeuiE7V7yqfTG+Jn7ofu6/5oJjhOuGrEimi3uNHc0YjN6Nyk8JD/9QohDrj8kP6Q/xzqRNOsurCm5Jv4fVxPVCG8Brfmi8f3p1eUH5bfiwt4s2uHUl9Ki1ObWatc02oPhDOZm4yngU+Ak5Ezrm+4/65rnr+Un5nbobOXi3rfd9d6H3p/ftuCa3v7cguAS5X7iVd0a3y3jE+W/59vobOpl8L7zDfYUAJAL7hC3EZISBxq/I8Qm6CZ9JrkkQiaFJxIkoiCYHf0Z8RXmDjYJSgf8Atr9b/x1/Ej64fJl65Tt0PUH+mv3jvGF75nxcfH879fw6/M7+P/1jehE3rrhEucA55DqlPMA+63+PP7d+yX+PwakD/IVoBcrF18Uyw9vEM8UGxdyG0kfmhrEETYI1v3k+bb8Lf4p/Ej3/vDZ7Bzr+Oux8Bf3sP0vA0cEfwOgBdQJ6hAXG4ghYCPTJv0pTijHJm8s1jXxOSs57TnfPOU/1j5AOWw4TjjhK1Ie8xqzFvQNTwUI/V/5cPi48+Luq+r14w7fVN2a2xbZjNZr2MjexOCv3Tfe5OMx6m/tSexK6+DsYOps5Pnj4eYX6MnnR+Eb1wbT8tE10vPYq95s3K7XddRP0ynU5de/353mq+hE6Pjnlu0Q+S0AsgNkDPgYnSI4JTokGibOKskwCTQKL7go2id6JZ4drBR3Dx0PUw5JClEGZAMKADz7T/es93n46faw9XDyhezj6Dromeob7tXsF+v+7+PziPDQ7W/vFe8o7CPscu+q8tP0+PjQ/50DOQR4B2oLkg7KE1EXdRckF3gUCRDiDdsOShEPEGwKNQU1/w358fet+Vb6NPhz82TxZ/Bn6+fpkPH++7QCmwO2AvgFJQxqEvgZkCJAKMMorSfIKPsrdjAPNSI5fzz8PRc+rDwbO889yT4iN3gu2SYJHI4Tig53CUcGlAGG9z3tIueP5Wfms+TB3CjTbNKT1/fWjdZc3a7iduQU5p/lXuaW6jztE+3861PpleRH4A7f9N7M3NvYY9b91mPWvdPX0mvSe9RQ2d3Y3NeZ2u/aHePl8o/2n/Xr+Zv7KAHUCCMJ4wwZETgMEQ0OF/YdLh+vG2cavSDyJk0nAyJgHKAcLxzuFpgSeQ4xC5QLIQv2By8DBP5y+8n61vvX/IX4XvOC8ZbvH/Bc8XDve/BE8fbqeOVS5cbmC+fe5XLq3vTx+AT3HvdA+IT6fP/EA+sFRwjIC5gOzQ5GDP0Jyg0IFYcU0gzpBgIDjv+k/u7+QP2z+R724vG87Y/uivOq+MH+1AIfA4gGhw16FK8dwiVrJrsjQiTZJ7Yr3S6EMPAw7jKsNNczITYEO5E7bzrsOfU1MC2rIZQaFhqKFrIOQAd//vz35PRD8GDuwu5i6qvlteG82l7YcN3Z4bXjyuVT55XmmuSo41Dls+of7ovnct3N2c3Z4thW1inTptK/04jTstL90GnPQdBn0lfU5tRk1Z7Z9d6x4d7jvOaR7Of2wf9KA2gFNgt3FS8dSR6tH74lEiySLHAmZSIzJtIpUSbKHyMcLRzxGzAXEA++CS4K/QoqB+oBIwA9AewAvv1N+ur3dfdL+X35j/a382vzNfdl+q73N/Uq9WPy1PDF8c/wiPGZ8wjzDPSw9t/3YvpM/uwC8wflCMMHZglyCRUGsgO+AgwDvAQIBGcAAv6+/PH6Dft1/L/6o/YA9Bz0KPVw9Gv0r/jU/bUBpQaUDEATxRnBHhkkEyinKAErpS/+Mss2ojlPOPQ1XzXcNug5CTyMO4I30TC8KuYkXh5+GWoVLRDiClkEnPrN8QDw5vIa8w/w7Ovr5bjheuKf4yrjyuPx5Mzk7uNh4hve49lo3HTiwuMB363VANBC1qDdM9392nHUwMkTx0/KFsu5yWXEaL+wwxvMH9DCz3PRad0k7o/3zvrT+uH5FQEoDy0aph/cHaIX9xd7Hx8m3Cg3J+sjfyNjJXsn5SYwIH0YIhhGHWggox3PFbQOWg69EqQV4RXaE70OsQmoB8sGQgT8/Orz/vFq9Orx2uwu6Xnmq+bB6D/q9+q16a7p3+1d8b7yO/RX9aD4Qv6iAqsGGglJB4cErwO2BqYL1Qin/nP3QfTP8k7zY/Ik7yfrz+YQ5lvq9O1u7sru9vCA9V/8SQR2C3AQ8RN9GZ4h/CZOJwMnSiqVMsg7mz2+OOE0mDSuOMk/eUORQW884Ta8NWo3GDR1LG4npiaJJXYekhKjCAMDBgAb/g/67/IF7Lnlvt9s3v7gjeC03fXbydmb2DrZ49fj1v7YuNn91wbWiNOk0WrRrdGj0H/MZ8frxLTD58BrvNi5bLsIvLC6l79By6/Vu9tm4MXnuvCM95r+DgiMEBgWdRllHMUfeCKPJWEosCZqIj4giB9eHkAbcRdNFzAZqBc5EyARrhTfGfIaAxoyG9Ad7x4WHSQceh0jG8UWXBZEFUsQPAxCCiEI4gPb/T36f/gI9ArvFO5270zuNOpt6dHua/QH9tv10/Vy9Tj1XvdG+0r9T/zM+NXzA/HK8P7wqvLl82Tw/uqt5zzlT+OQ43XmKuqV6w3rBOwo8PL2Bf5KBJsL3RHoEwQWThtPIZEnyiyVLhgvmC+ZL/EwBTMJNXU4RTrPOB449zcKN1U3DTZ2MdQtzipDJjwi9R0qGVYXsxXID2cJowXYAVP9Hvkj9W3xYu3E6dPpGexi63HoCefD5grmHuSg4APdrdlj1UnR4c2zybHF6sHcu3+0367xq2qqeaa4oKegl6elrj2y+bRsvNzJkNY03w/nfu9K+eIDLAvMDxkVcxrBH8UjtSOKImIjeyQwJb4kMSI6IF8foxwuGdIYURtaHSkdsRuRG0keCiGzIUgjtSW+JGAheh6sG2AZGBg3F0oWPBTGEREQMQ14CWYHrgaTBi0F3wCb/VP96vyh/Gr9pP1t/Yj8gPp/+cv5bvkL+Eb2svQF8trsEejv5dvkjOP530PZwtOq0TfRFNKc0m7SgNWd2pHd1OAv51rvy/dI/t8CSwjWDcMSqRjVHc8gSiSqKTovajLjMiQ1hDu1QH5Aqj0VPMo73zqhOCM18i96KiYn2CQcIYAcpxjLFbwS8Q0ECYAH2gd0BRMBz/4q/3//2v1a/LH+jQEv/7v6mfia9rD0SPQs8k/tUuh95PXilOFp22HTY89CzDnFsLwbt6O1pbUGtIqxvLCBsuu2Lb0hw0jHRcua0iLcceJK5j/thPb0/TMDggeXDHESRRVQFdAW7xfNFZ4TGBN1Et4Q3g1eC5sMeA9REFIQABGpEaUSdhS9Fb4VTxbDGFMbkBvTGQoZehqgG2sarBcUFf0T9hJzD/ELKgssCvwHmAdLCfQKvwoyCSUKeA7MEYkRVw/MDQ0OJg8UD1gMCwhlBb0EcQLV+zjzJO4U7azqXOX/37/cWNx523vXRdWr1yHbgt574Uzjh+aK63Lw6PVo+qP8AgFvCFANTA66DzIUwBm6HMUc4xy5HZwdfR1WHt0dyxu2GjgagxiKFWsRMA5kDlUPvg1vC94JLQhmB4wI+gkuCmEJ/QhWCh0MLwx8C0YLqQrRCeoJKArxCOUGEgfGCfYJMgXG/yP9Fvzp+Q31Ge+R68XrGO3C6xro1uVe5uLoduvV6s7nG+ci6Srqtuip527qE++x8b3z7Pfs/I8A0gInBXwH+Af0Bg0GlAW/BbcEKwBU+7j5+Pjz9gb1e/Qh9XP1tfQL9D7z/fFM8nDzcvI+8XHyxPPt82D0YPUv9375efq6+pr7Avw7/Jn9LP8yAMsAvwAbAb8CbQSBBRQH4whKCU4JtgpQC9gJTwlECoEKgwkIB5kE1wTvBB0CEwAdAAj/6/wT+wj5e/f/9jT3zPfr9nD0LfRe9ln32ved+un+1wK5BFEE5wSlCKEN8hGYFJ4UiBPtE0kVjBW7FPATrhMSFPwT8RHBDhYMXgqmCW8JIgnfCO8HJAY9Ba8FsQYcCIgIewd3B1UInAdMB/0JUg0YD4EP6g6PD5gS0xR2FGsS5w+qDyQRzw/xC28IzAZuCCAJrgTQAIUA8v6y+8z4OPYo9QX1FvQp847yG/KS8lH0Hvdj+ZP6ffzU/nIAqAE6AnQDxAVIBnYF4gQCA+sA1f9z/jT+0/4M/fP5wPdt9qX1+/Iv7rDrmeuk6sHpxegh5fnhiuK64mDgg97I3XTe1OC94eDh0eQB6GvpbOsB7qjwPPPQ9Gn3bPsX/m0AqgJ5AoYCvAT6BS0GjAYoBvEGSAl0CFkF0wXOCKgKzwskDCoM3gzTCzwK0Qr7COkDUAGrAMP/4f5L/ID57/jj+GP59/iu9K7xw/TN+ej7Q/oE+ZP8TgLFBt8IkwcaCIQO8BPvFJMVdRXOE+ES0BHRDw8ONgw3CyoM3wzJDHMMugmLBhwHFAjBBqcGRQboAuoA2QGqA80GwggYCBwJLQu8C+wOPxQwFUoSOA8ZDZkO8BGIEBsMPwkvBjsF2QgnCTkE5QHfAckAzv9v/S37xPzm/Av55fel+XP6rvuR/LH7tfyO/3AAdgGPBPsEpgHn/2QA6f9w/4gAHgHn/yf+gfy4+Uz1vPH08DLwkOy35xvk1OEc4HvdRtl01T7TQ9J10mjR1c3TzbTU3Nuv3kbfSOA25AbrM/Di8ZDzOfi6/mUDzwTtBJUFPwi+DCYPdg4qDiEObw2ADlQQoxBrELMO2QxDEH4VCBZjFesWihiHGd0Yuxb1FWMWxRe2GQcYvxQIFiMYNRbEE1ITixNjEvUN6AiFBzgI+wfWBjIE+wBKAdgDWQM+AQwBCQIRBNIEGwF+/jsBjwPRApQBogBTAToDJgNmAe3/4P5x/nD+yf3Q+0j6z/tF/hn+cPy1+8D9WgLyBGYELQSpBJMGNgqyCcsDEgAZAXUCbAFb/jz7qvoP/Wv/uv68+yD5Zvg3+t78m/sA9q/yyfRX+K76qfo/95b0E/YB+IH3iPTP71Dt3u3h7ELpm+Wt5CPnrunT6yjvVfAe72nv+fCK84X1LPNs8BTxOvFS8EnvM+y06DbmueQN5tDm3eJb3vncKt7m4YXli+V+5Pjm8exx8+n4+PxcAPAFFg6oFH4XdxhoGRQbrh2zIJgieSFbHjYdfh/aIb8gGx2IGg0buh2sHuAbbRlTGqwcch8vIbsfpB2THYYenB/rHlQbdBfPE9EPwA1LDCAIxALH/cj5+vgv+Uf2+PGe7lfsA+0E8DrxAfBJ7h/uNfKd+LD7pPvc/OIAlgZKCsEIOgXsBOkHkwu+DDsJUAU7B8YMLxDTEHQPvQ2AECAWWxatEdoOAg59DbMNDgw0CPQFowTBASH/+/0f/R/8C/tw+hn7wvxx/tb+Tv7W/sD/DQAtAXgBb/4W+2X6C/sO+6r5NfcM89PsGejE5ZThWNvj1RLSXNDWzQLIBMQ5xYnIkMvNy1TJXMsz1YvgxOZm5zfpavKU/bgBHgDq/n8AiQSbB/MFDwLp/0j/RQCcAUL/j/uo+/n8Rvzk++v9MAJUB3QLXw67ESgXEB05IN4hMyT0JdImxCZHJdYjzSEFH0sejhx2Fi8Rzg80ENcPMAwOCW8LhA7VDrwOug2rDR8RhBP0Ei0S+A9NDB4KAQkzB4UDmP3v9y7zee296BTl/N1l1m3VBdms24jbKdlS2tzicOze8Wj12/pZBSoRLBYEF3wbtiIoKJwpmiiqKYYslS0QLcAr7ypjLU0w1i3gJpYh+yBXIYodERboD28OaA9VDvEKMgdFBBIElgUCBe0Bsv1P+nr6VPsf+AHzDfAR8Fvx3vDQ7lbtjesx6ijrCeuE5yfkreKy4TTggdsx0ijJIMVixHXCsbsesWiqA6wNsSGzUrC4rcaz98AczMjSUtiS4RzxlP/VBkYMKxLeFTAaWR+1IX4jhiYxJ3QkhiHcIN8h3CHLHt8ZwhdjGoMckRqLGDkaYx9yJWooJygEKYEshDABMx0yni0OKMAjrSBFHOISuwVD/Ib56/c488Psnech57/qEu097E7r+Oyn8b/13fXK9d35f/8oAosA+vwZ+8/6/Peu8JLnp98f2RbTE802yPXGKcglyZ/MZtSY3MnjbeyJ+AYHsxHFFmAdXCfbLy817zYVN0462D6PQERAjT7VPLQ+x0E3QCI6NDSEMbgwmS7SKpcmPSKjHzkgtiCIHRIYlRPYEd4RRw9KCDgBOv1D+8D53fbG8RvsGug35/rmweKd3BDa5NqL2+HYktMo0YfRbs9PzELJ0cFbuMmyCa9xqcmiIZ22mg6cHZ/hohmoc6/5uK7D8c5f3O7s6/yoBxsPZhkwJqIuoTAdMakzhTcnOuU4wTQdMmQx1y/MLKcnlSFVH+EgiiE1IDMeXB6wI24qoy4GNMc6RD2hPOA9jj9/PHIzYCmiI8sfIReLCWz9+PWf8AzqlOE/2kXXstZx1UzUc9PA0rDUL9mQ3dDhh+ZF64/v0/EV8tTz4fdz+PTwjeYR4AHbPNPjyvTE58KPxFTHdMsn0/TbkONR7nz/gRBZGTId5iP/LRs37Tp/OUE5KD0kQTNC9D4JOWc2lTfnN202yDO9MNEuhCy3Kb8qBi/rL8wsnSw+MekzPDCpKQomvyY3JrMf2RUfDSQHhgJa/EL1Hu976anlCOPO3RDY/dT60t3RdNALzEzHuMTuwsvB+r9xuvexXaonpv6j1p/AmPqSopG9kgOWNZ4sqP6v3bg+xHLSD+fu/I0KZBOXIPYxBj7uPfY3SDaxOSQ8pjfsLaombyLOHoIemB9YHGgWJBQIGNAcSh2FHYMh7ybJLJQycTbuOPQ6vzwTP8VAQT5VNe0pXSHNGcEQXQcq/DrwNeiy4nTdhdr92ITWrdXQ2lXiwOI13lXeouAG4ZrjyeYp55Hn1ufv5nTmFOTU3kLaMtZg0HDJrMOewTPCksKaxkTSyd/Y6XbzGwCnD4IefycbLZg1kjyHO183/DXXNb00sTKQMIcvdS/ZL6gwYDDLLWkrHyyrLcArnSebJtEp2SzNLP0rLi6GMiEz4i65LF8tGymzH6QWeA9/C1cJAQTa/OH3UfX79Hj0jPHf7U7qZuld67jm4Nqk06XR2s57yqXBj7W9rTKoH5+rlt+SK5ASjd+L2otLjfCU9qK4sYu+v8uE3VbzyQXeEfccdioMNoo4+TOOMkMzyy2MJaogxx0ZG+8WexF9D+kQYxF1EU0SfBKME5AXwxy4IUUmZymsLO8xWDYbOVk8Ij2IOIQxOCs2JbIc8BE1CXkCp/uc9JTqqeCn30HjC+Oc4n7liOly7LvsW+1W8ALxW+/r79rwhO9B7pzuju4E65zk1+DK4C/c289PxkbFfsQWwGK+XcOuzGvVAd1D6J/2kQLRC44VGiFgK/AvcTEVNG41LjQtM440yDekOCE2DzVUNvM3PTn6N6I1lTbxODQ5MTfuMvsu6i/FNLc2mzLyLTItCy24KTIj5htYFwAVsBAiCYABNP6N/p38/vc09t732Ph79w71l/Fn7ObnwOVd4iLapc4GxTO/rrimrqSjeJq6lQOVtZNskHaNBo/0mOKldK/iuYLHWtUp4wbw9Px8DEgZrx4KIW8l0ioxKWwfqBpVHm0fYRueFa0Pcg4nEuMTVRI2ErgVHRpOHA8dJh4WIa0mYyuhLC4tFC+pMSoy+y1MKF4kLiAHG7IUNwy2BNn/ivqT9MfwR+8H7aLp4+ks7vfvmO1Q7Lbvs/N38QrtF+5279Hs0+v07MfsfOpB5frhZ+PB3xLVcM5MzC3G3b0avSPFY8tuywvP9tv06sfzqfeq/wEOvhgYGzgbLx0yIP8jFCn9LYsv/y4OM5I9gUa2RrFDnEZrTIRN/UknRdpCVkQsRC5AsjsnN9UzZTPiMkcwPyplINUYDRbyESgK3AH2+/v4afYA9JTzAfOq8QPz5PX49BHvBOk059zmjuL52qnUktC8y/3En74bubaxpKiLoi+gOZwGlvSTFJhmnQmgVaTssVrEPdFF3PPr3vp3BNUKWRLfHVkmfiWaIycmLSfGJGIiMCGeIKkfSh54HfUcCByfG3MdfCD0IYQhJiCvH9shpCSmJ7ksbi9jLVssny1BLXQpBCLzGZwUgBCbCowAN/NE6VrmuOQw3uTWq9Yy29be3uGd4bvcTdtW4J/lROcG5hXmcekJ7ATsdusL7NXtX+2R6vvo8uOb2CHQkM6LzjPNNssgzN3SadtO4q3ri/kKBnUNiRPOG0MlYSu9KiYpzy3ANHk4gTkyOYI6rT99RqBLdkyKS/VNZlHUUmtRx0krQbI/JkDnPVA7szdVMwYvdCrgJwUkLhpkDykI7AJY/MHwteRF4OTgXeEF4YTeJ9tb25HfNeTI5bTigdxv2LjYFNeK0CnKbMT4vQG5ArP5qTCijp2rm/2aVJfMksiUN57pqY+z67y1ypnblOuJ+sgJARvfK+E0/jaFOgg/NkCqP+U9QTkSND0w7it/J40leCUCJRMk1yKmIIQeuB5sIVwk/CTZIvAhFyYZK0IrLimHKKEnDyUrIOcXaA4wBt/9NPQK6l7f1NSkzeTKG8m6xSzDs8WmzFHSlNX02Y/d+N1t38zjOei96yntm+uU6jzsmu2b7EXq4eba4hfgMdzO04vNatBH15/bZN1B4FPqU/orB/oQax3gKWYydDdqOhk+P0PzRlpIvEdSRYtESUdMSu9Km0noSJFLik5STGtH2UVQRrZDZD0xN+kzwDF4LksqeCTUHMMVsA9tCVcCt/hg7ZHku97B2LXRBMw3y2jOTNDkz77Q29M612TZT9tE3aTbBNaE0eXOmsugxwrBwLemsYKv1KyhqUimSqJwodykeajtqx6z1L/9zsHbaOaC84IE2hbnJp8zwT80S+VR+VLKUMxOJ1C/UIRJbj1kNA8wWi3/KAYjvB55HHkaQxnXF0EUThGxEqIWbRcQEyQPjhCeFGkWAxPBCy8GNANU/2z66fJq5p/ZuNEjzjrKGcHCt3K3zrymwCvDo8VMyj/Shtn23tfiXuOp5J/q7vA59AD0sfDF79DzJPce9232K/XK8gTxce+m7GLrie4x9F35tv1aAyINwRqcJ2Aw5DcuQTtILkonS2xNUlBAU4BSnk14SlNLYU7HUJ1OVkmCRoJH70d2QRU28S5WLLEokCKSGVkRqg6CDWUJvAK5+ajx5O2f6yXn8d7j1KTO380jzh7MksnRyULMBM/s0WjTidOd1FnWh9j32XjXQdNp0NTNB8yCyTXDs7y2uD214LKFsXyuTqucrWu3R8PMy+zSB93n6+X9kA7FG6Qn/TUER29TjldTWehafFpwWW9WOFA2SfNA5DcDMf0qTSQIHi4YDxP5DiwLCAcEAsf9jvwO/VH98vsf+GL1aPdm+0P8CflQ9Nnv0Ov653birtrX0gTL9cPpwMi+HLgussW2msOIzCzOONAP1jved+fc7GLt5+/B9cz6KP5f/3D/4wKOCgIRVBHPDTkM+gtDCcwEmADP/eD8xPs++4L/dwdRDy0YWST4MmxAyEglTXhR91SDVVNU8FF8Tj1Lj0eWQ3ZB4D9QPSc8jTxUO3U3oTEWKjciXhygF+UQYwnyA5D/X/s599fxXe2A65ToVeP03bTYeNQo0UjMoceOxoPHZMilyH3I8coO0cDW+tmX28HbKNyo3dfd09zq207Ze9Xm0qDQys0XyxLIOsWKxC3G78Yuxb3GO9BO3A3mne7b92IFsRcMKDs06z8kS2xUnFpcXGhcu1ysWRZSLUnGP+s1Sy2RJZYdChY1DjMFvf09+dP1lPLe7jHrTep46+Pro+tU60rttvP4+DT3ufGl7QzsNury44Dac9J9y9TDKr1kuvq7ob2kvOm+KckU1jXfo+QY6u7xTvqIANYEvgdECkQP1BUxGVsYthb6Fy8cUh1/F4gPbAk7A538Ufii9/74DPqE/LEESxHNHNglxy+JPPBHREyIS51LyUwvTDdIQUEEO8s3dTXzM5w0CTUmM7kvsywVLK8r/SbKHo0Wgw9kCocGtgF5/AP6PftW/Bz5XvJF7JLpd+g25Ozb+9JOywjGqsSuxhnKSM0o0ZvXaN5m49nngev/7qvzMPV58fPsKekF5jXkteCX2oXVIdIWzz3MkMiBxHTCDsIYwlvEzslx0Ynb3OYD8jcBRRZpKms5BEaMUipdj2FBX3BajVWpUCJJkzt+LEEhAxfLDb4IOgT3/cX4xfTq8HbtHeor5yHleOPw4VDhyeE+4qbjOugz7ePtNeu36N3mLORs4DLbmdOKzGnICcT+v/PAysWvzKvWDOLU7Nb1JvyuAs4K0RABE3kTvRVuGnsc1hrCGkgcgxzqHNkdZhz5FjoPDAnxBGn+vPUz8pT1b/pO/5sGlRAZHNcm/S+/OS1BdUGDPtQ8xTrVNlUw0ig4JP8hZCAPIMwf2B/4IdojkCTeJZcljCHRG2oWbBIGEbEQwA02CFEEFgObAOj6UvTP7svpcOTW3SvVk82JysnJ9skczdDRxNYs3RHk4OuH9WX8zf2//Q3+avzv+PP14vIk7iHpKOQL3mPYa9MqzrrKYMglxDXAhr8ywjHHjcxS09Xd6Omy9sMGpxi2KOA1NEBxSMBOUFFjT2NKFETWPRU2lSlNGzERxgnkAcz7x/fC8yTw6OyP6kPqqemD5w7m0eZ/6rPupO8n7/3v8vG09E/1S/I173zsWume5qLg6tYv0HnOIs8x0AHQhdGh2PfiRO6f+joFdQztEpAalCHYI/YgMh8rIqAluiUiIxAg3R45H/weyB1GGWIPzAXvAAL9vve/8krw+fLy+Lj+AwWkC8cRURlhIQEnJSn9JyEmQyWJI5UgmBy4F6EVhBcVGjsc+B2EH7si3ya7KbcqmigpJKcg7B1cGjMW7xAiCxYHvAP+/gX6uPWw8Q/uA+r75Iff8dmV1h7XhNgX2s/dHuIV5yTuv/QT+gP++f2r/AD9yfqV9QXxTez55pLhPdqB0rPNRsptxufCHr5Vt22zi7UluvS9gsHOxpfQbN9k77P81AiqGP4r/zuQRUlLEk8RUmlSw0slQTg4ay65IW4WKw6TBgr/rPk7+I34QvfT9MTyyPDR7tbsDuv66uXr++sX7cnvd/Fn8632UPgG+cP5evcr9J/yu+6t583htN4B3i7eTt+c5MfssPRM/gQJHRFCFgkZPRtDHjIeRhoWGL8Y4BiyFmoTaBN+Fk4WfBOTErYPFQgJAA35CfNe7/Tr0+i46SjtrPEK+vsDtwu4EtgZeSDPJSgnFSWGIkIfORxWGxEbixqvGnAc4SHDKfIuTjALMTIzQjU6M0sshiSkHkwa3BbsEn8NUQilBDwB8v2l+8X4+fPw7rzqF+ZN4CLb3dj+2KPZCNsE3k7iIudP64TuRvEb87rzs/J77jLo8OKY3mTZwtN6z/DMuMrPxy/Ef8DwvsK/Vb8Yvce8Tb8Kw7zIPNIv38ntpf3cD9ojEDY/Q0BMXVQHXENfbFqwT9ZEjjs2MZ4kmBdoDW0HiQNtACL+CfvE9t/yZ/Af8Mbv6utI5zzmxueH6eTqFO248Rv3dfu8/10CBgGY/cX5XfRo7E/j39z02XjWU9M21zHhL+p68Tf6ugQrD64VAxdlF0kY/xf2F2EYnBdUFrUU2xOXFUcWCRN2DuEIRwEW+cPwjOja4FLaMdnU3kjldepw8oT97wj8E5kdmCSNKqIvlDA9LR0puSVgI9QivSOUJTUoXStqL140jThAOlc6sjomOZAysCnPIm4epBsXGMgRBws/BkwCKf77+Zv0Fu3A5evfEdj9zaXH0MawxwPIIsnvzWXVKtt63+3jg+aa59jodOix5Y/hB9zQ1kLUjNLbzm7KSceuxBbCeb/nu8a4kLikurC9mMFJxt7MDdh96Wn+7xEFJKc3I0yJXd9n1WtCb4xyAG/wYuFThEaxOvst6SDaFboNeAmdB/4CgPok8yjwHu/R607lQN442pfaptxz3RDey+Bh5rjtWfTb+LX6Zflz9qHz3u+n6PfdLNWw0vHSR9K/0wbbPufA8479KAZsDYERmBRtGLka/xmOFw0WghYGF+oWrhckGQ0ZGxZaEVkL2QKY+GzvmujG40XgRd413wTk1etl9IP9/wmXGCQkIyw/MhI16jNgMYYwVjAnLRUoWCVUJjAqZC4pMrc410CtRHlDZUDVPCc4fzEHKj0j8hxVFtENIgT2/DP4gfPc7tbo/d8a11TQqckmwdO467S3trG61ryrvv/E/M7U19/em+Xd6wXxuPSW9ir16/BX7urtxes86LnkbOGx357dPtl71W7T39Ei0N7MkMpRzaLSu9dE4DbwrQU9GskqNzseTjpfsmnbbWxugGyhZ7Be8VGeQ5s0oCbyHDIV+wtyA7z7vvNW7RnnjN+k2CTSH83sy7HLBcthzELPD9Nq2Yvhnehz7QbxT/P48qDw2OzR5h/gf9sr2ajXTNbz1r3cm+hw9vP/yQXrDFsU5hn8HfMedx7KIFsjByN9Idkfdh/PIQMk3CGRG9kUsw6+BgD9afOl62LnKuX24ivjoufu7vz26v4/CQAXyiLIKAwrZyytLegtUyx3KVgmGCV3JhAoBinHKuYtIzKINm45VDknNr0xMy1fKGMivhnEEIIKYwRq/U/3aPCH6Wjk+93t1XHNiMPuuli1SrDJrO2sWbCUtiS+wcZz0XPcMeYp8CX73gPrBSIDKgGiAGr/2Pwd+dj1hfQC9IPwfugH4s7gS9/g25jZZte71SrXTNwP5mPzegIlFDcnejphTmFg/m1Hdud4bXizc+Zl31GyPrwuvh8sDuL7jO7S5ZjdJ9WOzq/KJ8erwtq+u7v1uCm3I7YOt127nsKdzEzYoeP87fb2E/6zAhYE0wJT/zP6T/Tx68riat7J3mjivOk68vT7Jgi+EjMbOyRAK1kuBy+QLlcuRC3DKXQmDCWBJHokxCNmIFgaiBNCDXMFRfq47k3myeBF3ArYPNbe2YPiLO1n+LsECBI7HtgmpCuQLnwwRzBcLScpkSapJsEmMyYVKK0sITLoN2k8HD7UPLc4gjNmLawjSRchDL4COvmC7hrkqdz216XTps55yTzEJb4ZuJezz68orXqtS7C4tYO+A8lx1MThjPCN/s0JNRMdG5YeVh78HVId8hoxFr4PBAuOB8sBR/tW9tDxOu0v6E3hNtkJ08jQL9E100bXr9757EwBGhXFJ8o7kE69XXtnVWqOaCZi+1VlRkQ0TSGrD7T8k+o439zXU9AZyXDCIr0luYS1w7Lxrz6t96zlrm6znrrvwqLP5+AA8J38twgFEZ8V6ReaFjYTSA4GBt78Y/bY8rHxXfPh+NABtQvMFPsctCNwJ+ko9ir7LPcsCi1ZLvct/irmJ6sm3SYtJn8ivhsPFGILOf7R7tTjudyx1mLSsc6bzVbUXeCH7Gz5OghRF2wjJSs+MGwy7TFfMnkyjC8hLaws7StfK/Er/C0vMQYzvzL4MPssiyeoIL0W9gsIAwr7W/OT7JbmjuDs2SHUKND4y47GT8HJvJu45LQksuiwe7KtuLbCvc1L2RjnSPdXBj0RLhtBJkYtxS6kListqCpYKMIjpBzfFV0PmAeE/aHxfuZy3DTSpscdvUK20rZ2u8XA7sk821j0rQ6oJGQ5008PYwlu+HDwbltpCV5VTGM37yFKDS75K+Vg1NjItr96t4Ww16mlpLOilKHIn9efk6Orqumzb77wyzrerPKtBPsSZh8CKtgv/S+/LFUnyh/3FYMJKP3O9EPw2e7Z8Zf4YQECC8UTaBtxIm4o5y2nMrk0rTX8N+s3nzI3LUgrdClvJcsfGxh8DjYD7/RR5F7V6srhw1y+rrtCve/Bu8ok2RTq2PuiD3YiNTDgOIU9bT+tP/s8NDhUNSsz1y1uKFIneygbKussfy+1MAQwYiv4I44cxROtCLr9u/R97YnlZdv90s7OkssyyEzGwcSBwui//rwOu9m6E7wjwanKONWf4FvuUv0dDUsc9ijINOo9BEAPPng7qjbRL1gn+RzTErAIpPyI71/ijdZczY7Ep7uMtWCxla2grSWz37vpybTf0PcyDkMklziwSqBb5maNaidpcGEYVFxD5y2iFkkBru1e3qXSbcZou6Kyj6wbq9Gp7KcjqoWsnq57tlPAoMl21jvlQPVXB3gXuiQ1LwU1kThbOpU3tzD9JVsZnw6sA034fPJm8pT01/kHAjcKfhH6FwQd6SEkKBctBS9eL+gsqydUI20f0hp0F7YTLw1MBO/4fuxO4I/T0chBwuS94rtYvM+9gsMq0ODgofPnB2wbOCz1OEFA9UKHRJRGIkZQQZQ7RTcqMvArSyj4KD4rcCyrLOgr0CgfI/kbdxSTDAEE3/tZ9HPrluFc2VvTas8YzRXL0MkLyU/Gy8I1wcHAAsLvxmHOdtcz4jvtTPlTCLcYTyekMrk67j85QktBAD2qNt4vfSYRGTEL/P2l7tHd0s6zw++647AbpwmhQZ38nK+j7667vf/SIO1rCHAi2jgTTUVhJHELd1l0om0zYhxPbzeyIEkMbvnK5wXYCcsqwAy3rLC6rLmqEav7rGyvg7LOt4jBiM6a2zzq8fw7EHEgey4zOiFCv0aJRvU+czLRJGUWUQaL9Z7oBuMH4tfjZupm9Cf/iglzEtgaYyPdKWstZC6sLZIsgyhyIFIZ1RQTEZwNjwf3/GzxDecm3ITPccIOuSe1+7JVsaC07r1Gykjaye6lBDIbZjGSQFpHZkstTmdOWkvbRIw+zzlcM4cscij0Jgso+Sn8KnAsdyzwJ6cg+RhdEQ4JH/9t9bLsWOMe23zV9tDozW/M58o3yV3HOsWLw4LCGMOexqDMJdVC4AnsL/jABjoXSSZqMmU8sEPKRuNFxkG3OooxvSaPGUAKdfo76jPZ48n2vfWyyKf0nu+Z8ZcGmWufeqxEvgXU/u7IDM8o6UAXVblmRHWQfOB6sHIYZj1VuT+eJw8R+Pxs6ozaGs09wMS0qqwRqB+mhKYrqVutA7Nfu7XGOtSs4+T02wd+HBIweT5WRwFN+04BSxtBBDPEIrARNABE8PHjGtva1tbYbN/45zbwPvc+/4MImhA6Fy0c6x7iIEUhlh7uGqMX5hQvE1wQ/AqGA5z4lutw4FXWDMwUxKK+Cbsgu+y+6sU/0hTkz/ijDk0j7jNwPyBGo0lwS0pK10WAQPE6tDTJLmwptiTAIoAkgycoKTEpVSdXInQbohTrDG8Et/wi9F7qe+K122/UT9A60PTP685/zZTJRMZ0x4LJd8pUzYfSQ9r95CnwuPvFCTcZHCg/NAo8xEAKQj8/djvZNqMuESPIFKEEH/XF5orYdMoLvuO0Ka3VpCee3ZpamxCil69NwXLVm+uxA5AdvDcCT/ZgXG6Md9h5E3R7Z9FVRkK0LkAaJAUV8RDgYNK4xXG6+rKjrtWsIa5ascm1+rqYwAvJz9US5QL1GgX4FTQmTDK3OhVBXkMGQWY78DH1I40SOwHF8hbmGNwd2DjZY93o47rq8fFY+w8FtwzYExEcRCL/Iv0gRx9CHCwYDhXHEVsNSQgnAVL2qenM3uHV0s2yyM3F5cFbwATFOM1S2DfoOvtDD98iIzMiPwBIB03RTcZMfUoVRcw9rjY1L50oKSROIF0e6R+QIYYhriCTHYgXeRDcCaoDqPzm9NPt3OYe4Hzb6ddg1BXTwdOf04rSStGVz1DOV88y06PYX95U5TvvLvs5ByQT2h6gKYky/zcJOhQ6JjeOMIsowB/UFIQHVfhm6aTchdDixA68OLQ/q2ekZKGRoL+jzq3FvZrRaOev/bwViy8kRuJWDmTFbdJxSm8rZYJUtkFFLsEZIAcj9yzn8NhEzmvEs7uutlK0tLTluHm9PsCKxILMU9ZC4QjvV/+8D3QfFi0FNqk7kD/IPu04hDBlJFUUJgQA9Xrm4duL15XXoNoO4BXmrOyQ9J78ZAQHDPwSZBl5HfEceRrvGKUXrxYPFh0Uxw/kCMQAQvhc7jbkC9s40ofMNMsWyrnJN84A1//j7fZTDH4eyyyhORpEqkkrS1FKZEexQ3k/4zicMJAp4yRWIlciOiTRJJMiZB/3GyAXPxCgBxX/f/ea7/PnseH72w/XFNTR00HWS9gF2NnXhNia2PHXNdcg2fzeteTJ6G7v5fk5BX4QghxcJz0uCzJmNEU0ATH1KmsifBiADdIAwfJZ5AbXf8tywTi5O7L0qvakSaP9pUerEbQfxCraE/D7BaweiTbBSvhbG2mEcgl4d3RqZh5UIEFmK6UTk/7p7LXbtMtdvya2TK/Cq5qsc7Hwt1S+P8WezXXXf+J2717/IhCVHk0rTjeMP2NBZD81PbE5OTGwItQP1/ys7Rbi2tgB0x/RM9MP2VLgBueU7sn4tgTAD5UY8x6HIQsgMh0jG6sZChhNFWcQqAnRATr4Ie144/7cSthn0wXOYMqxyjfOxtQC4JnvLgLgFRcnQjRzPk5Gk0ysUCpQVkv6RFk+lDbYLJ4jiB6lHHwb+xvtHcgdlBpoF4YVrBJgDWQG6f6O937vZ+YB3+raM9gh1rnV89Uw1Q3UwtNN1PTUINV91eLXqNyi4uvpwfKn/MgH9BKZHIYl0SxrMCwymDIbL5EoKCClFMwH6frC68fcMtLByLe9n7Tqrcin9aTopi2sLbWOwevQweSf+gsP5iMgOnBO6V2TZ2hsbmwmZb5WEUVRM/ghmQ/h/MrreNvszBbDR7x4t2G2rbciu4bBMMdTy/fRKdww6T34dAZkEh4dICfHLzA2Cjr0Oqg36S8PJZkX+gZ79UToCuAJ2ozXZNgO2dPbsOLE6cXxQf2mCFgRshcbG8gbAxtCGmoZGxd8FdwUkg/vBU/9HfXH7K7m/uF73aLZvdaj1ZrWg9qX4zvxeAFPEw8kmTElPNVDAkmYSxJLf0jgQ0I8ezPdKuMhjRrmFkcVqhSGFn4ZjBn6Fr8USRJgDpwJnANn/Or0Oe0K5vTf/dpP2HPXFtdb2N3Zfti71i7XQtd51t/X5tvd4MTmYO4I9wAAXAmAEhEbWiMHKrAtoS58LAInMB8RFcEIX/sU7b/eSNJBx4e84bJMq06mYKT1pYard7SGwDTRQeUO+UANZyODOLdK2FqJZj5rt2qVZfVZnkl7OOEmORQUAhbxf+BA0WPFZb2GuBm3p7l7vgnE/srT0jLahuIu7Uf5qwazFJcfECZ/LN8zmza1M70vKSoFIHcSeAKB8ejjltps0yXPSc5Fz5DSjtlQ4njqYvQJArIOkhYJHPkfHSEYIfogkR+zHKcYNxOgDFwFpP2n9Zfuoel75cvg9tw622Lbld6V5nbyRQDZD3gfySs0Nfo8REJjRvNIGUZCP/k34i8GKN8g5xiPEzMTERQEFakW+xYSFgUVUhOHEfoOgwkqApr6P/Jl6i3lDeEd3ezbxdwU3Ejandih1gfWGdfW18jZ9d0Q4ifniO8c+bAB/AkGE3QcGyRDKBMquyq+KOUi4RpNEgEIRvsa7griatbRylbAMrjlsiiw1K63rgqyT7pnxjbVVeaV+AkLIR65MVVDjlB1WRxezl32WJtPckFoMMQeuQ0S/mLvdeEA1Z/KIMTewffAwsHMxsfNzNPd2d7gouja8UD9+glhFZ4dWiPJJ1UrGC12K+ImvCDXFzYLK/2p79TiFtnd1NvTydNC1dLXG9zG4zDs+/MC/kcIpQ7CEsYVdxXkE7wVJBnZGJYWKBY2FH8OVQgfAj383fle+KTzve7R7APtJ+8x9I38Zwd4E/cfICo+L2AyrTZ9OFY1VjGILrQpGCLpGRAS4QzRDKMO7g4CEBsTCxVOFLwSbhFED78LwwfiApb8mfag8ZzsY+jL5evjFuMj43rhNd4N3A/bcdqM2tDaCdw64DHmruwF9TP+4wUpDV0VrRwdIUojKiS3IlcewBfsDt4EMvvU8Nvl/NyA1Z3MVcOAvPG4G7ituYO9WcP6yyXYnOYJ9s4FMRVsJNMyLz5rRnNLu0p3RIs7qTDjIzIW9AfJ+fLsNOKp2bHSH82myrHM/dH71xHdMuKl6U/ycfl9AdwMQxcYH90nCi8FMNkt7yvhKH0johplDfb+fvIP5oHYRM5xymfKPsyc0NnVXtqJ4MnpcfNh+4sCgAntDlYS4RNJE+sSqxW+GAYYPhWkExYS0A38BgIA1fqa+Hb4Offr9Kv1dPqLAScLPBapIFEraTWhOpQ6sjgqNvIx9SoEIi8aGxTBDVYHNALp/7gCKAjYCl4LfQyeDYkOhg5FC3wGQQS/A7oAx/oM9qz07vQv9dbzq/Dq7qbu0+uf5qzhqd1W3Nbdyd5033fj3uqh86384QRPDAcUehqzHWwfZCDRHbIXEBFeCpoChfmi7kvjItpp0j3KQcPwvje8rLtKvmLC9Mew0IHbLui598YGjBK7HQspFjERNdU2yTU2MPEnCh+wE00G8/rt8fTpKORl32Da6tct2cTbSd985ZLtDvSf+Er/AQmZEsMavyHhJ7wu0DTVNIYuRydtIW4bqBMTCMz4Uepg4KDatdbV0jPRf9Wa3QPkE+c56evtf/VF/CMA1gHnAYoBdAEOAHL9Ov2BAZMGVAcNBdcDegMGA6wCQQHjABkFNArYCzYNYRHTF3whNC16NVo5Bj1rP4s74TIdKzAl/x5cGBsR9QiFAmf/ff33/DkAlwUjCosN6A4mDVgKcAmTCQYHGAIY/xf+6vs9+AL0gvGJ88L2//WA8gbv6+vz6c/oq+bD4+viduad7L7x9/UP+xUBLwgTD/kSjBRcFYMU5BI2EZUM9wRu/TL2ke986rDklN2q15fSac1EyW3GQcXvxZPH2Mug037bKuMB7TL3pwAqCxQVeht6Hs0eJx1eGm8VkA1PBaz/n/sz9krwv+xN6kbnHudF6+ju8/C19Tr8AwA8AkEGAgzuEkwb1yNqKj0uvy9UL64tOStaJrAeaheTEL0Fiffm68PkKeDo3U3e6d/W4QTkD+X14wjjZOVJ6uXtM+7s7LDsZO638FLxIfFC9YT+3wW7BkcEHQLPAL4AJgEyAGn/NwIpCMINqRE3FokeqiocN4s/RUJvQgJDsUCGOIwuzCYoIa8cLBccD9QHLgVaBrsHMQeoBikIgAk/CEoEff5p+gH6wfjw9E/zkPR39Q32+vbw94r5mfqP+bn3cfVK8kbwJO937JLql+x68Bb0VPgf/vwEhQqhDAINCA7eDvsNcwshCDwEDP8v+T70q+6K5oLfYN173HbXi8/MySrI6Md2xrvFxsjKz8XZh+Ra7bf1DQBkCi4TFxq2HIscsx2HHNoTDwif/xP6j/Qv75frUepO6u3pWukE65/vGPXX+uIBFgnQDR8QahNAGZgfdSbvLmk1LjfHNtk08S9bKdkhhBlDEnsKUv6/8JLnG+Kv3fTb3N714yDn8edq6PbnSOYv5uDnTul/6hbqM+f35XDnqufr59XslvRE+fj5evre+gr5Qfjm+vr97AHzCFcQ1BYjHuslNS/bO4RHLkxYSxpKIUizQUs3uSypJOYfnByeFwwRcgxYDLgPBBPcExgT7RGmD5IL/AUz/634t/TG8lXw5ewO6gDq9ezw78LxFvRO9vb2DPY08zPwDPA78fvwu/C68jv21/ng/UoCrwVOCBAL5wx2DMcIJQP1/xH/KfuP80LsjudQ5GbfrNks19bVEtKTz9rQPNEczrjLis5d1XPcION66nby4fo4AwgKjQ7AELQQZBA5EVAPPwdI/b725PPn8lHxlO7j7QTwYPLR9EL4WfwVATcHWA/QFncZfBkNHBohbiZmK7MvqDKTMrEvJS1sKvAjdxpYEtcM7gW6+jnvs+cU457gieFX5KDlW+Rx4hzhi9/g3d3cEtz821XdXd6N3TzcF9w73r3kse6/9V/3gPiO+0j+t/88AH0B5QXYDMwTgxl/Hlsk2SuKNUZB40n+Si9IVEWWQRI80zQqLbQnLyU2JCUibR2eGZca1x1QH4MeGhznF6ARkgkAAav5+vPX7j3qBuc/5Y3l4+cC6pvrje7H8j32X/bP8tPuBu1Q7fPtv+yT6wvusfKT9wL9YwCPAEABsAOABQ8FPwGR+xz5L/oB+AjxmOuJ6e7nx+a/5TPj8t8/3CzYy9Vg1LjRz89j0ebVCtzG4+PrqPG49mD/NQmYDhMP9AzvCooKNQjpAMH4nfTi8zz0TPVm9gj2vPWu+ET+gAMkB9oJVQ1nEg0XZxlHGyQfvyRGLEk1eTpSOag2LzRsL68oFiAMFjANkwOF9tPqf+R44HvcNtvc3kTkCeb74iLeF9ts2wbduty12orZ09nn2QjahNtD3cPg1ulK9GL4T/cb9ov1hfUf93/62P6sA3EJ2BD8GQYkmy0lN3RC1U3UU1RSHk1gR/FAFDv7NhYyPizNKOAmViQTI6wjiST0JSknXSXhH/IX9w7cBikAKfk88srtCuvo57PlGubM6KXsJu/M7ovt5OwS7Gjq6ufA5ZvldOdf6nzt4e/98jT5XAD+A8wDKAJHAP/+J/7w+8D4gvad81fufen35rLkE+Ia4Yjhr+B53bPYvtME0ZvRmNNs1jzbkuA+5Tbr7fJI+scAegdvDbkP1A0ECsUEz/2e9270ifMW863xSPAA8t72Fvtm/QEBggftDR0SOBWMFzAZiRzzIQEncCumL4IyazSwNR40fi9AKqwkhx3bFHYLEAKF+JbufebM4p3iEeMK413k0ucN6VzlyOBN3UPZntYZ1gvUq9CTzqvNEs9J0xvXIdtQ46TsUPAr7xDv0PB58nv2J/7IBZUNYBgcIiIoqy+6OeNCckzmVH5VTk8KSR1DpjujNJAvDCwaK48ssSwcKowo9yl7LBIvDzC1K0siihg9EB0HUvyv8njtiuy97CHrO+fX44HkJugc6hbpmucQ5xnnn+aW5HHiseKB5UXqW/Cm9cP4Tfop+wX8PvxG+iX39vQQ8wjwGuzJ52nj2d8M3hHek97d3RDctNrW2VrYtdZF1rLXGtu/3wHlnesG8/D4UP31AZcGQAlICZcHxwTRAA381PZ28T3tpev87IzwP/X2+eT9LwG3BNMIrg1oE78YtxxMIN8jjiZeKIkqXS6OM+83jDmVN1UyiSt+JLIcCRQgDO8FBgAt+YvylO3T6prqbewt7yHx8u9q67Xl/9/L2d/SRs1yy57LxcqKyfvITckMzFPRZNdz3dLia+bn50foeulu7JDx8flsBKEOixgeIvcpnDDINz8/S0XmSFxJ3UXePxA6MDW5Mlo07DawN5M5xD2lQDZALD5UPSU+xTyZNRMq9B2sE4gL6gMi/PD1Z/IP8dTwVu8C7MPpvOk96gPqSei65eLjqOK14nrlLemO62XtkvBj9dX45fc99N3wjO7A7AjqT+ZS40/hLOB34Fng093D2ibaiduR26XYWtR30CnOEs5hzxrRlNNO2EbgvOng8vX7iwO2BzsKtAzMDSwMZQekAAb7ufcB9VXyT/GL8j71lfmm/8oEfAafBowIUQy+EOMV8BogHxskfiqBMMw1HjswQOJEXUijR/BAsjaqLAQk0BvaEtkILgCK+zD5H/ak84f04fe++s/7B/qU80/qfOJC3PzViNBozHrJUMizx6nF2sO+xbjKJc/z0avS5M9WzeLPqdRB2JndFucv89f/3AvDFgEhHyyZN0E/NkLiQ4JDsz51OB40BjIlM/I20jkWO4w9p0ENRk5KYEw8SuRFpUGNPBk1IyuxINYYwxOUD6ULpQedA/UAXf+E/Iv4K/X+8WTuI+tB6FTl5eLs4Y/jWucc6yzup/Df8V7y/vHU7kPpzuMZ4CfeHNy42IDVTNTy1DTVpNPJ0ZTQN880zQfJzcKivmy+SMBXwrbDhccJ0gXgs+s89dP9UwTtCFkMeQ20CxcIPwO1/dX4LvX58grzDPVp+Pb8VAHTBIoHXghsCJEKig52E3QZwh7RIvEn5S4FN/w/7Ee8TOBO3E75SmZCgTdfLXskQRvWEYUKVwZUBP4CuQFHAnsFVQiwCL4G5wEv+u7wgudN3w/YW9HmzJTKjsjQxsLE7cE1wPS/67+nv5y9f7lBt/6557++xe7Lc9Zb59X6vAp/FToeoyYJLs4zWjZ7NHAwVi0LLH4rhyp4KkQuxTYGQU9Ir0u8Tj1SCVOOUBBN5kk4R0tEaj/pN/cvESpbJnAkSSOUH18YaREVDFIFxvw69r/y3O+V7WjtBe5M7njvavL19kr7Kvy6+Gbz9u3A527gMNpA1vHSOtCgz57Pz83Gyq7IDshExvvAWLqVtXuyqq+NrYet6rDKt+K/Jcgy0ynhRO0O9fX53/wc/v79Vfzs+Orz/e5/7GXsnO2j70XyU/e3/20HEAsWDL8MAQ5TEDoTSRZzGtsg9yguMdY4TkCnRyVO+FJ3VYFUuk+PSNA/DTZdLakmLCH5HBQa3Bj6GV8bZxvkGzUd8Bw+GR8ScgkZAA71TOpf42Lf5Nt32H/U6M8QzLXImsQhwGu7/rUfsdatU6sNqjWswbK5vHTI5dSX4Tzuj/roBL0LaxB1E4QThRJ1EpMR+g+KEKIUmBu6Ijoo2S6tOClCPUdmSHZIaUgESP5H+EdkRkpE1kOMRFFEhEH9POU5DjjJMvMolB7SFTwOjwhHBTADQgEAAPsAvgNXBTkFaAU3BvkFEQL++ebxHOyC5jrhMN1A2cHWzNa61rvVTdSG0I3Kz8SSvve17qzhpkqkFqRcpoyqJ6/ntGy9MMiY06Dd/+O55s/nmOcJ5cbgFt0X29fZF9la2uzcTN7+38Xkeeq17qHyLvZA+OH5//sk/98E4wxhFege1yl5M4c670DVRjJKVksgTNdLK0iZQQI7izVMMXkvsi+VMAAzMTa9Njk1eTSTM1oxEC+cLBco3CBwGB8RfwvWBS3/fPlT9hXz2uzy5DHdgdWrzvjI5cIKvXS5e7iMupa/2MQeyefOtdcJ4iHrvfAy8/z0XPfk+IP3WPRq8+f1gvlX/RUBfgMGBjYLyhE/F3Ab+h4OIqskSyb+JrAoAC1EMlE1VDbdN6M5LDlcNsoy7C6+KkQm2SCkGnUVMhK3D98NBg6vDzcR/xLyFJoUfhEPDrgKmwXe/uP4pPS98GHsX+gH5TPiT+BB337exN0d3N/Y9dS80CbMXMkLyhHMQM0uz+XT0dnC3Ybf5uHh5ZDoYeej48ffBNx3117SH87uy4rLRcyGzgrSEdVP123a7N5k46vmyel57mXzYva2+VoAEgjfDUETYBqLITclDCVTJJAkpCOfILYd/BwRHqgeJB7cHxUmvi14M0A4cj3+QBdBlT8CPtE6uDUEMRMtPSgSInAbxBWFEc0MzwZ8Abn8ufYz8XXuKuxR5yTid+FK5Sroj+eG51Xr6fAi9QT3gvfD+PP6jfv/+Sj4bfbO9LL0Vvbi9xz4YvjZ+gX+iv71/UcA5gQXCe0LNg2EDvgROxZ9GcwcSiCWIt8jcyQfI5AfmBvgGHoW/hKsD6oNcguUCA4HgQdfCGMIBgjVCHMKEgqXBhwCk/6x+/f38fIT7l3qB+eY43ngp91W25/a/Nva3QTe5txd3UbgSeOs5MXl/+gX7qzxx/F08Cjw+PAg8h7zVvNZ8kDwl+1d6wrqk+g55rTknuUv5+vmm+WJ5RXnSuni6+7u5PF99Bz3afly+pH6QPsc/V7/wgANAXEBsQIOBNIE8QTBBDkFuQZUCNYJxAvJDe8PKhOeF0sc/R+FIhcl1icSKX8ogCeJJiEl4yJWH0UafhRiD0QLKge1Apn+Rfu6+I728/ND8Unw2PFx9D32hveC+WD7svtA+337P/zZ/Kb9YP9aAf8BoAEDAjID5gP3AwgEKAS5Az4CVgA2/+b+rf4P/zwBywQlCJEKagxpDi8RXxT7FtQY7hn4GbQZJRqMGlUauRoYHNgcCxyjGrgZBRmcF3sVmBOFEngRHA+vC7kIaAb1A4wBXP/f/PH5i/ac8qzuJOsC6MrlCOVF5cTlm+Yo6P3piev17JXunvAq84D1wPbn9hn2rvTi8zz0qPRz9D30ZPR29DD0oPPl8pzyLfPN88TzMfP08Qzwbu7o7THueu5n7oHuSO8e8ELw2O9O79Duq+4i78Tv1+9h7yjvv+/f8NHxU/K28l7zVfQn9a/1cfZ896v4xfrv/S8BjgS/CFoNahFjFJ0WLhnkGw4dKRxiGp0YghY+E/UOqwrjBrgDoQGaALz/Yf7v/Dv8kfyW/aT+NP+n/+AAaQLtArAC8gL3A5UFtQeMCS0KywkmCTEILwZaA+IADf8b/cH6QPgy9kn1ZfUD9mX3w/me/Gr/tQFLA9UEbgf1CvANyQ94EZITuxWIF7gYvxlqGzwdKB5JHh8ejh1uHCgbRBpyGe0X0xXbEz8SbBC9DdAKrAijBrwDtQBp/nP8iPpM+S35SPnk+AT5ZPov/L/9KP+LACUC2QM/BVYG8AbYBs4GbQcECLwHxAbyBa4FcwWcBIYDBwMbAyMD2wIiAuYAnf+C/gX9yPow+N71IvSA8lPw8O0O7I7q5ujO5m/kf+KM4Tjh6uBi4HPfN94+3cncXtyW2/zandty3UfffuCJ4QHjceX06NHsRvBR82/25PkH/ez+vf9zAIkBqAJiA5wDTgOBArMBVwE7ARYBHwG0AbkCnQPpA7MDqAOBBPYF8QZFB80HxQhhCSIJlQh1CPYIBgoeC1wLvwokCuYJognJCC0HRAWlA34CggEtAJn+ff1k/XX+BADZANgA/QDNASIDegRWBR8GqwfuCRQMaA0zDk4P8BDqEjoVURddGG8YQxgpGLEXZBaIFL4SKBFyD1ENrwqrB7IESQI0AKj9vfpf+NL2ofWE9LHzlfNm9Pz1F/iS+lP9DAB6ArwE0wZdCG8JfgppC8kLzQu2C2QLzAo7CgsKIgrzCW8JNgmACfAJYAq2CsAKiQowCpgJaAihBhUFLAQrA6QB5/8X/kH8MvqZ9wn1PfPs8Yrw1u7Q7OnqVemx58rl3+Nb4oXhKeHy4NXgA+Hr4bfjAeZ/6EDrOO4C8TrzA/WK9pb3Kvh0+D/4o/cy9/32ePZ69dr0g/UU92/4JPmo+a76N/yG/XL+g//zAJUCLAR0BToGpgZQB2MIVgkBCpsK4gppChQJdweJBiQGOQXRA7QC/QEsAc7/+/1N/BT7V/oe+jz6WPpF+mr6gPt9/a//AwLaBPsHygodDRcPXBCrENAQlRGoElITYBMjE+ISjhJPEjkSrxFTELcOLA1aCwsJdgbSA0EBAv8+/az7Ffrd+Dz47PcN+Pf4EPqY+vD6sfvt/H/+2/+3ANYBdQPMBNMF8QbrB4UIzAiwCCUIPwc9BlYFowR9BBMF/AUIBzQILgkrCskLhw1mDpgOrA5LDjEN0gtOCmYIUQZuBN0CpQFxAOj+X/1c/Jb7V/qX+PL2fPWZ8xfxkO5m7FrqfOht517nwOch6OLopOoP7RvvmfD28Rrz5vNo9Gr08/Nm8+vyePLZ8fLwKvDM7/fvEvHl8n30qPXX9kH4Dfof/PX9fP9CAaEDSQZvCHgJywlmCnULGQy3C70K8glgCWgI1gYxBeAD9QKaApwCFwKIAHv+rPwR+zb5UPcF9lX17/Tq9DP1rPWy9mP4dvrg/Gb/dQH6AkAEUAUcBs8GvgfvCAQKEAuWDFcOdQ+5D7gP2Q/PD/4OLg2mCqQHMgS6AOP9mPtn+XP3JPaB9Uv1P/Vg9dT1lfaQ96P4rvmp+oD7XPyv/Wj/BQFUAm4DmwTcBZ4GrAY6BjUF6gMgA+QCqwJeApECxwPbBS8IQQosDJ4OfBGyE+cUmxXdFZ4VCxUcFMYSWBFNEOAPuw90DxcPxQ5XDoINGww5CioI/wUpA0j/R/tT+Cn2CPQx8knxOPF68e3xivL58mnzffTE9Uf2G/aT9Zz0ivO+8gzyMPEV8PHuYu6a7hjvm+948OfxqfNe9eL2SPia+e/6ivyB/o4ASgJ+A0wE5wRIBYMF0AUiBkcGJgarBfEEKQRXA5YC/AF5ASMBqwAY/0/8fPle96z1+fM18tnwePDN8DPxpvF28szzvPUt+L769/yl/gsAOwECAsAC/QOYBS0HoAgMCm8LRQxIDO4LhAvnCucJRwgaBqED2QAO/qb7jPnR96P20/WL9ez1OfYL9s/1svWR9WH1I/Xt9M30svTg9N31kvdS+dr6U/x7/fX94v2C/cn8sPux+pP6Yvtv/Jr9bv/vAZIEIge7CSgMTQ5UEPcRzRIZEzMTNxN+ExQUgRTpFAQWqhfsGIAZ7BmOGmAbJRxeHLMbUhqwGOQWYBTsEIYNLAvGCawIJwceBUwDAwIRAYUAUQAGAHr/1/4r/jr95ft2+k/5g/jR9/L2Ifav9UX1tvSS9Bf1qfXg9SX29PYB+KH4tvjG+Dv53/lo+v76kvvQ++T7N/yf/Jb8QfxF/H38g/zo/KL9kv2o/JT7bfop+Y33TvXf8rfwue7Q7EDrg+qi6ibrWOy57onx4fPm9Rf4kvr9/Bj/DgHLAi4EtAWoB5AJ5wq3C2oMTQ0fDlMOyw3SDFwLPwkrB8AFVwRcAnAAMP9M/k79RPxC+x/6FvmD+BD4SvcP9kb0gfLI8ebx6PHf8U/y8PI18/zyRvIq8SXwpO9f7+XuQ+7G7cLti+4O8ALye/SR9/j6Xf6KAUsElgaGCAkKAQuxC3kMKg1lDbgN9Q7iEAQTlxWHGAob0xw/HmkfEiAtIPAfaB9ZHrAcpRpVGNgVrBMnEuYQVw98DekL9QokCi8JkwhlCEUIHwjnB5MHHwcSBmEEuwJaAR0ADP/R/TD8ffoP+RD4c/cK99T2zvbm9gP33/aD9kP2Cfbk9Tf23/aC9yL4rfgg+aX5TPr4+oT7/fuN/P/81fzM+/L5wPfW9Sf0MvLi74ftQ+tc6Y/oBukC6ivr/+yr77HyefXK9+b5Jvxw/lIAvwEJA2gEEwYZCNEJugpFC9sLUgyKDHQM7Av5CrkJQgitBicFywOKAqQBigHqAdwBGgEYAA3/oP24+635l/eF9cPzDfL87xfu5+ww7Ljrh+t661Trz+rT6a7ot+fu5jbmsOWa5S7mhudf6U7rUe3K79/yEPaS+D76q/s8/cr+DQDyANIBMAM8Bb4HTQrHDHgPeBJ1FSEYZRpBHLod+h4tIPUgnyBZH/odwBxSG4EZnBcSFu4U6xOqEtIQtQ5JDbwMRgyzC5gL7wsIDKQL4grUCdkIIgg6BwAGqwTbAnsAXv7p/NL7UvvG+3f8jfxp/Mn8aP2T/T799vwa/XD9ov3L/SD+mf5B/x0A7QBfAX0BqQHSAT8Bvf8G/or89frt+Hn2EvQz8sPwd+967jDuxO4g8P/xF/RM9sz4s/uC/rsAlwI7BFAFEAYyB7kIEQoZCysMPg3wDV8O3g4zDzEPBQ+wDigOkg3MDMAL2QpkCjAKEQrqCVwJHQh3BscE6wKoAAb+SvvH+GX22PNK8TTvuO2q7Mzr0OqI6Sbo5+ao5S/ksOKK4dzgoeC64OvgOuEu4grkOuY/6Ezqb+xX7uPvI/EX8tXyrPPn9If2Zvh2+p38B/88AgUGiQnYDGwQpRPMFWIXERmPGnAbvBttG5sa5Bl3GbIYWxfsFa4UmhOUEjQRXQ/DDfQMnQx8DLYMEw0cDdoMlAwsDFYLKgrsCIIH3wU0BF8CaQDt/hj+uf0H/tf+Wf9O/w7/7P5U/xoARACZ/wb/8P7d/p/+dP52/rP+Rv8HAG0ACgAd/yf+Fv1i+xX5vPan9NzyS/Gk79/tmOwr7F7sCu1L7g3wCPIH9Bn2QPhT+k38Ov7t/3MBFAOzBCMGjQcWCfAKMw0oDw4QXBAAEeMRPhLoEWYRFhECESERFBF2EJYPEA/gDpYO5Q3ODG4L0Qn8B8oFAwP5/2H9PvsD+a/2tPQ089zxUfCv7lTtMuzW6iPpWeeY5e3joOLZ4WDhCeH74F/hTuK440jlueYO6Frpneq365Pseu3C7lvwHvL88wT2ZvgW+8D9TQDUAmcFFwiNCnMMHQ7SD1ARXhLnEvoS3xLAEpwSbBIIEmURnhChD3EOTQ1CDFcLuwpsClEKVAo6CuwJiAn2CFkIJgg/CAQINgfhBTkExwLpAWkBDwESAacBkQJlA/ADOgRqBKYE7gQVBcYE4QPnAlAC3QFVAf8ABgE8AYsB2AHEARUB+v+H/q/8rvqu+Iz2ZPRn8mzwnu6Y7VTtWe367avvufFO87P0Uvbp90750/qn/Jz+jgCMAn8EUAYZCPUJ+ws9DmoQERIoE+YTURRIFOwTmhNvE0wTOhNKE2gThhO7EyoUlxR1FKETURKqEKcODgzWCKoFLgMrARH/u/xp+mT4x/ZF9VbzBPHV7uzs7+p66Ivl1OIe4VvgAODw33TgqOFD4+3kduau52fo0Ohc6R3q3eq165/sM+2j7ZvuDPDN8Vr0ufcm+zj+DAF8A0kFwwZGCJAJbwo9CyMM2Aw0DUwNKg3fDJwMYgwCDHoLvgq2CdcIlgiVCHgIjwgOCbAJLQp1CqAKsgqNChEKNwkqCBEH1AWMBMIDqQPlA0kEBAX7BccGSgetB70HRQfCBpUGXQbmBYAFaQWdBdwF7gXsBccFXQXqBFkEQQOVAVL/ePxg+U/2f/MQ8aLuLex66tHpsOnq6dLqbuwi7nXvoPD18UzzYfRY9ZL27/cZ+X76rPw3/4wB5AOSBjEJJQt4DJENjw5SD8cP+A8gEI0QaBGlEgUUPhVFFk0XNRiPGEMYexdLFtMU3hIQEOQMJwrYB5QFZwOnASwAZP5e/I36mvgT9kXzm/Ad7rfrl+kU6BznYuba5YblluVf5pfnr+ig6WLqsOqd6onqk+p76i/qMeoC637sS+5n8NjyUfWq9wf6RfwW/qD/UwFAA+YE9gWrBjQHjgfVB/4H6QfYB+wHzQdsBxkHwAYrBtYFWwZnB20IeAl/Cj8LwQseDDcMFQz5C90LRQsGCp8IeweyBnwG3wZpB/IHvAinCTMKTApjCr8KCQvpCq4KogqYCqYK5AraCmUK/gm/CWcJzQjSB4UGCgV9AwoCfgBi/rT78viH9nv0pfIJ8cDv/e7w7i/vKu8K7xbvUe/q787wX/FI8fbwFfGs8Tny9PKS9PD2Yvm8+w3+UQCXAsMEhgbnB1YJ6wpWDIYNyA5TEAQSdBNHFJAUtRTaFOoUuxT3E6sSYBEXEGEOVAxTCmkIjQbxBK8DVwJ7AFX++vsB+Yb1RfKo74Lth+vb6fDotuip6IDoMejq5yLoCelM6p7rtuwS7b3siOzL7BztWe3N7dLuifBo8sLzyfQi9gv4Mfof/NX9tf/YAdsDQQXjBfYF3wUKBooGGweUB/MHQQifCA8JYQmECbEJQQoqC+ILPgyQDN8M3gyADPgLXwunCuIJIQloCOwHrAddBxkHOwe1BzsIqwgpCcYJSQqdCrEKUgrHCX0JTwkRCdcImAhACPAH+QdACBkIXQehBmgGxwYDB0EGuQTZAn8Ayf0W+8L4+PZF9YTzcPIn8vPxYPGJ8BDwYfAG8WLxNvGg8C7wJPA28ErwwfAh8pP0nfeL+uT8nP4kAOsB1gOOBfEGKgh6CfEKdwzGDaUOdg+VELYRuBLTE+EUghWKFf8UHxQbE7ARmQ84DTYLlgnYB7wFTgOzACT+uPs/+Vb2J/Oz8FzvOe7B7EHr4Omn6Inng+ZB5m3nmenF63Pt5e4s8K3wU/DV76fv6u+R8GbxlfIZ9HL1o/YE+Mf5Hvyx/hgBswN/BoIIJgnmCNQIWgnqCScKLApHCukKsAucC84KSQpnCrcK6Qo9C7oL8wsBDDIMCwwCC2QJGQi3B+MH5wdpB5UG+wW3BVIF5wTDBKgElgTrBJkFLAZYBksGRwZmBqcGlgbFBdYEjASkBG4EtwMNA/ECQwPyA74E2gQtBDYDAQKzAFf/Xv2r+vv3JPZ39UT1iPQ38xfyzPEt8pHyiPIS8pbxe/F68SbxuvC+8LXxs/MV9iH4gPlO+v76qftH/DX9lf4HAGMB4QLPBAMHvQi+CaYKHQxfDtoQjRJbE/wTuBTsFM0TsBHlD8sOgQ26C/4JZgiABjMEwQEv/2r8y/mV95j11vN08hrxVe8K7WzqXej25zXpI+sJ7bHu8++q8NjwkvDj7yfvL+9F8Lbx5vIM9Gb1w/YL+Hv5WvvN/dcADgScBggIiQh5CF8I0QiWCUwKPgssDHkMlwwVDYoNdg3iDFcMNAwwDPILTAtQCr8J5AnuCVUJUwiLB8AHzQjcCVIKtAkiCHwGQQVtBNQDMAOoAo4C9gK6AyIEnQPNApYCHgPZAyQENASaBEwF+wVcBioGTgWrA8EBwgC5AIgAxv/3/pT+av7T/bH8ZftG+qn5kPmD+ef4Jfdp9N7xQ/Bo7xfvYO9a8Ofxo/Np9Tn3hvjR+Gn4/ffs9yP4T/hY+Jr4bflm+nz6n/lC+WT6lvwb/7YBowTOB0YKfgsEDFQMhAy7DP8MbA1fDpkPABDeDtYM5gotCaQHfAaIBX8EBQO1AM39nPoj987zSfEs8J3wtfGL8gbzAvON8g3yhfH78MnwR/G98q30E/ai9rz2AvfM97f4mPm1+v37V/24/tn/eQCgAAEBlAIMBVcHHQnQCiYN/g/vEfwRxRCuD18PEA8ADq8MqAumCm8JUwiNB+kGfgYIB7sIrAqeCxsLyQmBCHAHPgaQBNQC4QGyAQoCtQKgAk0B6v+Z/2cAcwHzATECwQIYBBAGqwaHBFEBCP8t/nn+wv49/n/9Bf3C/Kz8yfwh/ZD9Qf6R/74AdgCV/s37g/jZ9Inxju+37m/uRe+S8Tn0x/Xe9YT17PXw9o/3bPc596H3JPgO+F/3UvZ99ZP1OPbB9n/3Ifmb+x/+0f8tAFj/Z/4j/g7+K/5J/1QBxwOMBj4JFQvcC2cMmQ05D6gQcRHQENkOnAz1CQsGnwGh/hX+Lv91AD0BJwHa/5/94frb90j17PPF81T0DvXb9fn2R/hr+Wr6e/uG/Cf9Tv2B/Q7+Zf6z/QL8o/rX+ov8EP/PAUoEnAYoCbYL0A3yDsYOIg48Dg8PvQ+RD3YONA1+DBcMiAvcCqkKcwvZDMcNOw3zChEI8wWFBEkDpgL5AuUDygQlBQQFvQRpBC4EVAQVBawGhwgOCW0HSgRpAD38ivhg9hX26fYZ+GT5dvog+3X7YftH+038a/7J/z7/jv1T+2j4k/UF9K3z7/P29C33Ivqc/MP9WP1I+374bvYq9ezzsvLm8cnxQ/LC8unyE/MA9OT1F/gi+gr8vP2E/1ABqgHR/wr9mPrH+OL3V/j++eD7Qf1F/hD/mP8eAO4AdQL7BLAHcwn7CXAJFQitBmcG4AeSCrwNHBHOE0AUCxIzDrwJgAWKAmsBdwGFAWkBqgHwAVgBHABo/8r/ggCKAOj/LP9g/of9/vy4/G78kPzW/S0A0QIjBd4G+wd/CAwIega8BK8DSgNmA+UDmwSKBYcGhwfoCOoKdw0SEDYSDRRmFfUUHxLmDYsJrQXLAocByAF0AugCNgMaA2cCuwHUAeoC6QRXB7wI1AcQBUEBhvx/937zt/F88p70p/b492v4UvjX98v2+vX79d319vRh8wXxvO2h6SHmL+Vz5rToTuxD8fL1wvh1+Rf5ffhk96719vP38unyN/NQ8yvzzvJU8hvym/Ly86L1ZPeA+bz7SP1r/eb7h/mW96z2+Paf+E/7J/4oAN4AiACF/yD+C/01/dH++AC6AqsDbQO7AVf/J/5R/+8BCQWACHgL3gy+DKgLGwpcCAIHjgeBClkOvBFJFMYVDRYnFV0T/BAtDp0L+An8COgHGgbPAykCpQETApsDEAalCJAKiAvPCykL4Ag8BX8BAf83/lD+2f5DADkCDwS3Be8GnweDCAgKowvEDFgN3wy7CrUHLwXEA6wDqQQWBtMHEwrODGgPzxDgEDUQAA+QDbELVgi/A0n/S/tG9xfzF/AU8JPy4/VM+f37Kv1F/cT87/tV+3j6+Pfn8+/v2Ozh6b/mcOTu42nlVejE6+TuBvHH8UXxvO9p7aHqy+er5cnk7uTN5e/mzOce6eXrn+9i8672BPle+uX6VPpy+HD1RfIn8PrubO6A75/ybfZ5+Uv7ZPxr/Uz+9P6n/6gAXQIlBKYEGgR7AzYDMwSpBhwJfwrjCmIKAQnmBrYE7gJEAVIA0QEKBjkLfw+9EkUWKhqXHHEcrhqpGMgWRhWWFF8UBBTBE84TDBSWFI4VAxe9GFwatBufG8wY8hMxDjYImgNCAa4ASwEXAu0CBwUPCLcKlww4Dc4MMwwOC94IQgXO/zD6qPYY9d70xfU895n5Xv2KAegEZAfQCWQMpQ2QDPsJSAZWAX78QPmy94D3e/g9+kv8WP4dAP4A0QCFAC8ASv4a+nL0sO6M6qHo8+dR6KHqI+8B9UP6Zf0S/wwAo/9k/bD5O/Xj8PrswOmm53jm8eUZ5tDmoOjw62nvwfEo89nzgfPW8RTvreub56fjQ+K85Mnpbu8f9C/3V/la+1/8Hvs++J71+PMZ88/yN/Lb8GvwCfNo+Hz+SgSLCccMWw2ADEcKNQbsAWn/Wv9yAegEogktD2YTPBV6FbsUnBOJEisRhw+2Dc4LjAofCj4KOwteDQwRaBYoHLogViP5I5EjSiIqH0oaCBUYEeAPvhDtEfMSbxTpFhMalBw8HcobBhkQFrYS+w0nCHgC8f0o+236h/tz/YP/FgL3BAAHkgeZBpMETwKB/3z7yfZm8uLujex163Drkuww7xzzR/em+s/8w/2n/ZT8n/qx973z1e9W7VXsrOxu7v3w1PPx9kv6tf37/2b/E/yj90Tzae9t7PXqOOuP7OrutvIE90L6FPxi/Rf/7QCpAXQAuv3l+qr4w/Xw8JXroeg26ePrAu/a8frzU/Xl9Vv17fMP8tjv4u3l7NHsge3a7sLwefOb9mj5OPw2/2ABCQIRAbb+8vt7+Wr3+PVJ9Wz2JftdAosIHwzTDXoOWg4qDegKVwibBisHbgqCDm4RCxNhFDUW8he7GKYYwBcBFv0T2xEkD6wLUwgqB1AJfg0JEkYW/xkKHeIeFx++HfcachdnFF4SGhEhEF4PVQ/vD5IQVxGIEikUwRXsFewTnRDKDKkIFwTc/rf55vW/8y/zAPSK9TH3y/ib+ub8pf76/d/6O/cV9NXw0Ow46B3kXOHA3wLfhN/e4TTmWOvs7/rzBveI95P1lPLM7yvueu3b7DvsMez/7dbxUvUX97X4Nvvx/c//NgC0/87+NP0D+8T4nfbR9PvzW/QC9oL5wf7SA2QHKQqNDLoN4wySClcIMwYQA53/7fzp+l/5uvcN9gj2DfjA+h79jf48/7T/t/9Z/7H+OP20+6r7Tv3p/20CEwSMBJ0DPwLtATcCNQJpAogDlQW1B7wIigiwByIH8AeUCWkK9An8CLIImQnNCpMLKAzEDMANWw8mEbASSBMYEt4PxQ1BC+4H5QQEA1ECgQJhAxAFOgchCZgKfgvVC0cMrwxaDIALJQpzCP8HCwmCCTsIGwZ8BPQDBgTCA3sCjQB3/6z/vf+c/qT8k/oH+VD4GfgJ98bzD+8S6wXpvehF6YrpzOmN62TvifOG9VT1jPRY8wnx5O1f6pzmFOO/4HXgEuKl5IPnnepj7lbz1/hk/UEAtQHBAff/efwR+D3zy+7H7KHuM/Nd+G/9oQKNB1cLpA2wDvAOqQ54DRMLHghwBY0DKwO6BOIHGwxLEVsX3xxlH3ge9Ru8GD4UnA7nCHQEOwJTAgoE1gWXBhkHWwgDCpMLbwz4C84K4Ak/CW8IpAYkBHICOwJ2A8gFqgdICIgIhwhmBxAFTwIqAOP+Hv49/nj/BgFKAswCmgIMA1cElQQ8A9cBWQGTAdQBPQGo/6/9Bvxn+yD8eP1P/mn+xf4mAH8BPAFn/+r8T/pN+JH31Pd8+FD5evqS/Hn/wQGWAoMCOwJzAlIDjAPSAZv9FfeH8OvshuzH7R/wT/SK+r0AfgRmBUUD9v2p98/yc++s7E7qWenF6p/tcvD28r30afUI9qT3oPlf+sH4HvXp8EDt7ulY5mXjb+OT5zHuvfTn+Vj9Rv99AFUBawGzAJP/p/5A/rL9zfyv/Bj+0AAeBPoGRQm0C74O5xGWEysTSRISEjQSrBK9E/0VKxpOH+MiayPoIaUgQiCqH4MeaR0SHVQdqhxFGhwXDBRREUsPNg6dDcQMCgwKDLALNgqoCNYHoAeXBzcHmgYRBp0FKQUsBDsCt/8j/SX73PlZ+Jz27vW79vX3B/iY9hT1nPT49Fr1D/UY9FnzJPTG9lj5BPr++Oj2YfQm8hPw7O3d62zqwurO7CbvYvFE82r0fvVs9hr2/PNk8FHtpuyf7Uvvx/GL9FH3l/p9/pQCggXsBSEEYQGo/vj7h/iI9J/xPPF38wb3cPr5/Kj+SwBtAkoEzASnA7oBCwA0/lP7bPdo837xQfNS92f7R/7y/0sBJwIJAUT98/f/81nzZfRV9aD2jviZ+iz8xfxm/JD7Lfw4ALAF1gg+CSUIVQbqBGkEUgTVBEEHEgwQEVMTuBIeESMQmhA0ErsTyhSiFlQasx4zIdsgeh+MHxkhJSIFItAh/SGVIc0fQh3dGugYeRcYFjoUrRJSEqgSHRLHDr4IDgMEANX+3/1//Sv/NQIhBLYDHQFT/RD6LviA9533kvf+9o72hPYI9jDzNe0/5yblmOZ96Mno7+em57roeOq46y3s+ezt7iTxzfFV79Dp4ePC4NvgwOGH4iPlJ+qc78XzBvY291r4T/gd9ijznfCv7vHt2u4p8fHzhfaf+bb9kQErBM0FHgcfCPIH6wXHArL/sfx6+f729/YZ+iL/7AN4B7EJPworCdAGjAMRAQMBwAKSBC4F+wQKBkoIeAk2CWEIXAcZBzkIuAmDCUAGqAEQ/6r/HgLrA+gDFwQmBlwIbAhjBk8ERgRuBikJnAoiClcJfAqXDTIQPxDFDlkOfQ+2ENUQsA/JDfELHQvMCxgN5Q2xDgQRQxUuGSka/xgUGHgXCBalExcRag9GD3wQshH4EAYOYQobB40EtwIEAWf/l/6X/nz+bv2D+0z5nvYW863v/u327cjtoezu6/DswO7T78HvBO807qvtPu0S7ATp1eNW3prb19zc3zTioOQE6Wzu3/EK8l/wVe/Y723wiu9t7S7rK+pt6+/tne828DfxyfNp9zT6Nfty+7X7SPtC+eD1rvIP8TXxgvNh+Fz+pgPiB2oKjApBCdwH8wbZBiYHIwcYB8EHIAleCp4K3AneCKIIUgnpCQ4KvgoiDAMNywygDDIOQRGzE5YUwhT9FAAVCRQ+ErYQNRA6EYsTVBXrFLgSrBA4EDgQtQ5CDJwKKApdCkYKGQn4BrgEAQQpBr0JwwtYCwsKmgkJCpcJ/AYkA7j/F/1z+6f7NP1g/gb/VwAaAmYCSQBe/fv74fzU/uz/4/+wAJcDtgafBoIC1f3U+xj7kPiS9PvxHfK789v0kvOV7/zrseup7W/vbO/27ILpHue85abkeORf5mvqmu8t9Q35w/dO8hPuY+2F7qbvpu9d7uPsG+z861Lsge0I8Kzzovev+rv7T/vb+sj6evpk+Qn4l/d8+Ib6bP2TALUDmQZlCHcI6AZvBGMCWgHJAHgAHwHgA1AIygszDdwNEA7QDWIO2A/zEA8RExCXDskNFg4BD7IPOBAKEjgVYxcRF9cUXhK6EQUTGRQiFAkUPxTGFGUVjxVjFbsVJxcdGRMahhlxGOoWZhTlEfAQ9BFoFK0WhRZUExYPIQx7Ci8ILgTj/5z90f2b/uj9hPs8+fv4Pfqj+kH5HfcN9RzzEfHn7l3tQO0v7s7u8u2y603p4+ei58jnYufx5hvoj+qN65DpVubA5Cvmpum87I/tzOyv7DzuS/AH8VfwPPAF8nz0r/WO9HzxUe6R7CXsX+yB7O/rIuuL6wfugfEy9Dj2mvjy+mH8vvwP/Nn66PlF+an4RfhP+Jb4Lvn7+lf+OwJ8BQQHUQYFBekEFQWQA0UApP1M/sYBLwVhBtsF4QaSC0URihR/Fc0V+RU4Fd4SWQ9HCzEIdwh0Cw8OTQ88EEcSHhboGbsbQRw0HMIbfxvBGp4YIRaHFJcTwBJkEkYT2xT6FdEW1BeRGIcYfxfHFR0UjxK7EN4OZw1MDCILvAm6CMII6wkxDLkOqw+nDvoM5woGCDYFTQPlAXEASP71+pv38fU79vz2w/WS8bzsOur76WbpWOfp5bHmIOjn52nkqt2W11HWtNjH2pHaN9lV2XDbXN1/3SLcRNtj3frhmOXk5QLjHN8c3fPdG+AZ4tjjHOZp6WPtZPEP9SH4cfoh/I39k/4r/tH74vhT94L3z/c+9mvzAPNC9z3+bQRvBz8HlwaUB88IJQgnBmYFBwdKCSUK8wgtBqAEhAeWDZ0SThRuE7kSGBQGFp8VihKUD10PLxFQElIRpg+mEGwV/xqLHr8fhh9vHz0gyyD0Hxse1BwbHX4dExw5GbEWDxaHF4QZARteHDMdnRwzGwwafhm1GSIaphgqFP8OLgzXC8gLrwpyCXcJ9QprDFYLagd/A1sB6P8i/f734/Lr8T31vPm5/CD8Gviq89XwLu/T7RvtUu5C8UT0j/b/9iP0fu847CnrXupM5xfi592u3P7cpdyq20rctd8p5KjnV+kI6Kjj59762/bZGNem0xvSl9T+2UPf9uKi5S3or+oO7JrrY+r56d/qJOxJ7Azrh+kE6abqsu4M9H351f5aBMAJ2Q1yDwMOZQr4Bp8FJgZMB94HqwdTCGIL1w/sEtUS/xAlEdEUXxmfGwsb9BhMF3gXUhhnFxsVeBTXFqYayR0hH/IeLB+MIQIlMyclJ7YksCAhHfoaXhmAF3sVtRSCFvwZTR0zHxcfIB4dHiwfXCBMILUdNRneFB4SlxC8DsoMkAz9DewPURHwDzULXQZCBIMEhASkAYf8xviX+C37yf3f/K33MPI08MHw6PB47+Hs0+r76hzsoepb5a7fod0p3/PgL+DG3JLZ9tg52QLY5dY22IXbh9/I4+nnyuok6yLpLeYh44bgUt/D3/ngiOJG5cbpRO4b8JrvEe+/7sLtquxf7N7sG+2g6+/oWefj5xbqMe1r8Av0qPh1/V8BngNBA7AAy/0m/Cn8cfxj+zP6ZPsa/x8DTgVPBtwJmxENGiMfJiCjHr0cWBtpGZkWbhSfFNQXaBzSH0AiHSVJKDMr9yzALIIryCn5JuQjKiErHmobvhleGcgaoR3qIDIk4CbQKEcqcir4KEgmVSHoGbESwQ2YCuYHkQU4BXgHUgr8C1kM3gs8C0YKsQcaA5f9Avka91P34ffx+HX6IfpL9x/0b/KD8sryBvHj7UfsCe2Z7obuJOsL5obiWOGo4GPeO9qK1nPVb9aV2G/b593i3+nieOf26jTpEeIg2znYFtdX1AHQLs3LzuPTZdlV3szif+bK6b/sie7U7rHtMesa6JvlwORU5kfq2u8m9vL7WgCxA6MGPAniCvsKswmhByEF6QKeAfwALQE5Ay8HjQttDl4PcBCOE2MXIBkZGHUWExcXGgccIRrmFdcS/BK/FVwY3BjQGEMbAyFmJ4oqFio6KWQpQSlJJwMjgh7mHB8e8h8dIach0CJxJSAoDyntJxwm3SXaJjElxx7dFgsSsRC1Dz8NSwrjCP8JGgzQDKALmgnhB+EGrwUSAz3/yPtI+qj6Zvoe9svte+a75BLnf+hw5mDjZeM35q7nLOXV3z3bsNkq2lLb9dvV2V/VJNI70hHVDdj02LTZUN0E4wXoTenW5FrdkdhJ2FTZUNhR1enTQNcZ3p/k+eeB5yjmTuhs7evwnPA07t/sVu3f60fmxOAI4dvnv/AC90768/wuAKUDvgUyBRYDQgKABCgIkAl2B0UExwPbBykO+xJfFlAbqiLEKbkt7y2JK50o2SbIJR4kQyGkHXEbrBylIFclPyl2LPQvkzLtMjQyNjE/L/ArWSfCIqcfnB0EHMYa5BneGpceRSPdJh4o4ia/JDMikh1jFuUOswk6BxAG9wRjA68BFgGkAoQGKwu+DTMNAwvSB5ECd/vx9K3wmu2F6STkxuBs4m3mVuj7557nGemV7HXveO9m7PblYd1Q1g/TRNKP0C3N7sulz9fVw9m32XHZON1W47fm3OS93lvXBdIU0CDQ589Oz3jQPNX93PXj8uYU6G7r8fAy9Q32ifRZ8orvk+wn623rZOzn7tD0X/0eBaoJrgsuDfYOHBAkEIIPQA44DdoNaw8HEC0OAApUCEUO/RjDIHchax2MGlQcgiBPIsEfGhx+G5kdqh7qGvsSjA72EzIfzyZkJuMiBCW1Lf80djWAMYotzCpPKF4luSGKHSYa2hmdHZQi/iQMJiUp9CwWLYEo8SIlIHIeWxk3EdMKOgjeBlMEdwGEAJsBAQO3BJYH0QgbBQH/2fuE/B786/Wo7E/mNeLM3FnXGNXc1rvaCN8S5d3rqe2L6Mjg1NrQ2HfZjNm41xbT5srAwgbAWMPIyC/NOtIo25Hleep85rXc19Op0enVqdrG2t7VWtBt0OrWM95o4inlYer+8/j9hgFv/Wr2nfEn8QDzn/NC8kjxOvP09wz9/wCyBHwKCBMeG2wfBiBQHsobDxrqGNAWfBNiEc0T8xnlHmcgpCHUJkowcDmIPbA8mjm2NEAt2iRZHqUaohm8G5EgxCWDKNUoTSoVL1A0xTW2Mjctpyb5HswWpQ9zCh8HSAXABYcJow5bEawQiA+gETkWOhh1FBkMPAIX+sr0/PDt7Z3sfe5x85f4Efva+lX5LvjN+E/6Tfq796/yBuvE4RDaRdaQ1dTVptap2ZDfxOUN6anoHeYk5EXk7eSA41HevNVUzbvIiscUx8fGZ8lI0T7cjeUb6srpYufa5ffktuKD3vnZmNcP2KrZbNtu3rTj7uof86P6vP8zAs8CiQE9/uP5rPZo9vT3u/iN+BX50ftSAZIIKhAwFyIcyh78IMoi5yGXHXYY6BVZFpkXXxgHGSAakhtPHbgguSZMLfkxEDRpMzcw9irtIz0dyhp6HaUhgiMNI3QjAyfEKyIuNC4nLwAyEDQhMqMr6CIzG8oWhxXNFKYS9RAPE84X0xn5FjgTIhMeFiIWrg5CA3z6TPZG9LfwMeoa5E/iZuTr5mjm9+LD4PPixOh87u3ulOfU24vRucqkxDO+9rpavZbDncuY1JPcw+Dd4L/f7d8A4S3gIttF003LNsO4uw+5yL1zxxPSjNwq6IzzuPn490/xV+vd6O/nMeVK4DfcsNv33oLltu78+BYDYwzAEyMYShhpEwQMHAY3A4cCegKkAocE0QhMDk4UpBvMJCUusTQ+NpEyHixzJu8iHyGOIO0gmSJ6Jbkn3ieJJmImISrjMAE3CDrSOHEzniz0J30m/yWYJKQjtySgJtwm4SNHHzUdoh9ZJJkn5CaeIvwccBc/EnINPwnrBSAErwT/BSgEjP6L+Uf51/wj//n8u/jE9bDzG/A76hrk898D3b/ZXdcp2O7bEeA74zXnXe3D8rbyZOwv4zLaztLqzVbL8snFySrMK9JI2hDgG+HJ4CTjPOf16Izlxd210/3HDb2quLW8n8SIzDzVI+Gl7gb3pfZc8Rrsf+nj6f7pG+eo4k7f+t9J5mbvFPgWARcMWBfkHUQd7BjVFJARdg4PC1kIHAh/CUELFQ9XFtcffSkOMfk0tTRnMLwpWyPzHlwdYx4MIBwhlSL4JIIn9SmQLPovmzRMOMo3ozKsKrAhzhkdFlQY+R3ZImwloSbSJ/ooKiglJVkiyCD2H+0eRhunFJIOhQvxCkELqwsFDQ8PiQ54CYkCr/1E+yf5Zfdu9xv44/bF8iLss+Qc30zcotpU2CPVYNLt0rLYLuGj5zzpj+Wv3qPXa9A1x/W9CbpHvWXDK8jdy7PPQdNQ1qrZ2t2G4gbmauUK367U78jEvtS7o8LHzXXYLOTP8m8BowmcCC0D1v6F+472t+8p6qfn6OYz6e/wh/trBWUP7xvrKUEyUi+iJaUdOhlvFLkMagV1AxUGdAkTDugW4SKfLRk1zznJOjI2RS0/JAEeLhpbGFsZjxzgH2YiEiXNKLEstS97MhI1mDW3MQopqh74FTMQUA8FFGwa1B4fIRoihSFnHjwZORRZEWUS4BWuFZ0PRwh3A8EB9QEjAhICbgKQAu0AQfym9d/vK+x462rt8O3b6unmPuQg4uHeK9oK1qTTvdIs1rrgsu2C9EDyEurW33DXxtMI09rRwNDj0arVc9oA3vzfReH/4tznkO8M9Tf1qu7g4JPSz8uCy8fMzc3P0F3aV+kj92wB1QfNB/YCZP4o+/D1jOxn42zhkuYB7kH1zPw2Bt8Q0xlOIW4ovysiKP4fYBhjFBUToxFgDz0O2BDCGO8ksDBINgc18jHbMJkwuy0HJ2UfkRqAGf0aRh01H6IgTyIKJT4nGyecJr4mBiScHPcSBwtPB74GmwdGCgAP0hQ8GdgZYRdfEikLfgZWB8QJRAlYBA/9//ft9tj4W/1uAiEEhAF9/sP9//vu9QTujehS5xLn7eJb3AjY8NaU19zWWNQH1tveiupZ9Tb94v7L90jqXt7I2HHVv88FyozKhdLo25jiouVM5GTjFOgH8Lf3uvpl9CDprt9N2IHS284/z6LVv95n6Qn5QQnFEesRUg6JDNwNfg2xCBMBzvnT9nb4M/z2AHsFtgt6GRQsozeDNg0vsirKKwIswSQBGPwNygqADH0RSRhPHtgidCVOJREk8iLdIHcdLxgOES4M5QxdEPgRQxBnDFIJXQpWD/UTNRV0FLMTOhHJCrkDGgHAAhoG/AlIDk0TdRVZD3wEkv1C/MD9uQC2AzwESQBQ+Qj0TPKO8jD0KfdA+x//kf4299vsFeXZ4eTgmN9s3lneKt4U3H7XftK10DTTX9kb5HbyBv7Z/2b4eu5X5wLk6OIT4ZndStuZ3bjkYetD7Frq1eys9R0AsAQmAT763fKo6zrnYOWl4/HhT+ES5oP0EgbID58QgQ+tEcsVzhbaEqALEwTs/xgAagIiBQQH/Ai4Di8YaCAlJMEjniDeHCMb6BuPHIAa/BXeEfEQbhO6GKcgqydCKNkiaR3ZGhsYDhLJCi8HRQkSD8kVMxsSHAcXbRGfEV4WaxkDFxcRPQupBGr8fPa39YX4kPz2AJ8GNQymDJ0GGP4K9xr0F/UZ93/3avPm6h7kCePc5N/mQelU7KTvf/Lb8zPyc+265yfjY+GM4njjeeHb3WnbGdso24/aaN3r6Cn6WAZ3B7kBQPnJ7hbnluYC6oDsB+7X8H305PWz9IPzZPQr+cMA2wbUCSQIQP7E76Pm3+aZ6w7u+O3R8fH76gXIClYNkxBFEisRKRB0EEoQrw7iC04JSwlIDOEPMxJUFF0X4Bn6GnEbOxtGGq0ZgxruHCwfOR5CGZsT4RFsFMoXVhqiGxMb4hmMF+IQQQeFANj/EwSBCgUQ8BCADP4G3wKN/6f/LwR9CLQJRAcZAOv2QfFJ8X/04veK/CkD5AatBC3/svhy89HylfaY+on7yPkG+K32CfQs8c3xkffH/scAKPzZ9kL1iPXj9Lbz7/OB9Yf1k/Ft6gLjU93o14XQKctX0D7hy/QBA08K2Ag4/hDz6u9h8dLvrOn+4iDh2uNQ5b3jcePE6Pn0wwRNEmMY3BNECPf9BPh19MLxNO9z7hDxyPXO/agKBhc2He8emCDkIcge4RZXDo8ILQccCsUPABcmHcYfUiGdIxQkCyEvGw0VmhHyDyMOZAyJCuAJWA1mFAAc6CFFJZgn0CmzJ6QbWgjS+AfzaPNU9tv61v+3BA8IkQhVCNQIbAnFCoUMAQtmAjj0MOi04hnhJePn6kj1T/2JAKz+6fnP9QL1W/ef+v795P+X/BP1B+5Q6VroouuQ757xaPK38oLzNvQM893wfe/672Dzrvfe+Gr2LfLc7AbnWOIX4L7fNOGD5mvwqPt0Al8Bd/wA+wP+dgF3AsIAf/5m/Xz8pvpa+Ln3BfvXAIAGNQvxDJwK4gYXA6D/pf4s/8H9TvrH92n56P8zCPkOPRJdESYPew5cDRAJlwOtAEwBDASJBjQHLwjUDOYT9hgbGhcZWBg2GBMXhBMWDtQJAwluCq4M0A9QE8kWlxrwHv8iwiNQHzwXOw29A77+M//ZAkYFFAKu/PX7Z/5z//D/RgJYBiIJVAdwACj23OzJ6YHsI/ES9vj5bPsO+8b5M/jP9z76Jf8wAxYECgN2ACf72vSW8WbygvRA9eLzP/Ep8L7yPvfM+kX8c/z7/Z0BzwPrADn5B/FG7Abp5uKp2gfWSdlf4bLnlOxw9Df9RQKCBDMGWwWF/373bfJV8Ertvehx5n/pu/AJ+NX8C/9T/7j/gQI2BgsHmgNQ/fn20fLb8Mzxo/hABbsRNBjYGM8XdRZhE7EPxg0yDpERSBcEG4QZahUJFIIXfB36IdUibCEvIAwfBRyMFVANpgj8CUoOuhLAFVUXOxqZHbwctRcBEkcNCwl8A2f9HPrk+cf6jvoe+I72LfjD+in9Yf/TAEUCBQMtAXH9Lvlq9Ufz3vIi9NX1ufWG9PXztvOb8+zzPPWB+Hj8Q/4l/fn6Z/m/95L02O8u617pGesK7nXwL/FT8Ivw0fFy8sjzG/Wj8+LvLeqc4nrcZNlW2Nbb4eco+NgBHwO6A3MFlAQTAYL8lfiP9+D4T/k/9mrxJvBW9PL7EgS2CHwJswkjCeoG/wT2A6oC8P9r/Ln7lf/2BXcMrhGjFhccrR4zHL4W7RBvDJ8J7QgLC8INmA8uEpYUcRXRFvUYIBnWFuMUThQOEh8N6QeYA60CTAduDYQSaBkxISck6x9oGdQURQ3cANX4Yvhb+ab5g/hZ9LPxF/UB+z//9wPmCuMOpQxECOkB/vRX5r3gDeQg52fnsunn7uTzbPeb+Bn3ePX49Yv47fqC+Zf0RfA+7qntJ+0k7HrtBPOH+Pb5Kvke+mH9f/+A/pD8X/tq+x3+xwGqAZP96vnw94X0z+/87kbzxfjb/qQFVAl9CWMJvgh0BuECm/1T+NT1PvX19D/1sPa2+Sj9zP4P/xkAFQJ+AwsEUQRIAt77l/T18DjwRvHI9mgBiQvrD28QKBDjDWkJrwRHAE39Dv36/WH+4v42AD0C3gXBDK4U8BjKGUUZoBTvCpIBZfzO+t384gIRCSkMCg8rE4cVPxeCGZ4X5BF+DfYIAAL3+yP5xvjZ+b/7gP5eAYQETgnCDMYLcAkzB+kCGP4v+m/1TfGe8ev1RPqB/dIBrwYvCY8JzgiHBrQE4gR/BEoCswDB/6D8oPjS95T5/vq7+737r/tZ/Tz/fP4z+5r3nPbG+PD6NvrH9ffvQu3f7Bfpo+CK2Z/bi+Zv8Ffz1PKZ9Lb6zwA9AtwA8P0N+Q/2AvYA9YrxLew36FLqmvDR9Vz4GvqW/lAEsAVtBBkEagHg/Gb8tP9LAx8HQQrZCsYKNwx6DoUQPRC0Cw8GBQPOAcgAM/+//rYCywjmDaUUZhukHKgZPxZaE30QFAyZBwcGyAWaBR4H/gkZDd0PkRFEElgROw5eCt0GYQQbA/EAc/1c+2v7Nvyo/VIARwMbBS0G1wZyBUQBKPx3+J32EPV/9Hf3mPyDAA8DFwb4CYIL3whnBhYGxANv/mP4CPMF8OzuOO4J723xSvRU+Pv8vwAcA+ECpAD8/sX9Pvt794rzNvCx7vnvDPHR7aHp/ek/7sb1EADvBtAGDgQdBGEIXgsmB9X/Ivx5/K7/cwJbACv8y/pX++37Cvza+i34QfTn8E/xNfWq+CL4SfTM85b7iwahDGIMKgmHBo4GMwiEB34CiPt89cPyrvXg+jT8jfvq/mIFtgleCnEJ2AdABlwHygrVDA0N1AsLCDEE0QPlBcIGWQRDATUBAQOBA+4A1fs1+eD7aP9EAEP/A/5H/hcAyAFbAgkCZgPIB6ILpwxzC4oHGQI8/kL9LP6G/cn67/sgAywKiAxdDF0OZBO2FkMVcxGKDcAJ0wbXBEACy/5h+xf44vZQ+o7/pgIaBMkEZAUUB+IHxwWsAZX8SPhF9q70LfH+6/fomuxc9H75k/pL+i37Cv7JADsBZ/7l9+LwV+7o8FD0/fP68LXwtfRf+V76ZvU+7gXsW+8a8u7v4eqg6ALsYvK89z/72v5TAycHBAm5CQkLpQsiCNkBlf0X/JX6dPfr9J/2evvg/0gDNAXsBI8EegXrBkoI5giICJYHvQZHBvwDiP/X/dgAugR/BuAFRgSWAk0AJv4f/Jz5ivn3/HAA3ALrBNEGLwkrCzoN0hGBFg8W+Q+QCL4EawRKA5j/+Pob+RD9UgR9CgYOZQ7iDVIQiRR3FgMUPw6ZCZQJvAyIDScHS/0V+Wj8QgENAqb+MfzN/U0BUAPOAFr7+Pgf+v379v3Y+y70Fe/E8M30zffl+Vv85P4qAfoF1QpxB2f9avYo9VX1dfOU8MjvP/Gs9AP6ov2X/S/8aPre+cr77Pqx87brkegf6WHqN+wf8Gn1dvpYAJkHbgzjC9oIdwbsAuf86PZN8p3ujuz87OXvQPTq91769vzu/4ACAQTcA9cCoQISA0ACrP9L/SL9m//ZA/AHJgq/Cu8KCAqqBSv+7veh9bz14PY6+cD8nQCQA64FlwjpDJwRdhTiE24R3Q6QC8AHIwQHAIL8hPyLAM4FOQmACjMMjBAZFiEY2hRtEA4P1BARE10SaA7KCjsKlgtICxkI9wRzA+kC5gMHBWsDi/+B+3r5X/pB+9/5Ufd29Sj3H/yB/wsA1/8HASYHaQ/KEM8KLwSI/9z7lfd48s3ut+3s7hjyYPVe92/4zPgK+Vr5ifhD9qryau1q6I/nj+vP7z3xx/OD+kYBVgRABYcFhwQPAnn+nfkg9LnvMO3I7PfuX/Jd9UL4Bfvd/HT9aPxG+vr3AfYz9uj4PvtP/FH9Xf6x/3sBpAPrBT0FVf9s+J/1yPXl80bu3+kT7LrzV/vR/pv/CQOdCTYOvA4FDYAKxwijCXUMPQ5IDYELDwu2CwwNng7vDlsONA9dEZMSgxKpEaQPiw5KEYMVaBfUF5kYQhkNGZkXlxSED00J6AUAB7sIJwjKBfwCTAKeBBAGmwPP//b+4AGOBe0GrgUYBHAFNArNDs8QSBGTEH8NqwiJBLYB5P1D+DD0Y/Q29075afgR9Zjz6vYe++D60PbO8pXwq++y7kPsEOlh6BPshfEq9bD2ePcY+Jj4Dfkw+eb3s/TC8CjtCusc68rqoeiG6CDs3O8T8RTvF+uD6NXoyOqh60DpVOeR6iLwI/TF9rb4r/sBAG4CfgKqATb/J/xM+jj58/jA+Ib3Dfhh/OcBqQYVCwcPoRGhEusS1BOYFawWrhXBE2ESIhFpEEkRxhLuE6kVVhmSHkchrR7dGvUZxxm7F3EVURW/FpoXXRcRFusToRJ+Em8SchNxFSUWSBWXE6oRchD+Dr4MTAunCgYLpw2NDw0OmwzmDd4P/A9wDbUJBAc1BRcD1wDx/lj9B/xk+xP8uP3B/gT+VPyl+w38d/u9+Nj0zfHu8ODwae8Z7Q7sFe0872DwYO9d7a3rveoq6u7oa+cw50voVOrS7Irt1utn6oDqLevO63Hrfunr5qfkeOPD41XkbeS/5PrlPOk37kHxrPBa7z7vx++d8E7xWfHA8bbzjvbQ+Gv6FPxn/RX+Rf9PAYYC5gGNANb/NwDOAeYDKgXWBZYHYgpLDIwM7wurCvgIrwjYCpYNLg8nEK0RQhQbF5cYkBgyGD0Y6xh+GYsYxRXTEeENtQvXC7MMpwwoDHwNCRHIE4gTOxGvDugMxQvFCiYK8AkKCtQKsAviCzMMtAxGDOMKlwkECQUIqgQOAJ79Bf4o/5H/eP8EAJ8BAgPyArwBwQDJAOsARwBt/3X+z/zl+l35jfiu+Pr46vjy+Dz4CPbL8/Txoe9n7f3rl+sg7PXrnuoe6s3qyuvY7J7s1uq26R7qKOu/61Prbesx7RfvZ/Bb8Z7xcfKQ9Pb15PWF9Sn1DPWn9dL2KPi/+BX4mfeE+LL5jfmK+GH41vmK/L7/nwKqBT4Kdg/1EmcUlBS2Ez8SQxA5DaoJxgYbBSUF7QYrCdAKMQwADgoQIhHNEAIQ9A4pDbgLRAuMCm8JQQnTCuANWBCPEJQPoQ5FDuYOfg58C2QIHAemBiIGJQVmBEAFnwYPB28HWAhmCT4KMQr8CCMHRAXfA7cCAwILAy0FRQZYBiEGpARkAfX99Psp+5f6G/r++WD6uft7/uYB4QM0A2sBXQBw/7f8g/fa8dLupe4m7yzvFu/e7/vx9fPP83XxnO6x7EPrHOla5k3kd+SY55bsjfEI9tz66f89A7YDRQKs/0r8Jflj9pHzM/Hb79DvRfG484/2OPn/+lv83v2s/oX+OP6v/QP9if3P//ACcwbFCo8PAhPsEycTiRFwDioKqwZSBDUCFQHWAXgDFwXxBmcJegyAD7sREROqE4ATKxKUD0kNuAy2DAYMKgyVDqUR5RItEsgQdA8BDsYLqgiZBSwD/wDS/kj9Qf1v/t//2gHfBMgHTAmOCQgJfAevBJUBWP9b/Wn6Gvf+9BD06fLn8Dvu5Oqr58HlkuQ64+7il+Ug61Xxh/Z8+oz87Pyj/Xv+g/3B+/T6H/pP+GX2MfUq9L7y8PGj8przWfN48TDuxOpJ6FPmBeUh5qXqOvHz9wT/3wdrEeQXgRlJGJIWKhT1D3wKqAWaAhwBTwFsA+4FdAfeCBALsw0qEPUQxg4uC6UIKgdqBQUEMAX0CGENJRLkFgIZ2hd8FRASngwxBmEAvPtC+Br22vV79yz65f2GApcGXQliC24M4wt8CaoENv4U+X72oPQE8wX0lfj+/QgBjAEKAXf/nPzf+Y33gPQ98XXv1+/u8Xv0t/Y8+TL99AKBCAALxApXCecFVQBc+gT0Zezv5PLg2eE75bPo3ewg8rb3kP3OAjQGawjjCbwJAQi1BcUDUQKuAFT/h/8mAXYDQQV/BI4BCv9P/fD6Gfek8Znsz+qW6xTtXvC+9hH/RQccDsATORhMGqUZZhe8FM8SJBFBDWAH7QIrAWkAwv8oAEgC1wRaBr0GlQXAAkIAUv84/08AuwLsBIEGFAh8CUILyQ1jD34OvgvaCDwGdAJI/Yr4EfUe84XzRfU09gH25fVj98n6N/7t/wAA5v/PAY8FewejBVcCQAAwAFYBTAFv/l764PeB94f3KPaZ8xXyJvP09Yr4avnx+Ev5ivsd/t7+fP0V/J78//34/RD8UPmV9tbymuzf5dDhn9823cbb9t3649zqzu/J84/5ogCcBdcG/QVABb4ECwP6/2b9sfyc/Yn/1AGpA1YEhgO+AaD/uvwK+dL11fMJ86vznfaD/FwEZQ3fGI8lFi61L6YtBiy7KmEmsB0WFCEOtgycDNkKnwhICesNVBTHGNQYZRWnEacPPw4fC2sG8gI/A/oG8wo7DAMLxwnhCaUJfwYxANH43vJs71PtyurF56zm++ln8Av2JvnT+v38JgAiAvYAKf1b+PT0Q/Qh9LHyAfGh8FLy2/TZ9ar1T/YG+OX5rfon+jr6wfuU/VD/NwF4A6EGCQqRC6wK9wiNB1IGBQU2A5QAZP3O+Rj22vL27/jsnekb5lLkreWa6DXrau2x8BP3cP+iBSgI5ggCCmQLPApJBab+8Pc18tLuf+1a7brtIe717xj0Jfi5+a/49PYp9+D4k/mn+O32Tffl/QQJHhLZFgUaVB4+I+QkpyAOGRwSSw1kCqIIdQclBwEILAteEl4bcSFUJIYm2icuJ00kmR+xGgEXFhV1FawWxxaiFmAWaBSWETwPrQyOCWMF9/9E+4T4M/cd9xP3ZPZe9077bgBhBEAFgwPQAY0AWP5W+/b3L/TN8MnuCe787ErqTOca5q/mKeiY6VvpSuc15lvo/usQ7mLuEO+g8dT1uvmi+qT3qvNT8rPyXvHT7ZXpPeb55Lbjqt9Q22LbT+Bj5jPrS/HQ+tUDmAjMCikN9Q8cEb8O2wr+B38FFgNsAfj/6/69/vb+UwBAA78FNwZ5BGEBR/8o/1//V/+AABEEYQonEqYY1RxAIM0j1CXdI9UdmhZ3EGsL/wb+ArP/nP5VADcD4wVyCFsL+Q5qEtwTNRMGElURQRGCEewRuRL1E44VlBeKGZAauxk+FtIQLQt/BUb/hfks9tb1qvYZ98/4ZP1XA6UIjAxcDxMSKxTSE84QYgwxCDsFtwIzAOX+3f5A/jb7Ffbs8dPvKuxN5Y/f/t4j4u7kGuZX56bp9uz/8OHzffNZ8MDsl+p96Q7mCt7V1MjP4s5DzMjD/LknuDTAu8kOztTR491Z8ZYBUAnsDt0XbR8sH/kY4RO5EeENNQcAA1kEdQjWCiIJjgV6BAEG5wV4AXL6g/Xx9Zr53vu0/JcBSw6iHrwqyzEBOtlDtUdjQhI56y+UJWYY/AqeAeL8V/ru+Nn5Y/47BTwLpw8IE6UTFxF8DsUMAwlvArH9Nf+GBMoH8AfNCCoMbw6KC1ME/fsD9BPtm+dg47jguuCI5GTsN/ZK/6YHHBGuGxMkhybRI/sgPCDjHe4WgA5sCYkIWwnpCOwFxgF3/qz8PfsT+Fjz3u9x75zxf/RP9q73I/rl/dwC+waUBlACYP5b+6r1Buu+3lvWL9H9yabAGrqauNS4UrV3rS+o06uqtT+95b+qxTfW3et++oj/JQKOB3oNww4bCjACX/re9hH6kf8sAUr/ef+CBbgOihS4FEQS9g+PD3cRBBNHEt0RbxYEItgwTTzXQtNIJFCPU4lN0UCFNMkpkx0/EbkIbwRrAqIBegLNBScLjRCrFH4XqxjsFg4SQAyyB/wDIwB0/dP9zABnBKsHuAkwCNYCE/0n92ntL+HP2CrWetU01CjU5dfr3l/nefDI+csD1A5qF6MaDBxYH1Uhfx35FTQR8RAPEZsPlA5mDhwOyg21DKEJNgUbAbL+zv6aAI0BGwBz/q8ARQd9DeIOVQyeCjsM5g0DCrz+DvFQ6Gjkxt3+0SDIJ8Y/ySHKmMWnvrq5z7ghuhe5J7WBtOq69MTSzUvTKNdS3hXqhfXU+6D9GgBDBtsLLAztCGUFvAJeAisF3gn5Da8PKhHyFeEbCB4KHHAZqBqjIRIqyS5ZMXs2xz7IRZFHLkZiRe1DIz9jN4ku7ybuIIUZqRATCyILLg7eDxQOPwurCusLewz3Ca0DR/2A+5n9pv5k/Pn5Yvtz/4IBAv9e+DzwbOqO51vkHd/i2YPX3tg03GHfX+KQ5uLsxvQs/JoBPwX5BoIGRAWLBMoDEwMkBEkHPAqLC3sMOw6ID4MOSgsDCIoG9QXRAy4A1v1f/nQAwAF/AXgBywM5CJYMaQ4SDMoG8QEx/qL4KfCe5wriZN+a3BXWDszxwxjCGcPSwEa9WMDCypjUHtnX2zrhRehT7Z3vUPEi9Pv3d/t0/ev+HQEaA1sEZwZqCYUL5wtDC2QKuQljCZIJdQo6DO8PZxYDHsYkayvTMsk4uDoTOR417i4oKMojLyEmHf8XzBRqFFUV5RVYFWwUOxT5E8oRqA1eCaYFfgEt/RL7D/wd/uH/tQJhBycLeApkBbn+O/gq8krs8uVv3w3bndoT3QjgauI95ZPqY/NW/c4DKAUUBdUGTQgiBkMBv/1+/soC+QZnCF4ImgkXDP0MbwrsBQ0CsP94/tz9Qf3w/Ej+vAEtBrUK/g7wEd0SkhNCFVAUuAyJAdL51Pbd8ofqVOLN3y7hmOCZ2y/U+s3bynHI58M1wDLD4sxn1+ffb+kR9XP+8QLZBFoGIQf9BVACgf1j+nH6yvwv/1IA4AGyBUEKqAwTDCcKgQk3CowItQLr/cQAKQrHEzEcXSbrMGA39jgvN6QyZCzWJQ8f4BejEUQO9wzrClYIJAjpCmsOBhCwDuoMTA1xDXcJRALa/JL8rf5B/mL81f2iAmcGwgW+AHX60PWN8oju7Ohl5J7kRuj76mHsZu708Ef0eflq/1ADawN9ACT9yfrT+Gf2HPPh8AH0V/wvA7YEuwQhB34KVwvOBw8B7Puf/MgAuQJtAuoENwttEIQRWRGWEqcTChMqEVgNUAf+ANf6hvOL7Onptuwq8Z3zlvQH9Vfz4u5B6AvfGdXezm3Nyc3izY3PNteo5bf0hP5pBKYKOhEBFMwQ5QoyB2QHwAlaC7IL+A3EE8EZTxx2G1sZAhdTEsgIkPwp87vu0ewu7Kfv5/hlBGsOixdAIFwloCSEIA8ckxbyDpYHXQPQAc4AUP/f/bX96/4XABIAUf9D/9r/sv62+iH2UPM280T2aPvWALoGkQ0rE3wUOxErDOUH3gPr/Uf2FPBZ7cHsuuwM7lfxJfUZ+LT6RP7aAr0GqQh5CbEKoAwaDu4NSQ01DvYPaxBFDzUNIwr2BIL9n/az8t3vhOxB60vuxfNY+Jf7XAB2B2ANEhA3EdERgREvENEMRAaU/rX5+vek9drxk/BR85H2CPev86TsZ+MB2tLQZsYzu6S1hrx8zEPcGev8/5gari8gN+k1PjXgNaox7yUYGA0QyA+GEisTPRH3EIwVghotGDgOPwN/+xj0wecf2DPOpM7X1AzcLeYL9wMM1hwRJlUrXC2YJx0Z7weq+nTx7uaA2aPPEs+Z1MPY/Nnb3YXnyvHm9RD0GPJ780L1g/MY8Wv1BgO9E5wfaSbFLQk2HjiDLzwgZRFnBT760e8P6aLn1uqq8Lf2cvwKA94KahNNG7UfhB83HXkbSRoFGG0U1BHNEcoSURIID3QJCwTD/735JvAu5wjlNOkY7Urvf/U5AFUIxQrkC4APZRSqFnAUUxDHDZIMlgl6AkP4MO+c6proaeQx3trbv9/Z48/h/toi1V7SwM8iysTBLrv8vf7MTuD48B0FMCMGQdFOkkyxRlpBdTU8IXcN6wF7//kCRAdyCTsMtxI1GnIcJhZPCl7+iPM75oXUVMMDu329vcTGzVTdcPVMDq8eBiaxKNAmcB3PDRb9Ne9V5SjfgtwC3qvjaetV8n73mfxrAk0G7gXzAuj/rfwg+ILzqvLH+DUFqhPjH30pNTJ8OCU4czCwJLEXkgrZ/tL2WPNG87D12fkd/toCVArUEhkYphpHHYsedRu+FNQNWwlmB3gG+AXRBggK+w4DE5ATKhDTCU8CuPva9j7zq/H58y35O/2//s0A+wT8CIoLLA51EZIToxJiDkgHq/158sXn4t/X20jandns2iLfG+Pj4kXeeNfsz9XGMLrTq2Cksau7vtTTwOmFCJQvGE9iWoJWI0+dRbkzixoUBWn7CPt//U4A/QSjDNQUaBnaFx0QigQf+DnqGtjAxPa4rLgQv5bIJtlf854QSSebNI07ozyDNNQinAwM947kltYHzzrP1NVp33TqqPe+BYoRzRlUHwUiCiAOGBUMngD7+LD2uvpOBPoQax+QLkw6Iz3BNT4ovRhUB8fzYOLl2FjYv9xO4lzp2vS6BOsT0R3KIwAq6i9JMNEoWh2HEkoJDQEv+2/6mP+dB9ENHxDlDw8OPQm7AW77OvkH+gb8Uf+GA/0FxAW0BlgMiRSaGjsdVh7OHd0XgQp3+GDlItSGxwTApLvAuRy8FMSUz43ZSN6Q3bbYtdAexdu0eqOGm5KkWrlx0InqPw2iMxhPd1e8UklKoj4iK2gRMvuP8YX0Z/xhA7YKsRUiItEotyVxHN8Srwnn+6fmd9DYwxfDfMj10Rfk4/8KHeoy10D3SE5JOD8DLboXXQJr7ojeZNXE0zvZf+Se8lQA1QsLFMoX4xZsElwLcQKq+Sb0yPOW95v9IAbrEtUi7y/RM68tkSKHFggIHvV74grYM9cd2vXcZ+If7T/69gQPDIoREBcpHDsfNh+mHIoZ1xYMEygO3wvADaUPYw4rDYcP4RH9Dd4Ea/4u/+8C3QP6Az8JFhJ4FscTBRDQEOMTlRO3D0YMvAnDBAv7SO3M3n/Ta8w8x3zChMDHw2LKdNBx1GrWAtYb05bN+cK2sJCb14/klPSkk7gX1C/+Mi6DUWlgIWKsXVNRRjvSIY4OmwYoCccQMxegG8ki4y3INSozEyh9G+wNVfn63MfCf7TDsGKxVrhOzTjvzhEqLLVA/VKAXlBcYkx2NXsdWQXW7EjXKcr6x2XOLdoV6iP88wtTFrgbGR3IGLANYf848wvsNerC7AnzCf4IDgEg3C5aNms1Wi16HvYIOfAD2pbKxsIlwQPF9c7j3VTuav2gCqAWdSGTKbwsmiqaJQQgdBkrEcYJtQfhC1IS6hZoGQUbfhrGFaINlwRb/Oz13/LO9HH63P/nA28JfxHaGGMcrxzUG00ZNhLaBIryHN8Gz2/Ehb7vuzG9oMPQzV3XQd3k3zfhkOIM40vfptRpxUm4WLEtrdOoXaxnw7/q5xCPK+5AllYvY45bz0RqLp8ghxkEFkYWQRwkKb45RUUIRb08uzQKLXodBwN95vzRBcUcuW+uLK3ouhPT6+wPBnoguzgZR7ZIMUHiM6sg2wiT8TbfVdOszp3Rg9u+6Rn4BwRnDWcTrBMaDbACjvkw80Lt5Oe15x7w1v5XD+of4y8DPOg/xTmQK04Y3AEg6/DYcM4ly/vMyNJj3D/oZvO5/H0Fhg5kFpEarhphGbgYmBdeFOEQMBEGFrobsh84IwwnOyd1H/IRLAUl/Kn1dPE88Tf1e/vNAncKYhBLE+IUABcUGFkU2gop/4P0BOqg3aTQ6cfJxpzKbs4Y0UXTh9NN0ZjPtNCg0ujSeNOK1/jcId2U1M3H+78ewmDKC9Q54z//IiRKQvpPHFPtVOpUv034P00z0y4mMXYyhS77KMAm2iVDINYVXwyeBkMBcvf55x7X18pvxXTET8XZyvDZO/ApBVgThRtHIOIhLR5IFOMGe/rr8WTswudC5NLjS+fB7Un1FPygAaIGAQu6DFwKcgXZAGD+lP6FAQ4HUQ4nFvQdRyR5JqYjbh1rFagLvP8180/pAOOt3kfcEt665HHt6fXq/wQN2BnuIackACRMIRocFRRhC4QFrQQFCO8LoA2/DXoN/QsvCLkCDf4x/Jb8Mf4SArsIHA/0ERcTohbOGjsZMBH7CN0Drv0o8q7jF9iP0W3N78guxXTF/ckSz7DSAteO3cLk5OuU9HP+9gTQA8T7mPAe4//QB7wbrvCwdsI22A3v0QyZL/xIClCETLxJRUduPlMwiSX3IrIlVSiWKPEneCiHKasntx/dESsBDPAz3jXLbLo2sdawmbW0vOfHltmj7+AESxaxJBcx8jhCOA0v5CDIDxb81uif2+HWRNhT3rXphvfiAWkGggdkCMAJHArBCPIGRweGC9YRGRfpGywjIy3rNS04KTLZJgMZxAfT8V3bkcxMyOfJsc371GPhmfD2/bwHQRBgGWghHCVEJLUiniJRIUIcdRXfEGIPQg4hC1UGgwGc/cT5b/Xc8iL0GPhO/bsErg5iF7wafBo0G20crBnrEagJsAT9/6T1EeZ62IjROs3kxci+8L+eyXjUTdzT48jtlPfY/WUBSQS/BpgH4QSb/pj3cfBi5azUlcSzvTC/fMFtxaLU2PDKDQQgzSr4N5ZGk0wOR8M+ADwaPak7oDb+Mcov1i1oKKUd0w/2AjT3eejE1c7EiLpEtJutXqn7robA69dw7kIDqRjvLKU51DqwM2sp5RzkDIH7fO095YLhcuDM4armre9T+gQCCwWrBREGswUEA8P+tfxgADkJBRNoG/QkFDFUOnU63TKEKSMgphMgA9XypOfd4fDd7tmw2JTd8OZN8K/4BgLCC+wSURYeFx4XOxewFrYU+hLJE8sVrxTXD70LJwo4CHsF/wQ0COYNSRQGGuEdnB4LHA0XWRFPDZUK+wVt/8H54vSH7qPmSd932cTUvdFy0IHOL8vcyHLIRclOzAvT5Nxo54bwYPeI+1z9pv0J/O33uPDY5ALVk8U1uS+vb6pCs+LL3OqYCGgo40sQacx1kHRGbrplJVmXSqg+JTcOM6MwSS5rKrIjMBo9Dgf/mOz42IXGfLZ/qO6c0pYDmYSj4LMBx0rcaPR+DFEfJyo/LRIpfx08DO74i+Uf1FvKPsz31o7l//V8B1MXWSIMKK0pkihiJoQj/R4+GsgYcRtwIB0nti9SOD89JTxxNCAmuBK8/bDqztsX0kTNmcz/z5zW0t3M5B3uovq1BkIPbxV9Giccvxj4EgwOeQryCFALdBEyGS0hDSk7LzoxBi9+K38oASXaH2wa1BZ7FP8QFgyiB4oEPAJ9AIX+XvmZ7vzfi9GUxKm3jaunpM+lKqy9ssO4p8E4ziPateKw6lv09/zTALoAhQDZARQDFAJJ/o/5MfX57YPhT9Xu0ArUw9jG3hrtqwVWH+0xnj/hTaJbrmIbYdxbU1Y3TghCFDXiKskiNRqqEN0GEP2K8zPpvNvfy9C9RrTjrcmo46aFq422IcXi1Djl1vZaCGIVoxtqHd0cnRjHD4sF3/xR9UPvD+0W79rzs/qeA/YNuhg2I9srXjDRMOEuryrWJPwfhB01HEcbkRwSIQElMyRjH8MYQBC9BH32dehb3RPUAsvvw9vBesUGzbLXWuZb9+0GZhNAHIkgwyBEH2cexh7yH9Mi+iclLe4vKTCLLpQrJSdiIfsbERjVEwYN7QQI/6D7lffi8bzs9Oi65ArfGdn50+HOscggwmW9kLtIu2+7UL0+wiHJWtA32DjhuOl78K32VPzK/yoCSAbZCwQQsRDPDcUIxQJu+1PxwuQp2vLWRNto46/vjwToIE47eE0TW9dn3G55aixelFFYRsE5fSwPItAa0hMeC7sA8fTf5/TZrMtDvcCuwqCMlUSPmY3Nj5uXLqeWvZ3XA/M4DrUlVjUqPLA7kDSUJ44YfwzHBJj/1vyh/msFnw5QFysfbydHL6ozLDN5L5sq9yT5HosaBxmuGX8bHx4jIAMfxBmcEQ8HSPkq6WLZM8u6vke1S7CWr8yyo7r0xv/VuuYn+cILOBu7Jf0sEDP7Nhw3yTSkMjYxMy/JKwwnFSE4GnUSugh//f/z0O3c6I/j+98m4Qrm0+rp7uzzU/hD+QX3WfQ182fyMe+k6V7kgeDl3IzYo9Sz02jWydpP3/XkP+0z9/b/qgb8DS8Y0SJSKaMrmi3iL14uOibSGXsNlwFh8vDebM2JxIzDo8Unyy7Z8u9ACMUc+y96RJdVU11nXGRXwE/9Q/o0mSYcG2gRPwfG+v7rIN10z83BbbMOplKc3Ja/k2uRW5Evl4OlSrtc1QnzNBUfOPtT9WREbQNvDWk/WqBEeyyTFXwClvU18L/xxPhcA0QO+hVaGawZ5BcaFA4QYQ74DlgQpxPJGrUj0Sk/KzYpxSNbGDgFRO1I1p/CWbCKn+yTWI8NkNCUj57xrZnCAdyw94AQTCPUMVY+QUcLSiNIcUW2Qj89cTTKK+QlKCGTG/QVJBGUC7IDpfof8+Ltwekf51PoB+5r9Tf7EQCaBp0N2xEgE+cR4gwTBLz4UOqT2anM4cicysbLf84N2DfmdvKc+3IFkRDaGIYcfh49IVokTiYWJuIjviCbHZIZWxD1/pHpo9WwwR2s/ZtXmR2i464Dv7DYc/wCIF86jk3NXXZnMmWhWTBMzT/vMl4m4xxiFvwQsQu/BMn5Mes53MPOfMFNswSm5Jz6mVScS6KKrbDAt9qL+LIXUjZiUhJo43J5cZNlJlG8NX4WtPmn5K3Xb9Ij1r7gYu1Z+XoEzQ6tFpcZmhczE9kNoAdAAQj9QP2nAUMIRA8qFFcU7w5BBLH14uUT1t7FX7bMqa2gWpvCnMqnHrt9067v9g3FKSk/7kxmU05U7lGnTMZD1DgOL6gn9yHXHsMfhSMdJzkogiV3HqMTggYr+dLtDuYx4tzh/eSG6gLwzfQw+l//AQFp/MHxI+T31jnLnMBauHa1DrqqxPDR7+Dk8twGxxjuJJ4q1SvVKu4naiJ/G64WXhZCGFsXyhJTDooLNAh1Arz5DO733+bORroUp7ae+KQLtSHLLenQDj40YFFgZehyYXiecW5fvUckL0EW7f3o6mLhqd8L4k/mkejU5DbcLNKwxiO4yajGnemY/5dzmp+jVbdJ1T74mxqCOolXC27Od3RyOGJQTAcynRNh9b3ejdMA0p3YQ+i//lgVNSbpLwEz4C7uI6kVrwfo+4TzGO8k73P0lf4oC2wWzRxBHSoYjwzk+friCs1QvFixd6pTqEKukb390j3qbQKqG4kx7j04QAw8xjN/KIwc+BJ2DfsLbA6nFHMcACM7KEktETE+MI4osRsvDdn+fvIe62DpR+tX7w70d/b+9LfxA+/K6yvmid992gTXbtMC0NfPhNUd4NjsIvrhB1UVPSACJ3IqtSsQKnEkKhyDFLEP2A3mDisTDBqTIVsnySn6Jwoh9xRRBa/ziuCLy/O0/p/SkVaMyo2jlkyq/sef5/oBhBgML2VBwkesQkk57i0CHtkLAf/f+tf8swLoC6wVYRtTGj0SogMl8Fbbp8houRSuN6gcqh61WMih4W3/uh8fPpFVy2NMaftml11TTgc7siZfFJYEQPfY7kntevBe9er6TAAKA9wA+vnb7+LjZtg60MHM+M0x07LbeecU9kkFRhIbG4se7Bv6E3IIuvqE7Hjg6ddG0oHPV9Dy1BDdM+gt9UUC5A31Fv4cDCBmIJYeahyVHO8fiCSbKKUstjFdNwo8UD6kPT86NjM7JpwT6/8972Li2NkJ14zZ3t5I5bTs8vSY/KUBlgOaA9wBPv0i9sruYOmb5l7maOn/79j3dv4vA/gFfge7CHYJfglMCcUIQwhgCekMIhIyGEEeKiLPIc8dkhcUDmYAWvDw33fP8b68rl+fvZIvjE6NpZRpoRK1jM8Z7T8JRiLFOC1MeFlqXqtcnle5UMxIQUImPrE6xjZJMukqGB5uDaX8f+zX26nLJr4XtJStC6urrW63nshc3nz1qwyxIsA06D+sQ6FBdzpHLdEZZQIs677WEsWuty2zHLmrxHzQituT5ljwlPY7+Z/6OPyw/WH/6gIXCU4RaRunJ80zxzscPrc7GjRuJs8UuQJW8VXgddGHx/HCncLsxnrRGeIr9fUG/Rb9JNIugzMUNNMxjy3CJwgiOR7LG0Ma5RrkHU0iZibgJmgi2hpVEYEGdvzN9J7viuy5693tv/I/+ZAAygfMDboROBJiDkIH8/0l8tDksdlv053Qks++0YrYxOJt7q76jgePE9gayxuPGT0XURRMEA0OHRA8FDQXvxmbHNYcBBglDywEtfeK6LXVk8HYr7igfpJqhz6F3o3+nK6vs8if6fwMhCueQxlYo2hOcDptUmR2WoFPFEMaOF0w2inhIvEb2BM/B5H13OE+znW6tqdDmlOVn5esnkWrKb8w2IbxeQiyHNossTb5OUo4pjJBKVgc4wxE/dzv6+Qm3FDX19g64Ojpw/Om/sIJWxHNE84TVRSMFH8SkhDgEmEYRR1hIdMmqCywLpEqIiJyFz4KXfqQ6ZLabs50w5y5zbRctyW/fcqH2qruRgK0EcIdzCd3LpwwAzBLL8kuhy1GLGUsES3pLA0tci8FMqsvvSdLHnsU5QiO/Qb2kvJi8bTxnvNZ9r74gfpW+6H6UPhu9O3ufeg74vXcRNnl12DZNt2K4hXpZPDj92z/tAaCDXYTuRYNFk0TqxA5DtILpgp0C/gMpw3tDbEOyA4qDKwGpf+q9z3u9eJM1p7JJb5GtJOsIKhUp/Gp6K9vuQfHmdg17F//ghGEI/I0S0MATVJTOle7VhVQakVDOqcvKCU7Gz8SignVAEn48+6Q4zDXvsyFxXHATL0uvjbEgc0y2Ovk0PSdBuAWJiM3LE0z6TY1NfcuKyawGwQPYwC78irpluMf4KfeEeEJ6LjwGPja/g0GNAsVDKIKYAm6By8FagTMB80N5BMFGhYg9yLGH8QXoQ1XARDyKOK31cTNccg3xqTKb9Yq5TrzcQFDEPQc3iVOLC8x7TM7NKEyyS8tLNMo2ybeJT0lsiUKJxonwiMkHEoRcQWo+ZDu/+Wd4PDcp9qJ2y7g6+ao7mX3i/+7BKoG4gWQAWT53O8b6NriCuC74PjkE+vP8fX45QAoCdgOIRBYD0sOYQtrBpQC6QEtA2MFuQnOD2IUKxaqFkQVkQ/EBRD6Ue2X3wrSWcZavSy3LbTXtFC48LzZwmXL59XK4OnsxfvzC7ga9CebNTxDIU0yUUFRH0/fSR5AxjLZJI8Y1A2PBFb9Q/cP8VDrXeYN4V3bBNfw1CfUfNMY1H/YtuAj6q7z/P6RDIkYNh5xHvkc7hhdD80CgvgF8VjpQ+ER3N/bLt/q46DqWPT2/vwGBwz7DyITsxTHFSkYgxuuHuEh1ySYJZMjRSACHNQVyQ1qBCv6K/BI56nfXNoL2aXbTuDr5QvtI/Z2ALwK3RP7G0sk8yu3L+EuGiyPKBsjKRwYFuwR4g60DHULEgqcB3AEeQAY+x/1SPBh7ULspeyv7sXygfii/hUEQwjJCpMLpwr2B6UDMP5U+OHyfO7W63fr7exM78Lywvdm/XYC4wbCCkQNiQ3hC6IJbweYBHoBIQBoAZAEaAmID+UUhhdiF48V+xEpC0gBPff17t/nLuGn2ovUhs9cy/DGM8IFvlq7sbpeuxG96cEYzJzajOqz+mcMBSD+MWo+8EWaS1RPLU5ZR+89fDT4KU4dthC9Brr++fah79voVOHE2APRZsusxxzGh8gV0E7bROgr90kIIBlYJiIvpTRUNlMxDSVrFf8Fe/ZK5kPYBdBXzSTNt84K1EXd6+fx8Zn7MAY/EY8aoCEEKCguxDI5NYs2oTewN8k14DEtK8AgqBOCBYv2G+cI2TPO+cY/w43DPMjN0GXctulT93YEgxCAGpAhiSUWJ1En+Sb+JcwjbiDoHNIZtxY1E2sPngs8CEUFtwEf/fH4rvbn9aH1IvZ8+LT8FgGQBKsIrg43FM8VmRMQEFEL2QOj+jvyWuu35f7h5eDw4RHkqeal6X7tlvLn9y38EQBOBP8HTwvVD4kV7xoOH0Ih4CATHuQZ2xTrDeUDwvfW6xjhEtdLzpfIk8bqxqXI7Mv0z+DSOdRD1TDXd9r33g3kb+lb71r16vqjASALMxXHHMIiXylqL/8x8zDjLkgteyqpJNscnBXxD9cK3gWQArQB0AFwAQMAJf0k+eL09vB27cjpc+VK4UbeDNz12ajYpdlX3YHiAujG7X/zcvij/NUAZQXbCXsNSBD6EoYVPhfUGNobByB/I9ElGihQKr0qHSjWIlMcWhUFDbsCYvg/8ELqSeW/4VfhQeQe6NfqqOxw7ivwWfHJ8fTxPfJy8sjyF/TE9oX6L/9PBQwNqRRAGuEd8B/VH4cdThqtF0AWuBU+FooYJhzrH5kj0SYQKB0mjCH6G/4VmQ8QCpQGuwRoBOkFwAfeBwQGGwPr/7j8+fjw80XuoOl55mLk0OMv5bPnXepY7E7tdO7x8LnzjvWV91n7jv9bAT4A+P1H+1v3RvL97THs/+s4677pcOmX6onr4+th7Czsyumh5Rbh29wP2a7VzNI00dvRk9Qj2dDg2esi+PAEehOfIuwuwjZROww+FT+MPr89kj18PXs9cj4QP5I72zL2J/YbGwuh8+jaM8cpuPSqmqHQn4ikDqzhtJ2/AM3r3N7txP2UC+QXHyNYK/AtyCu8J2whXBf8C6QCPvtf9Obt1OiC5gTnUehv6EnowOpw8Dv3nf4NCP4StRzpI4EpMS6WMdQyczDMKXQgnhXeCMH6QO0u4j3aDdUa06LVqdvJ4uvpJfE5+R0DdA5oGdMi4CvrNVc/cUUoSNtI90ahQKM2GywvIgoYmw2QA037Afbj8t3w4e+472/wEPLG8zX1RfZd9qz1LfWb9b/2bfcX9971ZvNE8Ifto+o851zkmeLp4SXisuIV43/jrOQ+52Prb/Fc+asBLwlyEOwXkR6rIncj1iETH5obHBdSEe8KLAWt/+j4+fCd6e7jw9+f3Kzar9qK3P3eDuGL4pnjS+Sz5EPlhuZl6Pnp1uq77OTwLPUP+bf/sAgUEKcVGRsDIJ4jWCXiJEUj/yC5HPgVvg73COsDj/5v+rT4fvdt9bDzY/LE7xrsJumQ5tnjB+Ic4WLhyeQO68/yS/0QCm0UAxokHQofmB6IHLQa0hhTFh0UYBKUEAsPOA6vDU8MOQnWBHcAxvye+FPz4u8G8ZX0D/gJ/JYA+QQ6Cb0Mvw6nDygPzQu2BQT/rPgB8rvrXOdA5HDhb98l3p7dJeC05lTu9vQR/BwEdQupERQX0xuTIAolvifSKMIpfyqhKW8nJSb8JfEkPiPfIegefRk0FD8QiwwDCaMFlgGk/f36sPhk9mD1J/WD9OLzq/J0733r/ujQ5x7mLuOr4MXfYd8/3xvgLOHR4innbO0D8//3Ov2WAWYEDAdaCm8NYhDrE9sWihjbGksedyAlIKke6RwcGuAVqxBGCkIDa/0V+HrxNusc59zj9eD63jjc49eI1AvTudE90UvTCdej20ThVucV7uH1v/yJAdsFlgocD2ITHBguHTghNCQDKLQsSjDmMToyhzKZMrEviijSH2oXbw2lAAv00ep65NXfI93s26/bBN2G3xDiseSk58np1OmC6LrnkOcP59Tm6udb6qPtx/AV8/P0qvap93r3NPZt9I/z0vSF9+T6qQBTCmUVSR7kJF8qvCzcKTIk2h5LGfYSxQwjBsj+gfgO9Pvw++8T8c3y0/S49x/7mP41AogFAwhuCvsNsBGtE+wUJRe3GEsYMxiMGe0Z+BcGFdoRdw2TB5IBRPxX933zGvIV80n1pPiO/Z4CHQaACDgKgAowCqEKsAo8CU8H9QUxBXwELAOGASYAvf6u/WD+JgDuADkB4wKvBCUE8wIzBJcGJQikCtMOZRJbFF8VJRUTEtYLUAUkAIb6P/UA8zzy1fDz7xTwz+9Z7sXsl+zr7K3sve3G8Dbz8fOr8wXyLu+O7XjuGfCq8H/wCPDw7hTt7erv6LXmdeTV4/zkYeYT6IHr//DW9nP7/v+UBZoKvQ0yDx8PzA01CzIHpgJJ/h36hfbf81LyHvIh84f0FvWK9NHzAPOj8TTwPe8s74DwuPJV9Rb59v1UAvgFfwpWDxkSsxL+EW8PVwtHB/ADGAE3/woAkAMGB8EJMg28EF0TRhWUFlAXRBYcEqYMDQj4A0v/KPmq8q/uiO2y7STvgPFw89H0Ffbe9q72wvYf+cb8Sv+wAc4F7glkDH8ORxEUFMcWohnAG4wcBh1HHasbuRhQF4EXbhccGKMa/xwXHiUfYCAOIS0h0iDxHyYfsx5ZHUAaPRZrEUcLOgUuACX6l/K+7LvpdeaF4oXhROMl5D7k5+RZ5ITiuOKJ5cHo+Oy187v6v/8ABJkIFw0wEZwTJxNpEdAPyQy2B2UDxgHdAbYDGAhUDHkN1AwMDGQKIQgtBloDPP+H+973EfNx79PuRu/B7wPxNfL58d3wC/CR7g3rZedv5VnjTeDO3cfbydn92DDaXNyE3bjdFt9d4YDi9eKA5BTnWunQ6jfsvO3u7gPxifVS+ycAcgTOCVQPDRPnFOIVaxeAGqAddh7wHA0brBoGGxcaQBhyFkUU1hFYDyUNcQy0DGYMVgw7De0MmwkdBekBF/83/MT7W/1f/oT/cwFaAjsC1QJfBKsFcAU7A7D/Evwe+bb1O/HI7a7sq+wH7ejtyO5g7w/wAvHN8RHydPLW89r1hvea+L/5KfwqAG0EFghpC+MNmA8SEpAUJRVFFcUWLRjAF8wVnBPfESYQag4qDRsMEgtCCh4JhgdGBrYFpwXhBYoG+QeHCSIK5wmtCccJqwmYCJ8GRQTQAer/Gf+m/iD+If67/qD/6gC7AocFjgndDTsRKxMwFF8VPRd2GZoaNxmFFhAUURF+DoUL3AZKAT/8vPeA9Njxd+5K65HnROOc4t7lFek37LPvWfFI8g32/fulAJ4DMQamB4YHHwfPBvsE8f8p+XX0BvJM73fsn+rh6ILmHuTY4cjevdsp28rcu96V4dvmhe188tz0+PYG+cr5IPu7/WD/8v+QAC4B9AHWAj0DOwNZA3gDtQIwAQUAWf99/yUBBwOiA50DvAP0A78EMQbVBu0FiQTRAv//f/ww+bv2CfXG8kbwNe/67sLuR++f8H/yP/UU+YX9hQFHBeUJiQ5PEoEW/BpjHVEdexyRG/wZSRe4ExIQfAyZCKAFigR4Ax8BqP6R/Bf66vYo9C3zGfMY85/0/fbY91v43Pml+lL64vml+H/2i/RZ8qrvH+5V7rzvevJ79qf7hAJlCpARshfQHTAkRSl0K3Ur7SqEKWkm+yKAIDQeEhw6GnsWTBBwCjcGuAIb/1L7mPhZ9/n2bPkgAP8GcgrbDG0Q3RMOF1wauBtvGpMYfBeIFpAT5g3LB7MB1vrN9Sf0cvPa8SPvc+so6BrnQ+h06aTpYuqt7OHvTfMd95H7Xf57/dH7hfuH+hL5bPlV+hH5cvZI9bz0bvKL8GbxyvKw81T17PUv8yDvHuzX6VrpoeuO7X3tLe3t7MHt+/BF9P/1pfbR9Tj0+/IV8qHx4PDX7wDwJPDv7s/t+Oy57KvuM/HE8UPxy/Ao8IPwEfPc9mH6O/0uADoE0wjTDJoQkxR2F+4XJhdpF7IXPBZIFbAVrRRYElkQtA1FCX0DRP7c+qD37vMe8t3yN/QH9d71RPcR+mz/AwXXB3QJxAmbBm8DVwOsA98CbQFn/2L9ZftR+Vf4Kfl++hL77vsF/cn7Mfo8/c0DZgmADacSEBlkHWYeWh6YHhQfDB72GcsVQxNoDyoKsgb5BUMG1AWvBTEGCAXiAm0CIgOAAln/8fyw/g4BhQFYBFMK7g2NDCIJmgbMBYoG7AX4AfH8rPYt8an0RP5vA34FMgi1CmIPDBWBF+8XLheyFYYVjRQNEiwQQgqr/Y/0wfXc+CH3KvV684Xs+ePV4DTgaN6O3+zm0e/l80r2zP8XDsoVMxblFzsaRRblDUYHZwL7/VD8ZP3I/Dr5dvaF9Qf1PPc8/Jf+5f1L/jL9jfYT78jsj+3v6wLoaOed6yrvEfCQ8WjzNPPL8Y3wkO375ojizObo7f7wCPMD89ftkOoF7gfznPX29jT5p/s6/JD7kfpT+iz91ABiAmAEnwajBbMCWQFLApUDDAR+BbMHRgdPBL0Bj//A/Dj8jQDhBQYIXgjbCDsKmgwkDqwPpRM7Fu0Srw39CtUHKwNUAiAFWAZIBncG2wa2CLYJjgiWCcALmQqBB6QEHAPTAvkAbv9QAssG5ggECZcJSgyoDToL/gl3ChcGEP4X+n/7hf1G/a37Lfqr+TL7+f3n/8cAVAHMAUICWgGc/gn9/P1K/1kA2AAd/hb5bvdi+qH91v85Abz+Xfnr9lL3lPeu+L/6vvzK/g8AvwEXBrsKTQ25DskOAw7RDz4Uxhb1FfUUyxXfFogU4g4UC8wHaACp/M4CjgkxCooHDQWNBQsHmAbuB74K2Qi8Aj3+ov7BAWsDAgPhAFz+1/7G/3j8F/du81DzYvVP9ZXzj/OE9QT5qPuW+4769/dt9Dr0n/Wi8uXpeOHg4T/oBeoI5/PlVOla75nzYfUu+Av8VP85AcABQwSPCW0N/g49EPcRYRUjGXkYUxKDC1UIJgcbA4b7QPWD85bzWfJX8Hzuke2U7o/v+O7s8Pz3nP5iAGcAXQAw/t/6ffgV+B36yvlS9O3wa/J68hTwy+7N7snvM/J49Kb0EvW++asA7AXtCa0MEw72DxYRTxFNFKMXBRWWDXoHiQXTBakFFQQvALX7iPtj/h7+mfvx+7P/twTNB2cGAARZBWAI4gkiC4IM/wuKCasGEAQMApUBywJxA90BZf/J/OH5c/n3/LkAkwLxAyMFggbCCBoLGg56EYQQJQpyBEACv/9Q/BL9+wEqBMAC+wKXBEQERwOJBDwIwQv6DLQMkQvPCr4O8xUZF4oQHgocBlkDnQR0B58FoQAh+/30fvKA9RX5w/qR+zz9cgJ4CkgQWxEXEUASGRL7D4oOaA3kDfYPmwxTBAX/wfzz+of4OfMY7QbpTOZy5Pvhtt8C4jznGOrY6fDooOlx69vtpvH/9aX7vAD6/QD1MO3C6RXxaABNBxgD4fwH+Vv8igR7B3YGSwh+C5gL3gcJBJIBeP6V/UgAvwHaANj9YPh89e32K/gO+Ej3GvZy9eTzgvFP8VnxKO18563osvKz+wz7TfV68073lfzj/7v/qflk8NDt5PE484TzePeX+BP0tu987cvs1O7H8zP5LPty+uH8QAN1COEJAgnfCDELiQ65D3kN/goDCsMFe/06+Bb4Gfmn+ev5cvow/OP9jv1h/P/9SwNKCLwJEgkKCiwPmhVNF6UUPRKHDs8FKvxQ+F/5efpg+/L83fww+4T6SPoL+nH8AQJLCPsLDwn4ALD8qQDtB7YMrwuaBMf9N/3k/64ATQG1BHUH/QT+/2T9jvzW/bcFwxCdFi4ZYhucGF4U/xWcGGMZAB23Hk0YQg/8CD8EJwAW/nH+nf5p/EH5LfhA+z0AYwMqBqAKlBHTGxMi/x9/IHImdidBI18f3hx+HEsajBHkBj4Anvxo+OvzNPJ98dLvVPDS8nv23/x2AegBmgJpAsQA8gLVB9oKAgxnC+gHLwKm/kUA+AAw+//zyfFy9HL33/Zb9K7zp/Xs+Bv8CwBUBBMFOgMkBGQJcBDCERUIy/tW9qv2hfk3+uP0R++O7rLuFO4X7wHwDO9k7Sjr3+nH6w/uke6Y7q/tIO959p38IP1o/NT5VfX/88X0Q/Rh8kDvxuw57Dfte+8j8NPvP/K188LyffRN9zz4q/nG+xj9iv2p/jgB4AA8/TH8lv5BBOsKOwjA/cf4Pvg/9WDzBPVv9k32OvdH+eL3pfNX8ujyLvN29Xz20PNB86P0KfT89X351fik9w756Pl/+5f+9wD7AoUDyQPVBtwINwkjCz4MvwzmCzQGCgK3Ao4EyQeZBD35cfUP+R78hQKdBYUAg/y1+Qr5mP93BcwFcQPR/5n/XQGlAKcA0f/U/RwDKBDLHLcfwxg0FJcRgwr2CbMRZRahGiIhECMGHkAV+Q5ZDQIM2ghhAyj9iPj685vyMPVa9BnzXvTl8Y7x7fjWADcI0Q8uFaQYGBfuEd8QABRQGcUdjhsPFg0SMg70C2QL8wkmBzIDQQAN+93ujObT6YfvLPX0/Jz/f/qL9HHzF/rlB40UMRbADQMCEfej9Ir9GQa8B+YEvvxe80rwgfFB8iPzbfcd/qoAAv6r+Yb0N/QQ/R8HdgxpD1cQiw5CC58ITwjcBxgGxwekC8AJcwN9/7z9g/06/wz/mPyR+n/3jfTY9HT2nPcT+D34o/k5+l/5YPkr+IT3//uCAYsEZQUeA3r/uvqb9oL4XPrR9RDyw/HR8QfxMe336FDnYOiB7nvzHfJ28drx7fPw/L8D1gPnA8gDFQj4ET8XSxjuEqoDlfqA+4L8YgDFALb2gO2Z5/njAeiW7Q3w4/Gw8lL1p/cE95b7rwKgBZULvhJGEVYIbv7i+DH18vAv9Bn71fpO+I31cPGR8wL6mgBACZIL0ARtADYCyQfyDt4TZRTYDqAILwlsCaAGDQjlBvn+bvly9D3uafAC+eH+pwLABSQHXwm6DQYTDhqYH8EbLxG7CuYJqwokCyoI7QINAeABOwL8AlsDSQB5+z/4gPQF8nj4XQM9CYcMRw4fDrsTHR3aIGghCSNTI44g5xsXGUIZSBl9F6ATcBAMEQMTwBSEE9ULzAb4CUgMYwwDDdUKYwhpCP8IcwlCB8sECwfNCbEKjAraBr4D1ATEBmYKdQ5QDiUMUAoRCcgIggeQBjEHRwbkBG4EXAIY/0X8Ifu++6n5wfMi7z3uYe+c8FbyavXb96n49vjo+R793ADTAUYALP5E/2YDzAO1APz92/mk9kb2xvSF88zzLPGb63/nbejl7Wj0QfrE+oXzJe0L7HLu+fWN/Cz6/fNi8PHueO1/6+nrkO7R8HfzKfXP81PwBOul5+jpZe1B7T3qSOhi54vi4d6r5HrsNe8a79jrWecV5t3oZ+4o8SDvIe5/70Hy2PVX9vr03vS79Nv0jfRp9Mb1XfJe7PvtAvJF8ojzj/Z2+kT+JP/5/94BdQGz/xD+Q/3w/Gr7Ifyw/oX9QPwa/r8AQQVICGcHMAiYCLIFdgWIB3oIRAtkD9YPYQsvBr8D7wLKBJAJdgq6BgcDTv3T9l/1X/f1+T/8VPuV95D0FvVY+nIAlAOmBdoGzgUHBkkJ/Aq/CFoGNgb6BucJXw/kESARARJeEugQNxHoD9wKaggHCZIIOAiaCL0HLAZkBWkDJP7T+jr+lQPHB8YLKg3aCwIJjwStAxYI+AsvDlkQABFdDRkE5vqO9xf4Yvq2/Ab+iv+A/AT0Eu/97kfzAv9jCqsOXw43CX0D3gbHEtAdsSK1Iw8eQA53AwUGygeICM0NpgvQAXP7x/YN8izxo/Ts+iYB2QRHBLgAUgAPA3oHEhFYF1YS0QwCDAUMgg9TEyEPgwV9/f/3GPTH8yD2a/Yq9ZTzNPCE7sLvtPFt9nH6TPmP+UP94/5q/9MARgH1AeIEogamBKgD+QNZAC/9Tf4o/Ur5dfcw91/3nPfv9xf3bvP78nn4y/xz/+wATfyG9iD2Iffy93n82gLDA5gAeQGsAgj/xPxW+/z2CfbM+fz8pv6Q/u77X/jl99b6ufwK/0UDtQahDL4PFQfp/v/9Wv0EA0cOdhL+D6YKfwTdAPb9T/5DAr0ACPnI7+royOhP66XulPOh9If32///AsQEvwqHDu8RIxTTEoITzhAyClkJughiBfsCRP4O/RoAUf5A/u0BNQFQ/638Evjq9VL2gP6rDOQRLxEBD44E+/7iB4MQVhJHDs4Dlfpl9iL0nPD4583gV+Q07Y/1YfyE/R77jvvI/ykHLg7lEcsXsiA0JUgmCSgsJYEZ6Qs6B1cMhxCkDKIBe/NW6vPpv+7o977/q/6f+5X8/P0zAHwCtQN+B7EMzRC6EG0I8P/9+2v24PUx/osCigDe/a74V+7W4XPeqOY+7XHyzvzYArsAYfyA9vTvNeoi6WbwV/ej95/0PO1T5QXmg+yW8c/04fkWAVAEywQICZEKIARz/kX9Mv3gAJYHZwaV/Av3SPf794/9iQUTBysFCwSHA8MDrgHc/jgAQQWQDVATAA8jCDMFxgMuBsEIlAPS+9r3ePXs8gbyaPPm8irwQfDF8e70Rf1wAx4EogbNCLAGwQVECKsMXRItFk4UIg3bBKX+WPzm/hABiP4s+kr0Re+d8aX2SfhU+lP+3wQCDXIOTQpvCHAFRAKTB18P/BCxEXYSrw29CHgJdwoICoYMSRBGEe4OFgpgBJ3/Wv1I/TP+lwH8AyX/2vmv+qL7v/xuABsA4fyr/If8F/wc/q7/cP+y/sT9g/6yADMCowSfB4IGYgJRAf8DXwanBo4Gsgf6B64E+P8V/R/7vvc984vx4vTE+Kv56vlV+vb5WPq1++77w/vi/FX9Dv3D/lz/Af6iAacHFQgUBpwFtweLDNkLlQTLAEL/G/1L/kb/d/66/TP5IvbP+u3+7v78/f37WP2lAn0FHgYZAyT5yfTrAAQPFRA7DIEJrgCW9yj4mPmG9RjwDOtR7BjzavL37Qbxgvaq+iH/igA1/4v+WAFPCHoLawmSDKARcA5jCbcIIwYtATIB2wLt/JL0TfGh7LPn4+x59JrzP/G78dvyvPiQAbUE5wSUCZ0PohGFERoS3hKwEuAPtwqsBzwGF//J8kbqcuiy6mfue+025qXiV+fH7Dzxnvbi97f1LvfK+sH7xvn09nH32vmz+IH3ePgc9jb0Q/ZA9N7yCv2DBrMDl/9T/7j+vgOhDd0PEgwfCr0H8gdODocQ2QuSCPcDH/zm+VH9q/8b/7b5ofOP9WT7fP5pAQsCX/41/kEDuQftCMwCC/cf8rL2c/sp/MX4g/OV8vT2XfuP+zf3HPXZ+Y/+QwGyB+cKvQMF/sAAWgOUBPQHPgi+A43/N/3E/O79Wv8WAQUBaf8AAY4Bjv1r/X4AYAGrBSMKNQeuA8MBCP+MAO8CgwElALr6evLP9Cr+swLzAzUDOQAGAT0HDw7JElQV/xO5DtsMLRGYE98SLBJdDZoHOwidCNgCv/45ARkE7wN9BbwH+gW0BR4J3gogDu0SqxKYEfYScxQoGDgYlRAdDD4MWQwiEM8Q4gaD/ZD9hQLmBJoCPQEsAVj/agItCXUHTwC0/hcBhQAf/Ef5nPoi/bv/5QDV/uf8/Ptt+hP6aPsC/3kCqP7S+Eb4YPVW8rv4cv/W/5oA2QAs/8z/FQFRAtMESgLI+Y32t/o3/Uz/KAVLBlgA0vwq/J/61/lq+cv5Pfpq9xL3tvlR9BHt8+6v79Lr4O8e+hv/ev8PAcgCegNnB6cMSg4uE9kbRxnIDO0FzQQaBU4I/QZ3/PXyvO6T6qvoRuvs7K7rkuhD5Ejldu5l94b6/fkU+dj6Ov8UA3kE2wXMC3MPswXX+AP2WPXa8xj4p/u0+EH1P/RS8xLx6+958+T4KfwX/ST7U/lZ+r38HwSTDcoLiwIW/gT8oPxDA5gGwAJJ/8j9ov1i/5f+YfuV+738Nfrw+Kb8hwAHAnMEMgldDPoKWgl9Ci8KJAp4Dk4Q6Q2vDd0JKf/d+Y38TP5e/vf+X//MABwDMwM2ACn+HQHcBfAGcAZ2CP8JkAadAnQEhQYVBCIFQAohCgwH/AaqB8AIeQrJCuoLYQ0cDAANJREhEPYLMA9QF8QZLxWRD7MMAQsXB0gCiAAXAVkADfyB9QLzjfY9+V/4HPjY+an81P8vApkBjvuJ9bT4sf+2ACL/X/9C/5z9b/tv+rj4XPR+9CX7Zf4d/fn88ftI+WP5+/zh/14AIgVtD34Scwt6BowHYglDCI4FbAVcA4v67/N382TzqPT79Abw+O1b8r73q/48ATz3c+6l9GT/jAW8ClIMsQWV/VD8UAFeBLj9KPNc8S33LfxW/jf7k/P88Gr0Qfba+aECfAXj/2r/sAHP9/rqBe399mT7+fc676vqhe/R9ND3Kvpk9CzqHuqf8nD23/AK7X73CwY0DJAT7xhJC7n43fbP/UsBxv1l86rtafO1+y7/0Pmg7VPpe/Fs+0IDrwanAc372PycAs0JVAxpB/gD+gVUCb4Pvhb5Ey8KMAc6CyIJEP8E+h79yP+UAvcGAQX9/uH+gAL6BmQOvBCvB0T+wf53BIkHOwdkBq4FfAMZ/1f8EACIBZAGmAonEt4MF/78+mQB/gVJDG8QUArDAjYBMwKJBZwI/QVFAlUCagGb+4/zL+9h8S31sfUT9cP1lvez+vX99/6m/cr82f1o/tD+XQMxCOUENf7+/EH8D/db9vr9FgP7AawD4wivCOQCnf/0AGECfQKCBBUIOQmoCPIIVgj4Bf8DqAPGBbkISAdMASX9y/td+Mv1ZvvCAzgFZAPZAv//rfzU/bIBvAZ1C3EL1wirCNUHUgWmB14N/w3CCkgIWwQQAfACoATRAugBBQBt+pr2jvdl+jr8LPtu+AH4nPuk//H+5Pvr/L3/Rf/p/f79r/y/+Nn2gPoI/cv4qPWD+KT6+fn4+W774f3R/VX7p/2UAZcAZAO7CiQKGwYKB7oGjAUOB7gFzQPABToG0ASjA10A3f6TAZ4BFPwC9qf18fnZ+kr6Sv7P/q/4C/ah9ZbxJvHK9jz6L/rR+NfzoO8s84f4/vjd+TP9xf3a/Lb+UACE/Y/6Yv0YAiID+gJgAuv+afsR+hv5yfc59gD2y/cR+Hf2GPao9Y70k/ZV+rf5xvaB+C/84/xp/icBigG7AoUEWAJQACsCUwQtBhYIoAcNByYJ4gfb/6L6Hf1ZABEDmQT9/X72HfkG/MX3C/Vx9gP5WP2E/zr77PXv9jL8k/4D/ID2e/Et8mr3FPqe+I/zt+vP6hP1E/yZ+Dj4ggCeBnUHBgesAxkBBQebDxER8w2fDP8MkQv2B5AFcQSEAXD+Lv7G/rr+4v4R/iP9yv73/wIA0ATnCiQKDQZYBBwFFgflB+UI+grDCH0FWgh3Cx4LEAsgCCEC+gG2CfYQvRBZC7cGFgX2BqUJIwrGCVcFO/3l/ZwFDAeQBYYF/wAr+9T6lv0N/x3+Mv1D/gT/jf40/yIA2fwK97H3Jf67AMP96feV9Ov6fwB1+U/0j/ytBrEI3wK0/LoA4gxmFGAQbQcwCYkXwR9pGdQPoQsyDwMZghthDoUCOwZrDd0LSgQ5+3740gBfBbL59OsN7Tj3f/rb8ubs/PRzAl4EVv+GAH0EuAZYCJ8Eiv9+AuYFYAREBagE9vyl+K38H/9t/BP7uPvn+rv6jfxr/lX+WvkW9j/+bwafAir/HQedEqATAQhLAKQEbwicBgADvv6I/gH//vdW8rX1sPkJ+Zf1IvIq8kP0A/V59yP/vQVkA7b9+/wX/e38NwNDC58LrgjZCJQH1wJWABgBSATRB2//YOxF5hbxwfoJ/KL1Xe5t8fX2FvPm8ST+7gkzCScH1grnBV357Pi/AcsHFQ3oDKsC1fkP+Ff3XfjGAJEHs/2n8IfyDvFQ5oDswf2wAswAFvqY7oz0/gmhD7EF4QeLGpYlBRreCIoEKgVGA6ED5QSnBEL/1+9V5xn13gXmCHMCDfbc7u71oP+hCDAWOBrYC7D8j/9fE3UiSRcZ/DbxDv6/DMUQawj48zXpqvS3+ajsTuTU5qbv9PzBA/EBQf6H+vn7uQJCCH0KtAcyBCkENwgiGcEjEQpp7aXuQPpBEGIkFQ3K6FbkWefK7bsFGxCJA3T5y/ap/XILTguZAG39uvlE8nn5RAs2D7EIlwpXDfMEH/yX+Xv6mAIHCwAGa/uD9WTuuOhN8EUCqQ7uC6IDkgLFBIsFrQe8ByMFEgQwAZj9kQExDQ4WCg/r/Ob0tfqNBFUKDQBv7/bxPP6f/M3w9Oqf9PEDiwj0CQYNIgT89pT3hADuB+8MCQ2cBa79aAGiDGoPJggO/gL1mfFe934GShPYDCT8mPJs7Rjyewd7FU0Mjv7m+m//0wgnEAEMGQGVAX8O1BLSCHkBKwepE/8XIAtO+IfuLux38M4Agw++Cb75BPQ/+wwHoA0bDVEKEQIQ96T3egIJDUAT+Q2RAED7f/+uBSYK1gUd96Drw/C9/Ir5b+wX65L0Hv5AAOT2vfJG/skF8wPWBXMHagRdAjIAS/4aAAUBsf66/n8BYQJRA1IE8vww8e/uHvP39Xv6Sf4X/iz/3v9C/GH6w/vH/A8AfwLI/p//mAd8BksAdAJuAvv+igPkA5H9cQPfCOH5ber07EP3sACHB0sHawHB/b/+UQBM/1D85/sTAREG+QUYBPX/j/kS+xYEzQQC+zb0Xfbx+xn8vfNX7Kzu4fd0Ag0EevWH6x74xAfXC4IKWgId+1QCywzXDwoLH/n66oX23wcRB0b9bfhv+2wCagYyBfb/LPuk/G8BZgewEF8SXAPx83j3YgmdFFMMd/sw9QD7XwEhAxACJv8+/Cj9HQHiAsUAx/2M/Hn9IQHdB/4LmQf2/2X7A/o6AO8LqQ3oBKwCWAyuFIMKHfQD7u352AFRBHsD0fwz/WEDPgAT+3/65fko/fMAFf9i/A35jPg/APgE0AGh/ir8hfok/CgGohVhD5HyDug19AH/FAnxCx/+cfOY9kL7/PuR+7X8Gf7w/r8DJAekAPL3hfYI/7IN+hGRBa74q/Tw9tYBJxEWEhwAmPFB9Mz9nAQQBU7/kvtr+j32svPH9Rn6o/4T/IX1qPiZADECH/4C88HoQfMmCmsONQB8+4ME/gdqAob87vmOAu0RLg7O+wX6T/+g9dLwLvz9BPsI7wfb+R3yff4CCZsIUQk7CyEHFvy19hQEphT9EfwATvI48Vv8YQROAff4D/QJ9T7xAun97nn+ywIt/7v/BwR3BNP+Lv2kAZkDeQXXBncB/ftt+WT5AwMjDHYFBvqu+fYCCAi7/y72kfZf+WL8gAPSB1sDsP1nAF0EBf9i+vD8Kf2w/Jj9J/rW+Wb+Mf5U/iIBOP+0/OH5MPSB+eMKIRLvB8H5dvR2/VAMphAsC1cIXAUA/rj8IQI4BJICCP7y+qQBsAdsBCwEqQSQ+i/yqvYP/wUDygMBBOT/Pvi7+Jv+zP4xAGwEygOJBU8HWftk7iPydP64BpcH5QIm/ZL50von/Sj6o/o4A4cFDwK4Aij+pva5/UMIFwYrBIcHagP2+7P8BAQ0DV0Px/8b69Hq6PvpBc4CKP64/Cf8sflN9U72Ef5YAgADBAVtAYP4SPVw+XcCIQskCMP7/fSQ+Fb/kgFe/9v9QP6kAI8Bl/oK9K74PQBZAmwAq/tr+NH5lP38Ai8HJAZNAS39Y/8rBeUDYP67/osE8wqGCp0BHv4MBHIGzAS6BnoFXPoF8Wf1PAEHCCsCuPQp9b8Fkw3GCT8Ft/yT+Gn/owS0CEoJkPoJ70z4/wZvDEIEpfeE97r9XQI0B27/tfG89JH84v4eBCUCBPrl/c4ETgFb+8n8tAa7DA4GtP84AsIIFQ54CXYB2AbHC8QAffic/cYE0geQBI//2gEeBML/9/6LAz8FqQLb/hH/dwHl+x30H/gnAokEc/2t+OIB7w0DDa4FzP2K9NXzaf1+BXQGUv9u9NLw9fhHBfQFtvfq7zr56wMxAxb5vfMb/dQH3AnZCNMAnfVa/BQQuBT6B/UAAgesCxYK6gfGA7z/kf5U+7n67wAkBK8BE/wt9cX4/waNCyD9Juu37IABMBDcCl33+Oe28NkEgws8BkH0Ft6H5bMAJgc7/KXyefDP+f4CQwRBArX4iPNt/zcGyQQxDA8MdwCi/7UB2AAfDKUUDwqH/uv8oAT6FHcXHgH170H0oPvS+1X7v/yQ+1D64AK+DCQH1fuC9rDw2/BR/wcMbgk6/JHwbfNCAgwM9wnO/1Tzg/JcBckWog+0/ib8iQJwBQ8ECgDj/fX+UgGCBv8H9wPiBfkFyPoL9rn8MwIMBdwBDvkB90j7Yf98AsEAYfuY95z3b/qg9uPwNfuZB20CWPmS9EjzQv1kBzEElf00+Pz0j/zlBosGMgH1/vT/rQNlB8AGvQBN+10AcwzuDW8EPQPuC3kOgwhjAof/bf+I/1YAeQNJBCkDeAR3Apb84fur/1YEiQj9BDv7dvc0+0sAygMOA0P/wvwe+vD4UgHQClMGuv7H/IP0I/H6AYMOzQk5BSz+DvLE9NEESA12CxMGHv059cT5FAYxB2X/b/9+BNQFPQWxAUf7nfs+BacKDgVz/8z8CfqIAGcJmAXXBM4KGgMY+QX9rAYWE5cUMv7I6wfznQetGDoSJ/fL6er0oQpxGFoG8eXL48b2ogA9A9D//vby9Wr74P/1AtIAvv0q/tf5+vnvBysKfvqm9Fn26PNB/D4JgAbD/vD6SPQX9bMCVArfBdMBmv/T+hv77AIMBOz6ovgWBCMOpgrcAEH7fvge+cMBSgnGAx31FuzI9awIkA0yBjr+pfQg8+X/HgqpCrMG1P7W+iEAZAPI+7P09f+nEpESMgc9AQj6l/X//aQIpgs6BPT1e/Ee+t0DWwr4CDcAK/uH+6wCvBSaH8wNoO0j5c/8QA/HBjz4I/GJ9FsGqww09i7mjPH6AX0KqQc59hPsOfp5CdAHAgRQBqYFzQAEANsHlRAMDWn/PvXK9rgEfw+XBSn1hvNJ/TsK6Q2n+rfnIfOLBr8CI/ZV9vb+TweeCCb9oPII+s0IvwyFA2z2SvdwCLkQxAhSBNYEzf/h/FcCgAYVBTMDxAD9/f4B9gs8D6gF3fmR+oIGHRE1EiQElfAr8ZoDsxCXEcT/keVe59D+bgvhDX0Caesn6n77tAWbDZQK2/XZ7U/5UwUjDvAMigGW+i/5XP2+BzIJ4wCy/UoA2AVxCtkE7PzE/+sGVwuFDQsIsfv59nMDZxjRHD4Es+tA7z/9XQQUCz8IVfjA8wf78/qq++kCBgPqAS8HXQFb8rHyrv0YA0gHTwfh/Fv05PTo/VULwAdO9BjxTfu2/FT9AwRjCHAG9P0g+fH/OAeFCJoFB/+W/o0F+wfEBW8Aufln/8MMUwyrAAn49/Vg/uoMRA6Q/p/xn/RQBFwTlA4s+azu7vRQ/wIKhArN/eb3ZPun/L//WgIu/tv9SwOMAQT5DPV192f7+wBPA7367PKy9CH2Xfz8CcYI+vqb9v/5/ABhChcKqgDo+Uj6OAAZAwMAsP2e+p/5egNIDAEGr/ke9LH28PsUAAsDkQL3ADADDwIj+yf6yf+PBGwHwAP2+RP30vxWAvwFnQS5/BX4r/kt/voFdAai+iT0OfdN/IIH6w7fBQH7FvsGBwsXKhGk9g7s4/kZDzUaCQvl843yMftD/nn/svvH9+v8lADm+tHzP/Rb/PH/Svvr/IUG8QniA836vvUh/OYKPBCFBPT5IP5nBjcIsQJL+lL7HwRlAqv4C/cm+979n/9z/iv8Ov7+/bj1yvQWBJkOhwbg+V713/tHCewNvwQj/OP73f4K/6r9F/8K/AHzgvWTAiYH1AHM93zxlv3+Do4N4gH2/K0AVAh7CdECzP3o+xAA1AqLDCsDX/3I+VH1k/itAIAD8/7c9Lbu8vU2AU0DT/yc8fnwYwTaE44IXfkk/A0E9AYaBY/++/wGAskB7/8fAhD+0vh0AZgLjQft/u/4yPXb/pQMHwmO/CH7jAJFCtUKWwGu+kf8Lv+iA6wFkgHe/vb6bPX7+q4DMgGa+7T3+vQ0+xMGqQgLA2z6IvQo+usKdxESA+/xY/PJBsYXdRT2BZL+3/3XAX0JYgn+AU78Gfng/XUHEwcYAXH+Y/0DALsCoAD0+yvzc/GgAFQKJwQ4/UL52f3fCUYKAAeUCsYAk/Ev9loBXwdWDHwFRPYY8vj25v9vDcoQ1ATo+Vn49QCVD0MSAQV0+rL8jAm0FTYOhvgi8h4C4g8sBxnzC+yY9eEEFA06AVzt8ulc8xT/QQlwA+Dys+/c9Kn20/7HCHcEC/qn+K38gP7s/rX+2P2o/kj/tPtb9/P4DP45/a75dAC5CkUJJgIW/AD2wPnVBWoIMQJx/Af4/fuyBzELogRX/Tn3QPfx/+MEUwD/+038+v2O/1gAjgFaAwAB/Pps+Jr8XQSfBef6rfHe9asBBw74EAkAZe2h8UkApAVpBWcCDPzq+QH8dv5hBEsJ+AWl/gv8rgWoEwMPrfqm8U779Ap0Drf9c+9Z9zgF1wZX/efyDPL4+O4BBAopBYv0Ke6a9Iz6jv78ABsAZf5q/Lf5hPnu/2wIZgbp+8b4N/9lBnAIAQTRAesICA/bCb3+W/r/AqMNUApy/UH3zPtZBTsM0AhM/t/4av1cB6sLTwK99ur28QAXD7UR1fxJ61bygP+WCYYOZwEV8Rfz1PwHA8wDUfyz9PT1wf9yCgIJIv+l+tj4YvvjCK4PqgM5+Or6TwJ+BggIuANE+lT5DQOEB40Dxf84/Q391gAJBNYEEwQUASAAiQXmCXQEZfzo/LgB5wHB/v79s/95/aj48Pt5Aw8EdQEC/Vf0e/RcAc8Jaga9/OryoPOgAbQMRAnJAeECXQcNBY//cf+tAG/71vab/PkDDANoAqMI1Qu5Baz+oP0KAKoECgoxCKEBVwMqCBMCjfhk+cUARgbmCfAIJP4E9Lv48wK+BO0Bcv7C+lz8dgEFA1sA9/vL+zIAg/6++pwAdARz/n/61/bR8Mz1ngKwCeUJsP/p7ybvlv0WB3wBtvUJ+BoIKw61Bkn9xfVT+RkGBQoFBRX+6PQx9IcAhAqyBVH1PO1T+4INGQ/8A8D45viFA8oIMwiqC7gIsvi177H4ggUtC40GR/dJ7c72HwXuBnL/4PWT8Fr1fv7dAdT+sfrC+LL6TAAIA0z/+PyR//QB6AE5/tD6Pf44Av8BDgE//BD4Qf3RAnMDCgLZ+cjzi/yiBogGMQPv/oT6Nvy2AhgFfQAB/bMACQUIBeMFaAUO+wXxL/fuAmwEzv9f+T306/ikAd0E7wN0+4fwPvSMAI0EuwHT/cb8jgFYBL//4vuF/moD1AXJBVYDCf7r+pn+lgQ9BUD/nPnN+swA6QSgARb8AwDDBhYFSQWMCBIBZ/iq/L4EPwfcAtv68fq7A9UGpAJTAfwChwHg/vMAAAUSAqL5/vfH/vcCOgNyBcwGTwVRA13/0P6ACCEQGQlP/lb9kgH6AsYCsQHC/+T/J/2U9yz92wgqCu4F0P1M8YT0VgU4CjgG7QIw/B37wQO9B1QE7AKUBnwIZQLs/GX9tvqk+XQBewSTAP8AXP8/+Vf7kQLNAbv6rPjJ/7oFUQKg/pP/HP4//fUBdgNh/lz93ARzCvMEdPug+an/IwgQDN0E0Pro/GIHnQqMA+D9jAEWBkUBOfmP+IP+sgR/BmwBt/hH9iT/RQiwAl7zpO78+bcFfwSc+Ajw3/ZPBBYFNvsR9z38/gINBHr+W/m/+oYAnwMwATP/nf+i/Rv8af6XAF4BIQDu/pYDngdTBccFDwfSABL7fPzQAjAL/wpP/cPxePRT/msGsgkGBM/5O/m1/zwAxv+DAnQAI/xI+x3+PAZWCmkBIfiO+0gIvg64AUvxoPXeBPoJ6gEm9bLxlfq7AjQDs/3/95j6m/9l/Ar5C/6hBIEFw//6+MT62AQrC0cH5f6M+ZL7WwW1DHYFgPfZ9v0EAA9DCRH8ePWI+2oHXQo0AkX73fm0/P8EGArZBPT91PzSAZIIDgc2ALv/DgE4/gP8EPvk/GADRATr+vTzr/iXAboA3Pe69l7+4QJoAIr4e/Mn/JEJ9gqCAhH7Z/t7A+wItAUdAGz9iv/ABA8GegPsAYD/tPyU/hEDlwSLAEj5WPjAAIIG0wPmAPb/eP33/HX/AQBHAHACXAJXAKj+zPwU/6sFSgb6/tP4GPl4/6QFggKn+TH3avqc+kb5lvvV/8ICCgBs92T23QHYCFcELf7f+/sAGQm1BhMA7wHOAT37xPuqAf4AcfyX/AgBqwMMAuH9TfoL/foETAdzAm791vnq+u8BzgUpBH8BGPtT9fr6tAMIAmr9kv5H/3n9Hv7z/8QB7wOxAQ79uf5HAx0C2P1d/UUA2QFNBCQKdghF/T76MQHxBIIFWgOL/Xv9AAJWAkEDBgbmA2H/pP2qAEMGAQSj+Sz2z/uq/iT94f29/6f+Rf8TBK4Dsvte9tn23/tIBgILDQDz85L2hQCuBDUBwvzx/Aj9vPlW/MoE9AWx/1f6vfi6/ZIFsQeiBaUBG/xN/KUBJATyA1YB2f2IAFoF0gPz/4b/MgLmA8YBeACNABr9d/znAjcG+wH//Dr/kAf2Bp38vPsFAbf8afiq/W4EaAdbAvH2JPaIAy4MUwb0+hv4+AJLDngLbgE6/q8AuwEFA18GiAQb+9n20f9XCS0HpgBW/v38HP0NAmYE2v9+/Gf9Fv+UAmYGzAOK/DD72wFrBqgCmfw2/W4EqQj2BYoCw/+e/WgBfAYWBn0E3f+s+Ib8DgfLCL4GeQYSA/n+d/7lAc8GVwXr/D/3dfqvBAcKugAb9DL0rf9yCbwGwvs39Zv3DQImC4ACkfDg75v/mgqcCtIDe/gD84P9qgkICdwHOwg7/pT3Gv5LAjcFewucBoX61fguAY0LUg0aAeT1TvibA1kMNwYr+A33Jv7t/qP+kf9D/kT/6v98/U4AHQSw/vv46/u7AX4E/gCV+UT3mvq0AC8KSAu0/WP1yft9BDMKkAc7+yH5igORAqD3wvWS/bcFqQLZ8vLrFPmhB0QG6PZw7Az39gcKCfMAU/3e/Y4AIwNkAs8ARAF0Acj/v/5A/2T/HgEPBbcEfv8z/M38tQEXCbMJXwKb/cP+LwEZA7gEqwVEBZACaf7F+1n8XwCjBukHS/8H97j3HfwHA/8I4QC/8z728P77/j/9cf1m/A39MwD6ATX/lPpD/CUCGAPxANj9pvhM+fr+Y/wr903+PglMCGX/U/nm97374ASkCH4BI/7nBFUHUwJa/3b+TQA2B7gJrQPl/mH+i/3C/N/9K//V/hj/JgFBADD91P4LAoQCZgTnA3L87/if/bv/h/71/7b/zPsG/IoDXgr9BQX6evdH/iP+zfkX+/b8sv4G/3X3b/e7B2gOcAOH+kL5z/4uCOwIyAL9/Yv4rvihAY4GxwOw/Wz3+PrLBT8HSwLWArQDLgDV/ZD+3wAFBHcFbQTZAr8BvgL6BIAC7vxO/Y8BkwI0A3oE7QEr/iX+iAJLCE4GGvyi+JT+QgKyAnQB3vse+nkCSgpRByz81PPl9q0BDAohCGv80fQH+Zz+fAA0An4B5f1E+2X7yv25/5UBBwP0/6j+RgKm/zn6vfpB+7P/yglvCI/7MPOq9TMBcwg/A0f97/np98D+WQb9A6v/tvwI+p3+bQkQDqYEmPbH9cgBZQrfBqn7dPbJ/Y0GcAYL/8D5gPzl/GP3GPuEBFgE//8n/cP6af53AyABq/0x/b381v7AAwwGewIW+0T4N//KB3MHKP6I9RD4tAIVB6ACu/9eAYQDmQQUA3MAPQMfCvIJhgH1/aMCmgXcBbcFuwAK/sUEJQef/4n6u/qa/ogG2Qfs+7Lw0PREApkHNACV9x74IgFmCG8FRfx096n7EwLbA5AEcAEN9xv12f0kAnYGLgga+37z+vv8/r/7G/0lAbEECf4K89n7QA61ELAFKvcA9FAGVBSnCer5mfU3+f8AxAZLA2n7HvqAALAGTQZj/5r6lf1wAFL/V/6p+8j6GwHWA4b+Lvz7/JD8Cf8XAc37SPaQ+en/JgDf+/b5dfwd/qH7DvzrAOj/V/u3/aYASvxp96X38PumAlYFdv1Y9Rv8vAdyB9kAhfso+eD+iQNt/iT++gX4BqQAtPqg+aIAwAjoBzL/hfit/DoGuAep/1n38fixBA0LrQLM9qX0NP5sC2gOOAC97lLwIAG3COQCMPvN9uv5iAB5ADT+egBOAyoDYwA//4oAhf8SAC8CIABmBcwP3we6+Xv8rgA8/kYDqAk9B+sCi/2W9zn8tQaVBqL/Nf13/3MEiwZRA/cDdgVl/gP58/xUA+QHnQZjAML8evt1/dYEFAgFArr4rvUzARQOZAYn9O3vHfxwCdMJPP+E93r5+gD9BPYCPQJqAs7+0/5vBSYHAf7a83z2mQP6CZgDefva+g0AygMeAtf9g/za/0gEtAcaBg/6aPFw/JcLVwwVBDH77fjtAOYHQgbIAa3/PgCy/zv/2wSrCIoBevlq+uMAbgVbBOQBtAEDAVn/Qv7H/gACUQNpAHgBmgdwB5/++vgd/poHfwi9/MHy1vj9BXYJZ/8C8fLwCQFMCtAHWARV/Cf1NvrQAwIMygyf/C3u8vXgBvAPkwlV96HwdP5RC38IJ/379ir7swIBBjMDmf5a/8wCigOIBbYH9gKv+hH4MP4GCMALYwSD+Ar0yvsTCekOsgTW9FDzaADhDAwMAvlz5znwXQMSBg79U/Tx8lf9Cgb7/z71dvOz+1MF6wTl+hz1FfsABDAFZABg/h8CCQQj/nz7kgRdCkgDxfsL+y/+AAQrByYDCP70+735yPvqBvUMJgPN+Ij6wwIGClkIdP7b+kr+h/1b+8n9mAGIA/sC3//L+tL4zP41BCsB+/yc+8T7zP8QAun+BwCeBAgCJP6CAkkFNf079rv6CgOyBucBf/aD8/f9MwWwAsX+wvxl/RcAywHEAtAB7f3o/EwAjAF1/kz8AACTBcYDdPw0+/sBIwgkCIUCGf22/vcCrgEe/1b/J//VACAEwALu/rv9LADuA6MAvfmk/EgCEwBc/C75+vn4BFgJcftC8c75jgYjCN4Bpf6H/iH+2gCbA0kBPf7v+2v8YAS5CP4AWPoe/FoBqwQ//pv33wMOElkKNvwR9pb0vv2UCm8IIABD/h389/phACkGjQUq/uf59gByBxMFHgH0/Jr8pAT0Brv+NPoQ/BsBIQcXBmMBt/6i9zX1GQPfDdQGDPxg+Cn89gTsB/v//fhJ/HUDgASpAFD+HvvT9gH7awUUCF0CK/yE93X3Y/6gBQ8F1fxJ9av3EAO/ClQEwPaP84L/0AuoCF/6ZfZiApQKmAVt/YH5qP+ODLsMBv/D9t73cP7DB0cIgQCN+0b2HvQAALQL4gfU/en2K/hWBEwMnQQg/Kf+ZAJg/+385ADnAxsA/Pr3+WD9GQEn/oj4TPteAugC/P0a+jn7wgD/BEUErP4X+Mb5XgS1C7kIuP0+9IP5YQcQCtQCdvwf9gb18/69BxcGLv/J+GT4EQBuBtgBA/jS+EkFOgtuBPT6sPSc+e0KqRJGBwT6O/QX+DkG4g2qBZz73PWX89P7TwhRCWoALvj29t7+RgfpBd/+0Pvy/1oFBgMM/u7/XABO+1D9xQRtBZIAg/qU9mv8egYKBCD31/NIAC8M+grSAHv1XfBn+FkHkg2vBUD3Yu9P+IwK2xDGBGT2vvXBAQYL4gcOAqECqQOWAWUAGAOiCFEH+/vI9JT4hgP5DnsIU/Lc7dP9WglhC+UBJ/C37ub+MggRB0cDTv3i+P/5egFpCSkEsvbu9Hz9AgXYB47/oPNW9WP8B/8ABYYGk/yQ9Qj3fQF8EvAR5vwg8cX1GQIAEWsQk/2Z8LH08gNjEIwJ9/ey8oj7HAVLBaH8fPec/LkCyf+1+MX4Zvz5+7H/6wcTBgD9zvfw9NL4JAYqCxcBmffZ9SL6lQPpCEEDoPp4+YcBfggTBOj7FPuIALAHrAgWAD/5vvrzACkITgj4AAj8Ovr5/JsF9gZUAG/9KPvO+g0BgwIp/3L/3/x1+40DvQa7/iP4mfcu/vEIMQkr/cn1FvzrB6sKQAIN/Ir8L/4WAToCuv9zAW0DRf1k+n8BVgfNBlwCJf2H/OL/sAEoAdYBIwUIBEz8yfq+AVkFjgTXAEj7Mf6MBPX/WvuKADUCiP02/Fj/aQWfCaQElPyO/MECVQX7/wD7gf3c/xsAigVuCL4BivzZ/s4GdxCpDED6RPMVAacOrQvJ/FLzQfsZCmoMwAEt+Ub5Bf2Y/43/Mf9yAB7/s/uq/Nv++v1r/Xz8ZfxrAQcDD/y399L5Kf76BfcJqgDr9ZT2F/ylAJMD/gCD/an9a/pM99T9swUmBTz9/vJb83ACew2mCTQB3/rE9yv9cAZsBlIBnwFMAQr/UwCD/kH+NgnNDLL/D/Zm+EoDVA8dC2n7Qffm/BABWQWFB2EEvgBl/aH5WPwiBbgHwgIZAJkA9ADdAfwB8gDsAHsB7gC//zsBpQT5A0UAd/0O/Cj/kQIoAIf/lAEUAP7+mvwd+fn+YAbdBGsBEPwZ91X9BAdcCbsFqvpf8Ab3HAdMDKUENfu/+P4AkQs3Ch0Bw/0Y/z8B9QP1A3gCc/9y+h39BAYoCBkDV/pe9Kr7gAcqCc4BA/iD9YX9vwQCBiMCIPqA+On/mwTzAzkCeP9u/W//AgQfBqwDw/0U+Bj68gFBBcoD/P+t+7j9GgCl/VUCZgkeBfv9QPtb/F0DdwivBY8AjPwt/A7+n/2w/iMAzPt7+Q7/MwNBASf+wvtt+4gB5we1Awj8uflr+Rn+bwYUBpj/XPvF+Qj+TQQ/A6L9Zvo2/YkDSgQk/yD60/gc/wAHHgcCAzL+jvnf+fX9JQIDBEgA+fs6/I/9Fv/v/8z9ef1UAeQDIAKB/jT8lvso/eUAkAH3/Wf8Z/8/BKkFgAD1+Kz0pvkfB1sNxQZz/aP02vNsAVEMeQngANL3bfZIADEI1QdHA978FPv1/zUE2wWsBfUBA/7V/TD/X/8c/6X/GwE3AqoBGACn/F34a/v4BPkI4AWb/ZnxtfHsAAIKZAd4AOb3+Pf4AQYI3we6Aun4fffVAO8HJgplBlb7H/bn+x8BNQSICMoH2wAK+7H7aATbDK4J5P92+6j/xAjKClkAFPlm/YQDOgjtCo4GG/98+nr6IgIsCtMGaP0X+Zj8EQblC+4Fdf0e/D/+eAL9CCAKvwN7/Q38FwCnBmgI+wNH/4/80/ta/3cEZwRRAAz+Ov4jATUFRgIu+4r9PwWzBJT/6/1H/ggAMgIRAGb74Pks+zH9iv/FAKb/+/qC9Yn3fP58/z7+jf9E/IX3svhR+lL79v/qAiz/Gfmm9/D6dv29/on97PZt9Cb6Nvsw9tnzuPS4+Cr82vfc8QH0ffvd/6b8EfUO8fr0lfzQ/vD6Avhx96T49/th/HX4Rfac+Fv9VABk/qz52Pf3/CIEUwOB+wT2v/cv/2gEvwKt/wr+b/zV/Nz/2AO9BlwF4v8e+wr8GgGJA20D2wPFAtcBVAPMBDkGVAboBOkFFwbXBDQIdAoUB2AElwKnA3gMChQEEaEIVAVnCxgT/hKwDFsG7gTpCnkSAxHSB9oEygjNCGQJCg3SCucJawxVBLT8YARyDJkLjQfhA80GGw75DSIH3wPnCFYQkg/XBuoA1ASzDVAPQwjpAfn/hwO4ClYMkwffA88BCgB8APgCGgTWAqgCcAN+Av4A8/1A+5z/jwWlBKj/2PmJ+Kr/JQUcAqb7DPZ99bD6Df9z/m35OvV09/L6QfmS9XX0ofep/Ib8cvUs763wrfbP+dL4sfTV7/nvnfOc9ODyu++97d7vp/KJ8+nzm/Nh8tDuTuuV7zz4sfoT9gXwDvC09+z8Ufp99IjxrvX1+hv5ffTO8V/xR/b2/P386PYx8y/35vyz/ID4qvP88tT7lwRPAd73VPIo82j5bwEzBdwAYPoU+gP8wvzCAAQE5gEy/2H9zP2xA9MItgcJBFAB1wLKCO4LVgpWCeEIYwZKBGwFawkJDwkTnQ+hBSIADgXjDZ4TDRM2DJUGUwd3CgcPBBT2EuMOFA7zDNcMaxCnEJ8PQBOHErcKxAbSCTwQDhZ3FR0OxgZhBq0NPxWUFq4QtAaJAlAJOBJaFfQRkArABSQGCQojEU8UAw01A4UAHwiqFRQZ4AyXACn9EwEtC+0RyA2TBnsD3ATFCe8L7AZOAQ4DdAkLCWL/3/i0+mD+uQEvAsD8sfdv9ELwtPQSAmMGi/3y8dLqLPDQ/p8EsP6S9tTsJufM7jH7SQBD/Czv7OFm4zjxWvts+QXvxuWp5Y/tofPr8KTr0+uN7vjvOPBV7rPsPu2v7CPtcvHl8tPt7Odf54DtJ/Pk8FLrX+o27m/xkO/F7OLuoPHL8VvydvKn8ov0mvPy8Vv15fbs8g3yRfUN92j3fvf69w75d/gB9xj5wf/6BJoA6vYJ9wACrQiWAzX6l/cl/q8EzwK8++74//3ZA4YDYQDd/wMCWwX0BpADBP4u/dMDmgwzDucGIAANAhkKfQ8UDP4Ci/9lBj0Oyw9vDb4ITgXMCZAReROmEIgM+QqgELAWXBRMDpALdw4iFb8XxhS+EgYSFRKkFA4VORJFEq8UsBWKFekSFQ6TDrQXIx8FHEIUSg4ACxQPuxfLGXUW2xEVCkkHDg8zFmQUGgt1AswFIhFHF5MViQygAowEig31EY0RkAlY/QL8+QSHDGgNBAQz+Dn4Of9HAyQFZQII+0T3RvgR+zIBUgerBMb53PJz9gH9+/4U+xrzwu839dv3C/E76d/mvemj7VDs6Oe757XqJevK51nloum18MzwYuqF5WTmz+uj7+Hsiecf5lPpne0W77jsFOgH5PvlDO5i8tXuzOkh51Po0u0N8UvuxOpX6W3q2O+99c/0tOxJ5rLqXfUa+SL0ge607fPyXPhg9+n0EPZ19iT1f/Zn+uz7Z/ec8tX2jf8WArD+6/qS+0MBAQS1AvwGSQ0uCmUBBP0hAawLTBEbCtT/C/7XAjwH6whsCRYJoQYaA/oBJgY0DoUTRxLjDSkLaQzJD8ER2BKvEhUPCQ1NEAgTcxJoEX4Q1BBSEy0UeBDhDKMQSRi0GfQVHxMFEb8SWRmVGy0Z4hr4HHIYChN6EzcXvxlYGr8YThU8FIgW0BYAFOwRZRHlEQgUdRfRGBAUeAzECa4NixUNG3gWmQzxCO8LoRDzErkObwdWBCYG6AmdCkYFIv/5/LL+eAOPBS8AO/ni9i35Y/4MAZ78JvU78RT0Dvz2ALr86vPW7V7sme598nb0lPPS8cHty+We3xPgVuRR6Rrslej64ejeZN/p4qLppe3w6qXlmeLY48LnTekx54rkyePd5iPsUe0R6ank5uKL4ibjUuVl5yrngOZd5xXo6ugI63jsj+0a8Ojxn/Hg8ODwovK79DH0PfIl8WHxpvRx+QH6XPZF9LH1bPhL+/L96f7W/bb8+fuf+ob6rv1EAkkGkwihBsYBKAB1A+4I7Q7PEMYKLAMCAVIDZAeLCWMH2QQzBDYERgdRDRURxBCfDpsNzw5AEL0RcBPSEoUQMQ5jC24LXg+kERMRbRD4D9cPAA90DRAPCxOiFG8TkhBlDlcRYBe5GYAXNBSgElMVWBsTHlUaIxUxEjIRkRPNF58YLxayE2US4RO1Fq0XXxgtGXUXLRUxFIgTCxZ9G3IbqxPaC8gIJwpUDu8QxA7LCWEFlgQwCEoLvAmsBEj+f/r//AYC/AN7Alv/kv1y/oX+U/zq+iX8F/9RAML8gfbx8ZTxM/UX+AX2B/EC7O3nS+fe6rzuWu9n7HXncuPw4mflf+eB5tfjbOMv5fblE+by5T/jQeDo4FbiAeKu4mjlH+iR6DrmzeMr4/jjp+YR6YLnduRL5B3m4ueQ6S3raOxq7bju3u9T8ITxI/P28c/uN+6e8Lbz5fZ5+BX2/vEH8FPwDPNQ+bb/vwCY/Hb4zffk+Wv9YAF3AzkDfAItAY3/zv/JAdcDEQYoCSIMFgyfCH8FRQWzCDwO/Q/vDFsKHwl5CRENYw8NDtgMlgxwDocTGxcEF9ITQAyPBgcKoRHBFaUTeAzVB0sK+w4DEnASCxAwD04ScBVcFg8VShFdDlUPOBKMFN8UyhKXEU4TdRVAF8sY8xffFd0VvhYvFtcU2BNwEzEUDRcBGrAYaxTvEgAViRfuF9sU7RC3D0sRpBNtEnoLnATPAtwEvQnNDjkPewtLBwAE+gHzARsEjwZKBmgDLwB7/bD7Cfve+kv6kfjG9vH2lPgK+lv6gfgU9UTyOfFb8VTwmexo6BzniOlO7PXpD+Pl3gDhUebK6cbmpN702eHcaOKr5Y3lJuKj3vHeLeJ85ePmw+Rj4UfhouSn6NHp8OVE4cjg0uK55PLkOuJo4Evjyeer6hbsWOwp7HXsXO468oz0OPP+8fzyZfR99cf1mfTY8zP2P/sZ/+n+pvyM+7r8mQB2BTkHYgVLA0wCRQLYA9UF1gaYCIkLbww9CvEHQAhcC4sP9REqEEEL1gc1CHIKfQwiDaMMAA0UDuwOERFpFLAWMxdJFukVhhfcF2UVihP0EoASWhPqFG0VWxV9FV8WARjCGFIY/hdVFxkW/BXhFo8WmhSWEl0SjxTDFoQWnhUYFusWtxd/GMkXxxVqE+0PFg1KDvwQoBA/ECIUmBicGfgY2hYcEpQOAg8xEEYQQxD1DcoHNwO1BNQIBQwfDcIJmQT+A/4FwwT9ACz+cP3+/Zv/BwKuABz5zvEr79TwivgiAY4AbPkb9M7xjPJc9TH1R/Gx7fzqqudg5Xblz+U05ZrkTuPp4FjfJd+q3znh/OLU4uLfbdtD2OPYvd2d4zDl1eGW3q7eheHC5eHo9OfD47zg7+Cf4rjkCuY85arlYunO64zrfeuc6y/t6PH69QT3cvdF9zL03e8577HytvVA+L37/fuS+X/6rfyQ/LP9owDSAoIFXwcLBEf++fxtAEUEagdtCogLKwqWCKIHwAfEC+8SnBaJFE4RjQ4RDMcM+Q+TEdAR0BE1ET8RMRLzEnUT/RPjFaIYvxjCFpMUYxFOEJkTdRaxFssVOxS9FLQXCRlbGBcXphXvFe8WNhbLFGASng/AEB4U5RRLFOgTrhOtFcgYnxlEGY0YqxVsEqwRBhK2EaEQmQ7oDDgNpQ5BECASKRObElQRpw/TDCwJWQfJCEcKPwmhB1cGGwRAAsQCwgRYBuoFyALJ/kn79fZM86P0MPnX+gX47vKf7ynypPc2+pT62vrO+Vz3sfSd8wr1MfQw7VblzeKT5O7lQ+Py3SnbX9zw3aLdQN3i3vPh8+N24lfe1dxE4Onjc+RP4+fgSt713ofiTuUZ5qHkC+EB32PhPuU85kHk8OLJ5N/nAeo17JPuv+9u8DLxFfLe9Mb4kPkK95314/ak91j1PfIR8if1AfnC+6P9SP97AN4B0QOOBOgDlwPMA1MF/geEB6ADBgJgBCsIpwsVDeEM0g0dEJESMxUMF7QWvBQiEw8T7RKwEDMO6g7OETATTBNnFIsVJRY9GJoa+RkLF3oUxxPvFL8VnxTvEusS2RUdGvQbgRoaGBQX5xjmG9gbtxeUEokPGA9mD34PghBjEk0TCBOkE6MV/ha1Fz0ZqRl5F8YUIBI5D68NGw06DAMNIBAYEiURCRABEWYSKhJsEJQNdQo0CX8KvwtACl8HBwbQBeEFswZ7BhIFRQWkBLD/N/r79rnzsPHB8xn3TPd89LTwbO0G7ufz+vi1+H73P/mn+0n73PY88GzqXeUs4PDcud2m35PdJdlV2b/eFOQw5k/kVeCR3uffouEZ4lvhGOBv3uXcpdwf3Ozaot1I5EvoSee541vgXOD+43DntueP5ITgAuCz5Hfr6O9s8FTv6e+V8kD1EPev+Bn5Ofcg9V/0XfOK8YzxxfU//AYBNQS2BlIGdgRNBXUHswgHChIKhgf6BAIDXf+z+/n8pQPeChAQpRNZFCgTaBSEF9YYGBkQGXQWPhJEEA8Qcw5gDPMM8Q+4E00Y2xy6Hv4cIRpxGFkXJxZmFYEUqhKzELEPdRBqEwQY8hwEIF4geR/uHMUXERNWEUIRjBGEES4RnRGDEgsUTRcCGugZZRjKFvoWnBqQHQ8bqhTmDTMJ0QgmDPgPmRLTFKIXIxo1GmAXYBOJDwcMiwmoCA4IywbOBU0FzATeBFYFpgXsBjUJ4gmmBzkE/wDk/AT3ivGj7rDtMu4/8OjxO/LZ8mTzjPJI8iD0R/bB99f5Ifw5+m3w5uIn2snYsNtf32Xgxd2Q2sPZe9yQ4YHkfeIV3sbaPdo83NHdtdxM2pHYw9fj1xzZM9tM3pji4+X25O7gLd653lriKeds6BTkb95U3Kbfm+c672nxUe+m7TPvO/Pq9RL1BvNI8ebu4OzX7FDuJPHB9VP7mgAhBN8ExASsBoIJ2AkTB6MD7gGMAuID5QOvAoEBZQFbBG4LkxMAGWsbzxwIHqEddRo2FuwT2BVeGqwatBPRC68IrQo+EmkcVyEYH2Ib7BkvGgkb7RoSGFITahBrERAUbhXFFY8WnhfmGGYbsR2YHaQcjRvDF0kS9w4sDmEPDhNVF2AZuhhGF5QX8hlTHCMdzhscGVUXUxZ0ExwPEAzfCqcLhw/vFKAYkRoUHP4b9xgdFIwPgQxvCz0Mwwz3CS8F+AI6BMMGegllC7MLZAt5CyUL1wijBNIAmf02+KTxgO6c7+vykvfR+t/4afO67/DvbfKH9NL0lPT19Wz5kfu99YXn9NqJ11fbhOGB4y7d1tRG0oPVmtyP427jEd2f2D3ZItwB3uzcddkO1uPUINbF18TY+Nlb22/cA91X3GjbDd2+4drmDelI5uDfgNrn2oDhM+no7GXsQuqW6Szsve/f8MHvau4v7lPvM/Cb72bv8PGg91T+6gEsAfD/iQHtBeIKGAyoB4sC/wGQBLsFgwOw/wb+FgGgCLoRSRj2GhQcsxwfGwkXxxK7EEYShRZ4GIoTqgowBfAGLA8MGqkhDCMaIVIgsCEuIv4eahnVFBgTtRMUFDMSAhDUEIIU7BcyGWcZExrRGxQfnSHAHvsW2hDGEEMWSR0gHxoZDRG9DR8QkBVkGkcbURjiFC0T1RILE9sSxxG/EboUTBm5HNYdPR0OHH0ZexSZD40N5Q0IEO8RuQ9aCoYGQAbGCWwPlxIDEtoQNhDQDq8LVgZOADj8nvnK9bfww+0C77DyV/ZN+Sv76PqM+E326fUa9pT2I/nx+9T7Hvlk8mfm9Nt42enbI93Y2enTKtI/17DecuQ85k7jK9+b3QnfwuEE4srdE9jI0yHRsM+uzs3OndG+1czYTNoA2z7dTeL95wHs3OsJ5UPb8tW318feK+as5+HjRuG34jfnSe3W8WjyGfFi8bryr/IK8v3yyvUM+pf9D/1i+tP6D/8cBGgGvQNd/0z+VgFXBssHJAHU+HP4OQDFDOgZ4h87HSwZ+Be9GOkYeBW3D2gMVA3cEOsSLhAiDB0MHxD4FlIfCyWsJrMmvSXyInEexhiHE8sPwQz6CiMMag9FEw8XjhkIG8Id8SCYIVkgHx/0HMoZvBfqFiwWAhXSErQQ1BApErgSRBOuFNUWcxn5GnUa9BgLFzkVvRS7FRYYQxtmHAwaNxYSEnMOAA74EAcUxhREE/IQZg/6DloP9A/oD/wPtBGfE0ITmhAlDJsGnwJiAfMAxv8t/cH4sfS08/z0nPZp+JX6zPwf/rP96/vd+Of0VPOt9YT4A/rQ+RH0ieh/3kjax9mr2p/bstuF22zcld975NfnROc844jdUdk62KrXmdUY0qjM6ceAyB/NftEh1ezYaN3s4k/nRujF5sjkJuPV4Ajcn9Ux0NHNIdFd2UPgjOL+4vzkr+qn8kP3YPYd8/HvMe4u7hfuie0B7vLv1/M7+Sn9lP5e/2gArwEBAyUD8wEyAYsBcQHU/yb+wv6qAgoKgRP1GjEdERv6Fn0Spw5qDAwMtAw2DmURZRSzFCMUyRSNFicbYSIUJ5YmISKAG5wWchVuFE4R6QxpCB8IDQ8BGH4dBSAAIYQhFSOnJIcj3x7KGPAUpRQsFpkXyxbfEigPAQ/IEeMV1xm6G5cbGxvrGkkaPBg1FQ8TtxK+E2kVyxZlF0sXfBYmFSsTYhCZDpYPNhL5FE4XwxfUFVQT5xEbEsUTlBUXFq8UrhG9Dq0MsAltBXsCYwESABb+yPxH/Rr/+f8Q/wT+Qv1V/Nv7SvtU+fH1n/FP7jLum/A99bH7T/5i+bPw6OaF3abZDtw232LfAdw42IzZjd/w5MDmc+OY3E3Y69j32h/bENeNzw/K3sm0zFXP39Bp0w/Z+9+n5C7l2+Ew3nPd4d1B3HXXINCdyu3LqNI42sDgk+Ur6VHtGPGB8pXyT/K88MrtY+q454PnW+op70D00Pcn+Q/5MPkd/C0CjAeMCbAIKgVpANH9zv1e/lD/lwHKBQcMDBOFGHIabhgqFOsPOQ3tDLoOQREWE4YTPhNsE74U5xdlHBIg7iEKIlQgDh7TGz0YMRShEYQP6A1pD5EToheBG+YfHSOWI3gi4yBNHicbfRhqFW8RrA5VDyITcxcJGgEb8BqKGscbrR6lIMogNB+pGt8TjA4YDdkOhRIOFzMamBpvGoMbXByrGyYZ8xSZEV4R1BLOE7sT6xIvEu4RlxLzFK0XcBhAFxEVGRJkDjwKKAcfBvwEmwIiAWwBjgJCBJEFFAUfAxcBy/+n/nH8CvlK9YHy1fEn8iLym/O39/X8DALeAo/5uukW3qHandz+3z/f/dhq0+rTuNpk5OvpDufi32PaKdm726bdetph00nM9MfZxzrLF88w0SbTKdhd3izh7ODh38HeEd9M39ra3tKAzLnKYc9T2CbfeOGF4ULiU+fv70z13vO+7kLqXOj054DnpOdg6abslPCA8y31V/cd+8AAMwd7CoUHvQBT++D5cfuM/R/+v/04ANsHfREvGDkaxRhRFTMRsA4eDx0Qcw98DiUOMA7pDzkTvxUdF/wYMRwqIHQjjiRKIvIcURe1E8YRphB/D6MOzRA2Fogb7B/zI+YlTSXaIxwifh/HGwkY+hWkFaQWRhmwG3cb0hldGccaeB0lIE4hFyCzHLgYrRV2ExkSKxK7EnETgRaWG2cedR3zGhsYAhbyFaYWnxYXFqgUsxIaEp8S9RKAEzQVkhj8GyAcDBkLFU0Q1AusCTgJHwlBCFQFUAI0AlcEzQaIB2MEg/9B/QP+d/8S/5D6F/N97TbtYfHf9oz7DP5a/Rj7sfix8qfnRd702/vdm99D3pvZctWx1rrciOKZ5APjPeD93ubfbeCm3D3UScwyyUbKycy4zuDPa9J/1wfddeDv4BfgguCh4UDhm96C2G7Qucy4z3jVS9sB4OPi9uWq6ujv9PMB9Inv9+pD6ero8eez5c/jEeW26dXvQ/VH+B76n/3PAoMHCwnIBR0A+vtJ+i/6pPoL+8/8FQFsBmULZA91EdkRzREkEY4P+Q2bDDUL5wovDLINRg/hESgVaBhOG1kduB6OHzQfdB2VGS4Tfw3gC1wNDhDkEiQVQhg0HcchjSRbJS0jEx/XG48ZRRfWFb8VJhaMFr8WqRZZFwEaFR4HInUkHSQcITsdDBowGMgW5BOjEL8QWxTiGI8dViHrIZIfCB2pG0kakRcsFJMRIRC4DzQQ+RCyEbgSohSkF+ka7hxqHDEZ0xS9EM8MbgmCB5gGOgYVBikFJQSoBAAG2waWBq8EoQIkAgIC9QB7/lf5WvPW8H3yAfar+KP30vOu8Z/yefRs9ADwouhs42viX+Mj45Hfjtrj2Enbgt6y4EbhKeD53oTe6twp2QfVJtL30B3SaNS71LXTvtRA14LZ/twA4f/h/9+u3TbcY9su2gHYB9aB1ZvWQdk33a/hTeWQ5zbpHeol6ovq9ept6gXqTulM53DmAui/6tDuyvJS9Hb1PPh4+53+iwDX/+/9VPzK+yP9Hf4H/Y78y/0OAFcEHAm0CyUNLw47DjIO5w2FDDkLZApYCcIIngllDGoQxxPgFXwW5BRaE3IUYRaAFzAYURfAFM4SJRLuESoSIxMeFYsXMRk4GuUaXRpLGUEZqBlcGZoYABhSGGoaPR0zHcYYGBQpE6kU4hbOGQsb6xgPFnIU4xPXFNAWJxizGPoYhBn5GjIcyBuYGtsY3xVaE/ISZBO9Ey4UTBReFBkV1RWQFnQYtxpFG6EZ6haLFJYS1A+/DOkK/gmqCWEKegrBCGcH0AfgCIcJngihBUcCdwC+AM8BjwBS/AL4PvXe9J349f2i/0/9A/qv91b3iPdr9SvxSuyR5yTlCuam53bn9eQ94XXfOeHp46rk9uLp3zjeKd8t4N/eStwR24XcQd/s4JDgcd6C3IXdheDu4fHgT97d2mrZF9sA3YTd3d0s3+nh8eRC5kLmbuYd51XoCukY6OHmQ+Y85bTkr+Wz5tHntuqp7ify+/Su9hb3NveF95f3dPcg98f1ffOM8nX0vPfL+pb9uf+rAB8BHQLUA4cFMgaBBQQE6gIOA9UDhARmBT8G7gaPCPoKvwwSDqgPMhFVEjUSFhBYDcYLwgvRDL0Nyw3ODUIOIw9GEWEUPxbCFRcUFBNYE/QT9RP1Er8QkA54DoAQIBNZFXYWQxbSFSgW2hbwFmIWqRWKFAcTDxLIEZwRGBLSE80V7hYNF/gWJRiDGtYbDRtXGYsXAhakFV0W0RZkFqAVthWJF8kZsxoHGyIbhhkaF94VyRQCE64RnBBfD9sO/w5oDz4QbBBwD8UOxQ5MDuUM0wrwCPQHkAd4BxUHHQVeAhoBbwG0AuQEXwZ1BU0DuwG0AEH/+fyT+r/46fa79CTzivJO8iPykPEB8NDune8L8Q3xuu9N7fjpluf15mXmXOUM5XDlreWO5bnkGuN14prkCeiZ6VvoMuWH4a3ffuCb4QDhQt8v3lrf8uF4477jD+Sd5O3lE+i66ezq3usJ6xfpQ+j254jnOOix6eTqUuzI7S/u3+3d7Wzule8K8W/xOfCM793wXfIb8yv0GfVi9Tb2YfcH+Nf4qPmh+T35w/hc+Ab5nvof/E/9Gf7h/m8AMgJWAx0EkAR8BCwE8wPvA5kDhgKmAVYBzAC4AM8B7wIRBBQG/QefCEII1gd2CBEKOwskC6kJdQeFBm4H3whBChQL+ApqCxINiQ6cD6UQABHvEO8QwhDpEGoRixEjEmUThhOnElQSlBKoE8gVJhfgFl0WNxZOFuQWghfXF5gYrRkzGh8a2BnRGZcaqxutG3UaAxnNFy0X4RdpGRIakBlwGaMaSRz2HHIcoBu4GkUZwhftFqkW7RZYF3sWGRTJEXgQ/w9UECgRrRFKEUAQmQ92D7cOKA1qC4cJPghjCIkIfAdZBokFWAQtAysCnAAO/wb+YvzP+dD39PZh9tf1ePXM9LTzwPLx8fDw2O/Z7iTupu3X7APs7evK68bqpem06NjnBegs6dXpnOnI6K3nXufZ56Hne+ZH5afkZeVN533oBOj+5vjmb+gp6nbqT+kK6MvnwOjO6cTp4Ojh5xDn+eYJ6FvptulM6VXpPOo9683rAOzb63zrU+t969frcew+7d7tEu4g7oLuB+9E73LvkO8Z743uoe5p7n/tYu1i7jbv1++48EfxrPGU8orzsvTi9qL49Pfe9Rf0FfOd85H1Lvfg9yD4Dvjw+I777f3w/oX/Ov8a/nT+YwDGAWwCsALkAQYB3gHZA4kF8gaICOUJtwrKC3oNUg6MDaAMhgzQDI4NyQ7KD6cQ5RE0E5AUYhb5F30YkhgBGZgZPRopG/obQhxIHFQcjBxpHdIe5h+PIDYhgiGGIfMhVSIIItYhISI/IkcibSLnIf4gMCFXIgojACNyIlIhVCBEIJMgjSBZIOYf9h4jHu0dwR36HMcbqBrmGXsZFhlcGDYX3hW1FLITLhLxDwIOQA0fDfcMvAwADIYKNwlSCP4GUQXoA38CDwHu/7f+Mf3H+5H6XPny9zr25vS99EH1hvUj9TX0jPNz8+/y0PHh8Knv1+3G7I7sx+vz6hTr8+rY6c7o9Ocp53Dngeix6OznSOcG59vmeOZ45Qzk7eJe4gXir+Fs4Szh5eDT4CLhouHm4crh9eGq4qDiE+Fo37XeW94Y3kfecd5K3obeNN9730PfC9/03vfe5d6K3k7eft7r3pvfY+Dq4IvhUOLv4jPkFua95vHlheXW5Sbms+aM597nu+cr6GXp8uqb7N3tcO5j75XxJfSk9bT1LvUQ9YL1c/bc9wn5zfkT++T8Vf5b/20AogHyAkgEkgXtBkwIcwlQCuYKJgthCzUMig2UDkMPJxB7ETMTvRRSFZgV0RarGGQaLBy+HWEeeB7tHrQffCCUIfki7yMcJP0jLiTdJM8luiZgJ5kn5CfIKKMp2ynbKakp/iiSKP8omSnJKcMpmCnkKOEndifWJ1QorSgGKRopqygkKPwn4CdXJ3AmWCVoJAUkaCOYIXkfJh5ZHewctRy9Gxsa5Bg0GOEX3Rc7F60VOBQSE/IRYhEBEYAPEg3YCl4JyAhlCF4HEQayBCQDVwI+AnoBUgBJ/379dvta+iz5Wfe79bPzqvBq7pftpuz668rsTu0a7MjqC+oz6bvofehh57nlJOSc4mThP+C93kjdFNw421Pb3NuQ23baV9kK2Rnaetun29XaE9rV2SjahtoV2gDZ9dcI15fWDdd/1zfX49bC1sjWgNd62NjYBdlQ2XXZ3Nm/2mnbWNv82kPbS9xq3YLeW99E39veU9+L4P7hhOO25F/l+OX95mTo0On76pPrl+v06yjtm+767wXxePEp8kbznPOv89f0UvaK96n5b/wt/vD+6f8fARAC0AJ+AyYE8QSuBWwGxAd2CdcKXQwKDssO4w6ZD/MQixJhFJwVgBUSFWwVWBZ1F2YYjhhKGI4YqRmRG6kdyR77HgYfNR8jIOghESMiIzEjbyN3I7YjTSSeJLEkKyXuJWEmqCbyJuYm5SZjJ6knhieuJ8wnZycUJ/4mwCZ0JhAmRCVGJKIjcSNgI04jPiPvIlwiASIaIqYidSOQI3ciJiFOIKEfBB8aHl4cihpkGS8YdRbzFOQT3xIUErgRThGXENwPKw+LDgYO7AzqCukISQecBQ4EpwL/AIL/VP6W/Hf69/gI+FD3uPbL9Xz0hfMC80HyAvGD76PteevI6aPoPOeZ5Vvkj+Pz4jbiJeE14Njf3N/q37/fgN+e37HfFd8I3rHc59pN2aTYyNgE2ZnYsNeJ14/Yv9mT2hnb19of2mXaldtb3P/cuN0T3Wrb6Npj25jbGdw33Q/ey94l4H7hBuJF4uXid+PH47bkF+aG5lbm5eah57jnBejZ6I7pXOps6xfsk+x/7Y3uue9Z8abyFvOT85D0qfX89kv4rfhy+Lb4O/lH+Tn5ZPmI+ff59Pob/MP9HwAUAmkDIwW8BuoGPwYLBkEGbgbpBrQHJghtCCAJBwrmCvYLLA1WDpQPIxGgEloThBOgE5YTUBPpEqgS7xJ5E+0TcRTTFAEVYRXKFScW3RajF/0XHBhAGGgY4xg2GsUbQxwVHDgc+RsDG24aPhqUGQsZtBnuGnIbZRu1G6cczB2YHuce5R7sHqEfjiD+HxYePBwdGhUYBRgsGZoZyRnmGSwZ9Rj/GYMacBr6GgEbohkqGA8XzRWZFGATmhHPD+UOmw5iDmIOjA59Dj4Owg0oDcoMFwzvCkkKggnSB4kG5wUKBZIEMwRXArz/FP4//cz8v/yJ/Nj7LfvU+r36ufo0+v74x/fE9p31kvSL8xjyxfDa72Pudext643rBOyI7DLtte2u7Urt6exC7CjrU+oC6pHpFOnk6HDotOej5+jnlueA53HoQek56RDp0egu6OznZ+jd6ObotuiB6Efo7ufh53bo2+jo6KPpm+rf6iDrWuud6iHqUuvQ7HvtVO5g72nv5+7j7truZ+4J7urtF+7G7vLv+PDx8IjwEPHv8bzyBvTd9Av11fWV9rH22PY49rb0JvSn9Fb1OPYH93n3G/hj+bH6JvtH+8P7MvzI/KP90f1k/fH8nfwy/UT+Mf6e/fL94P4xAM0BvALpAi4DjAMaBIYFtgb2BcQEAAWqBYoGQAgbCawI4AhfCUEJpQliCnoKtQpYC8wLhAxcDZQN9A3HDukO2w6eD0MQeRDDEEIQFg/SDgUPyQ5GD/cQhhIxE1cTWxOBEzwUUBWlFWAVaRUxFaEUvRTlFKoUQxUsFvQVWBU7FVAVmBUJFiYW5xWXFTsVGxXYFfYW0haEFQ4VpBWSFbUUPxQlFLcTUxNeEzMThRLrEY0RvhH9EqkTghKfEZARXhCyDtkNRg0hDcUMAguPCY4Jvgm1CQUJiQelBnsGdQbJBlcGgwTKAsUBMwHpAAAAJ/5//Ob72/tT+2n6Evr3+WD5EPk3+V/4tfbi9YD1+/Qa9ar0rfJM8RPxW/CR75Pvk+8F72ruI+7Z7WrtLe307KLsK+w564/qsOqu6nnqF+oN6ZXoKeky6aLoo+hJ6evp3ul26Ybp5ukx6mzqjepy6hDq8OlC6iDqnOmW6ZHp0+gQ6FHoPOm56RDqu+oa61vrE+zD7O/sVexk62vrQOyc7D7sh+tS6xPs2exW7d7tLO7e7kzwGPFb8X/yzvMO9NXz7PNE9I70i/Rq9J/0GPWE9TD2lfcC+Yj5/vlO+678v/2h/uT+gf9eAXICmgHIAPsAjwGRAuMDbgRcBA8F+wUnBgIHtgiRCV4KCQzQDFoMUwwDDaUNXA5vDxAQBxBzED8RbxE2ERcRfRGZEpkTMxTNFC0VeRX5FVIWhBaNFmQWfxaPFkgWlxZ1F74XeRdRF6AXsxjtGS8auhmDGdcZexqSGuMZgRkyGSMYfhcBGGcYyhe8FncWGRexF/MXdhdjFrMWRhjRGDsYbReZFm8W9Bb+FhsWOhXFFNgT7hIHE90S+hFpEakQ0Q+iDy8PGg5iDZkNCw4zDdALwwsxDO0LtQqTCF4HFgcGBe8BhwBsAOf/tf4y/oX+Nv60/WT99/uU+nj64PmS+MX3mfZN9CbyVvFO8ZXwxO417Sft1O3i7ZHtGe0X7EXr6Oom6kzp7eiq6BvoR+e35mHme+WA5DLk6uOB48/jneTc5Gfk5+Os4+Tjn+RA5XXlZ+Ur5VLlveVU5Z3km+Rp5JXjTeMO5PTkX+X15R3nJujO6FDp1+n06gPsheuB6sDqQOv96uzqXevs65Ds8OyA7UHvLPH+8aDy5fMc9W/1QvWA9d/1M/YK96X3wPdN+N/4h/lA+8T8A/0k/af9+v02/jz/1QCdASYCkwNzBFAEkgTyBOgEOAVJBoAHAQhBCD4JZwoWC3ELwguaDGINUg2zDcAOPg/ND5IQKxBVD4oPJxBhEFMQDBAOENIQ4hEaEwUUZhNSEscSxRP1E6MTNxNRE8AToBOAE8ET8BMxFEsUKhRkFOkUnxUuFu0VlxWrFSIVChSoEwkUABTLE8IU3RV5FbcU5BSlFfIVExUmFNYTOxPSEsISHxKdEUYRwRAvEeURmxHSEOUPIRAEEpsS+BB8DxMPAg84DqsMfwunCiYKbQruCUkIQAd/Br4FegayByAHSAXOA28DzANaA8sBhQCU/73+pv4m/m78Pvud+l75lPh/+ML3q/b49ev0TvNs8qLyjfLi8WfxvPDM70vvye6h7SHs+uq96grr+OpZ6qTpQekZ6QnpJen36G3oV+iM6GjoLegb6CLo3ucp5/LmR+fG5tjlKOZN5+XnDuiL6FHp7ekT6inq2OrE607sXez96yzsYO3q7X/tY+187Q/uSe/n7z/wK/Gh8X7x7/ES8/bzOfSZ9CT1gPVa9jD3V/cJ+NL4j/iV+GH5BfqO+u76+/oo+wD8QP2t/YT9Hf7L/vj+gv9rAJcBsQLjAuwCkAPiAzsDFALVAQgDJgSOBOUE8gTfBHIFhgYmB9IGgQYBB5sHKAjcCM0I5QdkB+8H6gh5CcsJXwq4Cs8KnAvRDO8MFAyVC6sLaQxQDXoMGwusCzEMngypD8YR+Q9jDrQOKg+oD2cPNg64DQ0OsA5nD2IPsg4mDi4Oeg4KDogN6Q20DTMNIg7IDjAO3Q0FDTsMKQ7AEPAQ2A+UDtMNrg61D2oPSA5iDMwKbQt6DccOQg5uDKgLjw0aEFwQ4A63DeIMegwEDecMxwvvCpMJMwiPCC0JTwnTCWoJAwg7B9AGSQaYBZ4EzAMXA5oCbQJbAbn/Jv9G/3r/xP+R/7n+fP04/Lr71/tb+/D5dvjA97j3h/cd9vbzVfM/9Gr0j/OM8sTxrvGT8dfwHfA476ruZ+/X70rvbu8y8HbwF/BB74PuHe4E7pfuBO8/7pjtBe5k7mLude5U7n3ujO978LvwpPAu8B3wBfH18VXyFPLF8Z7ys/OG8x3zl/Pe9LL1hPQN81Dz1/Mz9PH0I/V29Vj2cPaR9nX3wPec98P34vdB+NX42Pii+PD4T/kp+Tr5E/rY+iH7Qfsj+2L7mfyQ/Xr9n/1h/m/+8v0r/rb+Ff+v/zcAigDkABcBdgF2AT8AoP9sAKMAfgCeATIDzgPJA0cEeQQNA18CBwQzBXMFlgYPB+YFKwWsBXIGlAY2BloG4gY+B+MHpggwCQIKngp6CpoKSAuNC1QLHwsCC0cLXQxIDc8MLgx2DBkMLgvBCxQNUg33DHgNdg9XEfoQ3A9tEJsRohHSEA0Q9g+zEOQQbQ8pDg0ODw3gDPoPJBIoEf4PtA60DhMSvRO1EWsQVA9+DfENmQ+VD2wOXQ0+DQEOgg4nDgkNJAwWDAAMhgvCChwKnQqnCi4IuAVOBQcFdwRKBZsGAQYsBIIDxwOdA9oCfAHL//L+HwD0AdIAc/23+8H6w/n/+gL8W/pI+cX4AfY28w7zx/MX83TxrPAi8RzykPIV8anuIO5575HwDvAk7hXtH+5I7/nuj+0y7I3sn+4z8DTwBO8Z7fXr8+zB7l3vou6i7X3tOO5V7mntGe3N7Ufu0u7572jwZvCA8Rvy+fA88EnwZvCP8XHyUfFT8MPwevFD8rTyhvLV8pjzMPQ69VX2R/aK9WX10/Xr9Yf1bvWW9Wn12PWl9x35XPlw+ev4+vdC+R/8H/1j/JH7+/rX+yb+Nv9b/qz95P2G/rj/2QAFAU8BaAIiA1QDcgMjAyoDNQQvBY8FwwXuBSMGYwYbB3gIXwnnCQoLbAtGCr4JpgqOC6QLKgsWC+sLBw0qDhAPAA/LDjoPbQ++D8wQNhGvEJAQAhGEEcURnRFmEVURYRG5EaUSABR5FPsTfxRCFY4U+xPdE48TzRRWFpgVVxQ6E9MRGxPSFmcY2Rb/E14R9hASEyoVThXIExAS3RFhE0IU/hKrEU8SVRM6EnYPcw3BDHUMiwyiDN8LCwu6Cm8JpwbKBJMFXAc/CMkHpAVLA6UC2gLaA/wEWAIb/an6kPvP/iACJgA8+sT2SPdX+0f/CPzt83vvk+9K8ePyq/HL7Q/r5OrM663sFu1T7Ofq5Orj60vrkela6CrnwuYA6G7o/+a55QXl5OTY5v7pH+tB6VHm+uSK5lHpVeoT6Rnn9uR0487kXeiW6szqqerM6o3rZ+x07J3s0+wI7OPr5Oww7dbtVO9O7yHvuvDA8T/yIfSA9WP1gvUo9pv3VfnV+Bj3X/dU+dH7Rf5p/nX8aPxa/zwCpgLCAIr+Y/7jAKUDzwOnAeD/QwDDAuMFZgejBoMFrQUeB4AJXwuHCkQI8AevCNEHkQawBiYH0wfbCYwMgw4zD4kO5g2mDsUPRRA9EBIPkQ0tDnUQGRJ1EnARKxBTEVoUKRZAFhgV9BIhEr0TgRWtFRsUMxLfEuEV5RcdGEEXzxWtFUAXeRgrGNwVHBO1E/gWwBguGN8VgRP0FEYZWRusGh4ZzhYAFdMUzBVFF9cW8RIbD5UOKxD3EbYS8RGzEJAP2g4iD6AO6gtZCa4IBQlBCe8HwQRVAkgC8AJFAgAAif2b/CH94Pw4+m/3uPdp+bH52vn++ev3L/X98/fzr/XD9sLxsem15n3o4+nD6CflJuL54orlWOcj6G7mR+OF4p/jDuTW48viqOCr3nLeqOAY4nvfuNwT3T7d+t2l4pzmn+VJ4x3ie+EU4k/jJOP74U/h/uD04GPi1uTR5cbliuc46hDrvuqz6n7qT+od69/sy+4C8PfvUu+B7+fwv/KV9Pb1Ival9cP1kPa596P4c/hT+B/6BP3//jv/f/4D/7IBLQW+B+MGMgIA/8YAagQDBxMHEwRXAtAERwhmC2IOqQ4cDS0NGg6GDrgOOg6lDfsN3Q4QEKYQ0w92D9MQ5xLnFAUWARasFRsVKxU1F1QZKRl6F/MVDBYKGFgZjBjNFzgY1RjuGdUbyRyYG5gZERkXG/Qdlh4QHfwb1xs9HMwdKB9PHpYclxsMG2MbyBsWGp8YyxrtHZoefB2RG2IarRtSHTMdaxwDG+IYqhfeFmwVZRRfEw8R3w5eDuUOVA8ODx8OMQ1RDOcKXAlVCMMGHQQHAuYAg/8T/vT8wPvd+uv5bfhr+FT6uvpD+Pr0x/I380/1efQC8EXsiOnF5eHjZOVV5ujkbOKV35je0uCP4tPgWt5W3h7gjuEn4Yje7tss3EHept9338DcGtmT2UPeruGf4f3fzN4x35PgeuFc4c7gWOEv423kleR65H3k8eW+6O3pHOm26N3o6+i76TLrQ+wd7S/u4e4C74nvFvEk88P0KfVk9KLzsPMq9MX0YPWe9QH2wPZv9p31Svcr++T9eP5n/vj+ZQDYAWgCygGxANcAXgKFA+kDfwNRAgoD4QatCl8M+gwMDhwQWxGJEFQPXw4tDc4Meg1cDvsOUg5tDZ4POBRpF7oY2hlMGkkZaBgDGQUaIxrNGHgWtRVTFzwYCBi+GfAcIR87IGAgfh/4HkMfTB8KHz4e/xv8Gaca9BzYHjIg5iCnIBAgsB9DH4AeFh5lHtUd2xuNGpwa7xpXG2YbwBoaGz4dcR5EHIcYFRZ/FJcS3xAGD3kM+gnTB74G4QeQCZsJhQh9BykH/AZ9BTADrAC4/Bn5yPid+eX4cPcU9QTyYvGD85D1I/YU84jrk+W05YPneOYe46bfgN7H393gAeH84MbgzuBC4cPg693I2frXdtnw2pLactiT1fbVANqP3C3eK+KP5GbicN+s3cjctt1M39je9NwN3KrcQ94R4VTk5+W25pvpc+yO6xvpBOj459jpkezj62fps+mq60Tuf/KZ9eD1N/Yd+DD6KPpa9/70zfRw9O7zJfVK91P5HPs+/Dz9/f48AQUDvgO2AxwD4gEpAZwBXgIvA0IETQVvBgMIMwqVDNwN/Q0eDv4Nhg2NDRQNdQuHClkKpgkgCvIMCBA6EgAU5xXiGEMb4RmSFsgUAxTOE34UqBT0E+gSsRHkEgMY9hxfHvEeIiH8IXgflxyaGqsYZRmUHBEdzhreGDMX7Rc4HWQiySJvIHof7CAnIv8gVB4hG/UXzhYzGJ8ZWhkvGCcXtxZfF5IYnRhfF6UV1xJvD1QNkwueCL4GqgcqCWgJogiqB9IHvQgNCM4F7wOYAiIB+f7z+1b5mfct9of1DvXQ887yxvFO8CnwfPAM7wjtges+6obpPejJ5WzjreGM4V/jouR/5KHj3+Gv4RbkveS14iDh9N8r3wXgsODt32bfcd/H3/vgLuJv4qXideNU5KnkQ+Se45njpOQ15ibnPedG52vnAejm6RjsIO2n7SHu+O1t7c/saOwf7Q3vafEh82bzQvPC84T0NfbR+DL6WPpm+sj5JvmS+RH6WfrT+l/7wvww/08BdALqAosDzAStBQ8G3AZkB/AGIQZ/BVoFpgW1BqsJFw0wDlcNQgt5CHgIDwxZD+0Q0xBRDr8MUw85E60VXRbOFDAT+BNrFScW5hVVE7cQjREgFCcW2xf/GPEZRhsMHI4bdxkaF6AXLBpRG+AakhjKFOUT8hZfGpIcqxy+GiQa1BteHdIdjRwwGfwVvxTxFHAV5xR0E9wSRhOvEy0UURRNE9sRaBBEDo8L0wiFBj0FxATMBDkFzARzA6IC9QFwAbICdAQ3BP4Bcv5B+5P65PrB+Tr3HPMg7izs6u7G8hT0XPKx7hfr8enV6vvqkemh59fl6eTY5IDk+uNt5A3mHeg96ULo5uVy5Cvl1+Zi5wXmb+NX4WjheuPu5VvnbOfR5mPm4+Zk6FvpI+kS6fPoN+gb6C7oyecO6eHrqu2v7t7vlPA88UPy9PI/8y/zl/Ia8h/ygvJ+89/0I/aK9+z40fkG+638b/1D/eP8Lfzf+7n8pP3k/cL9Sf36/LD9x/+tArkEVQWeBcAFtQUdBp8GJge7B/oGXgXoBP0EbAX9B6ALkQ2zDRcNIgxsC4cLCQwbDL8LkwvEC28Mxw0sD9YPWBCfEQoTpBP+E28U+hNrEtIQ8Q8MEF8R0hM1FjYXaRf4F+0YdhoEHNAbDhpaGFAXTRfhF+AXmhe1F3UYjBodHU8eIR4sHb8bjBqIGTIYzBbUFXEVChXoE6sSMBKKEuwTjhVzFT4T9w/SC70HsgVbBeAEIARaA1QCGAJBA7ME3QXeBl0H1Qa6BHkBH/7++Ub0p+5b65rqAeu26/PsN+657vTuf+8u8NTv6eyR6OLkSeHM3SrcHdyn3OndBOAu43Hm6Oe+5x3nr+Y755/n2eXG4jfgAt+b3/PgqOFB4l/jZuU+6X7tMe9d7u/szet766LrC+sH6qnpHurP64zuEfEM85D0oPXc9nX3DPbB8yfy3/Fx87T1BPe391D4Wvn++5T/egJsBCEFMQRDAkIAcv6f/PX6hPro+0X+wAC1AwkHIAmQCeQJYQpzCrMKfQpFCAQFfwIDAR0BWQOeBpYJzwvwDCoNeQ3MDYoNgw2jDR4MYwlMB/UF6gVfCBQM9w6gEG0R0RHnEVcRGRBeDtIMzgxoDg8QqxApEC4PWQ+xERcVwhf2GL4YoRceFhQU3hGZEHoQUxGHE1sWGxh9GKoYfxmpGk4bJBsPGukXVhUWEykRqg8jD68PoBCfEfYS+RN2E04R/Q3kCp8JdgmGCf8J4AhPBb0CngK3A4kGSwpFDBIMbwqQB+YDT/9F+pv2ofRB8/bxsvAP8IrwpPHJ8/r2Z/jR9kX0UvFD7bvoQeR+4KHesN7X4PvkV+hC6UXpOum46Z3rJO1e7O/po+YH4+vfot2z3FbdNd/y4hroA+yC7bDtyu2l7qzvW++/7afrDunC5pLmiugh68zti/AG81r1RvfW9zX3vvWD8/bx5fF58rnzNfWO9fz1Evjf+k3+dAK8BPkDLgILACn96fpn+ur68vvO/XUATwPQBfgHAgoJDN4NZg6jDLEJWwfDBSIEZgJ3Af8ByQM0B0oMnRAcEogRRBAcDz0ODg0yC6YIDwb9BKsFFwceCUQLRg1mECQUKBblFREUbRHIDkYMOgoZCY0IMgnpCzYPghEDEwcUFxX9Fr0YeBj6FSgS5g2mCuIJVAujDSsQoBKgFG4WIBg6GQUaWxqDGIkUzRAdDgsMlApPCZQIfAnQCxYPIRJoEiQQWw00CiYIVAiEB28ExAFAAOb/mgF8BEMHygl6DD4P8A7/CHUAFPgy8G7sru4U8jbzbPPH80f1vvgX/DL9JfwB+YP0PfDS61TmdOCx26za0d4a5YfqXu+N84D2ifjx+Nn2EPPV7svqtOZN4iveh9q92IDcvOVA73v2rPsI/W/6Xvf09NXxbO4k663nf+WN5aLme+jk6w/xafcl/QoBSwOSAvX9Rfgh9FPxRO8q7sfuOfGR9Ob4/f2UAUMDlgQYBSoEswL1/9j6hPX18ubzvPfm/D8BFQT8BRMIxguzD1EQpA2nCWQEEf/O+yr6r/lv+///Dwd0DlATfhWEFdgS8Q7pC/cISQV5AqYB4AFWAhwDNARIBuIKxRH9F/0anBpsF9YR1QvRBy0FdwIUAb8CrwZqCzsQMxQcFmUWqhbrFnYWVBVGEokM5gbrAzwDaATMB98MxxEgFVoXbhgmF0EUaBGsDo8MmAsECuwGXgSxAx8EnQXkCK4MoA6ADmYNPwuWB0UDvv97/bb8AP6LALwClgQ1BsMG2gZSB/EG/QT3Ad/8FPXD7Tbqw+k1687uL/N09s74NPry+T74XPXq8cTuNOut5kziDt/i3X7f3+IX5z7sbfFL9aP3Pfhk9lfyiO0q6e3lUuSV44DizOHk4hLmputI8yb6b/1s/bT7Zfib8xPvGeyB6lPqkety7ZHvRfK79aD5hf0CAQgDjwJTAJL9PvqW9u7zGfPj89/1Nfn3/aQCdgWKBpgG+AWEBW8FuQQiA8kAov1h+x38Yv/eA3EIhgslDWIOtw4QDj0NRgv4B1cF4wPXApACiAPGBT0JWw0dETQTBxOWEekPEQ7NC9UI2gVSBLQEzQbdCREMCA0sDhgQ9BIaFssW0BM2D7sKTQfhBcsFAQboBuAICwxUENITsBTQE5cSexH8EG8QIw5SCpUG+QPhA+AG6QovDuYQuBLjEusRSBAKDgUMxQrlCdsILgcFBSUDHQKmAusEVQdbCN0HNgYyBGsCmwDJ/vz8HPuZ+qX8FgAWBIAIUgvICvcHNgTZ/mf38+8v66PpeOrj7OzvGPNz9o357PvZ/Mr6+fUm8aztZeot5gLhMtzR2Qnbst/x5vTuUvWv+Hn5Uvgc9b7wyez86Ljkc+A93DbZEtoa337mGe8N9x/8DP6a/Vf7f/c98uHsB+kH5+PmY+jE6uLt3vGJ9tT76QCIBFUG5gW/AmD9h/bQ71Dslu0w8hH4sf3UAZAELwfzCaILZwuaCf8G8gNlAMH8//kB+ar6L/8CBXQKKA8rEzIWphfvFtsTpw6vCAkEWQElALkAYQO0BzwNTBO8GCIchxxGGlEWSBEnDDsILwboBcMG5AfbCFgKhg0yEuQWrxopHYUd1xpaFcgObggJA+oAjAPACBYOmRIXFb0VVhY/F54XDBcKFUQRmwxYCAMFBwNDAxQG5QqSEK8VaRkgG9UZDRaXERcN9AgbBmIEHQMqAssBvgIqBVwI2Au3DtEP8g77CwgHTQHv++z3efZv92P5e/vK/bcAdQSaCN0Logx1CrwFlP7Y9b/t+uem5LTjIeb064Dydvet+sz7lPok+Ej18fHw7SHp9eMg30fbe9mL2qnepeXj7bj0evjQ+Fb2T/LB7X/pReaj41Hgotze2k7cg+Ae5/vunvWj+Uj7JftQ+Qr1w+4M6bXlNuWX5zDrUO5H8Wz0nvc1+8f+AwEvAZj/y/ye+GjzNO/T7dLv/PST+z8BBwUABwAI+wh1CYUIPAblAgL/pvuP+dz4nPnl+9L/KAX4CgMQOBMEFMISJBBmDBMIKwT7AKb+L/4kAOoDxwhSDvETVBjyGZEY7hSND+wJTQYfBXIFsgYDCK8IhgmWC7kOixK5FroZuxnwFs8S0w2JCOMETwRYBgIKog7WEucU/BSyFJ4UvhRRFfMU2BEnDQcJDwY9BaEHAQynEEgVexkAHKgbfBgWFLIPjQuZCFUHkAbPBb0FlgafCMUL+w5nEYgSDBI0EJsM8QbKAOr7JPnm+GP6UPxx/ksBiQatDuAVehhTFmYOiABj8n7pjOW45Hbm9Ol17pjzrfhC/fsAyAL7ASX/k/qW8yDq/N/S13TTItNT1gndGOcb8tn6NwDsAf/+c/iE8b/rluY34ZHaV9Nrz4fRUtkQ5tD0rv8GBJoDBgDE+if16e516GfjJuDS3sHfouKW58rux/fmAY4KCQ7JC6YFGf2Y89nqzOT44njlQ+wq9g3/WARbB04JGgvqDTAQ2w4TCUQAKfec8CDu1e+s9OH6ugFuCRgR3hbWGTQa4BefEkMLHAMx+yf1KPPo9Sn8DQTzC8sSbhh1HGUdXxoCFAcMggWeAhsC7gEiATP/LP6wAbQJNBOfGykgCh/EGeESAAxFBiwC+/9MAAQDAQcMCzIOcRDGEmsVdRc6GCcXdBOcDV8HQwKJ/xwAzgOxCZEQiRbQGecZkRdRFH0Rcw/VDbgLJQiqAx8A1v5yAPsEEwvCEKwULRYlFWERJAsjBBv+JfqE+XT7Q/1K/h7/XwCvBKkMPBSgGMEY8xEvBVn46+7C6MXlf+YT68jx8feQ/Ev/4v/j/3QAXwAO/ln4We+w5S3e4dnq2A/bnOB36TbzL/vt/+X/Yftr9S3w+Ou96IHlROEj3UvbxdyT4XfpCvN7+7EAEwJS/+b4DPGJ6szmwuWb5gzoLunP6knupfMs+rUAZAX1BoEFnQGs+/jzK+wi5zvmXul88Mf5pgFUBk8IZAjrB18IIAkhCJEExf6Y91bxtO6A8Mf1Hf0+BdsMQRKlFN4UfxMrEDkLsgUXANf6Q/eg9v34yf0MBI4KBxEhF+ga7BpmF9MQ2QhvAj//9/5iADQCzwNHBXcHcwtjEKoUERieGZAXkBI0DFcFJADc/jMBoQVtCgIOHBB1EYkSVhNHEwcS+w8/DewJkgZ0A3QBQQIfBvYLihK+F4cZ9BdSFKEPtgq1BmkEYAPAAnICnwJ3A6gFkQllDn4SYRRvE68PxgkpAyL9WviO9RH1iPaN+cr9XQNmChQRBhXIFbISbQrx/qX0bu3q6BznV+hJ7L3xgvf5/AEBswLoAlgCZgCK/Er2x+3V5I/dZtk32QPdheSk7lz4D//fAacAhPyV9wjztO676Znjad1g2VTZn91b5YTvG/rvAZQFpAVTAvf7iPRh7nnqk+jb5zjnFeeP6TrvZPeoARoLow9UDwgMyQXp/BHz5+ow54joAe5Y9nb+iANRBsoIqwu8DocQdg+2CyAGVP/a+Fz0f/K281H4tf91CGAQdRWIF1kXDxXIEDYLXgULAJ378/gM+Y37v/93Bd4LkxGwFYgXaBZvEkQNGAltBlIEegIkAUcAbAC2Ah4HWgw6EaAUtxW5FB8SLw6OCTAFdAI+AtwDxgZ6CscMDQ2JDesOLhDXEAoQMA0oCfYEkQEwADYBIgSBCO4NGBO8FcoUgxHNDcQKwwg8Bw4F4AHD/lf9pv4uAhsGlQlHDdgQyRLcETQN7AXz/sH5t/Zn9pH3O/ii+PD5Zf1HBMEMxBJVFYIUUw2R/6DxFem/5Z/lBeiO7Ojxt/aK+g39S/5J/zAAQQCr/hr5Te724VfZYNaW11/bmeI17V/3HP4BAZT/rfoL9ZjwiO0K6rLjttum1jnXaNxB5Ibtkfao/eEBoQInAFr7gfRH7aXoyOYU5mPm6+ej6vzulvW8/ngIoA5iDywMtgXy+0XxAOog6Cvq9O6S9tH+OAS3BooI9QpzDvoRzhIHEOMKxwOR+2b1IvRR9/b7AwEuCJAQfxb/GEkZwxe8FAERWQ3XCWcF/v8a/Fr8tACFBqsL3hCXFl8aIxqfFj0RfwsDCOcH0AgkCHUFVgJsAo0HJw5nElAUvxTzE+gRKw5eCSIFuAJaA/cGKwu3DVwOPA6uDgcQRBHmEJYOOws9BwMD0f8i/qr+FwMCCrQPrxNxFh8WthLDDusKDAdeBKECOgBO/TT7Hfvt/VwDxwnaDkQR6hHVEDQMsQT//K32VvMx87LzpPOj8y71RP2ZDS4cpx6qFooJkPk97GznH+jb527mA+h/7uv2hvzS/fj8Qf1dAIcDDgJm+pntnt5n02bQotPd2BThOO+u/hMHmgbU/yr2t+9R7yrwiexH4lzUtcurzvrZWue884T9zAPyBg0HWANd+6zwrOfm47TjFeP/4NffCuPO6wf4wQUyExgbChm1D04Eqvdl6VLeltwZ4zvs2fXu/gAE3AQ4BgsLyBLjGr4dMxePCpX9svK265rq3+4z9tH+pghgE5cbSR4XHQgbnRikFIAO4wYl/3P5C/iW+mX/kQXvCzYSFRl7HgofKhp1Er8MiguhC30JQQWcAK/+zwLgC7AUNBm9GCwVDRJgEXsQjQyjB+gEIwWhB0AKcwt+DKkO0xGEFQgYVxd4E7YNjAeRAnj/QP7K/xMFjwy8EssVVxZiFdgTWxKEEOoNiAp/BZb+Zfju9Qj4Kv6VBlIO8xKOE2oRzw4DCwEEKvyB95T2d/cT99jz7/AC8gH4bAQ7FXMf9hpcDSf/F/Kp5+TiEuPh5Tjqze4a8832Cvij9iz25/mU/5YAEfpN73vjkthT0mvTCdp04uXrH/dBAIsBVvun8pzs9Oub7bzrp+SS2jrSudFN2rDmW/Gr+OT95QELA0T/P/dT7sznE+V25Vbm+OTz4bXhd+hr9ToDAw7bFIIVIg4sAqT2tuxs5Jrg5eNK7Fz1rPzzAAoCSgPAB+4NgRPIFgwUJgov/gX1v+/b7kvywfg6ARwK/hD4FGoWrRXUE44SmhGBDn4IAQJ8/Q785P22AUgGVgujECkWvBoWG0EWTA+QCfgGjQcKCRMJVgcVBoIIlg6JFFcX9hbkFMgSLRG0DjUKVgWXAg0D/wawDJAQGBKQE+UVnhgLGvIX7xI/DXYHMAJX/7T/5AFIBZsLPBRJGl8bxRmMFwoVyBFHDRsIwwLQ/f767foR/WEBWQZ+ChQPhBOBFMAR/QyvBiQASPtw+Ob2NfV087D1IP4xCYQTXhrVF9MKVvzs88rw5O8l72Ptcezs7uXzJ/iQ+c/4PPmz/G4APwDh+SruCeJW2ujWw9bO2/zluPFv/BAEmwQ1/SP01+/T7xrvb+n43ujUTdDB0i3cT+k79CL7eQDhBF4GtQK++S3vfudj48bgY97r3IHdBeEt6QH3ywa7EU0VYhQAEBQGKPiF62Ljj+CN4/7qtfKu9zD7Jf9iAzsJiBHaFwcYxhJ6Cbj9KfNQ7ULtzvBp9Wv82gYXEckXkxrUGdQWTxPBDwAMqAcjAoP8Evqr/G8BKgV1CV0QdBcKG6MZQBQ7DpgKZgk3CaAIwgbtBNUFUQqAEFQV4RY3FmIVCxSmEE4L5QXZAk0DLwZMCvUOVhJoExAU0BV4F/oXFhfDExgOPghBA1//tv52AlAI8A0oE6gXJBrqGYQXZhTlEQYPZgkeAtH89Pmj+I76GgACBt0JnwxqD8EQug6dCQgDvv3O+9L6FPhk9bv0y/fVAbsPVRc6FFsKV/4x9IbvRO8277HuFvC889f3Ifoq+cn2tPY8+i//6QCK+/TvMeO22sLY3dpC3kLk/+5D/O0FdAfAAQn5HPIB8CDwBe2O5LvYTNDz0qXeoeof9Kf8sANzCCEKGAc7/zf0iel74yHiX+Ez36jdjuAV6nb3QwRTD2IXFRmmE6EJof158WLnpOKj5GDq3/A294H7mP3hAM0GUQ6HFr8b7hi4DrQCofjs8Bbskuvi7zv4ZQMJD2YX9RmjF7ITbhGkEdcQagt1A+f9G/wB/Fj8xv6bBMQLThKjF+sYVBRtDaAIRwfwB0YH7QPKAFMBpAXVCn8OcxDlEIYQzRDbEEQOUQl+BJMBNwHzAhwFkgbGCH8NBBMUFugVqBOCEPUMoQi5AxYAiP/UAZcFpwlSDEwMtguZDSgRbROwEkUPKAv9Bg8B8vm+9Wf3o/02BNkHjAiRB6QFxwPyAocC1gDc/R387vsU+RPzDPEd9ykCJg8kGeoW5Qew9yDueOmV56jocOuq7l3z/viM+4f5e/Yx9tr5KP+WAIP6yO6o4rjam9eK2Obet+nw9Ez/uQa9BQv9bPTV8HbymvX88nroltw/1RHVzt2261X3L/8RBr8Lgg0fCSP/CvRx7GnpD+nP6G3nXuVS5cDrCPllByESbxgIGg4W2wu4/YjxrOrM6LXsL/VM/OH+2/5y/qMAUghyEjAZjBseGvIS+wbk+3P1b/Nb9T/7mwOvC0MRVxMKEywTcBTwFPgT5REtDuQInAM1ALP/pwHABQEMohIsFxwYOxRMDbMIZwj+CJcIUAgdCGAHRwcSCfQLxA2tDWUN0Q02DRQLBwmpB6wGiwW4A8YC9QRLCfAMgQ7ADk4PBxA1D58MVgl1BRIBS/5o//YCzgVPCP0LHA/XD7sOmQyZCnQJ7waPAdn8GPx2/V3+9f6c/2AAQwIdBVwGRwQ2AHf8UfqE+RP4DvX98s/0G/yOCAcT+RHRBtf6Y/K37cXsDO1W7CHsiu4T8/P2vfdA9rX1Ufij/FD+b/rh8UHnt92O2NLYaNzd4A/nOvJ+AKsIOAU4+1nyX+6078nxAe4K5CHZC9O61vvi+O529aX6AgN2C0AN5QZI/Xz0Tu2y6F3nJ+c45Tbj9uZh8uf/EwqoEHYUHhRNDuwE+/uz9E7ug+tZ77v2nfxc/3P/rP/HA3QLLBQyHKEeqxbbCIH+VvoY+av46vnw/V4E2AtOEtIVRxYpFXkUuBXbFhQTMAp/AsYAHwMvBdsFNAfDCjQQVxa+GnkaiBVSD1kLvQoyC1wJ6QXWBOQHJQ3NEGwQEg6lDNQLDQy9Dg0RNQ+VCtIGlgXSBlYJhwuODeMQPxTeE6sPfwv/CI4HqQf8CFQJEwgsB3YIcQu7DQ8Okw3WDWUP4xDFDu8H3QB+/c38iP0/ANsDMQYeB5oHeQcuBvQD7QA2/SD6Pfgq9kvz1vD78Tb7uAqVFjUZHRS2BhnzXuRY4WDk1+bP6LvsD/M9+Q78Kfu3+Mv38vo0ACABUPnd6ZXYyc0UzZnRPthv5a74QwedCvAF1Py38lXuX/FH9E3vrOGH0mPMO9Jo3cjoo/Q8AJ4IJAxKC98Gpf7D8zbrbuj658Lko99Y3izkZ+7s+b8HdhZpHhQbiRAjBJH3r+yN59PpqO+F9Ov3+PoL/qcBOgaoDAgWrR5pHyYXIwv//s/0NvBn8h/4M/4xBMwKuRGcFkYXRxXlE4ATlBIgEAoLbwTUAGEBUQLsApYF2gniDkoVaBrqGeMTUwy5BwEIUwqlCu4I9wc4CbkLmw33DekMVAtTC6oNnw+SDhcLQQf4BPgE+AXrBhAJ2A38E7IXORabEPAJ/ASmA1cFGQeqB4EItgpzDakOUg1wC4ULdA2PD70PTAylBhwCXv9M/cr8X/9UBJwJWw3ODUgKlwSA/9X8OP23/tL9g/p89xX1wvPJ9ub+CglqEuMWTRHaAjXzGOiN4mPiCefQ7T/zxPZp+dv5mffC9u/5pf0g/sP6K/P954PcldOlz8zUFOPq8in+cQQwBHf8C/Q/8Xfxi/Cg7b/nwN8o2a7V4daa3+zti/sEBdgJVgm4Ayf7APOa7cnpy+Vh433kbOfv6azsLfLE+0EHyxDUFYYTUQcA9oXqE+nv63juePGR9Un6yv/DBAwHhwf9CFgMIhA/EZYMrQKg+NzzA/VI+G77bgCTCB8RaRa6FmsS/QsIB7sFZQc8CecIfQYkBC0EoAb8CHcKng3LEm8Waxb+EjcMXARnAOkBpgUTCRIMkw6NECUSIhJID0YLGQloCdIKtwuMCiYH3AM+A3IFEwlTDbMRpRTJFP8ShxCfDG8H8gN6AyIEbwVGCBYL9wvJC8sLqQxoD04SJREjDNQHLAWqASr++v3nAO8DLQa9CO0KoAoPCF8FPAPaALv9n/kI9WDyDvSG+Y4AxwgaEgsYihSkCIX77fCG6ADkauWP6uvvwfR5+Wr9lP9IAFsBrQPABLAAx/bD6rDgatgC0VbP3Ngw6Q/4tQT0Dt8PIwba+7D3vPXR8P3ncd1l1aLSCtXI3DbpyPWL/iAFeQwoEk0QJQYQ+oTwQudB3VnXwdic3knmGvHy/noLmBNMGJ4Z/RMeBsv19uqF54fnVui36iHv7PQx/C0FpQ7wFQQZlxgJFtMPqwRa+Drwd+0i7iPx+vbv/6EKmRSJG9MdKhsSFTIOrwhuBNj/WvuV+Yz7n//WA3wHzAt8EoUaEyCdH1cYNw1aAxD+Qv0+/xICXgSZBmoKag97Em8SDRL2EnoTrBKCEIgL9QNQ/XD6HvxXAlULRRMtFw8XxBSdEYoOnAwXC3kIKQb5BUgGYQUpBOoD+gVyC1ESNhbPFNIP2wpcBwkEkQBz/qH+VwGlBa0IqAicBgUEjwLjAyAGYgQj/VL03u4t72v0cvv8AhANcReWGaQQ/gLu9Lzn2OCh45Xq8O5W743umvBO9nz8dQHJBVYIGAdPARX3uOgR1yzHGcOezpHgg+8v+ykEmwcUBqIDTwFr/Q73E+6o4x3afNFoym/LqNjH6l75bgTqDEQQ9w2hCHsCG/tN8H3jXNoO1zbX3NoW5B7ykQGtDz0bYCHCHK4NWv1T89juJuww6ZLm/ebM6xz03P67CW4RZRYbHLYhiyBRFLIB5fEt6gLqN+7+87f6gAPODjEaZCBeHuIX3hLzEOYP9AsdA1P5qvRP9sL7TwIACLUNhhXRHT0i4x9yF4gNiwb2Ag4CxwLEAo0CEgWOCEUJOglSDKMRBRYgGEcXqhLBCwoGnAICAKn+ggBwBeELKxLMFeAU2hAbDRgLNAqSCg0MSgxNCsQHCgWWAnUDMwiWDVMR1xFWDqAJjwbBBI4DSAJhAJIAEwW1CigNpArVA1j9wPtX/R7+dP2s+xn5nfde+DX7JgGmCWIQlBJgEH8H+Pba5oHgCuMl6MPsffDj8/T3QfyR/8YAOP8L/eb8Zvxn9wXte97b0FbMdtK83XvrR/qsBF4H9gRfANX6xvXE8bDtHuhb4MHXd9JU1OTcs+gT9TgA7QeGCgsITgLH+x/18u285+7jdOEs4Cbi1efU75r5EAVlEDUXshXoDN0AwvQy7DHq7+xq8EXzevVo9+/61wBbB2MNShO0F3wXghETCCD+n/Xm8LbxyfaF/QIFxgzUEpUVoRUiFKcRNg+VDaELKwgYBL4A1v5L/4cCngchDbkRthRJFncW/RT1Ea4NdAlABysHQgh6Ci4MogpsB8AGcgkDDhsTLRYTFQcRqAxFCVUH7QaTB9EI2goFDgURFBG/DU4Kswn7C6kPNhJKEc0NogqzCOoHsQjVCSUKfAuCDmMPiAt3BU4BXAH8BCkJbgsiC54IXAb2Bk4IfAYQAgD9Bffz8evxX/bH+qP+gwUWD1EVCRSGDSoF1/pw77bn+eX/5kfoJOtY8NX1Z/kN+wH9FwGKBWEG1QG2+DHsnN7L1IzSItYH21Lhzezq+6oGkgiYBIv+ofcc8QnsWufg4VncnNhT2Ifbp+Dj50Lz/wC3ChwMOgbC/HPzfexA5+Lhg9wm2hHe4ecR82r7AAFvBgkMww6iC4ICRvYt7MPoTOvA7hTws/B98575gwExCBoMJA7ODw0R0Q/MCfn+ofJt6vTqdvNW/usGlAw3EFESWRPXE/cTMBNEEDcLIQaMAbX7XvYA98X+WQkWE+oZBBz+GWsWwhIJD44KlAVLA+QFkQqODX8NZgoWB8QHAAyUEPAUCRjnFncSjA5dC3QH1wR6BlILjQ8SEaMQUw9zDZYLZgpDCvsLng/mEvATkhNKEjcP5gt3C3kNsg7GDXALXggyBZYDYAVzCe0LzwsNDJQNxQ6BD1EPOgxVB1EDhf559pzuVezF70L2bQDcDmMbnR7tGe0SVAn/+k/s++MA48Plk+nw7YnyR/bV+O37XwHeB60LPwo2A9j2webk1/7P/s811GLbSuh7+dkGQgvQCHMCI/qv87TwB+325OPa+NMO05DXG98Z6NTyDf+SCToOvgvHA4T41uxE5CnfHtqN1PfT49z961f6gAWkDmgUzROFDWAE2vgZ7GjjieKz5hPr5u0s8H/0vfz2BuYPohYOGp8Xqw/WBZb8/PMv7ILnSelg8fH75AakEcsYnhnXFrYUgRSkFMkRjAo/Asr7X/bs8i71gf2YCOsTQB11IUwf6hinEawLhwdFBQkFxgYSCgkNSAxOB+kCqgM+CfsQEBgWGxEY4RDoCUQGiQX6BQ4IlAx8EfoT+RKUDsgIxQSbAyoF6QmxD3oSNhJnESkQLA4ADbcNHhC5EkYSVQ29Br4Bsv/bAF8DAgUFBxYLnQ8eEz8V5hN6DskIJAXMAKP5PPKT7tLv6/SJ/QYJdxPYGJwZ+RYPD+4BEfWV7WjrbOsl67LqiOwN8kz5m/9LBFgHYgiNBy0Etvuq7RTfTdYL1UzZVOGn67/11/3oA3cHGQfFAiP88/QV7hvnet/v2HPW2djn3sPn8/LS/mkISg0qDZIIRv+N8vbmzN9z2xbYQNiu3jzp7/PJ/S8HiA6IEQAQ5Qo3Ak72LOoR4h7gQeN76JztNvNA+j4BrwZ9CywQ3xK2EbwM5gSs+jfvu+bx5answPYRAdgJUw/YEGsPow1xDjARdBE5DbcGlv9D+ILzzvSc+2cEIw3UFAUZ5RfEEhoMdAYLBSkIXwu3C7QKUAkSB98FhQdJCp0MUg/TEZwR5A26CFgFsAXRCGcMhg4yDo0NTBC9FPEUtQ+wCA0D7wGhBkYMUA0eC3wKKg1zETwURBOCD9EM4w0IEMUNvgYkAEv9JP4zAv0G6AgTCbELdhCvEmcP4Aen/935qPfJ94D3ofY6+mcFyxHqFvETiAtH/wv0n++f8MnxE/IE83v0e/Vo9Z/0d/VZ+g0C0gd+BzgAFvPY4g/W49LB14Tfuelo9kMABQPkAPL97PuW+kX4afMS7EnjMttC1yvZEd/H5mbwE/yzBisLSQjgAun+pfqT86HqfOG22b/WdNsR5rXxgvuZBBwOzhTiExkL0v7F8+vsyuo+66HrXevf6xrv7fW+/sEGMg20EsQVkRMeDAUCmff+7rfqx+vX8MD3IP9pBtgMCBEoEhYR1w/UDxoQ8w0UCPf/8fci8kjxXvdrAsINdRZOG9EakRUcD/UJ0QazBsMIyQmZCD4G9QIJAMwASQYXDgAWSxy4HR4YMg4bBcT/3v5SAi4I+Ay5DoMOwA7kD9gP6A1xDAANjw7KD2oPXQwiCFUG0wjeDbARaBGxDYcK2QqvDBgMAgleBlkFvQWSB10JDgkACJAJnQ2cD/cL3wPb+iP0FPNW+F//8gRuC1ITNhdhE1UKRgCa9y/yifFn9OX2nfah9NXyJ/J/85b3qf3YAxYI4AduAVj2Eeqo3u/WN9c039TpUvRR/SsBGP85+1P4ZvZ39Wj07PCg6mXjut2k25vdweJ06qb0LwAXCcoKBwUM/NPz1+3Z6SjmYOFe3VLeCuZ98Y37xQHzBboK3A6sDc8Ehffb6yTmkuYQ6k/t1+7j7zj0lf3rB6kOEhKEEw4SowxfA7b3Bu3X5jLnFO5I+HgBGghEDA4OEg+tEPERqxImE5YQoAgK/i/1UPDu8HH3YgEzC9ISuReGGX8XLRI0DMEHhwWVBi0KmQthCN4DrQAL/6cB2AmvEu4XoBrwGq8Wtw7KBmUBdP9qAYMGSQxCEK0R+BCjDrILfwmrCOsJ9g25Et8TDRBSCiYGKQXKB70M5hAjEtQQrw3RCJADNQC7/zMCfgdcDRgQyg57C+0HcwUHBTIFhgP3/7H75fcY90b7HAMADJETPBZ8EeUHKv7M9UPvc+178W/3i/vU/Nn5hPOj8N31ZP9tB5oKJQat+nXtMeIR2jXYb9406Zb0zP49BBgC9ft99/f14fVl9Tjy7Ov95LvfSN283gvkcuu28zD9IAclDaUKygAV9XTrmOXx42HkR+Qi5FTmH+yk9AT9zAKYBi8KwwzGCuoBIvXH6lfmpuaH6YftKPFD9C35TgGtCf4N+A2WDHILxAjUASv3Bu1I5/jnDPDO/MwH2QyRDOMJvQghC3kOog+QDmwLpwXV/qT5pvaL9Qz4MgACDB4WOBrkFvYNSAWoAhoGkgvcD6MQegzZBToBRv+Y/ksBTQnREjkZkhsDGSwRjwi5BOgFuwjGCvgLGg3LDS0NUQt5CM4FfQbDC4YSKBevF5ATwQ3oCjULGgvUCTcJAAkqCNYHDwiABhkEBQVKCSgNgw9AEbYRORBnDWAJdgP3+271yvIc9Oz3//7SCaQUKBtKHPsWbwqo+2DyDfAN8SPzzvSI9PTzfPUW+NP6nP+xBoIMlQ3nCK3+QfDy4crYc9Wr1g3fku/dADML1g0jCt0BQ/re9qf0i++f5/ffL9wq3TTguOOX6S/z9P6PCU8PdA4UCAv+dvKj59vdq9XI02TbH+gb9MX9qQSACNQK5AtqCc0CWfrt8lnuH+wF6vPmduRO5kLvkPxzCEYRbhcTGPQR6gh//2X12Owp6UjqOu4o8wv4NP7bBj4PphMLFKsSJBFpDygM3Qbs/033pe+j7j31P/69BiEPpxVSGNQXXBTKDfcG6wKZATcCjgRTB5gIkAcaBR4D1wLJBE4KBRO/GcsZgRRTDUoGJwKoAqkFFAkoDZYQnRBUDRgJXgUaAwwErggXDv0QyBEbEg4R5g0fCtkGUwWyBzEMUA3+CdkFMgJB/83/bQRUCZcMsA+nEjETVw9UB07+c/f48vXw+vL7+JQCExCGHGcfaBfxCSr7tu9o7dvy/vc1+bX4OPdl9PTyOfWb+UT/uAflD1UQ0gYr98nkt9QTz5HVZOF87gX9sAgODCkJkQSt/gv4e/O98HXseOVQ3o3an9s24OzmuO9y+hoGPBCWFL0QegZm+OToW9wM1mrU89Us3QPrdPopBpwNixHnEDYMQwY1ALb5N/Od7JrlaOBz36TiYOqw91kHSRMgGZ0aUhnZFPMLRv+p8m/p6+Ms42vphPT3/rMG8gzZEQAVxxYrF+cV9RKFDfQEF/vx8uztsewv8Tf8lAptF2AfEiBxGdcPLQjTAyQD+gWrCJ4HRgTlAEX9XPsk//YHiRFrGYkdxho+ErMJOgT6AFUATwMLCEIMxQ/SEXcQMQwrCK4GrwfNCWELuAuuC1EMHg2HDDgK0wfQBl8HpgkXDcMOWQytB7QDtgBv/mb+6AHtB+ANXRHwED4M1QTG/cv46/WN9kP80ASKDMARSRIEDEQCk/vl+YL6FPsG+2j6g/mP+Eb39vRI8rnyAvmnAnQKkwzyBiL7wu5D5TreiNs14C/qXPX2/ysHhAeVAo/99vpA+Wr1su5K6DblceTO407jfuRL6a3yQf+SC5AS3Q9hBTH6UvGs6MXgCd1F3jjj6OqP8xP76QDdBZYK+w0zDR0HR/4V9hPwtut55wfk1+Rv62j16f/GCBUOShCPEf8RrQ8BCSD+qfL8603rve378X74PQBiB/YMrBDpEkQUhxRvE+AQrQvlArn4lvEE8Bnzd/kQA1MOJxfWGk4ZYRMxDHII0AiAChIMigsTBj7+2fny+cP9owY7EooaqR1+HGoWZw2PBokDvALsAwMHJwocDEMNAw71DaIMEwuBC00OWBGqEmMRXA05CI8ELQNEA4ME3QaKCfELHg7ODnsLvAQ9/739Bf+WAgYIQQuACR8Fl/+3+PD00/hRAcIJixEGFj8SnQe3/MT0ke/R7Qzw3PSU+gwARgM9AuD9svn796L43vrL/EX7iPWH7vPoNOXG48XlFOum8rn7hQQpCQwHMgAf+CXwnOm25q3m7ubs56nqDe327Ynv/vLj91P+1wSUB7sELf4a9n/tjOVW4F3fDeIy5+7umvg/Af8Gcwr4CsMGLP8P+F3znvBD7/HuF+/Z7zLyAfab+Ub8Uf8DBDkK3w+wELIJ9P3E81nuye2P8Yf3r/x7ANYDJQatBpIGgQcoCvgN3hAjEL4KdQK0+lX27vVn+Dz9ZAQpDLARwRObEr4OMAr2B4QI3AmoCisKxAeUBFUCVgFEAkMGAQwwEV0VyBfBFrcSvw1iCSoHkQe4CFkJPAppC9cLWguWCpUKHQy8DuURKRVEFkAT5g0gCUcG/wUKBy0HpAdACuwLMwpJCIcI1AjGB5kGugbXB4QHrASdAez+m/rC9ov3kPxlBLMOgBYuFsgP7wYO+zbv3Op67q3zRPj9/VACFgFz/H351/i/+ZT9NwJNAoP9dfaU7Bbimd2432PkOO27+4QIUwzDCKMCkPyX91nz0+7I6bnku+G24/fpTfCM9Mf3avsKAIYE8wU3A+j+NPvW9iDwWugz4pjff+Lr67X43AN3CzQPzw3nB1MAuvhX8gnvvO7r79zxhPNZ9Bj2UPmN/PMAVgiYD9QR5Q2ZBZX7IPKm6pbnVevT8438qQM5COYIdAceBx0IcAnSCoMKjgZhADb7z/cE9cfz+PYx/t8F0QyEEkoTiA6LCZkGBAR3A+cF6QYVBeMDvAJV/0T9OgCeBUcKng5oElkTChHrDRQLfweTBDMFtwffCMgJ2wrZCN8EHARyBtUIMgzOEBoT9BG3DzIN2AlZBsADZwKlAtUE9QdGCaUHvQWuBesFqAXgBrcJgAuvCnUHEAKt+wT3qPU79jj4Tf78BzAPwhHLEqAP3AOm9n/xqPGx8XXzR/di+dD5I/ot+R34j/oHABkFugdBBjn/YvRl6pXko+KI45LoJvKI/PYD8wdyCEgFVQCm+x/39/F67Frobudj6ZXsUvAU9ML3zfy0AowGgwjICf0Gnf5g9Z7tJeZs4lTmeu629kP//QYLC+oLcAtDCewESf9a+R70g/DN7mDuae6d73X0kv2VB6YOqREPEXENAQj7AUv74PMV7uHs/u/u9Ir6agCmBUIKdg72EBoR7A9TDVQItgHF+ij01O8z8OL0u/veA7wMzhNWFnkUTBA0C44GCAQZA9MBVwBx/+D+xv8+AwAHownEDbgTNBfIFQUR9gowBXMBxgCMAtMEwgaUCRUN1Q5qDtsMxgmiBvgGGQoVDNkLDwrdBuUDKQO1BLMHOgr6CQYIIwfJBi8FjwKs/6D9EP5qAGYCfALg/8b7jvlM+hf9ywL8CTgNTwtnB30ACvXV6ifoo+tO8Uf4tv9tBOgEMQNTACf7x/Vr9Fj2/feq99byM+lS4njjuedT7CX1AADWBaoGDgZ2AxP+vfc58s7tQul85EXj/Oc279T1JPx9AcsE9QbZByUGdQIB/hD5VfSf8BnugOx763rs1/Eo+tUC6QxwFhsYJRFXCAIAnPf18qbza/UU9vX2LviI+dv7sv8IBeQKABBdFJYWKxM8CmD/afRR7DHs4fLh+Xz/VgXVCXcL6wtPDEAMJwyvDAgNFQvGBd7+6fhs9RP2DPsrAY0GPwzAEMcQNw08CXUGUwbgCO8KHwq7BnoB0fxi/I7/AQMaBycNYxLuE2QSoA4UCcAEvgSVB8wJ2ApPCw8KCQd0BHYDIgQ8B7ILhA4ZD2EOngt4B0kF+QUXB1MHGgemBtUFPgT9ARMAgv7w/Gf9IwHuBMEFMQTLANX7yvcq9nT2DfvnBWkQOhLZDAsFOvlY6hXi2eR56+fxWftABd0HLANa/Vf5pveS+B/6/flK9w/wdeRK21bawt6V5MLtJfsFBwUMAgsxB7EBr/o186/sXucD4g7dw9zL4zfuaffD/5IHAAzxC7gITQPI/Q/6GPY58OjqT+e45EzmCO85+18GmRD3GCobshXQC9QAW/bO7uzsv++U82P39Pth/zQAcAHHBQMMdhKXFzMYphJSCRH/3/R27JrpQO5H93EA/wjzD+4RvQ+DDh8P9g44DvgMVQnaA1L9ovSf7Rjv2/cCAh8MVBS+FX8RoA36CswHPQYiB+cGawSnAaT96vca9t/78wPZCVoQZxfVGPkTwQ7KCiIG3gJAA2oElANfAi4DwgVWCD8KrgwyEOgS2hJIEJ0MLAmuBqgEYQJ1APT/9ABYA/8GOwrICoMJRwmJCZUHjAQKA74BHP+Y/Bv6mvbg9Fr3S/wxAzQMShJSEYsMRQYC/CbwOupV6zHuEvGT9Rn68vuQ/D3+0v9IACYBKwJqAEr6U/A25T/eJt7q4YznkPBO+0wDNAd0B1QE4f+S+3720vAS60Dk6d484ArnJe5s9Xn+lQbvCsULnAnlBAv/Jfm780Xvkuuo6BTohOup8oj7vgQ0DhgWIxgmEzgLWwMB+x/zpO6y7ZzuvvGW9xL+bQN/CKoNWBEfE6QTJBFcCtoCgP0E+A7yQ/Da8/H4Jf7VBPULLBGzE6cT/xEkEHENcQhnAnT9d/mv9pP3UvwyAUQEfAebC9UOQxB5D74LaQcyBtEGRwWrAUz+1PuB++T+5gOZBrgGkQcDC58O4g4aDAoJggaaBJAEowVRBUkE5AQlBiIGDgaMB/IJQgwnDpEOjQxHCZYGXATqAX0ANAGtAmcDkQMoA7IB8/9N/04ANAIrA2sC4ADj/Tb4NfMm87b2jvzEBhgRwxEJCVz/wvVR6vXj+ue975H1Gvw6Au4Bp/yF+Ef2yPUo+c/80vqa9X/wmecx3O7YMuBH6aPxM/2jCMsMGgoJBYH+QfYl7uHndeN/4JrfdOLR6WvzwvvtAUoHxwtZDcYK7gTL/Qn3HvHP68vn8OVV5mTqWPTqAQoN1RPYGEAbIRfXDO4AS/Y+7lTrgO4D9Mb3H/pU/SUCcAgeDzoUMBiGHL0dUxYeCEL6V/Di6p3r7PIo/TUGEA1tErYVhxW7EkYQ3Q+WELcPnwotAmP6dvW288f2y/4hCAwQmBWNFq4SvA3SCbMG4gVeBxAHlQODAKf/Ov/M/kgAogQjCoUOBRHxEDENnAcHBOMCiQKBA60FtwbRBu8HyQhoB0QFmAT4Bb8IeQq/CPQEmQIMAysFyQZhBqcE7gJ0ASABkwIYA3cAef3W/OD8X/zf/D3+C/7E+835q/pE/ioCOAUQCKwIbgMp+sryte416zfpYuzD86H6a/+NA6MFoQKC/Jv4i/d59R/xwewP6sHooOeI5knoRu9y+Dr/BQRsCIYJ8AQd/r34afMu7InlM+Np5fHpre/w9hT/4QXwCdELxguCCA8Cbvsb91H0YvFr7tjsHO6v8nT5AAHlCFcQoRXnF98WHhFzBsf63vLW74TwUPRH+lQAEQViCJsKjAzvDmARoRMAFkgWmRDqBSX8YPah88v00vv0BQQOsRIgFfMUXBLCD2YOoQ2eDcUN+gq2BGz/2P1U/qkAgwaMDSIR5hB/D88N6wvaCuEKZQs4DAwMvwiWA4gAiAAaAqYF2ArHDZcMjwoFCocJVQjdBwoJVgv8DLILXgehApT/gv5r/7EBlgOOBPAFkwccByUEYgG2AJsBmwKsAfX92fki94X0tPJD9Cb3Kvgh+cf6S/qn+Rv9dQLSBp0KTAnZ/RzvM+YJ4bzciN4F6Cvy7fgM/ocAZP2199j1Cvim+Xf4P/Si7Fjk8d4t22LYyNs950r0Pv77BXQKoQg8Ajr80Pfq8YzpyeKP4PHgeePj6lL1Jv3dAVAG8glDC50KnQfxAZf7Gvb88FXsn+nb6ezs6/IB/VcKqBWyGiMbdxjoD5ICKvib9Lr0lvYt+84ARASbBV0GyQYTCHUMEhMyGHgZHhbvDYEDc/u095X3EfvsAVYKHRJ5FggVJRBeDRcOeg8MEJUPGg0YCawFdwMSAvEBjgMvBw0NuhK1E8MP6As1C+ALBAzGCysLHwpaCaoI3AafBMMEfghHDXIPSQ4CDMwJJQc/BQIGMgjYCfMLsA7hDlML+wY/BCsDYgMRBCUEeAO8AZn+NvyQ/dwBsAXMB/gIiwjyBAz/Y/mf9Hnwnu4E8BHyzPLj88D2hPrp/oQE8gmfCyQHAv5+85foNt7l2M7bq+Pz60bzoPg7+6L89P1h/rL9q/vZ9n/vzeck4CrYJdPh1eDfduvN9aAAbwqaDZEJUgPC/Kn0fOzf5rjjV+GJ3w7hmOjh8zL+6QY4D5oUmhP0DI4EK/0g9pDuWulC6YTsBvHQ9tH8KgIoCNYOShXLGrYa8RBtA4n60vX/8unzCPjV/MgCGAljDC0Ntw5AEUgTZRQdFAwRggqsAhP9P/pQ+VD8EgSDDFUSBhWAEy4P5AyGDV8OZw9eEFsOkQklBQsC3AB6AwwJQA5tEVgSrhAmDbMJ9Qc0CBQKeg1fEbYSRg/GCE4D0wEuBPQHrgs+DwMRCg+qCuYGsgVECF8NrxD4DzoNEgp6Bi0DggDa/bz89/9UBnIK+ggKBLD/lv1p/Y3+tv8y/5/8c/it8o3sounm65HxlPl6BLUN1A0jBmn90/Jp5Arb3N2k5Unq7uxj7gvt0uvd7bHxPPb1+ir8HvjU8fzpl95d00bQeNYg3zDmTe5Y+GL/OADg/RD8jPo597jxsevz5TXgH9364I7qS/Rq/GQECAtjDf0KGwaIASb+nfpw9unyivAK73nvXfPo+hcFfhArG6Yhih9RFPYFRvsE9rv0T/Yb+n7/twUKC8kNug5KEHsTqxeXGx4c6xU+C3ECO/0o+XL3P/tiA5YMcRRZGAUYxhYvFiAV2RMrErwNQAcUA1UC4AGXAIYBGAcSDxkVWxdSFt0S2Q4NDHMK/QmoCoAKkQj0BlAGcwXaBVQJ2w2/EHMRMhABDv4LpAlQB4QHXgqEDPILvQmtB8oG2QazBgYG+QU/B0wIEwckBGsBMP/T/fj+XAFUAT//oP4h/9n8kPYb8N3tI+8v8U72PQDsB6UHOARaANv2tulL41Hli+go6n3rsOu96gTrsOwz7h/wUvNG9kT3TfUy7uLh5dbP0zzWbdir2xTkE++s9jf6zvwy/qL7N/Z98XjsMuT+2wTaz92u4rfn++62+IgCEQmMCssIZQYNA4v9L/dG8oHujOrB6ALtevVN/eMFbRIYHTse8RiRE50McgKQ+nv4xvhm+TX8aQBdAw8GewqfD98UKRsMIDkfgRmtEsUKYAEC+2b7jf9kA3MHCw2oEm8W+xfdF80X6RgfGSEWeBFtDSsJdARsAsQExgjjC9AOfhJGFeUU5xGoD0IQxBF6EfgPzg4ZDUcKtwi/CXML6QxJD58RPhE4DiIL7gnjCrgMqQ2aDZoNxg3CDScNtAqPBvsDlwQUBasCu/9n/+sAKQIjAz4EWQQ0A0kCHAH4/O/1n+8b7AjrUO1E9BL9zAL4BM0FBQNv+d3ttucc5jXltuZx67Puiu7I7RLtMOzw7TLzWPhG+nz3Au+a4+ra5dbI1ZDXpd0J58bwQ/gW/F/8e/qv94T0vfBQ6zTkOt5p3EXe1eFy5/LvdPleAfIGvAmACIIDZf1i+JX0hPE172jtUey07aryR/oFBDQP0BdfGosY3hNxCk7+WvaH9DT1jffX/PoCaAfKCj8OxhHHFRMa0hx6HK4YIRHpBgf+G/qn+pP9BANcC0YU1hrSHTEdchpiGLAXYhamExUQEAvIBG0AWgCWAyIJ0BB0GB8dPh5KHM4XQRPVEOAO1Qv7CQ4KpwhJBQ4EtgbQC9YSKRo3Hd4ZMhM2DbYJXAiWB/cGsgcwCb0I9QWAA0cDFgW4B6EJ0wlDCPwEfwBd/C/5HvYO9Pj0G/f+9iz2cvh7/E//PQIQBV4CMPlF8Mbqh+U24W7ieOiR7tzyMvXQ9PTy+vGu8QHxZfBM79PrluY44uXeX9vf2T/eJOcn7770Jfor/kD9rPh69HDweOqW5ADiKeIy47Xlz+o78QH3CfyqAFoDowK7/4P8uvkf+FT3kvRG75brBezE7tPzV/3ECKIQIRQtFUUSvQlf/474RvYs9xf73gBHBcQGfganBdcFcwkBENUV/xhpGaIVeQ3IBOv+tvtQ+23/PAebDm4SRBMtExoTZBO/FH0WGRaEEnQNjghOBMQBfQKZBnQM3xEzFaUVdxOZEIcPRBD3ELQRMRPFEsUN8wYiA0QDxQXQCUUO6hCTEGwOiQzmC+wLDww+Df4PlxFuDosHGQJ/AFwA//+dAFsCUAP6Ap0CZgJMAXP/Zv5o/nj9h/ql9x/3K/lW/TICHwTOADn6TPN47Ubqluoi7QDxFfbm+Tf5BfUt8XDvSu9l8EPyDPP88CTszOWI38fb6Nyx4sXqTfPv+t//JwFM/xj7bPVg78PpUeWe4lnhjuHW5MLrDPSA+ywCBggzCz4KKwb0AFL7nfUJ8R7uLuxy6+/ss/C79lP/CQl5EZYXPRqBF84PGgby/DT2gPOC9FD3vvqK/pAC8AbMC8QQKhV3GI0aAhspGNcQIAey/mH5i/d8+aD+NwWHC2kQtRNEFoEYzhnaGc4Y4RUIEDkINQHz/Mv7vP20ApYJOhB7FIYVwBQSFE4T6hFXEW4RoA4KCKYB4f1F/BX+NQQfC0kPAxHYEDwOkwrnBzUGiQXHBnUIvAcABdMCewHU/5v+Mv+pALsA+v4M/eT7jvqF+M720vUS9Xj1Jvjx+73/UgRMCGsHzAAM+EDvgeaD4LTg+OWq7HzzFPpE/nr+IPyM+cj3ufZP9TjyUu1F56XgHttb2W7cE+Nz61r0T/1SBcEJFgmLBfwAhvmn7lnkud2t2u/b4uKh7VL4LwFCCDoNZA+HDi4LqgYmAmP9cPcC8TPs7ukC6oLt6vUYAsAOAhnVHsIeFBkqEJ0G7v1V93v0DPaU+rD/awOxBNAEMAfuDFITXBgsHGod2RkhEp0Izv7+9ov0WPjs/xYIeA4UErkTghSqFAAVuBaGGEwXUBKLC6gE3v4O/Cn9FQFVBr4L9w9XEl0TkhOBEx8U3RQUE8INiAeyAs3+3vvf+xD/HQO+Bv8JxQsxC+oJ2AnpCiMMHww5CdkDdv4c+jr20fO89Fz4UfxD/58AwP9a/S/7CPlU9T3xBfAP8oT0H/Zb+Kb7uf35/DL6d/Wt7YDlxeJZ5lXrCO9l8jD1cvax9g32WvQk81HzIvMJ8RfteOc/4V7d8d0V4sznyO7F91cB9wcLCqoIKQQY/EnylOng4qbe7N6s5Jjt6/YcANoIJw/SEbcRfA98CwwHYwIF/JX0Au+x7MHtsfLC+h4ETA75GL4hdSVgIksZug04A+36XvW28+L1cvo+ABwG5grQDuwSyxcUHccg5h/bGSIRpwfP/Yz1T/IK9ZD72QOvDBkUnxjgGqgbERsEGpMYXRSmDGwEuP2I+Kr2Fvr4AJYIbxB6Fw8bTxr5Fh8TDBDbDU4LZgfoAkb/+PwY/GP9JgEvBgML8g4OETEQzwzRCMgFTgTdA8kCOQBl/Uz7fvky+J34q/oF/dz+kP8m/tX6OPff8yLwDu1E7dzwC/WK+Br8i/4+/bH4qvOi7sLo5OMC4+zl2ekB7XXvk/FC8y/0JfRR8znyKvGn7+js6uhO5Mff6tz93RDjmely8KP46wBgBbgEagEX/Vn39vDv65roQeY25n7q4/E3+b3/YgYHDKwOhQ69DMIJiQYRBDYBhvxC983zEvOu9VH8kgWvDqYWax0YIX8fMRmxEG4IZwJ1/7H+D/+dAIUDRAdLC0EPDRP/Fh0bMh5QHmcaXRNLC9oDMv7Q+1X9OwHPBeEKNhBvFJwWWhfZF0EYShffE5QOdggjAln9kvy9/zcErgiTDfcRrBOXEs4Qrg84Dw4PDQ7pClcGQAI4/239F/5MAV0FVAm9DAIOPQzwCP0FHgRbA80CWAG9/3T/hv+5/Xb6Yvih+Oj5gfpz+aH2J/Nn8FfukuyD7LnvM/X7+jAA6wLc/yn3r+2k5tTgNty425nfOuS05/DqGe6t8EDzAfaj9xP3PvRm7wvpAOIs24zVntJx1LPbj+VO7tD1wf3MBPAHbAYnAbn4Pe5J5Ivd0Npn27jf9Oh69TgB2AkGD3oQ7w5rDOwJOAftAyn/sPiG8gvv8u5/8vb5awQdEGgbHSQ5J9wimBjLDEUDq/1j/Ij+1gEoBQoJ5Qw+D8wQlRP8FxkdcCH2IUQcZhIHCZECTv/b/8gDnggFDZ0RphVuF7cXKBiDGHsYWhiXFnwR5AoKBsIDxgNVBowKPg5REBMRoxAbD78NAQ7DD8QRuhJgEUkNFggLBPsBuwENAywFKAe4CKkJXgmmB6EFUgW7BxYLBQwGCZ4DNP7w+dT27fSD9In1k/eu+cX5gPYe8jLwNfHE86n3Avw3/nH93foE9sjtceQ93pzc2N0w4FTjmOeu7BLxcPM99H/0xvNk8QnuFuqP5MjdkNjA1u3WdNcP2pPhxOzN9gP9gAD3AVYArvuH9U7uieXo3GfY+9ld3wzmle4w+RADvgkIDfoMGwqwBgkE7gB7/Ff3SPJ57pTt++8D9d38wQfFE4QdeCLRIdkb2RH5Bjb/8fu7+/r98gKUCEwMoQ69EEMSahRXGV4fliI6Ie4a2xCWB74CAgESAUUE3gktD5MT4hY4GEAZNRxEH60fdh2pGBIRrgkOBrEFtAaCCVMO+RKrFZoWQhYiFXoU4xRfFfsUfhOrENwMSwm1BpYFqAY2CT0LIQxfDLILOAoPCZ8IughwCeYJqgjNBY0Cvf+Y/fD7f/p5+Rr5VPm1+Xf49fOD7gHtwPD59hX9lwHzAqUA9vsG9kzujOTH21vYytqr33zk6OjZ7F/wc/MC9X301vKA8BPtgOhf4oHahdMJ0V7TPtiB3nbm0e/M+Df/PgJoAqn/NvnU7wjmy90S2FvWJNqT4trs+fYlAAsHMQrjCd8HaAW9ApL/Yfsz9hTxCe2F6rTqhe8d+VYFARLAHPUh4x/5GAYQ8AW1/G/3vvZW+VH+AgQACGwKrg2rEi8Y8RyXH6oeXhpdFD4NMAWQ/iH8+P31AlYKyhF3FpcYIRp6Gy8cBBxNGuQWvBJ0DpMKKQhYB7QH5AkTDpESBxYoGDQY7hX/EoAR6xHlEu4SEhL3ED4PsgxqCn8JUwqUDJAOdA5mDLwJ0AcOCFwKjwyHDRwONQ53DG0IywIS/Uf5F/jz9/f23/QF8/vyC/Wv+MX9wwMaCVIM/AsFBhj6zetD4GDaNtpK3nDkj+qe74vzGfYT92b3KPgE+cP4xvU87sLiSNdLzxHMys6b11DjMu4s9zb+uAIlBEACU/059qPteuTX3GzYF9f82L3ffevb+JMD3AkmDE0LWAiQBGcAjftW9p3xwO0h61zq5uu58PT5TQYQEhQaAR15GjgTognyAGL7APn5+Of69v3OAJYDQwdYCzkP3RNyGagdwx2XGGQP6AW3/439qP6iAn0IKA4gEhYUTRR9EwsTIBQWFpYWNBQVECkMQQl1ByUHCQlrDQMTQxduGHIWMBK2Db4LAg2VD4oRKBI2ETcPTw0UDOMLag3rD/sQig/BDI8JNQbJA5gDjgVgCJwKUgt/CqIIWQaQBOgDewOgARP++/kd9p3ypvBx8nr4UwCDBwsNFA//ClUB+/US7ADlI+IO5P/oCu4r8U/yDvO/9DH3v/nW+wv84Pid8rbqKOJF2tPVNNed3fTlYe4T90n/awQABRoCRv3c9hzvS+fv4MPcfdul3pDmp/D4+dgBLQh9C68KywbfARz9VvhA837uxupm6LHoeO069noAaQrVEiQYCBkFFakMXgJj+aPzqvEb83H2Z/r//rIDUgdlCoIOYBMOF8sXfRRpDcUERP1++Ab3qviL/MsB4Af8DdgSixVEFsAVYhRBEkkPEwvFBewAcv4d/6ECAwioDQESYRQeFdAUchPgEPQN4Qu3CukJSQm6CEoIsgiICm4NTRC+EfYQlA58C9QHOARAAsMCuwRFBoQGGwZ8BS0EwAKsAmED1wK4AMj9/PnZ9Urzq/O79pv7dwE8B/oKgQpBBcb8XPN461bngOdd6qvt7O8j8azyavWu+In7wP3q/un9yvma8lbp0N/92L7XJNys47vs9/Z8AIgGZggyB9MDuv5x+LDx++qZ5Offnd/e5JTtLvenAAoJtw7XEPoPQA1lCYQEwP6f+JjyMO3R6Wjq3e9M+cgEexA3GgYfPx1pFnkNiAT//Mn3CPWu9Jr28fmx/Z4B+gUqC2IRlBdLG08aYxRzCwMC7/n49F30VvcM/HgBggbjCSEMmg4TEawSAxNmEWMNuwecAY78YPpn+2j+dwLoBqwKPw2UDosOqQ3YDGYMPQywC2sJewW5AZX/0P8FA0AIXw34EKQRIg7qB3YC8P+UADEDWwWGBTcEYQLfAIwA0ABAAFP/Mv/Q/k78Jfi59N3z9vXd+sEBAQh8CqwI5QOI/GXz8usl6S/qm+w877TxifPM9Dz2Y/gX+8b9mf9F/077UfNh6WDhEN7e3qHh5OW17KP1Gv7XA4UGwwYTBfABpv2Q91DvE+eq4szjEeld8Ib4xgDxB60MlA51DhINpQqaB0cEWwCd+3/2F/Js8G/z8PoqBUsQoBn3Hasc0BdWEV4KQATt/4X9F/1v/qcA+gKIBQAJmg2gEuQWJRk+GB4UEg5UB74AC/zS+p/8GACUBCIJcAw6DjEP0A8xEPwPSQ58CjwFWwCN/RD9M/6cAAEEiweMCn0MXQzjCXAGswOoAmoDowRrBKIC3ABaAGIBowNhBsUI9wk4CYcGuALq/jb8Rvvf+1f9yP4u/6P+V/5x/hD+K/0w/PX6hflY+Hb3hvaK9aH1vfig/qIDswTIAY/7hfOq7arshe6J8IryY/QW9eH0ffSm89nyBfSV9xH7jvvX96Pws+i/4xvjw+Qv59Xr+/NN/eEDNwYhBTUBPPvO9aby5+/k6+fox+kp7lT0O/vSAfwGGAojC8UKZAlgBsMBXP2q+l75Wvj69hv2+/fi/doGzRD0GD4c0xkVFMUNrwevAaf8ZPq/+6f/NQTOB7UJ6AqEDVIStxfZGp4ZYhSPDSIH6QGL/kj97v2ZAPYEjwkeDTUP+Q+oEGES4xP7EkMPqwmGA3j+f/uj+tf72/4gAyYIcAzBDeILwAgIBvQEDgaLB9MGuQMVALD9S/09/on/XQHhA78FxAVDBDQCMgBg/hr9Mf0o/gb+dvz9+nz59Pat9ED01/Rf9UT2s/fq+Mr5iPso/zYDjQTnAWD8p/Sx68zk6+Ja5enpyu+g9vP88QDSASYA/PwV+VH1ifI18MzsLeg05Mjic+SW6GDur/VY/lwG1woGCw0IRgL9+Y3xfuvS58zlQuY86iLxZvnDAWwJag9sEtMRsA6YCgQG0ACU+4L3WfUL9X728Plo/0oG3Q1DFdUajxzXGSgUtQ20B50CTv+D/q7/4QH+BJAIVwsdDQ4P2hH3FDQXEhfoE+8OHwqFBmQEpAPPA58EZQYgCdgLjw0nDhgO5A0HDmYOvQ0FC3cHQQWvBHkECQSKAyQDSgNwBAIG9AYCB6MGaQalBrYGcwX9Av0AigAlAdYBCAKJAaIAlv8p/pX8IPxt/X3/BAFWAQAAPv0J+iv3K/WO9Nb02PR79An0IvNq8qrzMPcJ/IABbwWUBPP+lvcv8IrpBebg5ujp0OyY75byNvVE90z5lfuU/VL+Cv1p+bTzq+xf5YDfe92B4Pjmie5l9uT9YgMIBkgGcQTjAIT8p/ce8nvs8ufa5bvn3u0b9uD9VASRCVoNNA+0Du8L1AdGA3r+3vlu9s70YfWx+Jn+8AV7DRsUaBgxGXsWghHZC7EGtAIrABv/bv8uAUEEKQhjDI0QJBTKFjYYahd/E4gN+wdaBM0CEAOEBFgGVgieCt0MuQ5iEOMRjxK8EXUP/wuJBwkDQAA3AIMC5QUOCUkLdww0DO8JSQYXA3IBDwG2ATcDLQRHA1kBKQBQAGcB5wIXBCoEGgNYAcf+evvZ+CP4yfik+Vn6x/qM+q35i/hB9+v1zPTN86Xyd/Es8RzziPfp/FQBHQN/AKj5NfKk7cLrMOsu7LXuefHV84P1s/XQ9N/09PYx+q78U/wp+LDx0ev857Dl9uRM513thPUe/UUCIgQBA3sADf6b+0/4NPQz8H3tFu0672nz+fjs/vcDZAccCTAJFQiMBr4EcwLn/1X9d/q29932iPmw/+EH0w9bFXcX+hVhEXkLQgZ8AigAMv+b/4YBYwQXB1EJgQsGDuYQmxMyFboU2xFsDccIzgQgAiYB3AEXBFkHyArvDaQQthIkFL0UxxPvEOwMrQiyBJUBLADOAC8DdQZDCf4KYAzCDUsOkQ0tDHQKLgheBUcCB/8f/PT6f/zh/2IDLgYkCCQJJwkTCI4FlwEK/VL5Zve19r31LvRh80P0K/ZK+IL6Xvwn/dr89fti+y78i/0C/db5dfXn8BPt/+tm7hvyMvXn91D6ffsG+yL5NvZ3833ybvO69OT0afNb8MHspupT6wzukfEU9g/8yAGaBM4DWADa+1j4dfYP9XHzJ/JJ8or0/vfr+un87f71AeUFJQkhChkJlgdIBjgEeQC0+2b3EvUv9hH7OgLaCc8Q7RXLF/MVnhHJDJwIFwULAqH/Iv7g/Qn/XwE1BDEH3wrpD64V0xmjGccUxA0FB2IBVP1A+137qf1EAS0FOglPDRERVhSHFnUWIhPhDO8FWwA5/GX5qPhJ+pP9mwHZBQQKOA2kDssOUg6hDC0JvAQ/ANH71veq9Sr29Pje/F4AmAIhBK4FyAabBioF9wIJAET8K/hV9NzwKO6d7UrwEvWC+SX8B/1q/RP/HAJ9BGkETwFg+zX0qu5u7Njsoe5P8bf0cPjc+/r9/v2B/CL73vpG+9v6Vfga9P3vPu2g67DqJOu77vb1fv4yBYEIEgi5BIkAH/1Y+mf3RfT08arxqvPa9vf5I/3oALEEegfkCHAJuQnvCBUGMQJn/qz6n/eC9kP4Fv3GA6EKdRDtE3EU2xIsEAMNfgloBXkBs/6K/YX+NQH9A44G+wl0DvgSIhbUFtIUqBBQCw4G/gF+/37+//61ABcDIwbmCaoNxBABE7ETABJMDroJzATe/yb8v/p0+5T9ugAnBKcG+wfZCPkIkgdhBa0DXAKSABf+bvsa+av3JfiO+lD9Xf+vACoB8AA2AJX++/sr+Rz3JvaF9TD0PfLi8FLxj/OC9uT48vlf+n/7PP2t/gr/5vzn96Hyw+9q77jwbvOv9gj5u/rI/Dv+wf3E+7L5zPgT+ZD5iPk5+OH1gfSY9Mz0U/U592j6dP7rAn8GMAeqBGkBLv9C/W37GPrn+H34Q/ok/pICtQXGBtQGBwdvB98H8AcTB8cFwQQjAysALP2++2n8gf+mBDwKng72EEYRXBDQDlAMzQhABVAC+f+8/jL/8gDxAkgEywVnCWwOdBIPFdMVMROMDUkHLQJO/lv7SvqX+zb+2gFuBgQLZg/9Ep0UjxSjEqENdAaM/3P6ivd09h73svmN/c4BwgXOCNIKtAtIC7MJEQdHA/39p/dx8gzwWvDe8tn2LPsz/1QC6gOoA8YBNv+z/Bv66fZU8srsy+g76O/qZO+Z8yP36/rD/iwC5gQ/BY4Bm/rL8lTsaOhc5wHpceyQ8Fz1K/uZAKgDXATrA9EC/gAu/iP6FfWc7yfrcenM6o/uI/Qo+44DNwwkEi8TDBCzCjoEbv3492z0sfEy8Ojxgfdy//kG0QxhEcQTUBN/EfcOZwuYBxwEcgBN/Pf4N/iC+Xj8HgN/DEwUAxnvGocZfxVdEHYKwgMg/Yj4m/cK+mD+MgM2BwQKqwwAEBATYRQ2E4IPdAq9BZ0By/3W+j35Yvnl+zsAygTNCDAMWA4cDx4P3A1GChEFw/9c+3v46vZb9nr3nPqm/hACOwQyBYEEkgKUAc4BzQC7/Qn6EveT9Sb1t/SY9P71r/jF+vr6PfrA+ez4hPeb9uj1LvTg8R/wTu9m79XvVfDj8Rf1Q/nD/ZwBdwLT/qb4FfMz71Ht8O337/TxH/QI90H67vyM/uz+PP78/WH/wQAXAH/9r/mh9avyffEy8uX0LPoMAl4KYxCgEgwRSA2MCDoD2/4L/Lv5Yfh++Y79+QLyBlQJ0wt6Dr4QFBJTEuMRdg/kCosGYgLL/XH68PmC/e0DIgqeD9wTLxaRF/EW1hNQD8MI/QLpAD0AGgCl/3L+/v+HAuQEWgoIDp8QmBbZEQ==\" type=\"audio/wav\" />\n",
       "                    Your browser does not support the audio element.\n",
       "                </audio>\n",
       "              "
      ],
      "text/plain": [
       "<IPython.lib.display.Audio object>"
      ]
     },
     "metadata": {},
     "output_type": "display_data"
    },
    {
     "name": "stdout",
     "output_type": "stream",
     "text": [
      "--- Sample 2 ---\n",
      "audio: {'path': '0053700002.mp3', 'array': array([-0.03946812, -0.05300948, -0.04203443, ...,  0.06335242,\n",
      "        0.07101532,  0.05404001]), 'sampling_rate': 44100}\n",
      "sentence: نه\n"
     ]
    },
    {
     "data": {
      "text/html": [
       "\n",
       "                <audio  controls=\"controls\" >\n",
       "                    <source src=\"data:audio/wav;base64,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\" type=\"audio/wav\" />\n",
       "                    Your browser does not support the audio element.\n",
       "                </audio>\n",
       "              "
      ],
      "text/plain": [
       "<IPython.lib.display.Audio object>"
      ]
     },
     "metadata": {},
     "output_type": "display_data"
    },
    {
     "name": "stdout",
     "output_type": "stream",
     "text": [
      "--- Sample 3 ---\n",
      "audio: {'path': '0053700003.mp3', 'array': array([-0.0300096 , -0.0433549 , -0.03952184, ...,  0.01793212,\n",
      "        0.02150389,  0.01722904]), 'sampling_rate': 44100}\n",
      "sentence: امروز قراره برقصیم\n"
     ]
    },
    {
     "data": {
      "text/html": [
       "\n",
       "                <audio  controls=\"controls\" >\n",
       "                    <source src=\"data:audio/wav;base64,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\" type=\"audio/wav\" />\n",
       "                    Your browser does not support the audio element.\n",
       "                </audio>\n",
       "              "
      ],
      "text/plain": [
       "<IPython.lib.display.Audio object>"
      ]
     },
     "metadata": {},
     "output_type": "display_data"
    },
    {
     "name": "stdout",
     "output_type": "stream",
     "text": [
      "--- Sample 4 ---\n",
      "audio: {'path': '0053700004.mp3', 'array': array([ 0.00377819,  0.00469728,  0.0042658 , ..., -0.05839304,\n",
      "       -0.06949627, -0.05643414]), 'sampling_rate': 44100}\n",
      "sentence: بفرمایین * با شک و طمانینه *\n"
     ]
    },
    {
     "data": {
      "text/html": [
       "\n",
       "                <audio  controls=\"controls\" >\n",
       "                    <source src=\"data:audio/wav;base64,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\" type=\"audio/wav\" />\n",
       "                    Your browser does not support the audio element.\n",
       "                </audio>\n",
       "              "
      ],
      "text/plain": [
       "<IPython.lib.display.Audio object>"
      ]
     },
     "metadata": {},
     "output_type": "display_data"
    },
    {
     "name": "stdout",
     "output_type": "stream",
     "text": [
      "--- Sample 5 ---\n",
      "audio: {'path': '0053700005.mp3', 'array': array([-0.00865807, -0.01105524, -0.01167927, ...,  0.01048509,\n",
      "        0.03509511,  0.03774764]), 'sampling_rate': 44100}\n",
      "sentence: بریم\n"
     ]
    },
    {
     "data": {
      "text/html": [
       "\n",
       "                <audio  controls=\"controls\" >\n",
       "                    <source src=\"data:audio/wav;base64,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\" type=\"audio/wav\" />\n",
       "                    Your browser does not support the audio element.\n",
       "                </audio>\n",
       "              "
      ],
      "text/plain": [
       "<IPython.lib.display.Audio object>"
      ]
     },
     "metadata": {},
     "output_type": "display_data"
    }
   ],
   "source": [
    "import IPython.display as ipd\n",
    "# Display the first 5 samples\n",
    "for i, sample in enumerate(dataset):\n",
    "    print(f\"--- Sample {i+1} ---\")\n",
    "    print(\"audio:\", sample.get(\"audio\"))\n",
    "    print(\"sentence:\", sample.get(\"sentence\"))\n",
    "    ipd.display(ipd.Audio(data=sample[\"audio\"][\"array\"], rate=sample[\"audio\"][\"sampling_rate\"]))\n",
    "    if i >= 4:\n",
    "        break"
   ]
  },
  {
   "cell_type": "code",
   "execution_count": 13,
   "id": "5264e8a6-43c4-4622-8e8b-6cc078fc2208",
   "metadata": {
    "execution": {
     "iopub.execute_input": "2025-06-30T14:16:45.768633Z",
     "iopub.status.busy": "2025-06-30T14:16:45.768257Z",
     "iopub.status.idle": "2025-06-30T14:27:21.323804Z",
     "shell.execute_reply": "2025-06-30T14:27:21.322904Z",
     "shell.execute_reply.started": "2025-06-30T14:16:45.768594Z"
    }
   },
   "outputs": [
    {
     "data": {
      "application/vnd.jupyter.widget-view+json": {
       "model_id": "3fd1b22471144de199b0b463115abb7f",
       "version_major": 2,
       "version_minor": 0
      },
      "text/plain": [
       "Uploading the dataset shards:   0%|          | 0/46 [00:00<?, ?it/s]"
      ]
     },
     "metadata": {},
     "output_type": "display_data"
    },
    {
     "data": {
      "application/vnd.jupyter.widget-view+json": {
       "model_id": "4e2e524af8124e37b5bc590bf1d7a53e",
       "version_major": 2,
       "version_minor": 0
      },
      "text/plain": [
       "Map:   0%|          | 0/9090 [00:00<?, ? examples/s]"
      ]
     },
     "metadata": {},
     "output_type": "display_data"
    },
    {
     "data": {
      "application/vnd.jupyter.widget-view+json": {
       "model_id": "a3962a12cb584392b98a37b3ab86595d",
       "version_major": 2,
       "version_minor": 0
      },
      "text/plain": [
       "Creating parquet from Arrow format:   0%|          | 0/91 [00:00<?, ?ba/s]"
      ]
     },
     "metadata": {},
     "output_type": "display_data"
    },
    {
     "data": {
      "application/vnd.jupyter.widget-view+json": {
       "model_id": "ba0b13f66f5549128b3e4af56f74b9d5",
       "version_major": 2,
       "version_minor": 0
      },
      "text/plain": [
       "Map:   0%|          | 0/9090 [00:00<?, ? examples/s]"
      ]
     },
     "metadata": {},
     "output_type": "display_data"
    },
    {
     "data": {
      "application/vnd.jupyter.widget-view+json": {
       "model_id": "b914575762154f65910d0f6e0b21a76a",
       "version_major": 2,
       "version_minor": 0
      },
      "text/plain": [
       "Creating parquet from Arrow format:   0%|          | 0/91 [00:00<?, ?ba/s]"
      ]
     },
     "metadata": {},
     "output_type": "display_data"
    },
    {
     "data": {
      "application/vnd.jupyter.widget-view+json": {
       "model_id": "614d7aedc85a4afea66ec817baad3c38",
       "version_major": 2,
       "version_minor": 0
      },
      "text/plain": [
       "Map:   0%|          | 0/9090 [00:00<?, ? examples/s]"
      ]
     },
     "metadata": {},
     "output_type": "display_data"
    },
    {
     "data": {
      "application/vnd.jupyter.widget-view+json": {
       "model_id": "1e4bce010ed64df48885aa2e79140a19",
       "version_major": 2,
       "version_minor": 0
      },
      "text/plain": [
       "Creating parquet from Arrow format:   0%|          | 0/91 [00:00<?, ?ba/s]"
      ]
     },
     "metadata": {},
     "output_type": "display_data"
    },
    {
     "data": {
      "application/vnd.jupyter.widget-view+json": {
       "model_id": "05a1f5721c2e41e0a98fdac5eb397719",
       "version_major": 2,
       "version_minor": 0
      },
      "text/plain": [
       "Map:   0%|          | 0/9090 [00:00<?, ? examples/s]"
      ]
     },
     "metadata": {},
     "output_type": "display_data"
    },
    {
     "data": {
      "application/vnd.jupyter.widget-view+json": {
       "model_id": "da0156effabe411f8d77e859bcc46132",
       "version_major": 2,
       "version_minor": 0
      },
      "text/plain": [
       "Creating parquet from Arrow format:   0%|          | 0/91 [00:00<?, ?ba/s]"
      ]
     },
     "metadata": {},
     "output_type": "display_data"
    },
    {
     "data": {
      "application/vnd.jupyter.widget-view+json": {
       "model_id": "f9cbfd3aa4ea47948a3ffb5a9d4f7e9b",
       "version_major": 2,
       "version_minor": 0
      },
      "text/plain": [
       "Map:   0%|          | 0/9090 [00:00<?, ? examples/s]"
      ]
     },
     "metadata": {},
     "output_type": "display_data"
    },
    {
     "data": {
      "application/vnd.jupyter.widget-view+json": {
       "model_id": "83cadcb1f0b5453cb52bb283d0c28d41",
       "version_major": 2,
       "version_minor": 0
      },
      "text/plain": [
       "Creating parquet from Arrow format:   0%|          | 0/91 [00:00<?, ?ba/s]"
      ]
     },
     "metadata": {},
     "output_type": "display_data"
    },
    {
     "data": {
      "application/vnd.jupyter.widget-view+json": {
       "model_id": "b632a2ee61e54b8f90e89158d8fc6c6a",
       "version_major": 2,
       "version_minor": 0
      },
      "text/plain": [
       "Map:   0%|          | 0/9090 [00:00<?, ? examples/s]"
      ]
     },
     "metadata": {},
     "output_type": "display_data"
    },
    {
     "data": {
      "application/vnd.jupyter.widget-view+json": {
       "model_id": "69ee7859e51d4e65a80a5e37adbfd79b",
       "version_major": 2,
       "version_minor": 0
      },
      "text/plain": [
       "Creating parquet from Arrow format:   0%|          | 0/91 [00:00<?, ?ba/s]"
      ]
     },
     "metadata": {},
     "output_type": "display_data"
    },
    {
     "data": {
      "application/vnd.jupyter.widget-view+json": {
       "model_id": "c0e20c1e0fde4d66b131aab5fce467c0",
       "version_major": 2,
       "version_minor": 0
      },
      "text/plain": [
       "Map:   0%|          | 0/9090 [00:00<?, ? examples/s]"
      ]
     },
     "metadata": {},
     "output_type": "display_data"
    },
    {
     "data": {
      "application/vnd.jupyter.widget-view+json": {
       "model_id": "9a7c7f3e845c494185df6a469cf22f4b",
       "version_major": 2,
       "version_minor": 0
      },
      "text/plain": [
       "Creating parquet from Arrow format:   0%|          | 0/91 [00:00<?, ?ba/s]"
      ]
     },
     "metadata": {},
     "output_type": "display_data"
    },
    {
     "data": {
      "application/vnd.jupyter.widget-view+json": {
       "model_id": "1bebe9c0841c426485428d10f93390e1",
       "version_major": 2,
       "version_minor": 0
      },
      "text/plain": [
       "Map:   0%|          | 0/9090 [00:00<?, ? examples/s]"
      ]
     },
     "metadata": {},
     "output_type": "display_data"
    },
    {
     "data": {
      "application/vnd.jupyter.widget-view+json": {
       "model_id": "650303f5596e44a8a48b312118f0f0b9",
       "version_major": 2,
       "version_minor": 0
      },
      "text/plain": [
       "Creating parquet from Arrow format:   0%|          | 0/91 [00:00<?, ?ba/s]"
      ]
     },
     "metadata": {},
     "output_type": "display_data"
    },
    {
     "data": {
      "application/vnd.jupyter.widget-view+json": {
       "model_id": "08db96a253d546628bb86edde8dff755",
       "version_major": 2,
       "version_minor": 0
      },
      "text/plain": [
       "Map:   0%|          | 0/9090 [00:00<?, ? examples/s]"
      ]
     },
     "metadata": {},
     "output_type": "display_data"
    },
    {
     "data": {
      "application/vnd.jupyter.widget-view+json": {
       "model_id": "97fbfdfbde1243a99fa8dd65061e7a65",
       "version_major": 2,
       "version_minor": 0
      },
      "text/plain": [
       "Creating parquet from Arrow format:   0%|          | 0/91 [00:00<?, ?ba/s]"
      ]
     },
     "metadata": {},
     "output_type": "display_data"
    },
    {
     "data": {
      "application/vnd.jupyter.widget-view+json": {
       "model_id": "b501cabd0aee481588907638a9fc3710",
       "version_major": 2,
       "version_minor": 0
      },
      "text/plain": [
       "Map:   0%|          | 0/9090 [00:00<?, ? examples/s]"
      ]
     },
     "metadata": {},
     "output_type": "display_data"
    },
    {
     "data": {
      "application/vnd.jupyter.widget-view+json": {
       "model_id": "4d48ed5f28ca4eaa8fc54d6f166b21d1",
       "version_major": 2,
       "version_minor": 0
      },
      "text/plain": [
       "Creating parquet from Arrow format:   0%|          | 0/91 [00:00<?, ?ba/s]"
      ]
     },
     "metadata": {},
     "output_type": "display_data"
    },
    {
     "data": {
      "application/vnd.jupyter.widget-view+json": {
       "model_id": "f818624dbf4040d88aacc51d22c1559b",
       "version_major": 2,
       "version_minor": 0
      },
      "text/plain": [
       "Map:   0%|          | 0/9090 [00:00<?, ? examples/s]"
      ]
     },
     "metadata": {},
     "output_type": "display_data"
    },
    {
     "data": {
      "application/vnd.jupyter.widget-view+json": {
       "model_id": "636a346602e64db6891807d451d5e16a",
       "version_major": 2,
       "version_minor": 0
      },
      "text/plain": [
       "Creating parquet from Arrow format:   0%|          | 0/91 [00:00<?, ?ba/s]"
      ]
     },
     "metadata": {},
     "output_type": "display_data"
    },
    {
     "data": {
      "application/vnd.jupyter.widget-view+json": {
       "model_id": "928f465e95f14cc3b2d71ed67352823f",
       "version_major": 2,
       "version_minor": 0
      },
      "text/plain": [
       "Map:   0%|          | 0/9090 [00:00<?, ? examples/s]"
      ]
     },
     "metadata": {},
     "output_type": "display_data"
    },
    {
     "data": {
      "application/vnd.jupyter.widget-view+json": {
       "model_id": "86fd39eca76d43b0a84cb538d0f02efa",
       "version_major": 2,
       "version_minor": 0
      },
      "text/plain": [
       "Creating parquet from Arrow format:   0%|          | 0/91 [00:00<?, ?ba/s]"
      ]
     },
     "metadata": {},
     "output_type": "display_data"
    },
    {
     "data": {
      "application/vnd.jupyter.widget-view+json": {
       "model_id": "3bb987a889d74c48a3bdadc86c13d86b",
       "version_major": 2,
       "version_minor": 0
      },
      "text/plain": [
       "Map:   0%|          | 0/9090 [00:00<?, ? examples/s]"
      ]
     },
     "metadata": {},
     "output_type": "display_data"
    },
    {
     "data": {
      "application/vnd.jupyter.widget-view+json": {
       "model_id": "3ac9ee8136874082aaa88b4bd1d0617d",
       "version_major": 2,
       "version_minor": 0
      },
      "text/plain": [
       "Creating parquet from Arrow format:   0%|          | 0/91 [00:00<?, ?ba/s]"
      ]
     },
     "metadata": {},
     "output_type": "display_data"
    },
    {
     "data": {
      "application/vnd.jupyter.widget-view+json": {
       "model_id": "d459904eeae44040b089d61dc8dfc8c9",
       "version_major": 2,
       "version_minor": 0
      },
      "text/plain": [
       "Map:   0%|          | 0/9090 [00:00<?, ? examples/s]"
      ]
     },
     "metadata": {},
     "output_type": "display_data"
    },
    {
     "data": {
      "application/vnd.jupyter.widget-view+json": {
       "model_id": "8a03be8addca4f8497c019297845cc27",
       "version_major": 2,
       "version_minor": 0
      },
      "text/plain": [
       "Creating parquet from Arrow format:   0%|          | 0/91 [00:00<?, ?ba/s]"
      ]
     },
     "metadata": {},
     "output_type": "display_data"
    },
    {
     "data": {
      "application/vnd.jupyter.widget-view+json": {
       "model_id": "aedcf5ed3ebf427ba800f06f017a2305",
       "version_major": 2,
       "version_minor": 0
      },
      "text/plain": [
       "Map:   0%|          | 0/9090 [00:00<?, ? examples/s]"
      ]
     },
     "metadata": {},
     "output_type": "display_data"
    },
    {
     "data": {
      "application/vnd.jupyter.widget-view+json": {
       "model_id": "6d1b061f47d64efa87eaac366b162920",
       "version_major": 2,
       "version_minor": 0
      },
      "text/plain": [
       "Creating parquet from Arrow format:   0%|          | 0/91 [00:00<?, ?ba/s]"
      ]
     },
     "metadata": {},
     "output_type": "display_data"
    },
    {
     "data": {
      "application/vnd.jupyter.widget-view+json": {
       "model_id": "1ae028724aff4312a70e6838117cee5d",
       "version_major": 2,
       "version_minor": 0
      },
      "text/plain": [
       "Map:   0%|          | 0/9090 [00:00<?, ? examples/s]"
      ]
     },
     "metadata": {},
     "output_type": "display_data"
    },
    {
     "data": {
      "application/vnd.jupyter.widget-view+json": {
       "model_id": "44289272729e4619b34850df9786127d",
       "version_major": 2,
       "version_minor": 0
      },
      "text/plain": [
       "Creating parquet from Arrow format:   0%|          | 0/91 [00:00<?, ?ba/s]"
      ]
     },
     "metadata": {},
     "output_type": "display_data"
    },
    {
     "data": {
      "application/vnd.jupyter.widget-view+json": {
       "model_id": "2839cd67b0974317add2f357c77ef116",
       "version_major": 2,
       "version_minor": 0
      },
      "text/plain": [
       "Map:   0%|          | 0/9090 [00:00<?, ? examples/s]"
      ]
     },
     "metadata": {},
     "output_type": "display_data"
    },
    {
     "data": {
      "application/vnd.jupyter.widget-view+json": {
       "model_id": "015c693c46cd4c00a632bc464a236a83",
       "version_major": 2,
       "version_minor": 0
      },
      "text/plain": [
       "Creating parquet from Arrow format:   0%|          | 0/91 [00:00<?, ?ba/s]"
      ]
     },
     "metadata": {},
     "output_type": "display_data"
    },
    {
     "data": {
      "application/vnd.jupyter.widget-view+json": {
       "model_id": "1b56cb2b21324e4885cca29435a0d81e",
       "version_major": 2,
       "version_minor": 0
      },
      "text/plain": [
       "Map:   0%|          | 0/9090 [00:00<?, ? examples/s]"
      ]
     },
     "metadata": {},
     "output_type": "display_data"
    },
    {
     "data": {
      "application/vnd.jupyter.widget-view+json": {
       "model_id": "a2cba068246244eeb6dc12d6cb643fbf",
       "version_major": 2,
       "version_minor": 0
      },
      "text/plain": [
       "Creating parquet from Arrow format:   0%|          | 0/91 [00:00<?, ?ba/s]"
      ]
     },
     "metadata": {},
     "output_type": "display_data"
    },
    {
     "data": {
      "application/vnd.jupyter.widget-view+json": {
       "model_id": "558e0224bbd1466790dc2c07a6b61b25",
       "version_major": 2,
       "version_minor": 0
      },
      "text/plain": [
       "Map:   0%|          | 0/9090 [00:00<?, ? examples/s]"
      ]
     },
     "metadata": {},
     "output_type": "display_data"
    },
    {
     "data": {
      "application/vnd.jupyter.widget-view+json": {
       "model_id": "c6588ebc5eca44b3b8231415323229bd",
       "version_major": 2,
       "version_minor": 0
      },
      "text/plain": [
       "Creating parquet from Arrow format:   0%|          | 0/91 [00:00<?, ?ba/s]"
      ]
     },
     "metadata": {},
     "output_type": "display_data"
    },
    {
     "data": {
      "application/vnd.jupyter.widget-view+json": {
       "model_id": "3baf4e159fc34805ae16974dd1e96209",
       "version_major": 2,
       "version_minor": 0
      },
      "text/plain": [
       "Map:   0%|          | 0/9090 [00:00<?, ? examples/s]"
      ]
     },
     "metadata": {},
     "output_type": "display_data"
    },
    {
     "data": {
      "application/vnd.jupyter.widget-view+json": {
       "model_id": "7719347b1b114da3b793e4b9830bc236",
       "version_major": 2,
       "version_minor": 0
      },
      "text/plain": [
       "Creating parquet from Arrow format:   0%|          | 0/91 [00:00<?, ?ba/s]"
      ]
     },
     "metadata": {},
     "output_type": "display_data"
    },
    {
     "data": {
      "application/vnd.jupyter.widget-view+json": {
       "model_id": "e58f4a439d17497cb16138ea022c1e7f",
       "version_major": 2,
       "version_minor": 0
      },
      "text/plain": [
       "Map:   0%|          | 0/9090 [00:00<?, ? examples/s]"
      ]
     },
     "metadata": {},
     "output_type": "display_data"
    },
    {
     "data": {
      "application/vnd.jupyter.widget-view+json": {
       "model_id": "f85bf429e48c4dd6a4e145d0b1820f42",
       "version_major": 2,
       "version_minor": 0
      },
      "text/plain": [
       "Creating parquet from Arrow format:   0%|          | 0/91 [00:00<?, ?ba/s]"
      ]
     },
     "metadata": {},
     "output_type": "display_data"
    },
    {
     "data": {
      "application/vnd.jupyter.widget-view+json": {
       "model_id": "051c3a6e06f843bbaea90b46c3dc6da1",
       "version_major": 2,
       "version_minor": 0
      },
      "text/plain": [
       "Map:   0%|          | 0/9090 [00:00<?, ? examples/s]"
      ]
     },
     "metadata": {},
     "output_type": "display_data"
    },
    {
     "data": {
      "application/vnd.jupyter.widget-view+json": {
       "model_id": "f7786bae273b465f87a4c089de7372a8",
       "version_major": 2,
       "version_minor": 0
      },
      "text/plain": [
       "Creating parquet from Arrow format:   0%|          | 0/91 [00:00<?, ?ba/s]"
      ]
     },
     "metadata": {},
     "output_type": "display_data"
    },
    {
     "data": {
      "application/vnd.jupyter.widget-view+json": {
       "model_id": "3ffe450dc9f848cd9e365e47a6b8b290",
       "version_major": 2,
       "version_minor": 0
      },
      "text/plain": [
       "Map:   0%|          | 0/9089 [00:00<?, ? examples/s]"
      ]
     },
     "metadata": {},
     "output_type": "display_data"
    },
    {
     "data": {
      "application/vnd.jupyter.widget-view+json": {
       "model_id": "8b2af9052ccb460b9a4f0e34a081a3e3",
       "version_major": 2,
       "version_minor": 0
      },
      "text/plain": [
       "Creating parquet from Arrow format:   0%|          | 0/91 [00:00<?, ?ba/s]"
      ]
     },
     "metadata": {},
     "output_type": "display_data"
    },
    {
     "data": {
      "application/vnd.jupyter.widget-view+json": {
       "model_id": "16b6d0b208ea498d972cf62e324ed3d1",
       "version_major": 2,
       "version_minor": 0
      },
      "text/plain": [
       "Map:   0%|          | 0/9089 [00:00<?, ? examples/s]"
      ]
     },
     "metadata": {},
     "output_type": "display_data"
    },
    {
     "data": {
      "application/vnd.jupyter.widget-view+json": {
       "model_id": "969fdc9746984cc298538f26cd2433f5",
       "version_major": 2,
       "version_minor": 0
      },
      "text/plain": [
       "Creating parquet from Arrow format:   0%|          | 0/91 [00:00<?, ?ba/s]"
      ]
     },
     "metadata": {},
     "output_type": "display_data"
    },
    {
     "data": {
      "application/vnd.jupyter.widget-view+json": {
       "model_id": "caeba221e9614af689b0aec90264cd69",
       "version_major": 2,
       "version_minor": 0
      },
      "text/plain": [
       "Map:   0%|          | 0/9089 [00:00<?, ? examples/s]"
      ]
     },
     "metadata": {},
     "output_type": "display_data"
    },
    {
     "data": {
      "application/vnd.jupyter.widget-view+json": {
       "model_id": "74cca7439c5b46cc8e428cb3aff6e662",
       "version_major": 2,
       "version_minor": 0
      },
      "text/plain": [
       "Creating parquet from Arrow format:   0%|          | 0/91 [00:00<?, ?ba/s]"
      ]
     },
     "metadata": {},
     "output_type": "display_data"
    },
    {
     "data": {
      "application/vnd.jupyter.widget-view+json": {
       "model_id": "949bf96e770741a78577c80f611dc7dc",
       "version_major": 2,
       "version_minor": 0
      },
      "text/plain": [
       "Map:   0%|          | 0/9089 [00:00<?, ? examples/s]"
      ]
     },
     "metadata": {},
     "output_type": "display_data"
    },
    {
     "data": {
      "application/vnd.jupyter.widget-view+json": {
       "model_id": "898930ab74fe4c78bcb59cb0aacc1a77",
       "version_major": 2,
       "version_minor": 0
      },
      "text/plain": [
       "Creating parquet from Arrow format:   0%|          | 0/91 [00:00<?, ?ba/s]"
      ]
     },
     "metadata": {},
     "output_type": "display_data"
    },
    {
     "data": {
      "application/vnd.jupyter.widget-view+json": {
       "model_id": "94ebef19a9304705b07a361ba5dadbaf",
       "version_major": 2,
       "version_minor": 0
      },
      "text/plain": [
       "Map:   0%|          | 0/9089 [00:00<?, ? examples/s]"
      ]
     },
     "metadata": {},
     "output_type": "display_data"
    },
    {
     "data": {
      "application/vnd.jupyter.widget-view+json": {
       "model_id": "c04f785e5eaa42658f0b79c5d0e75b37",
       "version_major": 2,
       "version_minor": 0
      },
      "text/plain": [
       "Creating parquet from Arrow format:   0%|          | 0/91 [00:00<?, ?ba/s]"
      ]
     },
     "metadata": {},
     "output_type": "display_data"
    },
    {
     "data": {
      "application/vnd.jupyter.widget-view+json": {
       "model_id": "e87e0452b44b4c34accdb6d24f88d835",
       "version_major": 2,
       "version_minor": 0
      },
      "text/plain": [
       "Map:   0%|          | 0/9089 [00:00<?, ? examples/s]"
      ]
     },
     "metadata": {},
     "output_type": "display_data"
    },
    {
     "data": {
      "application/vnd.jupyter.widget-view+json": {
       "model_id": "cc72637915cd4911becb14afdcaab6bb",
       "version_major": 2,
       "version_minor": 0
      },
      "text/plain": [
       "Creating parquet from Arrow format:   0%|          | 0/91 [00:00<?, ?ba/s]"
      ]
     },
     "metadata": {},
     "output_type": "display_data"
    },
    {
     "data": {
      "application/vnd.jupyter.widget-view+json": {
       "model_id": "affbe50f5ca34e06b397e8fbe6c8cb59",
       "version_major": 2,
       "version_minor": 0
      },
      "text/plain": [
       "Map:   0%|          | 0/9089 [00:00<?, ? examples/s]"
      ]
     },
     "metadata": {},
     "output_type": "display_data"
    },
    {
     "data": {
      "application/vnd.jupyter.widget-view+json": {
       "model_id": "b8102b02093a4e90aab077393bb56bc8",
       "version_major": 2,
       "version_minor": 0
      },
      "text/plain": [
       "Creating parquet from Arrow format:   0%|          | 0/91 [00:00<?, ?ba/s]"
      ]
     },
     "metadata": {},
     "output_type": "display_data"
    },
    {
     "data": {
      "application/vnd.jupyter.widget-view+json": {
       "model_id": "11ad6242106f4a7cbf9b3755c8dddba7",
       "version_major": 2,
       "version_minor": 0
      },
      "text/plain": [
       "Map:   0%|          | 0/9089 [00:00<?, ? examples/s]"
      ]
     },
     "metadata": {},
     "output_type": "display_data"
    },
    {
     "data": {
      "application/vnd.jupyter.widget-view+json": {
       "model_id": "cbca6c744f514585b3055acf634210c8",
       "version_major": 2,
       "version_minor": 0
      },
      "text/plain": [
       "Creating parquet from Arrow format:   0%|          | 0/91 [00:00<?, ?ba/s]"
      ]
     },
     "metadata": {},
     "output_type": "display_data"
    },
    {
     "data": {
      "application/vnd.jupyter.widget-view+json": {
       "model_id": "6d0c52e9c9fd48b4929480afb9f679af",
       "version_major": 2,
       "version_minor": 0
      },
      "text/plain": [
       "Map:   0%|          | 0/9089 [00:00<?, ? examples/s]"
      ]
     },
     "metadata": {},
     "output_type": "display_data"
    },
    {
     "data": {
      "application/vnd.jupyter.widget-view+json": {
       "model_id": "3b8a270e9e3643648bc9f539e2e263c9",
       "version_major": 2,
       "version_minor": 0
      },
      "text/plain": [
       "Creating parquet from Arrow format:   0%|          | 0/91 [00:00<?, ?ba/s]"
      ]
     },
     "metadata": {},
     "output_type": "display_data"
    },
    {
     "data": {
      "application/vnd.jupyter.widget-view+json": {
       "model_id": "a7ffbfc1122640b5a2684c02175df12c",
       "version_major": 2,
       "version_minor": 0
      },
      "text/plain": [
       "Map:   0%|          | 0/9089 [00:00<?, ? examples/s]"
      ]
     },
     "metadata": {},
     "output_type": "display_data"
    },
    {
     "data": {
      "application/vnd.jupyter.widget-view+json": {
       "model_id": "d47ea539f169486a99ae24d10d1631ef",
       "version_major": 2,
       "version_minor": 0
      },
      "text/plain": [
       "Creating parquet from Arrow format:   0%|          | 0/91 [00:00<?, ?ba/s]"
      ]
     },
     "metadata": {},
     "output_type": "display_data"
    },
    {
     "data": {
      "application/vnd.jupyter.widget-view+json": {
       "model_id": "01b27afe3d714ddb9c8f27cb8a5b53e9",
       "version_major": 2,
       "version_minor": 0
      },
      "text/plain": [
       "Map:   0%|          | 0/9089 [00:00<?, ? examples/s]"
      ]
     },
     "metadata": {},
     "output_type": "display_data"
    },
    {
     "data": {
      "application/vnd.jupyter.widget-view+json": {
       "model_id": "e130c94604ed440da24e8e95285d31b0",
       "version_major": 2,
       "version_minor": 0
      },
      "text/plain": [
       "Creating parquet from Arrow format:   0%|          | 0/91 [00:00<?, ?ba/s]"
      ]
     },
     "metadata": {},
     "output_type": "display_data"
    },
    {
     "data": {
      "application/vnd.jupyter.widget-view+json": {
       "model_id": "494e8972834d4ab9a9bbd8d4ed90dedd",
       "version_major": 2,
       "version_minor": 0
      },
      "text/plain": [
       "Map:   0%|          | 0/9089 [00:00<?, ? examples/s]"
      ]
     },
     "metadata": {},
     "output_type": "display_data"
    },
    {
     "data": {
      "application/vnd.jupyter.widget-view+json": {
       "model_id": "755b77e4a18149c7ac39e5597e6535cb",
       "version_major": 2,
       "version_minor": 0
      },
      "text/plain": [
       "Creating parquet from Arrow format:   0%|          | 0/91 [00:00<?, ?ba/s]"
      ]
     },
     "metadata": {},
     "output_type": "display_data"
    },
    {
     "data": {
      "application/vnd.jupyter.widget-view+json": {
       "model_id": "e737666ced464ce7b76a578f634661e1",
       "version_major": 2,
       "version_minor": 0
      },
      "text/plain": [
       "Map:   0%|          | 0/9089 [00:00<?, ? examples/s]"
      ]
     },
     "metadata": {},
     "output_type": "display_data"
    },
    {
     "data": {
      "application/vnd.jupyter.widget-view+json": {
       "model_id": "6e9d020fb2c340a89c240917476e7620",
       "version_major": 2,
       "version_minor": 0
      },
      "text/plain": [
       "Creating parquet from Arrow format:   0%|          | 0/91 [00:00<?, ?ba/s]"
      ]
     },
     "metadata": {},
     "output_type": "display_data"
    },
    {
     "data": {
      "application/vnd.jupyter.widget-view+json": {
       "model_id": "22c4be251c8840f297e0556954a7bfc0",
       "version_major": 2,
       "version_minor": 0
      },
      "text/plain": [
       "Map:   0%|          | 0/9089 [00:00<?, ? examples/s]"
      ]
     },
     "metadata": {},
     "output_type": "display_data"
    },
    {
     "data": {
      "application/vnd.jupyter.widget-view+json": {
       "model_id": "f79a063e1a4948029b44ef1e50632fbf",
       "version_major": 2,
       "version_minor": 0
      },
      "text/plain": [
       "Creating parquet from Arrow format:   0%|          | 0/91 [00:00<?, ?ba/s]"
      ]
     },
     "metadata": {},
     "output_type": "display_data"
    },
    {
     "data": {
      "application/vnd.jupyter.widget-view+json": {
       "model_id": "713796af542d418fbe2fdb6f9b3c5a62",
       "version_major": 2,
       "version_minor": 0
      },
      "text/plain": [
       "Map:   0%|          | 0/9089 [00:00<?, ? examples/s]"
      ]
     },
     "metadata": {},
     "output_type": "display_data"
    },
    {
     "data": {
      "application/vnd.jupyter.widget-view+json": {
       "model_id": "d3a4e398874346ec8ca957fe9be08b74",
       "version_major": 2,
       "version_minor": 0
      },
      "text/plain": [
       "Creating parquet from Arrow format:   0%|          | 0/91 [00:00<?, ?ba/s]"
      ]
     },
     "metadata": {},
     "output_type": "display_data"
    },
    {
     "data": {
      "application/vnd.jupyter.widget-view+json": {
       "model_id": "00b44edb4ffe4048a37fbb3452fd4c3b",
       "version_major": 2,
       "version_minor": 0
      },
      "text/plain": [
       "Map:   0%|          | 0/9089 [00:00<?, ? examples/s]"
      ]
     },
     "metadata": {},
     "output_type": "display_data"
    },
    {
     "data": {
      "application/vnd.jupyter.widget-view+json": {
       "model_id": "6b892fbc25d640cabdfb9b73d7e44c25",
       "version_major": 2,
       "version_minor": 0
      },
      "text/plain": [
       "Creating parquet from Arrow format:   0%|          | 0/91 [00:00<?, ?ba/s]"
      ]
     },
     "metadata": {},
     "output_type": "display_data"
    },
    {
     "data": {
      "application/vnd.jupyter.widget-view+json": {
       "model_id": "8bce74acce2a44e7b50e7c38f12fbfa7",
       "version_major": 2,
       "version_minor": 0
      },
      "text/plain": [
       "Map:   0%|          | 0/9089 [00:00<?, ? examples/s]"
      ]
     },
     "metadata": {},
     "output_type": "display_data"
    },
    {
     "data": {
      "application/vnd.jupyter.widget-view+json": {
       "model_id": "978735edced440aeb9ac2ad0d55c487f",
       "version_major": 2,
       "version_minor": 0
      },
      "text/plain": [
       "Creating parquet from Arrow format:   0%|          | 0/91 [00:00<?, ?ba/s]"
      ]
     },
     "metadata": {},
     "output_type": "display_data"
    },
    {
     "data": {
      "application/vnd.jupyter.widget-view+json": {
       "model_id": "b89f581f6ae6494f965ac88223b17f0d",
       "version_major": 2,
       "version_minor": 0
      },
      "text/plain": [
       "Map:   0%|          | 0/9089 [00:00<?, ? examples/s]"
      ]
     },
     "metadata": {},
     "output_type": "display_data"
    },
    {
     "data": {
      "application/vnd.jupyter.widget-view+json": {
       "model_id": "4f671df2c4a34516810dc49f362a183e",
       "version_major": 2,
       "version_minor": 0
      },
      "text/plain": [
       "Creating parquet from Arrow format:   0%|          | 0/91 [00:00<?, ?ba/s]"
      ]
     },
     "metadata": {},
     "output_type": "display_data"
    },
    {
     "data": {
      "application/vnd.jupyter.widget-view+json": {
       "model_id": "538a33fe843d4fd69858a5c4a11693a4",
       "version_major": 2,
       "version_minor": 0
      },
      "text/plain": [
       "Map:   0%|          | 0/9089 [00:00<?, ? examples/s]"
      ]
     },
     "metadata": {},
     "output_type": "display_data"
    },
    {
     "data": {
      "application/vnd.jupyter.widget-view+json": {
       "model_id": "3270de07bc2b45c59fd4af9185980dbd",
       "version_major": 2,
       "version_minor": 0
      },
      "text/plain": [
       "Creating parquet from Arrow format:   0%|          | 0/91 [00:00<?, ?ba/s]"
      ]
     },
     "metadata": {},
     "output_type": "display_data"
    },
    {
     "data": {
      "application/vnd.jupyter.widget-view+json": {
       "model_id": "b1b662da2bac46fc9bfe8cbc8c72ecc8",
       "version_major": 2,
       "version_minor": 0
      },
      "text/plain": [
       "Map:   0%|          | 0/9089 [00:00<?, ? examples/s]"
      ]
     },
     "metadata": {},
     "output_type": "display_data"
    },
    {
     "data": {
      "application/vnd.jupyter.widget-view+json": {
       "model_id": "a11ff37bae6b442786a03c671a4fa9ea",
       "version_major": 2,
       "version_minor": 0
      },
      "text/plain": [
       "Creating parquet from Arrow format:   0%|          | 0/91 [00:00<?, ?ba/s]"
      ]
     },
     "metadata": {},
     "output_type": "display_data"
    },
    {
     "data": {
      "application/vnd.jupyter.widget-view+json": {
       "model_id": "0ac6957270264a979b518553a4ad3f1f",
       "version_major": 2,
       "version_minor": 0
      },
      "text/plain": [
       "Map:   0%|          | 0/9089 [00:00<?, ? examples/s]"
      ]
     },
     "metadata": {},
     "output_type": "display_data"
    },
    {
     "data": {
      "application/vnd.jupyter.widget-view+json": {
       "model_id": "40840c01e770487d940066786664e608",
       "version_major": 2,
       "version_minor": 0
      },
      "text/plain": [
       "Creating parquet from Arrow format:   0%|          | 0/91 [00:00<?, ?ba/s]"
      ]
     },
     "metadata": {},
     "output_type": "display_data"
    },
    {
     "data": {
      "application/vnd.jupyter.widget-view+json": {
       "model_id": "684905c7947c4cf5bfbcc01b005b3c03",
       "version_major": 2,
       "version_minor": 0
      },
      "text/plain": [
       "Map:   0%|          | 0/9089 [00:00<?, ? examples/s]"
      ]
     },
     "metadata": {},
     "output_type": "display_data"
    },
    {
     "data": {
      "application/vnd.jupyter.widget-view+json": {
       "model_id": "e31fa4f31a9940e086821b12d403d332",
       "version_major": 2,
       "version_minor": 0
      },
      "text/plain": [
       "Creating parquet from Arrow format:   0%|          | 0/91 [00:00<?, ?ba/s]"
      ]
     },
     "metadata": {},
     "output_type": "display_data"
    },
    {
     "data": {
      "application/vnd.jupyter.widget-view+json": {
       "model_id": "0cad9fbd5c8d4f5aaa441f662b307c63",
       "version_major": 2,
       "version_minor": 0
      },
      "text/plain": [
       "Map:   0%|          | 0/9089 [00:00<?, ? examples/s]"
      ]
     },
     "metadata": {},
     "output_type": "display_data"
    },
    {
     "data": {
      "application/vnd.jupyter.widget-view+json": {
       "model_id": "18872572f0104743bd845dd969c2fe55",
       "version_major": 2,
       "version_minor": 0
      },
      "text/plain": [
       "Creating parquet from Arrow format:   0%|          | 0/91 [00:00<?, ?ba/s]"
      ]
     },
     "metadata": {},
     "output_type": "display_data"
    },
    {
     "data": {
      "application/vnd.jupyter.widget-view+json": {
       "model_id": "94778adc52404bd7a98c16de08e71b64",
       "version_major": 2,
       "version_minor": 0
      },
      "text/plain": [
       "Map:   0%|          | 0/9089 [00:00<?, ? examples/s]"
      ]
     },
     "metadata": {},
     "output_type": "display_data"
    },
    {
     "data": {
      "application/vnd.jupyter.widget-view+json": {
       "model_id": "9573e0e66a0b449e9096be1bdd231656",
       "version_major": 2,
       "version_minor": 0
      },
      "text/plain": [
       "Creating parquet from Arrow format:   0%|          | 0/91 [00:00<?, ?ba/s]"
      ]
     },
     "metadata": {},
     "output_type": "display_data"
    },
    {
     "data": {
      "text/plain": [
       "CommitInfo(commit_url='https://huggingface.co/datasets/hsekhalilian/persian-youtube/commit/4fa41c461fee8c989b302cb86545c4e5e7deb727', commit_message='Upload dataset', commit_description='', oid='4fa41c461fee8c989b302cb86545c4e5e7deb727', pr_url=None, repo_url=RepoUrl('https://huggingface.co/datasets/hsekhalilian/persian-youtube', endpoint='https://huggingface.co', repo_type='dataset', repo_id='hsekhalilian/persian-youtube'), pr_revision=None, pr_num=None)"
      ]
     },
     "execution_count": 13,
     "metadata": {},
     "output_type": "execute_result"
    }
   ],
   "source": [
    "normalized_dataset.push_to_hub(\"hsekhalilian/persian-youtube\", private=True)"
   ]
  },
  {
   "cell_type": "markdown",
   "id": "9f4fa3ab-5c88-411c-bea3-494c15d8c0f9",
   "metadata": {},
   "source": [
    "# Filimo"
   ]
  },
  {
   "cell_type": "code",
   "execution_count": null,
   "id": "4df4959c-d248-48a8-b390-1e02f8fe8432",
   "metadata": {},
   "outputs": [],
   "source": []
  }
 ],
 "metadata": {
  "kernelspec": {
   "display_name": "Python 3 (ipykernel)",
   "language": "python",
   "name": "python3"
  },
  "language_info": {
   "codemirror_mode": {
    "name": "ipython",
    "version": 3
   },
   "file_extension": ".py",
   "mimetype": "text/x-python",
   "name": "python",
   "nbconvert_exporter": "python",
   "pygments_lexer": "ipython3",
   "version": "3.12.9"
  }
 },
 "nbformat": 4,
 "nbformat_minor": 5
}
