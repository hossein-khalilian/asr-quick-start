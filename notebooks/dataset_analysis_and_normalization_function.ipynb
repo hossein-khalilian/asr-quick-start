{
 "cells": [
  {
   "cell_type": "code",
   "execution_count": 3,
   "id": "42132f91-1dd4-4ad6-a925-4e22edd4995d",
   "metadata": {
    "execution": {
     "iopub.execute_input": "2025-06-29T04:51:06.662667Z",
     "iopub.status.busy": "2025-06-29T04:51:06.662382Z",
     "iopub.status.idle": "2025-06-29T04:51:08.312090Z",
     "shell.execute_reply": "2025-06-29T04:51:08.311373Z",
     "shell.execute_reply.started": "2025-06-29T04:51:06.662643Z"
    }
   },
   "outputs": [],
   "source": [
    "from datasets import load_dataset\n",
    "from utils import persian_normalizer"
   ]
  },
  {
   "cell_type": "code",
   "execution_count": 4,
   "id": "1167ab15-4e6f-4cba-bb9c-d607258ca3ea",
   "metadata": {
    "execution": {
     "iopub.execute_input": "2025-06-29T04:51:08.313884Z",
     "iopub.status.busy": "2025-06-29T04:51:08.313342Z",
     "iopub.status.idle": "2025-06-29T04:51:12.503663Z",
     "shell.execute_reply": "2025-06-29T04:51:12.502908Z",
     "shell.execute_reply.started": "2025-06-29T04:51:08.313858Z"
    }
   },
   "outputs": [],
   "source": [
    "lang_code = \"fa_ir\"\n",
    "dataset = load_dataset(\"google/fleurs\", lang_code, trust_remote_code=True)"
   ]
  },
  {
   "cell_type": "code",
   "execution_count": 5,
   "id": "e430a3cd-c470-47a3-ab65-d777bb5c4d4e",
   "metadata": {
    "execution": {
     "iopub.execute_input": "2025-06-29T04:51:12.504932Z",
     "iopub.status.busy": "2025-06-29T04:51:12.504395Z",
     "iopub.status.idle": "2025-06-29T04:51:14.671220Z",
     "shell.execute_reply": "2025-06-29T04:51:14.670496Z",
     "shell.execute_reply.started": "2025-06-29T04:51:12.504906Z"
    }
   },
   "outputs": [
    {
     "data": {
      "text/plain": [
       "{'id': 135,\n",
       " 'num_samples': 215040,\n",
       " 'path': '/home/dev/.cache/huggingface/datasets/downloads/extracted/9b01d1d7f2d123695c22d5c652da6e747cf0bba7575f333eb0cd70ad62be0d6f/10005925264288051221.wav',\n",
       " 'audio': {'path': 'train/10005925264288051221.wav',\n",
       "  'array': array([0.        , 0.        , 0.        , ..., 0.00459224, 0.00350004,\n",
       "         0.00263834]),\n",
       "  'sampling_rate': 16000},\n",
       " 'transcription': 'پدیده کشند سرخ وقتی رخ می\\u200cدهد که تراکم کارنیا برویس نوعی جاندار دریایی تک\\u200cسلولی که به\\u200cصورت طبیعی پدید می\\u200cآید بالاتر از حد عادی باشد',\n",
       " 'raw_transcription': 'پدیده کشند سرخ وقتی رخ می\\u200cدهد که تراکم کارنیا برویس، نوعی جاندار دریایی تک\\u200cسلولی که به\\u200cصورت طبیعی پدید می\\u200cآید، بالاتر از حد عادی باشد.',\n",
       " 'gender': 0,\n",
       " 'lang_id': 22,\n",
       " 'language': 'Persian',\n",
       " 'lang_group_id': 2}"
      ]
     },
     "execution_count": 5,
     "metadata": {},
     "output_type": "execute_result"
    }
   ],
   "source": [
    "dataset[\"train\"][0]"
   ]
  },
  {
   "cell_type": "code",
   "execution_count": 6,
   "id": "7cc695c0-6edf-4dd1-842f-979512dc1b6f",
   "metadata": {
    "execution": {
     "iopub.execute_input": "2025-06-29T04:51:14.672717Z",
     "iopub.status.busy": "2025-06-29T04:51:14.672327Z",
     "iopub.status.idle": "2025-06-29T04:51:14.741082Z",
     "shell.execute_reply": "2025-06-29T04:51:14.740421Z",
     "shell.execute_reply.started": "2025-06-29T04:51:14.672693Z"
    }
   },
   "outputs": [
    {
     "name": "stdout",
     "output_type": "stream",
     "text": [
      "Unique characters: [' ', '%', '&', '+', ',', '-', '.', '/', '0', '1', '2', '3', '4', '5', '6', '7', '8', '9', ':', 'a', 'b', 'c', 'd', 'e', 'f', 'g', 'h', 'i', 'j', 'k', 'l', 'm', 'n', 'o', 'p', 'q', 'r', 's', 't', 'u', 'v', 'w', 'x', 'y', 'z', '«', '»', 'õ', '،', '؛', 'ء', 'آ', 'أ', 'ؤ', 'ئ', 'ا', 'ب', 'ت', 'ث', 'ج', 'ح', 'خ', 'د', 'ذ', 'ر', 'ز', 'س', 'ش', 'ص', 'ض', 'ط', 'ظ', 'ع', 'غ', 'ف', 'ق', 'ل', 'م', 'ن', 'ه', 'و', 'ً', 'َ', 'ُ', 'ِ', 'ّ', '٪', 'پ', 'چ', 'ژ', 'ک', 'گ', 'ۀ', 'ی', '۰', '۱', '۲', '۳', '۴', '۵', '۶', '۷', '۸', '۹', '\\u200c', '\\u200e']\n",
      "Number of unique characters: 106\n",
      "Unique characters: [' ', '!', '%', '&', '(', ')', '+', ',', '-', '.', '/', '0', '1', '2', '3', '4', '5', '6', '7', '8', '9', ':', 'A', 'B', 'C', 'D', 'E', 'F', 'G', 'H', 'I', 'J', 'K', 'L', 'M', 'N', 'O', 'P', 'Q', 'R', 'S', 'T', 'U', 'V', 'W', 'X', 'Z', 'a', 'b', 'c', 'd', 'e', 'f', 'g', 'h', 'i', 'j', 'k', 'l', 'm', 'n', 'o', 'p', 'q', 'r', 's', 't', 'u', 'v', 'w', 'x', 'y', '«', '»', 'Õ', 'õ', '،', '؛', '؟', 'ء', 'آ', 'أ', 'ؤ', 'ئ', 'ا', 'ب', 'ت', 'ث', 'ج', 'ح', 'خ', 'د', 'ذ', 'ر', 'ز', 'س', 'ش', 'ص', 'ض', 'ط', 'ظ', 'ع', 'غ', 'ف', 'ق', 'ك', 'ل', 'م', 'ن', 'ه', 'و', 'ي', 'ً', 'َ', 'ُ', 'ِ', 'ّ', '٪', 'پ', 'چ', 'ژ', 'ک', 'گ', 'ۀ', 'ی', '\\u200c', '\\u200e', '–', '—']\n",
      "Number of unique characters: 129\n"
     ]
    }
   ],
   "source": [
    "all_text = \" \".join(dataset['train']['transcription'])\n",
    "unique_chars = sorted(set(all_text))\n",
    "\n",
    "print(\"Unique characters:\", unique_chars)\n",
    "print(\"Number of unique characters:\", len(unique_chars))\n",
    "\n",
    "\n",
    "all_text = \" \".join(dataset['train']['raw_transcription'])\n",
    "unique_chars = sorted(set(all_text))\n",
    "\n",
    "print(\"Unique characters:\", unique_chars)\n",
    "print(\"Number of unique characters:\", len(unique_chars))"
   ]
  },
  {
   "cell_type": "code",
   "execution_count": 29,
   "id": "820c82ec-f0b2-4bf9-a386-f332f3e7c43c",
   "metadata": {
    "execution": {
     "iopub.execute_input": "2025-06-29T04:57:46.310810Z",
     "iopub.status.busy": "2025-06-29T04:57:46.310149Z",
     "iopub.status.idle": "2025-06-29T04:57:46.318256Z",
     "shell.execute_reply": "2025-06-29T04:57:46.317444Z",
     "shell.execute_reply.started": "2025-06-29T04:57:46.310743Z"
    }
   },
   "outputs": [],
   "source": [
    "import re\n",
    "\n",
    "def persian_normalizer(text):\n",
    "    replacements = {\n",
    "        'أ': 'ا',\n",
    "        'إ': 'ا',\n",
    "        'آ': 'آ',\n",
    "        'ٱ': 'ا',\n",
    "        'ء': '',\n",
    "        'ؤ': 'و',\n",
    "        'ى': 'ی',\n",
    "        'ي': 'ی',\n",
    "        'ة': 'ه',\n",
    "        'ۀ': 'ه',\n",
    "        'ۆ': 'و',\n",
    "        'ڵ': 'ل',\n",
    "        'ێ': 'ی',\n",
    "        'ە': 'ه',\n",
    "        'ڤ': 'و',\n",
    "        'ٔ': '',\n",
    "        '\\u200d': '\\u200c',\n",
    "        '\\u200e': '\\u200c',\n",
    "        '\\u200f': '\\u200c',\n",
    "        '\\ufeff': '\\u200c',\n",
    "    }\n",
    "\n",
    "    for src, dest in replacements.items():\n",
    "        text = text.replace(src, dest)\n",
    "\n",
    "    persian_digits = '۰۱۲۳۴۵۶۷۸۹'\n",
    "    english_digits = '0123456789'\n",
    "    for pd, ed in zip(persian_digits, english_digits):\n",
    "        text = text.replace(pd, ed)\n",
    "\n",
    "    allowed_pattern = re.compile(\n",
    "        r'[^'\n",
    "        r'ئآابپتثجچحخدذرزژسشصضطظعغفقکگلمنوهی'\n",
    "        r'a-zA-Z'\n",
    "        r'0-9۰-۹'\n",
    "        r'.,:!?\\'\"()\\[\\]{}\\-–—'\n",
    "        r'٪،؛«»؟%&+'\n",
    "        r'\\s\\u200c'\n",
    "        r']'\n",
    "    )\n",
    "    text = allowed_pattern.sub('', text)\n",
    "    text = re.sub(r'[ ]{2,}', ' ', text)\n",
    "    text = re.sub(r'[\\u200c]{2,}', '\\u200c', text)\n",
    "\n",
    "    return text\n"
   ]
  },
  {
   "cell_type": "code",
   "execution_count": 49,
   "id": "312b27d9-62e7-4a06-8134-951b72f2457b",
   "metadata": {
    "execution": {
     "iopub.execute_input": "2025-06-29T05:03:49.635966Z",
     "iopub.status.busy": "2025-06-29T05:03:49.635385Z",
     "iopub.status.idle": "2025-06-29T05:03:49.644113Z",
     "shell.execute_reply": "2025-06-29T05:03:49.642914Z",
     "shell.execute_reply.started": "2025-06-29T05:03:49.635916Z"
    }
   },
   "outputs": [
    {
     "name": "stdout",
     "output_type": "stream",
     "text": [
      "این یک تست‌ها است! انا ممتاز. گول، 1234، abc، ‌\n"
     ]
    }
   ],
   "source": [
    "print(persian_normalizer(\"این یک تست‌ها است! أَنا مُمتاز. گۆڵ، ۱۲۳۴، abc، \\u200c\\u200e\"))"
   ]
  },
  {
   "cell_type": "code",
   "execution_count": 35,
   "id": "c4920187-376c-4b32-b0c0-0b6ff125d721",
   "metadata": {
    "execution": {
     "iopub.execute_input": "2025-06-29T04:58:55.607494Z",
     "iopub.status.busy": "2025-06-29T04:58:55.606719Z",
     "iopub.status.idle": "2025-06-29T04:58:55.679716Z",
     "shell.execute_reply": "2025-06-29T04:58:55.678325Z",
     "shell.execute_reply.started": "2025-06-29T04:58:55.607423Z"
    }
   },
   "outputs": [
    {
     "name": "stdout",
     "output_type": "stream",
     "text": [
      "84\n"
     ]
    },
    {
     "data": {
      "text/plain": [
       "[' ',\n",
       " '%',\n",
       " '&',\n",
       " '+',\n",
       " ',',\n",
       " '-',\n",
       " '.',\n",
       " '0',\n",
       " '1',\n",
       " '2',\n",
       " '3',\n",
       " '4',\n",
       " '5',\n",
       " '6',\n",
       " '7',\n",
       " '8',\n",
       " '9',\n",
       " ':',\n",
       " 'a',\n",
       " 'b',\n",
       " 'c',\n",
       " 'd',\n",
       " 'e',\n",
       " 'f',\n",
       " 'g',\n",
       " 'h',\n",
       " 'i',\n",
       " 'j',\n",
       " 'k',\n",
       " 'l',\n",
       " 'm',\n",
       " 'n',\n",
       " 'o',\n",
       " 'p',\n",
       " 'q',\n",
       " 'r',\n",
       " 's',\n",
       " 't',\n",
       " 'u',\n",
       " 'v',\n",
       " 'w',\n",
       " 'x',\n",
       " 'y',\n",
       " 'z',\n",
       " '«',\n",
       " '»',\n",
       " '،',\n",
       " '؛',\n",
       " 'آ',\n",
       " 'ئ',\n",
       " 'ا',\n",
       " 'ب',\n",
       " 'ت',\n",
       " 'ث',\n",
       " 'ج',\n",
       " 'ح',\n",
       " 'خ',\n",
       " 'د',\n",
       " 'ذ',\n",
       " 'ر',\n",
       " 'ز',\n",
       " 'س',\n",
       " 'ش',\n",
       " 'ص',\n",
       " 'ض',\n",
       " 'ط',\n",
       " 'ظ',\n",
       " 'ع',\n",
       " 'غ',\n",
       " 'ف',\n",
       " 'ق',\n",
       " 'ل',\n",
       " 'م',\n",
       " 'ن',\n",
       " 'ه',\n",
       " 'و',\n",
       " '٪',\n",
       " 'پ',\n",
       " 'چ',\n",
       " 'ژ',\n",
       " 'ک',\n",
       " 'گ',\n",
       " 'ی',\n",
       " '\\u200c']"
      ]
     },
     "execution_count": 35,
     "metadata": {},
     "output_type": "execute_result"
    }
   ],
   "source": [
    "all_text = \" \".join(dataset['train']['transcription'])\n",
    "clean_text = persian_normalizer(all_text)\n",
    "unique_chars = sorted(set(clean_text))\n",
    "print(len(unique_chars))\n",
    "unique_chars"
   ]
  },
  {
   "cell_type": "code",
   "execution_count": 36,
   "id": "1767a07e-55fd-4e89-85ef-ba833b39cd81",
   "metadata": {
    "execution": {
     "iopub.execute_input": "2025-06-29T04:58:55.848832Z",
     "iopub.status.busy": "2025-06-29T04:58:55.848558Z",
     "iopub.status.idle": "2025-06-29T04:59:06.766206Z",
     "shell.execute_reply": "2025-06-29T04:59:06.765465Z",
     "shell.execute_reply.started": "2025-06-29T04:58:55.848809Z"
    }
   },
   "outputs": [
    {
     "name": "stdout",
     "output_type": "stream",
     "text": [
      "86\n"
     ]
    },
    {
     "data": {
      "text/plain": [
       "[' ',\n",
       " '%',\n",
       " '&',\n",
       " '+',\n",
       " '-',\n",
       " '.',\n",
       " '/',\n",
       " '0',\n",
       " '1',\n",
       " '2',\n",
       " '3',\n",
       " '4',\n",
       " '5',\n",
       " '6',\n",
       " '7',\n",
       " '8',\n",
       " '9',\n",
       " ':',\n",
       " 'a',\n",
       " 'b',\n",
       " 'c',\n",
       " 'd',\n",
       " 'e',\n",
       " 'f',\n",
       " 'g',\n",
       " 'h',\n",
       " 'i',\n",
       " 'j',\n",
       " 'k',\n",
       " 'l',\n",
       " 'm',\n",
       " 'n',\n",
       " 'o',\n",
       " 'p',\n",
       " 'q',\n",
       " 'r',\n",
       " 's',\n",
       " 't',\n",
       " 'u',\n",
       " 'v',\n",
       " 'w',\n",
       " 'x',\n",
       " 'y',\n",
       " 'z',\n",
       " '«',\n",
       " '»',\n",
       " 'õ',\n",
       " '،',\n",
       " '؛',\n",
       " 'آ',\n",
       " 'ئ',\n",
       " 'ا',\n",
       " 'ب',\n",
       " 'ت',\n",
       " 'ث',\n",
       " 'ج',\n",
       " 'ح',\n",
       " 'خ',\n",
       " 'د',\n",
       " 'ذ',\n",
       " 'ر',\n",
       " 'ز',\n",
       " 'س',\n",
       " 'ش',\n",
       " 'ص',\n",
       " 'ض',\n",
       " 'ط',\n",
       " 'ظ',\n",
       " 'ع',\n",
       " 'غ',\n",
       " 'ف',\n",
       " 'ق',\n",
       " 'ل',\n",
       " 'م',\n",
       " 'ن',\n",
       " 'ه',\n",
       " 'و',\n",
       " 'ّ',\n",
       " '٪',\n",
       " 'پ',\n",
       " 'چ',\n",
       " 'ژ',\n",
       " 'ک',\n",
       " 'گ',\n",
       " 'ی',\n",
       " '\\u200c']"
      ]
     },
     "execution_count": 36,
     "metadata": {},
     "output_type": "execute_result"
    }
   ],
   "source": [
    "import parsivar\n",
    "normalizer_01 = parsivar.normalizer.Normalizer()\n",
    "\n",
    "clean_text_01 = normalizer_01.normalize(all_text)\n",
    "unique_chars_01 = sorted(set(clean_text_01))\n",
    "print(len(unique_chars_01))\n",
    "unique_chars_01"
   ]
  },
  {
   "cell_type": "code",
   "execution_count": 37,
   "id": "d76301d9-6256-459a-939e-d97a2d924176",
   "metadata": {
    "execution": {
     "iopub.execute_input": "2025-06-29T04:59:06.767585Z",
     "iopub.status.busy": "2025-06-29T04:59:06.767229Z",
     "iopub.status.idle": "2025-06-29T04:59:06.771294Z",
     "shell.execute_reply": "2025-06-29T04:59:06.770615Z",
     "shell.execute_reply.started": "2025-06-29T04:59:06.767562Z"
    }
   },
   "outputs": [
    {
     "name": "stdout",
     "output_type": "stream",
     "text": [
      "/\n",
      "õ\n",
      "ّ\n"
     ]
    }
   ],
   "source": [
    "for char in unique_chars_01:\n",
    "    if char not in unique_chars:\n",
    "        print(char)"
   ]
  },
  {
   "cell_type": "code",
   "execution_count": 38,
   "id": "6ed838b2-09fe-4bb9-a33d-ee9b032f50f9",
   "metadata": {
    "execution": {
     "iopub.execute_input": "2025-06-29T04:59:06.772135Z",
     "iopub.status.busy": "2025-06-29T04:59:06.771918Z",
     "iopub.status.idle": "2025-06-29T04:59:06.783527Z",
     "shell.execute_reply": "2025-06-29T04:59:06.782728Z",
     "shell.execute_reply.started": "2025-06-29T04:59:06.772114Z"
    }
   },
   "outputs": [
    {
     "name": "stdout",
     "output_type": "stream",
     "text": [
      "361514\n",
      "362547\n"
     ]
    }
   ],
   "source": [
    "print(len(clean_text))\n",
    "print(len(clean_text_01))"
   ]
  },
  {
   "cell_type": "code",
   "execution_count": 47,
   "id": "039e3cc2-1ffd-4ab0-afb4-29c5da7fb201",
   "metadata": {
    "execution": {
     "iopub.execute_input": "2025-06-29T05:01:15.225935Z",
     "iopub.status.busy": "2025-06-29T05:01:15.225355Z",
     "iopub.status.idle": "2025-06-29T05:01:19.913926Z",
     "shell.execute_reply": "2025-06-29T05:01:19.913178Z",
     "shell.execute_reply.started": "2025-06-29T05:01:15.225888Z"
    }
   },
   "outputs": [
    {
     "name": "stdout",
     "output_type": "stream",
     "text": [
      "سیستمی‌بود\n",
      "Close matches: []\n",
      "--------------------------------------------------------------------------------\n",
      "اروپایی‌بودند\n",
      "Close matches: []\n",
      "--------------------------------------------------------------------------------\n",
      "سونامی‌بود\n",
      "Close matches: []\n",
      "--------------------------------------------------------------------------------\n",
      "شده‌بود\n",
      "Close matches: []\n",
      "--------------------------------------------------------------------------------\n",
      "جدی‌بود\n",
      "Close matches: []\n",
      "--------------------------------------------------------------------------------\n",
      "عمل‌کرد\n",
      "Close matches: ['عملکرد', 'عملکرد', 'عملکرد', 'عملکرد', 'عملکرد', 'عملکردی', 'عملکردی', 'عملکرد', 'عملکردی', 'عملکرد', 'عملکرد', 'عملکرد', 'عملکردی', 'عملکرد', 'عملکرد', 'عملکرد', 'عملکرد', 'عملکرد']\n",
      "--------------------------------------------------------------------------------\n",
      "آفریقایی‌بودند\n",
      "Close matches: []\n",
      "--------------------------------------------------------------------------------\n",
      "لازم‌بود\n",
      "Close matches: []\n",
      "--------------------------------------------------------------------------------\n",
      "قرار‌بود\n",
      "Close matches: []\n",
      "--------------------------------------------------------------------------------\n",
      "گزارش‌بود\n",
      "Close matches: []\n",
      "--------------------------------------------------------------------------------\n",
      "کرده‌بود\n",
      "Close matches: []\n",
      "--------------------------------------------------------------------------------\n",
      "نداده‌بود\n",
      "Close matches: []\n",
      "--------------------------------------------------------------------------------\n",
      "شیئ\n",
      "Close matches: ['شی', 'شی', 'شی']\n",
      "--------------------------------------------------------------------------------\n",
      "رسیده‌بودند\n",
      "Close matches: []\n",
      "--------------------------------------------------------------------------------\n",
      "می‌خواستند\n",
      "Close matches: ['خواستند', 'می\\u200cخواند', 'خواستند', 'می\\u200cدانستند', 'می\\u200cدانستند', 'می\\u200cخواهند', 'می\\u200cدانستند', 'می\\u200cخواهند', 'می\\u200cخواهند', 'می\\u200cخواهند', 'می\\u200cخواهند', 'می\\u200cخواند', 'می\\u200cدانستند', 'می\\u200cخواهند', 'می\\u200cخواهند', 'می\\u200cدانستند', 'می\\u200cخواهند', 'می\\u200cتوانستند', 'خواستند', 'می\\u200cتوانستند']\n",
      "--------------------------------------------------------------------------------\n",
      "امضائ\n",
      "Close matches: ['امضا', 'امضای', 'امضای', 'امضا', 'امضای', 'امضای', 'امضا', 'امضا', 'امضا', 'امضا', 'امضای', 'امضا', 'امضای', 'امضا', 'امضا', 'امضای']\n",
      "--------------------------------------------------------------------------------\n",
      "محدود‌بود\n",
      "Close matches: []\n",
      "--------------------------------------------------------------------------------\n",
      "قیمتی‌بود\n",
      "Close matches: []\n",
      "--------------------------------------------------------------------------------\n",
      "زمان‌بودند\n",
      "Close matches: ['زمان\\u200cبندی', 'زمان\\u200cبندی']\n",
      "--------------------------------------------------------------------------------\n",
      "17‌ام\n",
      "Close matches: []\n",
      "--------------------------------------------------------------------------------\n",
      "آزار‌دهنده\n",
      "Close matches: ['آزاردهنده', 'آزاردهنده']\n",
      "--------------------------------------------------------------------------------\n",
      "احاطه‌شده‌است\n",
      "Close matches: []\n",
      "--------------------------------------------------------------------------------\n",
      "تکنیک‌های\n",
      "Close matches: []\n",
      "--------------------------------------------------------------------------------\n",
      "جمع‌‌آوری\n",
      "Close matches: ['جمع\\u200cآوری', 'جمع\\u200cآوری', 'جمع\\u200cآوری', 'جمع\\u200cآوری', 'جمع\\u200cآوری', 'جمع\\u200cآوری', 'جمع\\u200cآوری', 'جمع\\u200cآوری', 'جمع\\u200cآوری']\n",
      "--------------------------------------------------------------------------------\n",
      "جدید‌شده‌است\n",
      "Close matches: []\n",
      "--------------------------------------------------------------------------------\n",
      "دوست‌بود\n",
      "Close matches: []\n",
      "--------------------------------------------------------------------------------\n",
      "ساکن‌بودند\n",
      "Close matches: []\n",
      "--------------------------------------------------------------------------------\n",
      "رسیده‌بودند\n",
      "Close matches: []\n",
      "--------------------------------------------------------------------------------\n",
      "شرقی‌بود\n",
      "Close matches: []\n",
      "--------------------------------------------------------------------------------\n",
      "کرده‌بودند\n",
      "Close matches: []\n",
      "--------------------------------------------------------------------------------\n",
      "dna‌بود\n",
      "Close matches: []\n",
      "--------------------------------------------------------------------------------\n"
     ]
    }
   ],
   "source": [
    "from fuzzywuzzy import fuzz\n",
    "\n",
    "clean_words = clean_text.split()\n",
    "\n",
    "i = 0\n",
    "for word in clean_text_01.split():\n",
    "    if word not in clean_text:\n",
    "        search_word = word\n",
    "        print(word)\n",
    "        matches = [(word, fuzz.ratio(search_word, word)) for word in clean_words]\n",
    "        close_matches = [word for word, score in matches if score >= 80]\n",
    "        print(\"Close matches:\", close_matches)\n",
    "        print(\"-\"*80)\n",
    "\n",
    "        i += 1\n",
    "        if i > 30:\n",
    "            break"
   ]
  },
  {
   "cell_type": "code",
   "execution_count": null,
   "id": "0ffa0e9b-dd66-407a-9442-f9513d888e0e",
   "metadata": {},
   "outputs": [],
   "source": []
  }
 ],
 "metadata": {
  "kernelspec": {
   "display_name": "Python 3 (ipykernel)",
   "language": "python",
   "name": "python3"
  },
  "language_info": {
   "codemirror_mode": {
    "name": "ipython",
    "version": 3
   },
   "file_extension": ".py",
   "mimetype": "text/x-python",
   "name": "python",
   "nbconvert_exporter": "python",
   "pygments_lexer": "ipython3",
   "version": "3.12.9"
  }
 },
 "nbformat": 4,
 "nbformat_minor": 5
}
