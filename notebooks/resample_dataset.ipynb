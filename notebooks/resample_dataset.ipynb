{
 "cells": [
  {
   "cell_type": "code",
   "execution_count": 1,
   "id": "d1e59a57-30d1-4154-ade2-a00dbfad2c41",
   "metadata": {
    "execution": {
     "iopub.execute_input": "2025-07-02T06:37:17.064711Z",
     "iopub.status.busy": "2025-07-02T06:37:17.064240Z",
     "iopub.status.idle": "2025-07-02T06:37:22.290867Z",
     "shell.execute_reply": "2025-07-02T06:37:22.289182Z",
     "shell.execute_reply.started": "2025-07-02T06:37:17.064670Z"
    }
   },
   "outputs": [],
   "source": [
    "import os\n",
    "import torch\n",
    "import librosa\n",
    "import torchaudio\n",
    "import numpy as np\n",
    "import soundfile as sf\n",
    "from datasets import load_dataset, Dataset, Audio"
   ]
  },
  {
   "cell_type": "code",
   "execution_count": 2,
   "id": "a2467194-2cbe-4b0a-b0e8-fe1fc662d45f",
   "metadata": {
    "execution": {
     "iopub.execute_input": "2025-07-02T06:37:57.003383Z",
     "iopub.status.busy": "2025-07-02T06:37:57.002609Z",
     "iopub.status.idle": "2025-07-02T06:37:59.359756Z",
     "shell.execute_reply": "2025-07-02T06:37:59.358424Z",
     "shell.execute_reply.started": "2025-07-02T06:37:57.003336Z"
    }
   },
   "outputs": [
    {
     "data": {
      "application/vnd.jupyter.widget-view+json": {
       "model_id": "135f5cb15bc14676a0c4486d615467fa",
       "version_major": 2,
       "version_minor": 0
      },
      "text/plain": [
       "Resolving data files:   0%|          | 0/46 [00:00<?, ?it/s]"
      ]
     },
     "metadata": {},
     "output_type": "display_data"
    },
    {
     "data": {
      "application/vnd.jupyter.widget-view+json": {
       "model_id": "eda2b1cc3fc44a3ead9dc384138e8d91",
       "version_major": 2,
       "version_minor": 0
      },
      "text/plain": [
       "Resolving data files:   0%|          | 0/46 [00:00<?, ?it/s]"
      ]
     },
     "metadata": {},
     "output_type": "display_data"
    },
    {
     "data": {
      "application/vnd.jupyter.widget-view+json": {
       "model_id": "ebf3cf7724424b198c262b95d3d86591",
       "version_major": 2,
       "version_minor": 0
      },
      "text/plain": [
       "Loading dataset shards:   0%|          | 0/59 [00:00<?, ?it/s]"
      ]
     },
     "metadata": {},
     "output_type": "display_data"
    }
   ],
   "source": [
    "dataset = load_dataset(\"hsekhalilian/persian-youtube\", num_proc=32)\n",
    "dataset = dataset.remove_columns(\"file_name\")\n",
    "\n",
    "dataset = dataset[\"train\"].select(range(100))"
   ]
  },
  {
   "cell_type": "code",
   "execution_count": 3,
   "id": "577d76b8-cd41-4229-8d36-ae3da978daa6",
   "metadata": {
    "execution": {
     "iopub.execute_input": "2025-07-02T06:37:59.361968Z",
     "iopub.status.busy": "2025-07-02T06:37:59.361476Z",
     "iopub.status.idle": "2025-07-02T06:38:02.355656Z",
     "shell.execute_reply": "2025-07-02T06:38:02.354171Z",
     "shell.execute_reply.started": "2025-07-02T06:37:59.361939Z"
    }
   },
   "outputs": [
    {
     "data": {
      "text/plain": [
       "{'sentence': 'تا حالا عربی رقصیدی؟',\n",
       " 'audio': {'path': '0053700001.mp3',\n",
       "  'array': array([-0.01711661, -0.02069014, -0.01701352, ...,  0.06120613,\n",
       "          0.08319854,  0.06572199]),\n",
       "  'sampling_rate': 44100},\n",
       " 'normalized_transcription': 'تا حالا عربی رقصیدی؟'}"
      ]
     },
     "execution_count": 3,
     "metadata": {},
     "output_type": "execute_result"
    }
   ],
   "source": [
    "dataset[0]"
   ]
  },
  {
   "cell_type": "markdown",
   "id": "212a382c-21ca-46f9-922d-2001ee8907b0",
   "metadata": {},
   "source": [
    "# librosa resampling"
   ]
  },
  {
   "cell_type": "code",
   "execution_count": 4,
   "id": "f7532966-c5c9-4d6f-8242-f4e1fef91da8",
   "metadata": {
    "execution": {
     "iopub.execute_input": "2025-07-02T06:38:48.227940Z",
     "iopub.status.busy": "2025-07-02T06:38:48.227017Z",
     "iopub.status.idle": "2025-07-02T06:38:51.334322Z",
     "shell.execute_reply": "2025-07-02T06:38:51.332897Z",
     "shell.execute_reply.started": "2025-07-02T06:38:48.227887Z"
    }
   },
   "outputs": [
    {
     "data": {
      "application/vnd.jupyter.widget-view+json": {
       "model_id": "1c9f04223cc64d3c978bf846b828d071",
       "version_major": 2,
       "version_minor": 0
      },
      "text/plain": [
       "Map:   0%|          | 0/100 [00:00<?, ? examples/s]"
      ]
     },
     "metadata": {},
     "output_type": "display_data"
    }
   ],
   "source": [
    "output_dir = \"/home/jovyan/.cache/datasets/test/audio_files\"\n",
    "os.makedirs(output_dir, exist_ok=True)\n",
    "\n",
    "target_sr = 16000\n",
    "\n",
    "def process(example):\n",
    "    audio_array = example[\"audio\"][\"array\"]\n",
    "    original_sr = example[\"audio\"][\"sampling_rate\"]\n",
    "    resampled = librosa.resample(np.array(audio_array), orig_sr=original_sr, target_sr=target_sr)\n",
    "\n",
    "    filename = os.path.splitext(example[\"audio\"][\"path\"])[0] + \".flac\"\n",
    "    output_path = os.path.join(output_dir, filename)\n",
    "    sf.write(output_path, resampled, target_sr, format=\"FLAC\")\n",
    "\n",
    "    return {\n",
    "        \"audio\": output_path,\n",
    "        \"sentence\": example[\"sentence\"],\n",
    "        \"normalized_transcription\": example[\"normalized_transcription\"]\n",
    "    }\n",
    "\n",
    "new_dataset = dataset.map(process)\n",
    "new_dataset = new_dataset.cast_column(\"audio\", Audio(sampling_rate=target_sr))"
   ]
  },
  {
   "cell_type": "code",
   "execution_count": 6,
   "id": "c50ea612-40ad-442e-92ea-dcd322a2e6c2",
   "metadata": {
    "execution": {
     "iopub.execute_input": "2025-07-02T06:39:01.792648Z",
     "iopub.status.busy": "2025-07-02T06:39:01.792056Z",
     "iopub.status.idle": "2025-07-02T06:39:01.820716Z",
     "shell.execute_reply": "2025-07-02T06:39:01.819455Z",
     "shell.execute_reply.started": "2025-07-02T06:39:01.792600Z"
    }
   },
   "outputs": [
    {
     "data": {
      "text/plain": [
       "{'sentence': 'تا حالا عربی رقصیدی؟',\n",
       " 'audio': {'path': '/home/jovyan/.cache/datasets/test/audio_files/0053700001.flac',\n",
       "  'array': array([-0.01202393, -0.02008057, -0.01922607, ...,  0.02316284,\n",
       "          0.07275391,  0.        ]),\n",
       "  'sampling_rate': 16000},\n",
       " 'normalized_transcription': 'تا حالا عربی رقصیدی؟'}"
      ]
     },
     "execution_count": 6,
     "metadata": {},
     "output_type": "execute_result"
    }
   ],
   "source": [
    "new_dataset[0]"
   ]
  },
  {
   "cell_type": "markdown",
   "id": "bca916f1-5497-4830-b6e7-bc056ce3d636",
   "metadata": {},
   "source": [
    "# pytorchaudio gpu"
   ]
  },
  {
   "cell_type": "code",
   "execution_count": 10,
   "id": "f494a2a9-bf7d-40e9-ac77-b2ed5f97158a",
   "metadata": {
    "execution": {
     "iopub.execute_input": "2025-07-02T06:50:05.581269Z",
     "iopub.status.busy": "2025-07-02T06:50:05.580642Z",
     "iopub.status.idle": "2025-07-02T06:50:07.276091Z",
     "shell.execute_reply": "2025-07-02T06:50:07.274857Z",
     "shell.execute_reply.started": "2025-07-02T06:50:05.581221Z"
    }
   },
   "outputs": [
    {
     "data": {
      "application/vnd.jupyter.widget-view+json": {
       "model_id": "a5836c2059764e3ab1511164ec45ecc5",
       "version_major": 2,
       "version_minor": 0
      },
      "text/plain": [
       "Map:   0%|          | 0/100 [00:00<?, ? examples/s]"
      ]
     },
     "metadata": {},
     "output_type": "display_data"
    }
   ],
   "source": [
    "output_dir = \"/home/jovyan/.cache/datasets/test/audio_files\"\n",
    "os.makedirs(output_dir, exist_ok=True)\n",
    "\n",
    "target_sr = 16000\n",
    "\n",
    "device = torch.device(\"cuda\" if torch.cuda.is_available() else \"cpu\")\n",
    "resampler_dict = {}\n",
    "\n",
    "def process(example):\n",
    "    waveform = torch.tensor(example[\"audio\"][\"array\"]).unsqueeze(0)  # Shape: [1, T]\n",
    "    original_sr = example[\"audio\"][\"sampling_rate\"]\n",
    "    waveform = waveform.to(torch.float32).to(device)\n",
    "\n",
    "    if not resampler_dict.get(str(original_sr)):\n",
    "        resampler_dict[str(original_sr)] = torchaudio.transforms.Resample(orig_freq=original_sr, new_freq=target_sr).to(device)\n",
    "        \n",
    "    if original_sr != target_sr:\n",
    "        resampled = resampler_dict[str(original_sr)](waveform).squeeze(0).cpu().numpy()\n",
    "    else:\n",
    "        resampled = waveform.squeeze(0).cpu().numpy()\n",
    "\n",
    "    filename = os.path.splitext(example[\"audio\"][\"path\"])[0] + \".flac\"\n",
    "    output_path = os.path.join(output_dir, filename)\n",
    "    sf.write(output_path, resampled, target_sr, format=\"FLAC\")\n",
    "\n",
    "    return {\n",
    "        \"audio\": output_path,\n",
    "        \"sentence\": example[\"sentence\"],\n",
    "        \"normalized_transcription\": example[\"normalized_transcription\"]\n",
    "    }\n",
    "\n",
    "new_dataset = dataset.map(process)\n",
    "new_dataset = new_dataset.cast_column(\"audio\", Audio(sampling_rate=target_sr))"
   ]
  }
 ],
 "metadata": {
  "kernelspec": {
   "display_name": "Python 3 (ipykernel)",
   "language": "python",
   "name": "python3"
  },
  "language_info": {
   "codemirror_mode": {
    "name": "ipython",
    "version": 3
   },
   "file_extension": ".py",
   "mimetype": "text/x-python",
   "name": "python",
   "nbconvert_exporter": "python",
   "pygments_lexer": "ipython3",
   "version": "3.12.9"
  }
 },
 "nbformat": 4,
 "nbformat_minor": 5
}
